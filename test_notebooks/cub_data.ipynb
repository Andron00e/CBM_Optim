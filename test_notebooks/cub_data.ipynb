{
 "cells": [
  {
   "cell_type": "code",
   "execution_count": 1,
   "id": "be226bfb-097a-4d6e-8201-3a534b0eda98",
   "metadata": {
    "tags": []
   },
   "outputs": [],
   "source": [
    "import os\n",
    "import tarfile\n",
    "\n",
    "compressed_file_path = './CUB_200_2011.tgz'\n",
    "extracted_dir_path = './CUBData'"
   ]
  },
  {
   "cell_type": "code",
   "execution_count": 2,
   "id": "681d609e-9c6a-4f85-b0f9-9de6459f2901",
   "metadata": {
    "tags": []
   },
   "outputs": [],
   "source": [
    "with tarfile.open(compressed_file_path, 'r:gz') as tar:\n",
    "    tar.extractall(extracted_dir_path)"
   ]
  },
  {
   "cell_type": "code",
   "execution_count": 3,
   "id": "46204f92-29e9-4b76-9d9a-28e4b4a3a76a",
   "metadata": {
    "tags": []
   },
   "outputs": [],
   "source": [
    "labels_path = './CUBData/CUB_200_2011/image_class_labels.txt'\n",
    "image_labels = {}\n",
    "with open(labels_path, 'r') as labels_file:\n",
    "    for line in labels_file:\n",
    "        image_id, label = line.strip().split()\n",
    "        image_labels[image_id] = label"
   ]
  },
  {
   "cell_type": "code",
   "execution_count": 4,
   "id": "57d1ab95-7747-49a1-abee-7b879c57b915",
   "metadata": {
    "tags": []
   },
   "outputs": [],
   "source": [
    "images_path = './CUBData/CUB_200_2011/images.txt'\n",
    "image_paths = {}\n",
    "with open(images_path, 'r') as images_file:\n",
    "    for line in images_file:\n",
    "        image_id, image_path = line.strip().split()\n",
    "        image_paths[image_id] = image_path"
   ]
  },
  {
   "cell_type": "code",
   "execution_count": 27,
   "id": "354ff02e-0ca7-440a-981c-e7cd7a73bea1",
   "metadata": {
    "tags": []
   },
   "outputs": [],
   "source": [
    "all_image_paths = []\n",
    "all_labels = []\n",
    "\n",
    "for image_id in image_paths:\n",
    "    if image_id in image_labels:\n",
    "        image_path = os.path.join('./CUBData/CUB_200_2011/images', image_paths[image_id])\n",
    "        label = image_labels[image_id]\n",
    "        all_image_paths.append(image_path)\n",
    "        all_labels.append(label)"
   ]
  },
  {
   "cell_type": "code",
   "execution_count": 30,
   "id": "191a5bd3-0027-4fd3-89df-85606768e10a",
   "metadata": {
    "tags": []
   },
   "outputs": [
    {
     "name": "stdout",
     "output_type": "stream",
     "text": [
      "Image Path: ./CUBData/CUB_200_2011/images/001.Black_footed_Albatross/Black_Footed_Albatross_0046_18.jpg, Label: 1\n",
      "Image Path: ./CUBData/CUB_200_2011/images/001.Black_footed_Albatross/Black_Footed_Albatross_0009_34.jpg, Label: 1\n",
      "Image Path: ./CUBData/CUB_200_2011/images/001.Black_footed_Albatross/Black_Footed_Albatross_0002_55.jpg, Label: 1\n",
      "Image Path: ./CUBData/CUB_200_2011/images/001.Black_footed_Albatross/Black_Footed_Albatross_0074_59.jpg, Label: 1\n",
      "Image Path: ./CUBData/CUB_200_2011/images/001.Black_footed_Albatross/Black_Footed_Albatross_0014_89.jpg, Label: 1\n"
     ]
    }
   ],
   "source": [
    "for i in range(5):\n",
    "    print(f\"Image Path: {all_image_paths[i]}, Label: {all_labels[i]}\")\n",
    "\n",
    "# Now, 'all_image_paths' and 'all_labels' contain the lists you requested."
   ]
  },
  {
   "cell_type": "code",
   "execution_count": 31,
   "id": "d7839b17-72fc-4490-9c74-e7e79b640b51",
   "metadata": {
    "tags": []
   },
   "outputs": [
    {
     "data": {
      "text/plain": [
       "['1', '1', '1', '1', '1']"
      ]
     },
     "execution_count": 31,
     "metadata": {},
     "output_type": "execute_result"
    }
   ],
   "source": [
    "all_labels[:5]"
   ]
  },
  {
   "cell_type": "code",
   "execution_count": 32,
   "id": "05a16948-1532-4f25-8f07-0896208b88b0",
   "metadata": {
    "tags": []
   },
   "outputs": [
    {
     "data": {
      "text/plain": [
       "['./CUBData/CUB_200_2011/images/001.Black_footed_Albatross/Black_Footed_Albatross_0046_18.jpg',\n",
       " './CUBData/CUB_200_2011/images/001.Black_footed_Albatross/Black_Footed_Albatross_0009_34.jpg',\n",
       " './CUBData/CUB_200_2011/images/001.Black_footed_Albatross/Black_Footed_Albatross_0002_55.jpg',\n",
       " './CUBData/CUB_200_2011/images/001.Black_footed_Albatross/Black_Footed_Albatross_0074_59.jpg',\n",
       " './CUBData/CUB_200_2011/images/001.Black_footed_Albatross/Black_Footed_Albatross_0014_89.jpg']"
      ]
     },
     "execution_count": 32,
     "metadata": {},
     "output_type": "execute_result"
    }
   ],
   "source": [
    "all_image_paths[:5]"
   ]
  },
  {
   "cell_type": "code",
   "execution_count": 96,
   "id": "a64be0eb-0c3e-4b98-8bf0-8b0b97de6fac",
   "metadata": {
    "tags": []
   },
   "outputs": [],
   "source": [
    "class CLIPDataset():\n",
    "    \"\"\"\n",
    "    Class which creates dataset with joint labels and images itself.\n",
    "    It is convenient to use CLIPDataset with HuggingFace.\n",
    "\n",
    "    Usage:\n",
    "        dataset = CLIPDataset(list_image_path=image_paths, list_txt=labels)\n",
    "\n",
    "    For HuggingFace compatibility:\n",
    "        hf_dataset = Dataset.from_dict({\n",
    "            \"image_file_path\": dataset.image_path,\n",
    "            \"image\": [Image.open(image_path) for image_path in dataset.image_path],\n",
    "            \"labels\": dataset.label\n",
    "         })\n",
    "    \"\"\"\n",
    "    def __init__(self, list_image_path, list_txt):\n",
    "        \"\"\"\n",
    "        Args:\n",
    "            list_image_path: list of paths to images in memory\n",
    "            list_txt: list of corresponding labels\n",
    "        \"\"\"\n",
    "        self.image_path = list_image_path\n",
    "        self.label = list_txt\n",
    "\n",
    "    def __len__(self):\n",
    "        return len(self.label)\n",
    "\n",
    "    def __getitem__(self, idx):\n",
    "        image_path = self.image_path[idx]\n",
    "        image = Image.open(image_path)\n",
    "        label = self.label[idx]\n",
    "        return {\"image_file_path\": image_path, \"image\": image, \"labels\": label}"
   ]
  },
  {
   "cell_type": "code",
   "execution_count": 99,
   "id": "c82ed229-f971-4526-9033-d7a061e75a8f",
   "metadata": {
    "tags": []
   },
   "outputs": [],
   "source": [
    "dataset = CLIPDataset(list_image_path=all_image_paths, list_txt=[x - 1 for x in list(map(int, all_labels))])"
   ]
  },
  {
   "cell_type": "code",
   "execution_count": 100,
   "id": "82750f69-4164-4638-ab72-7f2b6447562a",
   "metadata": {
    "tags": []
   },
   "outputs": [
    {
     "data": {
      "text/plain": [
       "{'image_file_path': './CUBData/CUB_200_2011/images/001.Black_footed_Albatross/Black_Footed_Albatross_0046_18.jpg',\n",
       " 'image': <PIL.JpegImagePlugin.JpegImageFile image mode=RGB size=500x335>,\n",
       " 'labels': 0}"
      ]
     },
     "execution_count": 100,
     "metadata": {},
     "output_type": "execute_result"
    }
   ],
   "source": [
    "from PIL import Image\n",
    "\n",
    "dataset[0]"
   ]
  },
  {
   "cell_type": "code",
   "execution_count": 101,
   "id": "8464cb38-c3f1-406a-81cf-e061a61d71fd",
   "metadata": {
    "tags": []
   },
   "outputs": [
    {
     "data": {
      "text/plain": [
       "{'image_file_path': './CUBData/CUB_200_2011/images/010.Red_winged_Blackbird/Red_Winged_Blackbird_0109_4454.jpg',\n",
       " 'image': <PIL.JpegImagePlugin.JpegImageFile image mode=RGB size=500x397>,\n",
       " 'labels': 9}"
      ]
     },
     "execution_count": 101,
     "metadata": {},
     "output_type": "execute_result"
    }
   ],
   "source": [
    "dataset[505]"
   ]
  },
  {
   "cell_type": "code",
   "execution_count": 102,
   "id": "0e9b5413-6344-4deb-9b0c-b4c3a07c85b9",
   "metadata": {
    "tags": []
   },
   "outputs": [],
   "source": [
    "from datasets import Dataset\n",
    "\n",
    "hf_dataset = Dataset.from_dict({\n",
    "            \"image_file_path\": dataset.image_path[:4000],\n",
    "            \"image\": [Image.open(image_path) for image_path in dataset.image_path[:4000]],\n",
    "            \"labels\": dataset.label[:4000]\n",
    "         })"
   ]
  },
  {
   "cell_type": "code",
   "execution_count": 103,
   "id": "961e0919-05c7-48b3-bae6-30396ea1bba5",
   "metadata": {
    "tags": []
   },
   "outputs": [],
   "source": [
    "hf_dataset2 = Dataset.from_dict({\n",
    "            \"image_file_path\": dataset.image_path[4000:8000],\n",
    "            \"image\": [Image.open(image_path) for image_path in dataset.image_path[4000:8000]],\n",
    "            \"labels\": dataset.label[4000:8000]\n",
    "         })"
   ]
  },
  {
   "cell_type": "code",
   "execution_count": 104,
   "id": "35f01144-c718-4054-aefd-518dc6e68740",
   "metadata": {
    "tags": []
   },
   "outputs": [],
   "source": [
    "hf_dataset3 = Dataset.from_dict({\n",
    "            \"image_file_path\": dataset.image_path[8000:],\n",
    "            \"image\": [Image.open(image_path) for image_path in dataset.image_path[8000:]],\n",
    "            \"labels\": dataset.label[8000:]\n",
    "         })"
   ]
  },
  {
   "cell_type": "code",
   "execution_count": 105,
   "id": "87c0ec11-3583-402e-8180-f2ec786da6cb",
   "metadata": {
    "tags": []
   },
   "outputs": [],
   "source": [
    "from datasets import concatenate_datasets\n",
    "\n",
    "\n",
    "hf_dataset = concatenate_datasets([hf_dataset, hf_dataset2, hf_dataset3])"
   ]
  },
  {
   "cell_type": "code",
   "execution_count": 106,
   "id": "353e6e09-391c-4997-aae1-e6f379e39f3b",
   "metadata": {
    "tags": []
   },
   "outputs": [
    {
     "data": {
      "text/plain": [
       "{'image_file_path': Value(dtype='string', id=None),\n",
       " 'image': Image(decode=True, id=None),\n",
       " 'labels': Value(dtype='int64', id=None)}"
      ]
     },
     "execution_count": 106,
     "metadata": {},
     "output_type": "execute_result"
    }
   ],
   "source": [
    "hf_dataset.features"
   ]
  },
  {
   "cell_type": "code",
   "execution_count": 107,
   "id": "8d68ee3a-1121-4f1d-8c86-eb49060b60fc",
   "metadata": {
    "tags": []
   },
   "outputs": [],
   "source": [
    "names = []\n",
    "with open('./CUBData/CUB_200_2011/classes.txt', 'r') as f:\n",
    "    for line in f:\n",
    "        class_id, class_name = line.strip().split()\n",
    "        class_name = class_name[4:]\n",
    "        class_name = class_name.replace('_', ' ')\n",
    "        names.append(class_name.lower())"
   ]
  },
  {
   "cell_type": "code",
   "execution_count": 112,
   "id": "0a76fc35-2b06-4f4a-8e70-0f217b7b932e",
   "metadata": {
    "tags": []
   },
   "outputs": [],
   "source": [
    "from datasets import ClassLabel\n",
    "\n",
    "class_label = ClassLabel(num_classes=200, names=names)"
   ]
  },
  {
   "cell_type": "code",
   "execution_count": 113,
   "id": "633ef3af-645b-4f27-99e1-d47bd248c48d",
   "metadata": {
    "tags": []
   },
   "outputs": [
    {
     "data": {
      "application/vnd.jupyter.widget-view+json": {
       "model_id": "73a3e132e78c4694ba195cd038935b2d",
       "version_major": 2,
       "version_minor": 0
      },
      "text/plain": [
       "Casting the dataset:   0%|          | 0/11788 [00:00<?, ? examples/s]"
      ]
     },
     "metadata": {},
     "output_type": "display_data"
    }
   ],
   "source": [
    "new_features = hf_dataset.features.copy()\n",
    "new_features[\"labels\"] = ClassLabel(num_classes=200, names=names)\n",
    "casted_hf_dataset = hf_dataset.cast(new_features)"
   ]
  },
  {
   "cell_type": "code",
   "execution_count": 122,
   "id": "abe69af1-2e43-4aa1-b3c5-f0fb35b72e1e",
   "metadata": {
    "tags": []
   },
   "outputs": [
    {
     "data": {
      "application/vnd.jupyter.widget-view+json": {
       "model_id": "c2599a51c561472cb177700452c5c885",
       "version_major": 2,
       "version_minor": 0
      },
      "text/plain": [
       "VBox(children=(HTML(value='<center> <img\\nsrc=https://huggingface.co/front/assets/huggingface_logo-noborder.sv…"
      ]
     },
     "metadata": {},
     "output_type": "display_data"
    }
   ],
   "source": [
    "import huggingface_hub\n",
    "\n",
    "huggingface_hub.login()"
   ]
  },
  {
   "cell_type": "code",
   "execution_count": 123,
   "id": "95c134ad-d335-4727-af1b-feb42b099cb1",
   "metadata": {
    "tags": []
   },
   "outputs": [
    {
     "data": {
      "application/vnd.jupyter.widget-view+json": {
       "model_id": "cf57975ac5024f789b9ab71ff6f9dd03",
       "version_major": 2,
       "version_minor": 0
      },
      "text/plain": [
       "Uploading the dataset shards:   0%|          | 0/3 [00:00<?, ?it/s]"
      ]
     },
     "metadata": {},
     "output_type": "display_data"
    },
    {
     "data": {
      "application/vnd.jupyter.widget-view+json": {
       "model_id": "fc0115e0bf5f4cf38a0aaa8af66b94b9",
       "version_major": 2,
       "version_minor": 0
      },
      "text/plain": [
       "Map:   0%|          | 0/3930 [00:00<?, ? examples/s]"
      ]
     },
     "metadata": {},
     "output_type": "display_data"
    },
    {
     "data": {
      "application/vnd.jupyter.widget-view+json": {
       "model_id": "bce6c0bbd9fb4c8fbe3a1cf54be7833f",
       "version_major": 2,
       "version_minor": 0
      },
      "text/plain": [
       "Creating parquet from Arrow format:   0%|          | 0/40 [00:00<?, ?ba/s]"
      ]
     },
     "metadata": {},
     "output_type": "display_data"
    },
    {
     "data": {
      "application/vnd.jupyter.widget-view+json": {
       "model_id": "580df25dd9a04cc097898485a1676dcb",
       "version_major": 2,
       "version_minor": 0
      },
      "text/plain": [
       "Map:   0%|          | 0/3929 [00:00<?, ? examples/s]"
      ]
     },
     "metadata": {},
     "output_type": "display_data"
    },
    {
     "data": {
      "application/vnd.jupyter.widget-view+json": {
       "model_id": "17bbf8e5f638458fb228996499d96ab0",
       "version_major": 2,
       "version_minor": 0
      },
      "text/plain": [
       "Creating parquet from Arrow format:   0%|          | 0/40 [00:00<?, ?ba/s]"
      ]
     },
     "metadata": {},
     "output_type": "display_data"
    },
    {
     "data": {
      "application/vnd.jupyter.widget-view+json": {
       "model_id": "d29d14629cc4464ea9b45ad624b416e6",
       "version_major": 2,
       "version_minor": 0
      },
      "text/plain": [
       "Map:   0%|          | 0/3929 [00:00<?, ? examples/s]"
      ]
     },
     "metadata": {},
     "output_type": "display_data"
    },
    {
     "data": {
      "application/vnd.jupyter.widget-view+json": {
       "model_id": "ca6236b8664d49d9927dad1eb94f56f7",
       "version_major": 2,
       "version_minor": 0
      },
      "text/plain": [
       "Creating parquet from Arrow format:   0%|          | 0/40 [00:00<?, ?ba/s]"
      ]
     },
     "metadata": {},
     "output_type": "display_data"
    }
   ],
   "source": [
    "casted_hf_dataset.push_to_hub(\"Andron00e/CUB200-custom\")"
   ]
  },
  {
   "cell_type": "code",
   "execution_count": null,
   "id": "c4b2ac91-8b44-4f8c-9aa7-88d215de422f",
   "metadata": {},
   "outputs": [],
   "source": []
  }
 ],
 "metadata": {
  "kernelspec": {
   "display_name": "andronserv",
   "language": "python",
   "name": "andronserv"
  },
  "language_info": {
   "codemirror_mode": {
    "name": "ipython",
    "version": 3
   },
   "file_extension": ".py",
   "mimetype": "text/x-python",
   "name": "python",
   "nbconvert_exporter": "python",
   "pygments_lexer": "ipython3",
   "version": "3.10.13"
  }
 },
 "nbformat": 4,
 "nbformat_minor": 5
}
