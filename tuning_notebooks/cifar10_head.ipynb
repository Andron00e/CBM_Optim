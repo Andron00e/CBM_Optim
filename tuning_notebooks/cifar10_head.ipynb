{
 "cells": [
  {
   "cell_type": "code",
   "execution_count": 1,
   "id": "e4a29eab-ac76-4d8b-a290-b6c91597221e",
   "metadata": {
    "tags": []
   },
   "outputs": [
    {
     "name": "stderr",
     "output_type": "stream",
     "text": [
      "2023-12-05 22:37:47.902566: E tensorflow/compiler/xla/stream_executor/cuda/cuda_dnn.cc:9342] Unable to register cuDNN factory: Attempting to register factory for plugin cuDNN when one has already been registered\n",
      "2023-12-05 22:37:47.902647: E tensorflow/compiler/xla/stream_executor/cuda/cuda_fft.cc:609] Unable to register cuFFT factory: Attempting to register factory for plugin cuFFT when one has already been registered\n",
      "2023-12-05 22:37:47.902667: E tensorflow/compiler/xla/stream_executor/cuda/cuda_blas.cc:1518] Unable to register cuBLAS factory: Attempting to register factory for plugin cuBLAS when one has already been registered\n",
      "2023-12-05 22:37:47.910422: I tensorflow/core/platform/cpu_feature_guard.cc:182] This TensorFlow binary is optimized to use available CPU instructions in performance-critical operations.\n",
      "To enable the following instructions: AVX2 FMA, in other operations, rebuild TensorFlow with the appropriate compiler flags.\n",
      "2023-12-05 22:37:48.961978: W tensorflow/compiler/tf2tensorrt/utils/py_utils.cc:38] TF-TRT Warning: Could not find TensorRT\n"
     ]
    }
   ],
   "source": [
    "import os\n",
    "import sys\n",
    "import torch\n",
    "import random\n",
    "import configs\n",
    "import numpy as np\n",
    "import transformers\n",
    "import torch.nn as nn\n",
    "from PIL import Image\n",
    "import tensorflow as tf\n",
    "import torch.nn.functional as F\n",
    "from torch.utils.tensorboard import SummaryWriter\n",
    "from tqdm.auto import tqdm"
   ]
  },
  {
   "cell_type": "code",
   "execution_count": 2,
   "id": "0e0911ee-f48d-468a-bc5d-f5fc3d315f71",
   "metadata": {
    "tags": []
   },
   "outputs": [],
   "source": [
    "configs.set_seed(42)"
   ]
  },
  {
   "cell_type": "code",
   "execution_count": 3,
   "id": "6940bcd0-7678-4437-827c-0739a658170e",
   "metadata": {
    "tags": []
   },
   "outputs": [
    {
     "name": "stdout",
     "output_type": "stream",
     "text": [
      "There are 8 GPU(s) available.\n",
      "We will use the GPU: NVIDIA A100-SXM4-80GB\n"
     ]
    }
   ],
   "source": [
    "device = configs.set_device(2)"
   ]
  },
  {
   "cell_type": "markdown",
   "id": "8450a5e0-1d38-47dc-bfd7-9b37ed91f65b",
   "metadata": {
    "tags": []
   },
   "source": [
    "## Data"
   ]
  },
  {
   "cell_type": "code",
   "execution_count": 5,
   "id": "8441ffc5-2841-4e17-85fb-0d0bfc442400",
   "metadata": {
    "tags": []
   },
   "outputs": [
    {
     "name": "stdout",
     "output_type": "stream",
     "text": [
      "50000 \n",
      "\n",
      "10000 \n",
      "\n",
      "60000\n"
     ]
    }
   ],
   "source": [
    "from tensorflow.keras.datasets import cifar10\n",
    "\n",
    "(train_images, train_labels), (test_images, test_labels) = cifar10.load_data()\n",
    "\n",
    "\n",
    "image_paths = []\n",
    "labels = []\n",
    "\n",
    "save_dir = 'cifar10_images'\n",
    "if not os.path.exists(save_dir):\n",
    "    os.makedirs(save_dir)\n",
    "\n",
    "for i in range(len(train_images)):\n",
    "    image_path = os.path.join(save_dir, f\"train_image_{i}.jpg\")\n",
    "    tf.keras.preprocessing.image.save_img(image_path, train_images[i])\n",
    "    image_paths.append(image_path)\n",
    "    labels.append(train_labels[i][0])\n",
    "\n",
    "\n",
    "for i in range(len(test_images)):\n",
    "    image_path = os.path.join(save_dir, f\"test_image_{i}.jpg\")\n",
    "    tf.keras.preprocessing.image.save_img(image_path, test_images[i])\n",
    "    image_paths.append(image_path)\n",
    "    labels.append(test_labels[i][0])\n",
    "\n",
    "print(len(train_images), \"\\n\")\n",
    "print(len(test_images), \"\\n\")\n",
    "print(len(image_paths))"
   ]
  },
  {
   "cell_type": "code",
   "execution_count": 6,
   "id": "28c923b2-c53b-4355-bb36-55cc5f8048fd",
   "metadata": {
    "tags": []
   },
   "outputs": [],
   "source": [
    "classes = {0: \"airplane\", 1: \"automobile\", 2: \"bird\", 3: \"cat\", 4: \"deer\", 5: \"dog\", 6: \"frog\", 7: \"horse\", 8: \"ship\", 9: \"truck\"}"
   ]
  },
  {
   "cell_type": "code",
   "execution_count": 7,
   "id": "c71331e1-f4a3-4ac5-b86a-9292f50a62f7",
   "metadata": {
    "tags": []
   },
   "outputs": [
    {
     "data": {
      "application/vnd.jupyter.widget-view+json": {
       "model_id": "06f150a4c3664e7e812f029f96fae08b",
       "version_major": 2,
       "version_minor": 0
      },
      "text/plain": [
       "  0%|          | 0/60000 [00:00<?, ?it/s]"
      ]
     },
     "metadata": {},
     "output_type": "display_data"
    }
   ],
   "source": [
    "titles = []\n",
    "for im in tqdm(range(len(image_paths))):\n",
    "    titles.append(classes[labels[im]])"
   ]
  },
  {
   "cell_type": "code",
   "execution_count": 8,
   "id": "13768266-245d-4b7a-91c3-47d8fc46a446",
   "metadata": {
    "tags": []
   },
   "outputs": [],
   "source": [
    "assert len(titles) == len(labels) == len(image_paths)\n",
    "assert titles[59000] == 'ship'"
   ]
  },
  {
   "cell_type": "code",
   "execution_count": 9,
   "id": "d369c3f6-de92-4116-88fd-b06f2678d1f5",
   "metadata": {
    "tags": []
   },
   "outputs": [],
   "source": [
    "def remove_prefixes(strings):\n",
    "    prefixes = ['a', 'an', 'the']\n",
    "    result = []\n",
    "\n",
    "    for string in strings:\n",
    "        words = string.split()\n",
    "        if words[0].lower() in prefixes:\n",
    "            result.append(' '.join(words[1:]))\n",
    "        else:\n",
    "            result.append(string)\n",
    "\n",
    "    return result\n",
    "\n",
    "with open(\"conceptnet_cifar10_filtered_new.txt\", \"r\") as f:\n",
    "    concepts = f.read().lower().split(\"\\n\")\n",
    "    concepts = remove_prefixes(concepts)"
   ]
  },
  {
   "cell_type": "code",
   "execution_count": 10,
   "id": "f1855468-363b-40c0-917d-c1dd5cea0af3",
   "metadata": {
    "tags": []
   },
   "outputs": [
    {
     "name": "stdout",
     "output_type": "stream",
     "text": [
      "Dataset size: 60000 \n",
      "\n",
      "Train set: 50000 \n",
      "\n",
      "Validation set: 3000 \n",
      "\n",
      "Test set: 7000\n"
     ]
    }
   ],
   "source": [
    "class CLIPDataset():\n",
    "    def __init__(self, list_image_path, list_txt):\n",
    "        self.image_path = list_image_path\n",
    "        self.title  = list_txt\n",
    "\n",
    "    def __len__(self):\n",
    "        return len(self.title)\n",
    "\n",
    "    def __getitem__(self, idx):\n",
    "        image = Image.open(self.image_path[idx])\n",
    "        title = self.title[idx]\n",
    "        return image, title\n",
    "\n",
    "\n",
    "def collate_fn(batch):\n",
    "    return {\n",
    "        'image': [x[0] for x in batch],\n",
    "        'title': [x[1] for x in batch]\n",
    "    }\n",
    "\n",
    "dataset = CLIPDataset(list_image_path=image_paths, list_txt=labels) # but it can be with <<titles>> to get textual annotations for class labels\n",
    "train_dataset, val_dataset, test_dataset = torch.utils.data.random_split(dataset, [50000, 3000, 7000])\n",
    "\n",
    "train_loader = torch.utils.data.DataLoader(train_dataset, batch_size=32, shuffle=True, collate_fn=collate_fn, pin_memory=True)\n",
    "val_loader = torch.utils.data.DataLoader(val_dataset, batch_size=32, shuffle=False, collate_fn=collate_fn, pin_memory=True)\n",
    "test_loader = torch.utils.data.DataLoader(test_dataset, batch_size=32, shuffle=False, collate_fn=collate_fn, pin_memory=True)\n",
    "\n",
    "assert len(dataset) == len(image_paths)\n",
    "print(\"Dataset size: {}\".format(len(dataset)), \"\\n\")\n",
    "\n",
    "train_dataset, val_dataset, test_dataset = torch.utils.data.random_split(dataset, [50000, 3000, 7000])\n",
    "print(\"Train set: {}\".format(len(train_dataset)), \"\\n\")\n",
    "print(\"Validation set: {}\".format(len(val_dataset)), \"\\n\")\n",
    "print(\"Test set: {}\".format(len(test_dataset)))"
   ]
  },
  {
   "cell_type": "code",
   "execution_count": 11,
   "id": "957e3067-235c-4a41-8bc3-62538e2e3bd7",
   "metadata": {
    "tags": []
   },
   "outputs": [],
   "source": [
    "from transformers import CLIPModel, CLIPProcessor, AutoTokenizer\n",
    "\n",
    "def preprocess_loader(loader, concepts: list):\n",
    "    preprocessed_batches = []\n",
    "    processor = CLIPProcessor.from_pretrained(\"openai/clip-vit-base-patch32\")\n",
    "    for batch in tqdm(loader):\n",
    "        preprocessed_batch = preprocess_batch(batch, processor, concepts)\n",
    "        preprocessed_batches.append(preprocessed_batch)\n",
    "    return preprocessed_batches\n",
    "\n",
    "def preprocess_batch(batch, processor, concepts: list):\n",
    "    return processor(text=concepts, images=batch['image'], return_tensors=\"pt\", padding=True), batch['title']"
   ]
  },
  {
   "cell_type": "code",
   "execution_count": 12,
   "id": "c3a32b63-90bf-4125-a643-6b17edc41569",
   "metadata": {
    "tags": []
   },
   "outputs": [
    {
     "data": {
      "application/vnd.jupyter.widget-view+json": {
       "model_id": "efea90433ae64afe9f7e6e3e3ee042dd",
       "version_major": 2,
       "version_minor": 0
      },
      "text/plain": [
       "  0%|          | 0/1563 [00:00<?, ?it/s]"
      ]
     },
     "metadata": {},
     "output_type": "display_data"
    },
    {
     "data": {
      "application/vnd.jupyter.widget-view+json": {
       "model_id": "5f50f8352c3d4298a0f4d6a6034d8bf1",
       "version_major": 2,
       "version_minor": 0
      },
      "text/plain": [
       "  0%|          | 0/94 [00:00<?, ?it/s]"
      ]
     },
     "metadata": {},
     "output_type": "display_data"
    },
    {
     "data": {
      "application/vnd.jupyter.widget-view+json": {
       "model_id": "9a3abf76f735404299b59f97f6285615",
       "version_major": 2,
       "version_minor": 0
      },
      "text/plain": [
       "  0%|          | 0/219 [00:00<?, ?it/s]"
      ]
     },
     "metadata": {},
     "output_type": "display_data"
    }
   ],
   "source": [
    "train_loader_preprocessed = preprocess_loader(train_loader, concepts)\n",
    "val_loader_preprocessed = preprocess_loader(val_loader, concepts)\n",
    "test_loader_preprocessed = preprocess_loader(test_loader, concepts)"
   ]
  },
  {
   "cell_type": "code",
   "execution_count": 13,
   "id": "84dc428f-8d8d-4767-997e-027cdfc03846",
   "metadata": {
    "tags": []
   },
   "outputs": [],
   "source": [
    "import transformers\n",
    "\n",
    "class TuningCLIPhead(nn.Module):\n",
    "    def __init__(self, model_name: str=\"openai/clip-vit-base-patch32\", concepts: list=concepts, classes: dict=classes):\n",
    "        super().__init__()\n",
    "        self.clip = transformers.CLIPModel.from_pretrained(model_name)\n",
    "        self.processor = transformers.CLIPProcessor.from_pretrained(model_name)\n",
    "        for param in self.clip.parameters():\n",
    "            param.requires_grad=False\n",
    "        self.head = nn.Linear(len(concepts), len(classes), bias=False)\n",
    "\n",
    "    def forward(self, **batch):\n",
    "        out = self.clip(**batch).logits_per_image\n",
    "        return self.head(out)"
   ]
  },
  {
   "cell_type": "markdown",
   "id": "5528c575-10e1-4131-ad34-410caf3eb90f",
   "metadata": {
    "tags": []
   },
   "source": [
    "## Training simple head"
   ]
  },
  {
   "cell_type": "code",
   "execution_count": 160,
   "id": "292383b8-5822-4fdd-a0b6-44289028076a",
   "metadata": {
    "tags": []
   },
   "outputs": [
    {
     "name": "stdout",
     "output_type": "stream",
     "text": [
      "Number of trainable parameters is: 1200\n"
     ]
    }
   ],
   "source": [
    "model = TuningCLIPhead()\n",
    "optimizer = torch.optim.Adam(model.parameters(), lr=0.001)\n",
    "criterion = nn.CrossEntropyLoss()\n",
    "\n",
    "print(\"Number of trainable parameters is: {}\".format(sum(p.numel() for p in model.parameters() if p.requires_grad == True)))"
   ]
  },
  {
   "cell_type": "code",
   "execution_count": 161,
   "id": "ef81c488-8e7d-4a18-b169-c091781a4711",
   "metadata": {
    "tags": []
   },
   "outputs": [],
   "source": [
    "for state in optimizer.state.values():\n",
    "    for k, v in state.items():\n",
    "        if isinstance(v, torch.Tensor):\n",
    "            state[k] = v.to(device)"
   ]
  },
  {
   "cell_type": "code",
   "execution_count": 14,
   "id": "0b6c8564-1c9d-4744-80f9-6185a7e6b786",
   "metadata": {
    "tags": []
   },
   "outputs": [
    {
     "name": "stderr",
     "output_type": "stream",
     "text": [
      "/tmp/ipykernel_3189455/4031246835.py:3: FutureWarning: load_metric is deprecated and will be removed in the next major version of datasets. Use 'evaluate.load' instead, from the new library 🤗 Evaluate: https://huggingface.co/docs/evaluate\n",
      "  metric = datasets.load_metric(\"accuracy\")\n"
     ]
    }
   ],
   "source": [
    "import datasets\n",
    "\n",
    "metric = datasets.load_metric(\"accuracy\")"
   ]
  },
  {
   "cell_type": "code",
   "execution_count": 15,
   "id": "de86e251-a133-4fbe-ac8e-d3d277649c9a",
   "metadata": {
    "tags": []
   },
   "outputs": [],
   "source": [
    "@torch.no_grad()\n",
    "@torch.cuda.amp.autocast()\n",
    "def val_loss_accuracy(model, loader):\n",
    "    model.eval()\n",
    "    all_preds = []\n",
    "    all_labels = []\n",
    "    val_losses = []\n",
    "    for batch in tqdm(loader):\n",
    "        inputs, labels = batch\n",
    "        inputs = inputs.to(device)\n",
    "        logits = model(**inputs).squeeze(0)\n",
    "        similarity = model.clip(**inputs).logits_per_image.to(device)\n",
    "        targets = torch.tensor(labels, dtype=torch.long)\n",
    "        loss = criterion(logits, targets.to(device)) + clip_loss(similarity)\n",
    "        val_losses.append(loss.item())\n",
    "        preds = torch.argmax(logits, dim=-1)\n",
    "        all_preds.extend(preds.cpu().numpy())\n",
    "        all_labels.extend(labels)\n",
    "\n",
    "    val_accuracy = metric.compute(predictions=all_preds, references=all_labels)\n",
    "    avg_val_loss = sum(val_losses) / len(val_losses)\n",
    "    \n",
    "    return val_accuracy, avg_val_loss"
   ]
  },
  {
   "cell_type": "code",
   "execution_count": 16,
   "id": "b65f36f8-36b6-4837-9e2b-1bba8444dcc4",
   "metadata": {
    "tags": []
   },
   "outputs": [],
   "source": [
    "@torch.no_grad()\n",
    "@torch.cuda.amp.autocast()\n",
    "def get_test_accuracy(model, loader):\n",
    "    model.eval()\n",
    "    all_preds = []\n",
    "    all_labels = []\n",
    "    for batch in tqdm(loader):\n",
    "        inputs, labels = batch\n",
    "        inputs = inputs.to(device)\n",
    "        logits = model(**inputs).squeeze(0)\n",
    "        targets = torch.tensor(labels, dtype=torch.long)\n",
    "        preds = torch.argmax(logits, dim=-1)\n",
    "        all_preds.extend(preds.cpu().numpy())\n",
    "        all_labels.extend(labels)\n",
    "        \n",
    "    test_accuracy = metric.compute(predictions=all_preds, references=all_labels)\n",
    "    \n",
    "    return test_accuracy"
   ]
  },
  {
   "cell_type": "code",
   "execution_count": 17,
   "id": "f31c26d4-7a1e-417f-a427-327418c6c559",
   "metadata": {
    "tags": []
   },
   "outputs": [
    {
     "name": "stderr",
     "output_type": "stream",
     "text": [
      "\u001b[34m\u001b[1mwandb\u001b[0m: Currently logged in as: \u001b[33msemenov-andrei-v\u001b[0m. Use \u001b[1m`wandb login --relogin`\u001b[0m to force relogin\n"
     ]
    },
    {
     "data": {
      "text/plain": [
       "True"
      ]
     },
     "execution_count": 17,
     "metadata": {},
     "output_type": "execute_result"
    }
   ],
   "source": [
    "import wandb\n",
    "\n",
    "wandb.login()"
   ]
  },
  {
   "cell_type": "code",
   "execution_count": 162,
   "id": "b2b3ec0a-e8ef-49c5-accd-6a9edba22f24",
   "metadata": {
    "tags": []
   },
   "outputs": [
    {
     "data": {
      "text/html": [
       "wandb version 0.16.0 is available!  To upgrade, please run:\n",
       " $ pip install wandb --upgrade"
      ],
      "text/plain": [
       "<IPython.core.display.HTML object>"
      ]
     },
     "metadata": {},
     "output_type": "display_data"
    },
    {
     "data": {
      "text/html": [
       "Tracking run with wandb version 0.15.12"
      ],
      "text/plain": [
       "<IPython.core.display.HTML object>"
      ]
     },
     "metadata": {},
     "output_type": "display_data"
    },
    {
     "data": {
      "text/html": [
       "Run data is saved locally in <code>/home/andreisemenov/wandb/run-20231113_161814-m4458fji</code>"
      ],
      "text/plain": [
       "<IPython.core.display.HTML object>"
      ]
     },
     "metadata": {},
     "output_type": "display_data"
    },
    {
     "data": {
      "text/html": [
       "Syncing run <strong><a href='https://wandb.ai/semenov-andrei-v/cifar10-head/runs/m4458fji' target=\"_blank\">jolly-water-6</a></strong> to <a href='https://wandb.ai/semenov-andrei-v/cifar10-head' target=\"_blank\">Weights & Biases</a> (<a href='https://wandb.me/run' target=\"_blank\">docs</a>)<br/>"
      ],
      "text/plain": [
       "<IPython.core.display.HTML object>"
      ]
     },
     "metadata": {},
     "output_type": "display_data"
    },
    {
     "data": {
      "text/html": [
       " View project at <a href='https://wandb.ai/semenov-andrei-v/cifar10-head' target=\"_blank\">https://wandb.ai/semenov-andrei-v/cifar10-head</a>"
      ],
      "text/plain": [
       "<IPython.core.display.HTML object>"
      ]
     },
     "metadata": {},
     "output_type": "display_data"
    },
    {
     "data": {
      "text/html": [
       " View run at <a href='https://wandb.ai/semenov-andrei-v/cifar10-head/runs/m4458fji' target=\"_blank\">https://wandb.ai/semenov-andrei-v/cifar10-head/runs/m4458fji</a>"
      ],
      "text/plain": [
       "<IPython.core.display.HTML object>"
      ]
     },
     "metadata": {},
     "output_type": "display_data"
    },
    {
     "data": {
      "application/vnd.jupyter.widget-view+json": {
       "model_id": "4a42b7166b104fa483317c5e358f0858",
       "version_major": 2,
       "version_minor": 0
      },
      "text/plain": [
       "Epoch 1/ 15:   0%|          | 0/1563 [00:00<?, ?it/s]"
      ]
     },
     "metadata": {},
     "output_type": "display_data"
    },
    {
     "data": {
      "application/vnd.jupyter.widget-view+json": {
       "model_id": "ad8be0fa72b7427cbf9f502408c935a1",
       "version_major": 2,
       "version_minor": 0
      },
      "text/plain": [
       "  0%|          | 0/94 [00:00<?, ?it/s]"
      ]
     },
     "metadata": {},
     "output_type": "display_data"
    },
    {
     "name": "stdout",
     "output_type": "stream",
     "text": [
      "Epoch 1/15, Loss: 1.3807625770568848, Validation Accuracy: {'accuracy': 0.6523333333333333}\n"
     ]
    },
    {
     "data": {
      "application/vnd.jupyter.widget-view+json": {
       "model_id": "3e24356e9d7c415cba11977deaa42ad2",
       "version_major": 2,
       "version_minor": 0
      },
      "text/plain": [
       "Epoch 2/ 15:   0%|          | 0/1563 [00:00<?, ?it/s]"
      ]
     },
     "metadata": {},
     "output_type": "display_data"
    },
    {
     "data": {
      "application/vnd.jupyter.widget-view+json": {
       "model_id": "3efa03ad43c045bc8ab37c90badae70b",
       "version_major": 2,
       "version_minor": 0
      },
      "text/plain": [
       "  0%|          | 0/94 [00:00<?, ?it/s]"
      ]
     },
     "metadata": {},
     "output_type": "display_data"
    },
    {
     "name": "stdout",
     "output_type": "stream",
     "text": [
      "Epoch 2/15, Loss: 1.3001844882965088, Validation Accuracy: {'accuracy': 0.698}\n"
     ]
    },
    {
     "data": {
      "application/vnd.jupyter.widget-view+json": {
       "model_id": "b158215acb4d4b59a791126848a924b4",
       "version_major": 2,
       "version_minor": 0
      },
      "text/plain": [
       "Epoch 3/ 15:   0%|          | 0/1563 [00:00<?, ?it/s]"
      ]
     },
     "metadata": {},
     "output_type": "display_data"
    },
    {
     "data": {
      "application/vnd.jupyter.widget-view+json": {
       "model_id": "35ff9bc5c425473e9c0a825df7ffc20d",
       "version_major": 2,
       "version_minor": 0
      },
      "text/plain": [
       "  0%|          | 0/94 [00:00<?, ?it/s]"
      ]
     },
     "metadata": {},
     "output_type": "display_data"
    },
    {
     "name": "stdout",
     "output_type": "stream",
     "text": [
      "Epoch 3/15, Loss: 1.3183488845825195, Validation Accuracy: {'accuracy': 0.707}\n"
     ]
    },
    {
     "data": {
      "application/vnd.jupyter.widget-view+json": {
       "model_id": "65c5567183424a2c8b6c800d1ba16ff0",
       "version_major": 2,
       "version_minor": 0
      },
      "text/plain": [
       "Epoch 4/ 15:   0%|          | 0/1563 [00:00<?, ?it/s]"
      ]
     },
     "metadata": {},
     "output_type": "display_data"
    },
    {
     "data": {
      "application/vnd.jupyter.widget-view+json": {
       "model_id": "c128c0ef5d274f148e2abce8262c7574",
       "version_major": 2,
       "version_minor": 0
      },
      "text/plain": [
       "  0%|          | 0/94 [00:00<?, ?it/s]"
      ]
     },
     "metadata": {},
     "output_type": "display_data"
    },
    {
     "name": "stdout",
     "output_type": "stream",
     "text": [
      "Epoch 4/15, Loss: 1.322094202041626, Validation Accuracy: {'accuracy': 0.7076666666666667}\n"
     ]
    },
    {
     "data": {
      "application/vnd.jupyter.widget-view+json": {
       "model_id": "a9f1046dbfc44c7585daf0833865dfdb",
       "version_major": 2,
       "version_minor": 0
      },
      "text/plain": [
       "Epoch 5/ 15:   0%|          | 0/1563 [00:00<?, ?it/s]"
      ]
     },
     "metadata": {},
     "output_type": "display_data"
    },
    {
     "data": {
      "application/vnd.jupyter.widget-view+json": {
       "model_id": "0d7b310e421e407d9c90ddc3ec2cab43",
       "version_major": 2,
       "version_minor": 0
      },
      "text/plain": [
       "  0%|          | 0/94 [00:00<?, ?it/s]"
      ]
     },
     "metadata": {},
     "output_type": "display_data"
    },
    {
     "name": "stdout",
     "output_type": "stream",
     "text": [
      "Epoch 5/15, Loss: 1.3170406818389893, Validation Accuracy: {'accuracy': 0.7036666666666667}\n"
     ]
    },
    {
     "data": {
      "application/vnd.jupyter.widget-view+json": {
       "model_id": "41c418477a4547128ec97456ad4f4f40",
       "version_major": 2,
       "version_minor": 0
      },
      "text/plain": [
       "Epoch 6/ 15:   0%|          | 0/1563 [00:00<?, ?it/s]"
      ]
     },
     "metadata": {},
     "output_type": "display_data"
    },
    {
     "data": {
      "application/vnd.jupyter.widget-view+json": {
       "model_id": "13f50d6980294b55840e667fbf2fb8d9",
       "version_major": 2,
       "version_minor": 0
      },
      "text/plain": [
       "  0%|          | 0/94 [00:00<?, ?it/s]"
      ]
     },
     "metadata": {},
     "output_type": "display_data"
    },
    {
     "name": "stdout",
     "output_type": "stream",
     "text": [
      "Epoch 6/15, Loss: 1.3097145557403564, Validation Accuracy: {'accuracy': 0.7046666666666667}\n"
     ]
    },
    {
     "data": {
      "application/vnd.jupyter.widget-view+json": {
       "model_id": "967c8bccee124cff852033b978e52c7c",
       "version_major": 2,
       "version_minor": 0
      },
      "text/plain": [
       "Epoch 7/ 15:   0%|          | 0/1563 [00:00<?, ?it/s]"
      ]
     },
     "metadata": {},
     "output_type": "display_data"
    },
    {
     "data": {
      "application/vnd.jupyter.widget-view+json": {
       "model_id": "f2ab71d2076b4255b1d326d52e95a3fb",
       "version_major": 2,
       "version_minor": 0
      },
      "text/plain": [
       "  0%|          | 0/94 [00:00<?, ?it/s]"
      ]
     },
     "metadata": {},
     "output_type": "display_data"
    },
    {
     "name": "stdout",
     "output_type": "stream",
     "text": [
      "Epoch 7/15, Loss: 1.3022809028625488, Validation Accuracy: {'accuracy': 0.7066666666666667}\n"
     ]
    },
    {
     "data": {
      "application/vnd.jupyter.widget-view+json": {
       "model_id": "1ce4336fee754f129941ce1b4ebaa7b2",
       "version_major": 2,
       "version_minor": 0
      },
      "text/plain": [
       "Epoch 8/ 15:   0%|          | 0/1563 [00:00<?, ?it/s]"
      ]
     },
     "metadata": {},
     "output_type": "display_data"
    },
    {
     "data": {
      "application/vnd.jupyter.widget-view+json": {
       "model_id": "e70f9a7da1f74d5bbeb2d4c0c0d184fc",
       "version_major": 2,
       "version_minor": 0
      },
      "text/plain": [
       "  0%|          | 0/94 [00:00<?, ?it/s]"
      ]
     },
     "metadata": {},
     "output_type": "display_data"
    },
    {
     "name": "stdout",
     "output_type": "stream",
     "text": [
      "Epoch 8/15, Loss: 1.2960307598114014, Validation Accuracy: {'accuracy': 0.7146666666666667}\n"
     ]
    },
    {
     "data": {
      "application/vnd.jupyter.widget-view+json": {
       "model_id": "6236f4fcd7924ccabb30051aa1d9fd89",
       "version_major": 2,
       "version_minor": 0
      },
      "text/plain": [
       "Epoch 9/ 15:   0%|          | 0/1563 [00:00<?, ?it/s]"
      ]
     },
     "metadata": {},
     "output_type": "display_data"
    },
    {
     "data": {
      "application/vnd.jupyter.widget-view+json": {
       "model_id": "b1a73577c7a745aab23431f9205d553f",
       "version_major": 2,
       "version_minor": 0
      },
      "text/plain": [
       "  0%|          | 0/94 [00:00<?, ?it/s]"
      ]
     },
     "metadata": {},
     "output_type": "display_data"
    },
    {
     "name": "stdout",
     "output_type": "stream",
     "text": [
      "Epoch 9/15, Loss: 1.291098713874817, Validation Accuracy: {'accuracy': 0.724}\n"
     ]
    },
    {
     "data": {
      "application/vnd.jupyter.widget-view+json": {
       "model_id": "bd61cb3d30f74d8a8942d57c9013153a",
       "version_major": 2,
       "version_minor": 0
      },
      "text/plain": [
       "Epoch 10/ 15:   0%|          | 0/1563 [00:00<?, ?it/s]"
      ]
     },
     "metadata": {},
     "output_type": "display_data"
    },
    {
     "data": {
      "application/vnd.jupyter.widget-view+json": {
       "model_id": "b7d30d0c1e7b497ea603b9d64c031eb1",
       "version_major": 2,
       "version_minor": 0
      },
      "text/plain": [
       "  0%|          | 0/94 [00:00<?, ?it/s]"
      ]
     },
     "metadata": {},
     "output_type": "display_data"
    },
    {
     "name": "stdout",
     "output_type": "stream",
     "text": [
      "Epoch 10/15, Loss: 1.2872544527053833, Validation Accuracy: {'accuracy': 0.7356666666666667}\n"
     ]
    },
    {
     "data": {
      "application/vnd.jupyter.widget-view+json": {
       "model_id": "3916ed2e2cf240699f137253822d35cb",
       "version_major": 2,
       "version_minor": 0
      },
      "text/plain": [
       "Epoch 11/ 15:   0%|          | 0/1563 [00:00<?, ?it/s]"
      ]
     },
     "metadata": {},
     "output_type": "display_data"
    },
    {
     "data": {
      "application/vnd.jupyter.widget-view+json": {
       "model_id": "0b6350d7637143f2bfa4671888bd9d24",
       "version_major": 2,
       "version_minor": 0
      },
      "text/plain": [
       "  0%|          | 0/94 [00:00<?, ?it/s]"
      ]
     },
     "metadata": {},
     "output_type": "display_data"
    },
    {
     "name": "stdout",
     "output_type": "stream",
     "text": [
      "Epoch 11/15, Loss: 1.284134030342102, Validation Accuracy: {'accuracy': 0.7446666666666667}\n"
     ]
    },
    {
     "data": {
      "application/vnd.jupyter.widget-view+json": {
       "model_id": "b63bdf7ad1f340a79e4fc54be9b225fb",
       "version_major": 2,
       "version_minor": 0
      },
      "text/plain": [
       "Epoch 12/ 15:   0%|          | 0/1563 [00:00<?, ?it/s]"
      ]
     },
     "metadata": {},
     "output_type": "display_data"
    },
    {
     "data": {
      "application/vnd.jupyter.widget-view+json": {
       "model_id": "c1694db5915740d68150a531213964a9",
       "version_major": 2,
       "version_minor": 0
      },
      "text/plain": [
       "  0%|          | 0/94 [00:00<?, ?it/s]"
      ]
     },
     "metadata": {},
     "output_type": "display_data"
    },
    {
     "name": "stdout",
     "output_type": "stream",
     "text": [
      "Epoch 12/15, Loss: 1.2816400527954102, Validation Accuracy: {'accuracy': 0.7506666666666667}\n"
     ]
    },
    {
     "data": {
      "application/vnd.jupyter.widget-view+json": {
       "model_id": "1be4f5e7bef849e2b0f0365aa43385e8",
       "version_major": 2,
       "version_minor": 0
      },
      "text/plain": [
       "Epoch 13/ 15:   0%|          | 0/1563 [00:00<?, ?it/s]"
      ]
     },
     "metadata": {},
     "output_type": "display_data"
    },
    {
     "data": {
      "application/vnd.jupyter.widget-view+json": {
       "model_id": "73453c9bd6444ec7b4ccf3241f87fe57",
       "version_major": 2,
       "version_minor": 0
      },
      "text/plain": [
       "  0%|          | 0/94 [00:00<?, ?it/s]"
      ]
     },
     "metadata": {},
     "output_type": "display_data"
    },
    {
     "name": "stdout",
     "output_type": "stream",
     "text": [
      "Epoch 13/15, Loss: 1.2797330617904663, Validation Accuracy: {'accuracy': 0.7553333333333333}\n"
     ]
    },
    {
     "data": {
      "application/vnd.jupyter.widget-view+json": {
       "model_id": "1d13eb48c0ff4fab824ec9afc562b722",
       "version_major": 2,
       "version_minor": 0
      },
      "text/plain": [
       "Epoch 14/ 15:   0%|          | 0/1563 [00:00<?, ?it/s]"
      ]
     },
     "metadata": {},
     "output_type": "display_data"
    },
    {
     "data": {
      "application/vnd.jupyter.widget-view+json": {
       "model_id": "54c69a0a09334538b0d8727005819f11",
       "version_major": 2,
       "version_minor": 0
      },
      "text/plain": [
       "  0%|          | 0/94 [00:00<?, ?it/s]"
      ]
     },
     "metadata": {},
     "output_type": "display_data"
    },
    {
     "name": "stdout",
     "output_type": "stream",
     "text": [
      "Epoch 14/15, Loss: 1.2782061100006104, Validation Accuracy: {'accuracy': 0.7613333333333333}\n"
     ]
    },
    {
     "data": {
      "application/vnd.jupyter.widget-view+json": {
       "model_id": "c19a4e85a92c45b8a6150a7fbf3abeb2",
       "version_major": 2,
       "version_minor": 0
      },
      "text/plain": [
       "Epoch 15/ 15:   0%|          | 0/1563 [00:00<?, ?it/s]"
      ]
     },
     "metadata": {},
     "output_type": "display_data"
    },
    {
     "data": {
      "application/vnd.jupyter.widget-view+json": {
       "model_id": "df4b5adc09224aaabac66f86953cdfa1",
       "version_major": 2,
       "version_minor": 0
      },
      "text/plain": [
       "  0%|          | 0/94 [00:00<?, ?it/s]"
      ]
     },
     "metadata": {},
     "output_type": "display_data"
    },
    {
     "name": "stdout",
     "output_type": "stream",
     "text": [
      "Epoch 15/15, Loss: 1.276811957359314, Validation Accuracy: {'accuracy': 0.765}\n"
     ]
    },
    {
     "data": {
      "application/vnd.jupyter.widget-view+json": {
       "model_id": "408969010a604bb795ae785e2a8b6af0",
       "version_major": 2,
       "version_minor": 0
      },
      "text/plain": [
       "  0%|          | 0/1563 [00:00<?, ?it/s]"
      ]
     },
     "metadata": {},
     "output_type": "display_data"
    },
    {
     "data": {
      "text/html": [
       "Waiting for W&B process to finish... <strong style=\"color:green\">(success).</strong>"
      ],
      "text/plain": [
       "<IPython.core.display.HTML object>"
      ]
     },
     "metadata": {},
     "output_type": "display_data"
    },
    {
     "data": {
      "application/vnd.jupyter.widget-view+json": {
       "model_id": "b37087523eb745bc9ed30f2bb22046e8",
       "version_major": 2,
       "version_minor": 0
      },
      "text/plain": [
       "VBox(children=(Label(value='0.006 MB of 0.006 MB uploaded (0.000 MB deduped)\\r'), FloatProgress(value=1.0, max…"
      ]
     },
     "metadata": {},
     "output_type": "display_data"
    },
    {
     "data": {
      "text/html": [
       "<style>\n",
       "    table.wandb td:nth-child(1) { padding: 0 10px; text-align: left ; width: auto;} td:nth-child(2) {text-align: left ; width: 100%}\n",
       "    .wandb-row { display: flex; flex-direction: row; flex-wrap: wrap; justify-content: flex-start; width: 100% }\n",
       "    .wandb-col { display: flex; flex-direction: column; flex-basis: 100%; flex: 1; padding: 10px; }\n",
       "    </style>\n",
       "<div class=\"wandb-row\"><div class=\"wandb-col\"><h3>Run history:</h3><br/><table class=\"wandb\"><tr><td>Accuracy/Test</td><td>▁</td></tr><tr><td>Accuracy/Validation</td><td>▁▄▄▄▄▄▄▅▅▆▇▇▇██</td></tr><tr><td>Loss/Train</td><td>█▃▄▄▄▃▃▂▂▂▁▁▁▁▁</td></tr><tr><td>Loss/Validation</td><td>█▄▄▄▅▅▅▄▄▃▃▂▂▁▁</td></tr></table><br/></div><div class=\"wandb-col\"><h3>Run summary:</h3><br/><table class=\"wandb\"><tr><td>Accuracy/Test</td><td>0.76038</td></tr><tr><td>Accuracy/Validation</td><td>0.765</td></tr><tr><td>Loss/Train</td><td>1.27681</td></tr><tr><td>Loss/Validation</td><td>0.70618</td></tr></table><br/></div></div>"
      ],
      "text/plain": [
       "<IPython.core.display.HTML object>"
      ]
     },
     "metadata": {},
     "output_type": "display_data"
    },
    {
     "data": {
      "text/html": [
       " View run <strong style=\"color:#cdcd00\">jolly-water-6</strong> at: <a href='https://wandb.ai/semenov-andrei-v/cifar10-head/runs/m4458fji' target=\"_blank\">https://wandb.ai/semenov-andrei-v/cifar10-head/runs/m4458fji</a><br/>Synced 6 W&B file(s), 0 media file(s), 0 artifact file(s) and 0 other file(s)"
      ],
      "text/plain": [
       "<IPython.core.display.HTML object>"
      ]
     },
     "metadata": {},
     "output_type": "display_data"
    },
    {
     "data": {
      "text/html": [
       "Find logs at: <code>./wandb/run-20231113_161814-m4458fji/logs</code>"
      ],
      "text/plain": [
       "<IPython.core.display.HTML object>"
      ]
     },
     "metadata": {},
     "output_type": "display_data"
    }
   ],
   "source": [
    "model.to(device)\n",
    "run = wandb.init(project='cifar10-head', entity='semenov-andrei-v')\n",
    "\n",
    "num_epochs = 15\n",
    "for epoch in range(num_epochs):\n",
    "    model.train()\n",
    "    for batch in tqdm(train_loader_preprocessed, desc=f\"Epoch {epoch + 1}/ {num_epochs}\"):\n",
    "        optimizer.zero_grad()\n",
    "        \n",
    "        inputs, labels = batch\n",
    "        inputs = inputs.to(device)\n",
    "        targets = torch.tensor(labels, dtype=torch.long)\n",
    "        logits = model(**inputs).squeeze(0)\n",
    "        \n",
    "        loss = criterion(logits, targets.to(device))\n",
    "        loss.backward()\n",
    "        optimizer.step()\n",
    "    \n",
    "    model.eval()\n",
    "    val_accuracy, avg_val_loss = val_loss_accuracy(model, val_loader_preprocessed)\n",
    "\n",
    "    wandb.log({\"Loss/Train\": loss.item(), \n",
    "               \"Loss/Validation\": avg_val_loss, \n",
    "               \"Accuracy/Validation\": val_accuracy['accuracy']}\n",
    "             )\n",
    "\n",
    "    print(f\"Epoch {epoch + 1}/{num_epochs}, Loss: {loss.item()}, Validation Accuracy: {val_accuracy}\")\n",
    "\n",
    "model.eval()\n",
    "test_accuracy = get_test_accuracy(model, train_loader_preprocessed)\n",
    "wandb.log({\"Accuracy/Test\": test_accuracy['accuracy']})\n",
    "\n",
    "run.finish()"
   ]
  },
  {
   "cell_type": "code",
   "execution_count": 25,
   "id": "158e4eb8-d981-4bc5-873b-e383e209d59c",
   "metadata": {
    "tags": []
   },
   "outputs": [],
   "source": [
    "#during debugging\n",
    "torch.cuda.empty_cache()"
   ]
  },
  {
   "cell_type": "markdown",
   "id": "ffcb0821-8e70-4ef0-8b78-4be38316e60d",
   "metadata": {
    "jp-MarkdownHeadingCollapsed": true,
    "tags": []
   },
   "source": [
    "## Training smarter head"
   ]
  },
  {
   "cell_type": "code",
   "execution_count": 11,
   "id": "0b202848-77a1-4571-90ac-8cc2a40a2ea9",
   "metadata": {
    "tags": []
   },
   "outputs": [],
   "source": [
    "import math\n",
    "\n",
    "class FastGeLU(nn.Module):\n",
    "    def forward(self, x):\n",
    "        return 0.5 * x * (1.0 + torch.tanh(math.sqrt(2.0 / math.pi) * (x + 0.044715 * x ** 3)))"
   ]
  },
  {
   "cell_type": "code",
   "execution_count": 12,
   "id": "ee467423-acf6-4ba9-8c52-725cbecc0a50",
   "metadata": {
    "tags": []
   },
   "outputs": [],
   "source": [
    "class TuningCLIPsmarterHead(nn.Module):\n",
    "    def __init__(self, model_name: str=\"openai/clip-vit-base-patch32\", concepts: list=concepts, classes: dict=classes):\n",
    "        super().__init__()\n",
    "        self.clip = transformers.CLIPModel.from_pretrained(model_name)\n",
    "        self.processor = transformers.CLIPProcessor.from_pretrained(model_name)\n",
    "        for param in self.clip.parameters():\n",
    "            param.requires_grad=False\n",
    "        self.lin1 = nn.Linear(len(concepts), 60, bias=False)\n",
    "        self.lin2 = nn.Linear(60, 30, bias=False)\n",
    "        self.lin3 = nn.Linear(30, len(classes), bias=False)\n",
    "        self.gelu = FastGeLU()\n",
    "\n",
    "    def forward(self, **batch):\n",
    "        out = self.clip(**batch).logits_per_image\n",
    "        x = self.gelu(self.lin1(out))\n",
    "        x = self.gelu(self.lin2(x))\n",
    "        return self.lin3(x)"
   ]
  },
  {
   "cell_type": "code",
   "execution_count": 176,
   "id": "31fb1a9c-e867-4148-93f3-1669cf3a82ef",
   "metadata": {
    "tags": []
   },
   "outputs": [
    {
     "name": "stdout",
     "output_type": "stream",
     "text": [
      "Number of trainable parameters is: 9300\n"
     ]
    }
   ],
   "source": [
    "model = TuningCLIPsmarterHead()\n",
    "optimizer = torch.optim.Adam(model.parameters(), lr=0.001)\n",
    "criterion = nn.CrossEntropyLoss()\n",
    "\n",
    "print(\"Number of trainable parameters is: {}\".format(sum(p.numel() for p in model.parameters() if p.requires_grad == True)))"
   ]
  },
  {
   "cell_type": "code",
   "execution_count": 177,
   "id": "595c0937-b404-4b9e-a9a3-685cfac50513",
   "metadata": {
    "tags": []
   },
   "outputs": [],
   "source": [
    "for state in optimizer.state.values():\n",
    "    for k, v in state.items():\n",
    "        if isinstance(v, torch.Tensor):\n",
    "            state[k] = v.to(device)"
   ]
  },
  {
   "cell_type": "code",
   "execution_count": null,
   "id": "7bf20bbe-fed5-45ca-987a-b93a507b488f",
   "metadata": {
    "tags": []
   },
   "outputs": [
    {
     "data": {
      "text/html": [
       "wandb version 0.16.0 is available!  To upgrade, please run:\n",
       " $ pip install wandb --upgrade"
      ],
      "text/plain": [
       "<IPython.core.display.HTML object>"
      ]
     },
     "metadata": {},
     "output_type": "display_data"
    },
    {
     "data": {
      "text/html": [
       "Tracking run with wandb version 0.15.12"
      ],
      "text/plain": [
       "<IPython.core.display.HTML object>"
      ]
     },
     "metadata": {},
     "output_type": "display_data"
    },
    {
     "data": {
      "text/html": [
       "Run data is saved locally in <code>/home/andreisemenov/wandb/run-20231113_172210-aeg4svmn</code>"
      ],
      "text/plain": [
       "<IPython.core.display.HTML object>"
      ]
     },
     "metadata": {},
     "output_type": "display_data"
    },
    {
     "data": {
      "text/html": [
       "Syncing run <strong><a href='https://wandb.ai/semenov-andrei-v/cifar10-smarter-head/runs/aeg4svmn' target=\"_blank\">astral-leaf-3</a></strong> to <a href='https://wandb.ai/semenov-andrei-v/cifar10-smarter-head' target=\"_blank\">Weights & Biases</a> (<a href='https://wandb.me/run' target=\"_blank\">docs</a>)<br/>"
      ],
      "text/plain": [
       "<IPython.core.display.HTML object>"
      ]
     },
     "metadata": {},
     "output_type": "display_data"
    },
    {
     "data": {
      "text/html": [
       " View project at <a href='https://wandb.ai/semenov-andrei-v/cifar10-smarter-head' target=\"_blank\">https://wandb.ai/semenov-andrei-v/cifar10-smarter-head</a>"
      ],
      "text/plain": [
       "<IPython.core.display.HTML object>"
      ]
     },
     "metadata": {},
     "output_type": "display_data"
    },
    {
     "data": {
      "text/html": [
       " View run at <a href='https://wandb.ai/semenov-andrei-v/cifar10-smarter-head/runs/aeg4svmn' target=\"_blank\">https://wandb.ai/semenov-andrei-v/cifar10-smarter-head/runs/aeg4svmn</a>"
      ],
      "text/plain": [
       "<IPython.core.display.HTML object>"
      ]
     },
     "metadata": {},
     "output_type": "display_data"
    },
    {
     "data": {
      "application/vnd.jupyter.widget-view+json": {
       "model_id": "92ffae561f9e450fa48c469e3512aabb",
       "version_major": 2,
       "version_minor": 0
      },
      "text/plain": [
       "Epoch 1/ 15:   0%|          | 0/1563 [00:00<?, ?it/s]"
      ]
     },
     "metadata": {},
     "output_type": "display_data"
    },
    {
     "data": {
      "application/vnd.jupyter.widget-view+json": {
       "model_id": "245bd397f47c4ee1a2d69ada054f445d",
       "version_major": 2,
       "version_minor": 0
      },
      "text/plain": [
       "  0%|          | 0/94 [00:00<?, ?it/s]"
      ]
     },
     "metadata": {},
     "output_type": "display_data"
    },
    {
     "name": "stdout",
     "output_type": "stream",
     "text": [
      "Epoch 1/15, Loss: 1.2982006072998047, Validation Accuracy: {'accuracy': 0.594}\n"
     ]
    },
    {
     "data": {
      "application/vnd.jupyter.widget-view+json": {
       "model_id": "cb842bbf624c486ba8922d6c220e873f",
       "version_major": 2,
       "version_minor": 0
      },
      "text/plain": [
       "Epoch 2/ 15:   0%|          | 0/1563 [00:00<?, ?it/s]"
      ]
     },
     "metadata": {},
     "output_type": "display_data"
    },
    {
     "data": {
      "application/vnd.jupyter.widget-view+json": {
       "model_id": "83eba85a9e024467b42d51d577369bae",
       "version_major": 2,
       "version_minor": 0
      },
      "text/plain": [
       "  0%|          | 0/94 [00:00<?, ?it/s]"
      ]
     },
     "metadata": {},
     "output_type": "display_data"
    },
    {
     "name": "stdout",
     "output_type": "stream",
     "text": [
      "Epoch 2/15, Loss: 1.3054379224777222, Validation Accuracy: {'accuracy': 0.6633333333333333}\n"
     ]
    },
    {
     "data": {
      "application/vnd.jupyter.widget-view+json": {
       "model_id": "9e2beb966b334f4baed359ba1a1bf273",
       "version_major": 2,
       "version_minor": 0
      },
      "text/plain": [
       "Epoch 3/ 15:   0%|          | 0/1563 [00:00<?, ?it/s]"
      ]
     },
     "metadata": {},
     "output_type": "display_data"
    },
    {
     "data": {
      "application/vnd.jupyter.widget-view+json": {
       "model_id": "7d24c1ba62104738aa7663bddb07f06f",
       "version_major": 2,
       "version_minor": 0
      },
      "text/plain": [
       "  0%|          | 0/94 [00:00<?, ?it/s]"
      ]
     },
     "metadata": {},
     "output_type": "display_data"
    },
    {
     "name": "stdout",
     "output_type": "stream",
     "text": [
      "Epoch 3/15, Loss: 1.2713488340377808, Validation Accuracy: {'accuracy': 0.7136666666666667}\n"
     ]
    },
    {
     "data": {
      "application/vnd.jupyter.widget-view+json": {
       "model_id": "1e8e2c2eb44044c3a64e05fc3059ac81",
       "version_major": 2,
       "version_minor": 0
      },
      "text/plain": [
       "Epoch 4/ 15:   0%|          | 0/1563 [00:00<?, ?it/s]"
      ]
     },
     "metadata": {},
     "output_type": "display_data"
    },
    {
     "data": {
      "application/vnd.jupyter.widget-view+json": {
       "model_id": "6d06c299f19a4990a85a35f7b6745147",
       "version_major": 2,
       "version_minor": 0
      },
      "text/plain": [
       "  0%|          | 0/94 [00:00<?, ?it/s]"
      ]
     },
     "metadata": {},
     "output_type": "display_data"
    },
    {
     "name": "stdout",
     "output_type": "stream",
     "text": [
      "Epoch 4/15, Loss: 1.3260315656661987, Validation Accuracy: {'accuracy': 0.722}\n"
     ]
    },
    {
     "data": {
      "application/vnd.jupyter.widget-view+json": {
       "model_id": "4cc6a6f4f1a74197b58196c45db92164",
       "version_major": 2,
       "version_minor": 0
      },
      "text/plain": [
       "Epoch 5/ 15:   0%|          | 0/1563 [00:00<?, ?it/s]"
      ]
     },
     "metadata": {},
     "output_type": "display_data"
    },
    {
     "data": {
      "application/vnd.jupyter.widget-view+json": {
       "model_id": "5adc32f965cf435e9a31c4703be1f6f7",
       "version_major": 2,
       "version_minor": 0
      },
      "text/plain": [
       "  0%|          | 0/94 [00:00<?, ?it/s]"
      ]
     },
     "metadata": {},
     "output_type": "display_data"
    },
    {
     "name": "stdout",
     "output_type": "stream",
     "text": [
      "Epoch 5/15, Loss: 1.3058655261993408, Validation Accuracy: {'accuracy': 0.727}\n"
     ]
    },
    {
     "data": {
      "application/vnd.jupyter.widget-view+json": {
       "model_id": "565cc65af7c94f86ba472e882a678726",
       "version_major": 2,
       "version_minor": 0
      },
      "text/plain": [
       "Epoch 6/ 15:   0%|          | 0/1563 [00:00<?, ?it/s]"
      ]
     },
     "metadata": {},
     "output_type": "display_data"
    },
    {
     "data": {
      "application/vnd.jupyter.widget-view+json": {
       "model_id": "f33b539a69da413cae9952d0f4070cff",
       "version_major": 2,
       "version_minor": 0
      },
      "text/plain": [
       "  0%|          | 0/94 [00:00<?, ?it/s]"
      ]
     },
     "metadata": {},
     "output_type": "display_data"
    },
    {
     "name": "stdout",
     "output_type": "stream",
     "text": [
      "Epoch 6/15, Loss: 1.2985113859176636, Validation Accuracy: {'accuracy': 0.727}\n"
     ]
    },
    {
     "data": {
      "application/vnd.jupyter.widget-view+json": {
       "model_id": "590d9182dafc44b1b829adfc8b14d8d0",
       "version_major": 2,
       "version_minor": 0
      },
      "text/plain": [
       "Epoch 7/ 15:   0%|          | 0/1563 [00:00<?, ?it/s]"
      ]
     },
     "metadata": {},
     "output_type": "display_data"
    }
   ],
   "source": [
    "model.to(device)\n",
    "run = wandb.init(project='cifar10-smarter-head', entity='semenov-andrei-v')\n",
    "\n",
    "num_epochs = 15\n",
    "for epoch in range(num_epochs):\n",
    "    model.train()\n",
    "    for batch in tqdm(train_loader_preprocessed, desc=f\"Epoch {epoch + 1}/ {num_epochs}\"):\n",
    "        optimizer.zero_grad()\n",
    "        \n",
    "        inputs, labels = batch\n",
    "        inputs = inputs.to(device)\n",
    "        targets = torch.tensor(labels, dtype=torch.long)\n",
    "        logits = model(**inputs).squeeze(0)\n",
    "        \n",
    "        loss = criterion(logits, targets.to(device))\n",
    "        loss.backward()\n",
    "        optimizer.step()\n",
    "    \n",
    "    model.eval()\n",
    "    val_accuracy, avg_val_loss = val_loss_accuracy(model, val_loader_preprocessed)\n",
    "\n",
    "    wandb.log({\"Loss/Train\": loss.item(), \n",
    "               \"Loss/Validation\": avg_val_loss, \n",
    "               \"Accuracy/Validation\": val_accuracy['accuracy']}\n",
    "             )\n",
    "\n",
    "    print(f\"Epoch {epoch + 1}/{num_epochs}, Loss: {loss.item()}, Validation Accuracy: {val_accuracy}\")\n",
    "\n",
    "model.eval()\n",
    "test_accuracy = get_test_accuracy(model, train_loader_preprocessed)\n",
    "wandb.log({\"Accuracy/Test\": test_accuracy['accuracy']})\n",
    "\n",
    "run.finish()"
   ]
  },
  {
   "cell_type": "markdown",
   "id": "18312197-5051-4a56-ac0a-47ac48ba32e9",
   "metadata": {
    "jp-MarkdownHeadingCollapsed": true,
    "tags": []
   },
   "source": [
    "# Another concepts set"
   ]
  },
  {
   "cell_type": "code",
   "execution_count": 13,
   "id": "61090f7f-d2d1-486b-9817-c866caed3aa4",
   "metadata": {
    "tags": []
   },
   "outputs": [],
   "source": [
    "with open(\"all_concepts.txt\", \"r\") as f:\n",
    "    all_concepts = f.read().lower().split(\"\\n\")\n",
    "    all_concepts = remove_prefixes(all_concepts)"
   ]
  },
  {
   "cell_type": "code",
   "execution_count": null,
   "id": "dd41f0f1-70a8-4cfa-816c-7bd8d4c47240",
   "metadata": {
    "tags": []
   },
   "outputs": [],
   "source": [
    "train_loader_preprocessed = preprocess_loader(train_loader, all_concepts)\n",
    "val_loader_preprocessed = preprocess_loader(val_loader, all_concepts)\n",
    "test_loader_preprocessed = preprocess_loader(test_loader, all_concepts)"
   ]
  },
  {
   "cell_type": "markdown",
   "id": "b421d557-f8a4-4fae-bbb1-30e1cd7a4460",
   "metadata": {
    "jp-MarkdownHeadingCollapsed": true,
    "tags": []
   },
   "source": [
    "## Traing simple head"
   ]
  },
  {
   "cell_type": "code",
   "execution_count": 26,
   "id": "7ee9c000-0adb-4e5b-8f8e-6ed7b89c0171",
   "metadata": {
    "tags": []
   },
   "outputs": [
    {
     "name": "stdout",
     "output_type": "stream",
     "text": [
      "Number of trainable parameters is: 50510\n"
     ]
    }
   ],
   "source": [
    "model = TuningCLIPhead(concepts=all_concepts)\n",
    "optimizer = torch.optim.Adam(model.parameters(), lr=0.001)\n",
    "criterion = nn.CrossEntropyLoss()\n",
    "\n",
    "print(\"Number of trainable parameters is: {}\".format(sum(p.numel() for p in model.parameters() if p.requires_grad == True)))\n",
    "\n",
    "for state in optimizer.state.values():\n",
    "    for k, v in state.items():\n",
    "        if isinstance(v, torch.Tensor):\n",
    "            state[k] = v.to(device)"
   ]
  },
  {
   "cell_type": "code",
   "execution_count": null,
   "id": "cf703f5f-a15f-40c3-b9ba-0417ec26b518",
   "metadata": {
    "tags": []
   },
   "outputs": [],
   "source": [
    "model.to(device)\n",
    "run = wandb.init(project='cifar10-head', entity='semenov-andrei-v')\n",
    "\n",
    "num_epochs = 15\n",
    "for epoch in range(num_epochs):\n",
    "    model.train()\n",
    "    for batch in tqdm(train_loader_preprocessed, desc=f\"Epoch {epoch + 1}/ {num_epochs}\"):\n",
    "        optimizer.zero_grad()\n",
    "        \n",
    "        inputs, labels = batch\n",
    "        inputs = inputs.to(device)\n",
    "        targets = torch.tensor(labels, dtype=torch.long)\n",
    "        logits = model(**inputs).squeeze(0)\n",
    "        \n",
    "        loss = criterion(logits, targets.to(device))\n",
    "        loss.backward()\n",
    "        optimizer.step()\n",
    "    \n",
    "    model.eval()\n",
    "    val_accuracy, avg_val_loss = val_loss_accuracy(model, val_loader_preprocessed)\n",
    "\n",
    "    wandb.log({\"Loss/Train\": loss.item(), \n",
    "               \"Loss/Validation\": avg_val_loss, \n",
    "               \"Accuracy/Validation\": val_accuracy['accuracy']}\n",
    "             )\n",
    "\n",
    "    print(f\"Epoch {epoch + 1}/{num_epochs}, Loss: {loss.item()}, Validation Accuracy: {val_accuracy}\")\n",
    "\n",
    "model.eval()\n",
    "test_accuracy = get_test_accuracy(model, train_loader_preprocessed)\n",
    "wandb.log({\"Accuracy/Test\": test_accuracy['accuracy']})\n",
    "\n",
    "run.finish()"
   ]
  },
  {
   "cell_type": "markdown",
   "id": "aa985a2b-838b-4aa4-a187-8c4b6f75b711",
   "metadata": {
    "tags": []
   },
   "source": [
    "## Training smarter head"
   ]
  },
  {
   "cell_type": "code",
   "execution_count": 23,
   "id": "1fb536df-4af8-4ef1-aeda-59debb8b2699",
   "metadata": {
    "tags": []
   },
   "outputs": [
    {
     "name": "stdout",
     "output_type": "stream",
     "text": [
      "Number of trainable parameters is: 305160\n"
     ]
    }
   ],
   "source": [
    "model = TuningCLIPsmarterHead(concepts=all_concepts)\n",
    "optimizer = torch.optim.Adam(model.parameters(), lr=0.001)\n",
    "criterion = nn.CrossEntropyLoss()\n",
    "\n",
    "print(\"Number of trainable parameters is: {}\".format(sum(p.numel() for p in model.parameters() if p.requires_grad == True)))\n",
    "\n",
    "for state in optimizer.state.values():\n",
    "    for k, v in state.items():\n",
    "        if isinstance(v, torch.Tensor):\n",
    "            state[k] = v.to(device)"
   ]
  },
  {
   "cell_type": "code",
   "execution_count": 24,
   "id": "4bbc4e4e-4f27-4abc-87e9-de3bd9a81e87",
   "metadata": {
    "tags": []
   },
   "outputs": [
    {
     "data": {
      "text/html": [
       "Tracking run with wandb version 0.16.0"
      ],
      "text/plain": [
       "<IPython.core.display.HTML object>"
      ]
     },
     "metadata": {},
     "output_type": "display_data"
    },
    {
     "data": {
      "text/html": [
       "Run data is saved locally in <code>/home/andreisemenov/wandb/run-20231115_102826-n44io2my</code>"
      ],
      "text/plain": [
       "<IPython.core.display.HTML object>"
      ]
     },
     "metadata": {},
     "output_type": "display_data"
    },
    {
     "data": {
      "text/html": [
       "Syncing run <strong><a href='https://wandb.ai/semenov-andrei-v/cifar10-smarter-head/runs/n44io2my' target=\"_blank\">fine-voice-9</a></strong> to <a href='https://wandb.ai/semenov-andrei-v/cifar10-smarter-head' target=\"_blank\">Weights & Biases</a> (<a href='https://wandb.me/run' target=\"_blank\">docs</a>)<br/>"
      ],
      "text/plain": [
       "<IPython.core.display.HTML object>"
      ]
     },
     "metadata": {},
     "output_type": "display_data"
    },
    {
     "data": {
      "text/html": [
       " View project at <a href='https://wandb.ai/semenov-andrei-v/cifar10-smarter-head' target=\"_blank\">https://wandb.ai/semenov-andrei-v/cifar10-smarter-head</a>"
      ],
      "text/plain": [
       "<IPython.core.display.HTML object>"
      ]
     },
     "metadata": {},
     "output_type": "display_data"
    },
    {
     "data": {
      "text/html": [
       " View run at <a href='https://wandb.ai/semenov-andrei-v/cifar10-smarter-head/runs/n44io2my' target=\"_blank\">https://wandb.ai/semenov-andrei-v/cifar10-smarter-head/runs/n44io2my</a>"
      ],
      "text/plain": [
       "<IPython.core.display.HTML object>"
      ]
     },
     "metadata": {},
     "output_type": "display_data"
    },
    {
     "data": {
      "application/vnd.jupyter.widget-view+json": {
       "model_id": "2a82bfda5b694fe78d2c5bc6e5003a4b",
       "version_major": 2,
       "version_minor": 0
      },
      "text/plain": [
       "Epoch 1/ 15:   0%|          | 0/1563 [00:00<?, ?it/s]"
      ]
     },
     "metadata": {},
     "output_type": "display_data"
    },
    {
     "data": {
      "application/vnd.jupyter.widget-view+json": {
       "model_id": "28786a9afbae4a4cbf802b9b166c024d",
       "version_major": 2,
       "version_minor": 0
      },
      "text/plain": [
       "  0%|          | 0/94 [00:00<?, ?it/s]"
      ]
     },
     "metadata": {},
     "output_type": "display_data"
    },
    {
     "name": "stdout",
     "output_type": "stream",
     "text": [
      "Epoch 1/15, Loss: 2.3025853633880615, Validation Accuracy: {'accuracy': 0.09266666666666666}\n"
     ]
    },
    {
     "data": {
      "application/vnd.jupyter.widget-view+json": {
       "model_id": "b403ca6bca274eee98939c9b100fc3fe",
       "version_major": 2,
       "version_minor": 0
      },
      "text/plain": [
       "Epoch 2/ 15:   0%|          | 0/1563 [00:00<?, ?it/s]"
      ]
     },
     "metadata": {},
     "output_type": "display_data"
    },
    {
     "data": {
      "application/vnd.jupyter.widget-view+json": {
       "model_id": "507c66dab8e746d8b17adc47a55fa370",
       "version_major": 2,
       "version_minor": 0
      },
      "text/plain": [
       "  0%|          | 0/94 [00:00<?, ?it/s]"
      ]
     },
     "metadata": {},
     "output_type": "display_data"
    },
    {
     "name": "stdout",
     "output_type": "stream",
     "text": [
      "Epoch 2/15, Loss: 2.3025853633880615, Validation Accuracy: {'accuracy': 0.09266666666666666}\n"
     ]
    },
    {
     "data": {
      "application/vnd.jupyter.widget-view+json": {
       "model_id": "497efb6db5104ddbbc7e061cb63dd1ad",
       "version_major": 2,
       "version_minor": 0
      },
      "text/plain": [
       "Epoch 3/ 15:   0%|          | 0/1563 [00:00<?, ?it/s]"
      ]
     },
     "metadata": {},
     "output_type": "display_data"
    },
    {
     "data": {
      "application/vnd.jupyter.widget-view+json": {
       "model_id": "c9b1901451004e06a2e0689f8af8754c",
       "version_major": 2,
       "version_minor": 0
      },
      "text/plain": [
       "  0%|          | 0/94 [00:00<?, ?it/s]"
      ]
     },
     "metadata": {},
     "output_type": "display_data"
    },
    {
     "name": "stdout",
     "output_type": "stream",
     "text": [
      "Epoch 3/15, Loss: 2.3025853633880615, Validation Accuracy: {'accuracy': 0.09266666666666666}\n"
     ]
    },
    {
     "data": {
      "application/vnd.jupyter.widget-view+json": {
       "model_id": "42a90849ac2444f49085c0213102f562",
       "version_major": 2,
       "version_minor": 0
      },
      "text/plain": [
       "Epoch 4/ 15:   0%|          | 0/1563 [00:00<?, ?it/s]"
      ]
     },
     "metadata": {},
     "output_type": "display_data"
    },
    {
     "data": {
      "application/vnd.jupyter.widget-view+json": {
       "model_id": "974d17aeb11a46e180625cd3294ce8f0",
       "version_major": 2,
       "version_minor": 0
      },
      "text/plain": [
       "  0%|          | 0/94 [00:00<?, ?it/s]"
      ]
     },
     "metadata": {},
     "output_type": "display_data"
    },
    {
     "name": "stdout",
     "output_type": "stream",
     "text": [
      "Epoch 4/15, Loss: 2.3025853633880615, Validation Accuracy: {'accuracy': 0.09266666666666666}\n"
     ]
    },
    {
     "data": {
      "application/vnd.jupyter.widget-view+json": {
       "model_id": "301e6dbb4a4e44428d96ffa27ff8e2eb",
       "version_major": 2,
       "version_minor": 0
      },
      "text/plain": [
       "Epoch 5/ 15:   0%|          | 0/1563 [00:00<?, ?it/s]"
      ]
     },
     "metadata": {},
     "output_type": "display_data"
    },
    {
     "ename": "KeyboardInterrupt",
     "evalue": "",
     "output_type": "error",
     "traceback": [
      "\u001b[0;31m---------------------------------------------------------------------------\u001b[0m",
      "\u001b[0;31mKeyboardInterrupt\u001b[0m                         Traceback (most recent call last)",
      "Cell \u001b[0;32mIn[24], line 15\u001b[0m\n\u001b[1;32m     12\u001b[0m targets \u001b[38;5;241m=\u001b[39m torch\u001b[38;5;241m.\u001b[39mtensor(labels, dtype\u001b[38;5;241m=\u001b[39mtorch\u001b[38;5;241m.\u001b[39mlong)\n\u001b[1;32m     13\u001b[0m logits \u001b[38;5;241m=\u001b[39m model(\u001b[38;5;241m*\u001b[39m\u001b[38;5;241m*\u001b[39minputs)\u001b[38;5;241m.\u001b[39msqueeze(\u001b[38;5;241m0\u001b[39m)\n\u001b[0;32m---> 15\u001b[0m loss \u001b[38;5;241m=\u001b[39m criterion(logits, \u001b[43mtargets\u001b[49m\u001b[38;5;241;43m.\u001b[39;49m\u001b[43mto\u001b[49m\u001b[43m(\u001b[49m\u001b[43mdevice\u001b[49m\u001b[43m)\u001b[49m)\n\u001b[1;32m     16\u001b[0m loss\u001b[38;5;241m.\u001b[39mbackward()\n\u001b[1;32m     17\u001b[0m optimizer\u001b[38;5;241m.\u001b[39mstep()\n",
      "\u001b[0;31mKeyboardInterrupt\u001b[0m: "
     ]
    }
   ],
   "source": [
    "model.to(device)\n",
    "run = wandb.init(project='cifar10-smarter-head', entity='semenov-andrei-v')\n",
    "\n",
    "num_epochs = 15\n",
    "for epoch in range(num_epochs):\n",
    "    model.train()\n",
    "    for batch in tqdm(train_loader_preprocessed, desc=f\"Epoch {epoch + 1}/ {num_epochs}\"):\n",
    "        optimizer.zero_grad()\n",
    "        \n",
    "        inputs, labels = batch\n",
    "        inputs = inputs.to(device)\n",
    "        targets = torch.tensor(labels, dtype=torch.long)\n",
    "        logits = model(**inputs).squeeze(0)\n",
    "        \n",
    "        loss = criterion(logits, targets.to(device))\n",
    "        loss.backward()\n",
    "        optimizer.step()\n",
    "    \n",
    "    model.eval()\n",
    "    val_accuracy, avg_val_loss = val_loss_accuracy(model, val_loader_preprocessed)\n",
    "\n",
    "    wandb.log({\"Loss/Train\": loss.item(), \n",
    "               \"Loss/Validation\": avg_val_loss, \n",
    "               \"Accuracy/Validation\": val_accuracy['accuracy']}\n",
    "             )\n",
    "\n",
    "    print(f\"Epoch {epoch + 1}/{num_epochs}, Loss: {loss.item()}, Validation Accuracy: {val_accuracy}\")\n",
    "\n",
    "model.eval()\n",
    "test_accuracy = get_test_accuracy(model, train_loader_preprocessed)\n",
    "wandb.log({\"Accuracy/Test\": test_accuracy['accuracy']})\n",
    "\n",
    "run.finish()"
   ]
  },
  {
   "cell_type": "markdown",
   "id": "7a0fcb93-1967-4812-862c-bfef6f32eb53",
   "metadata": {
    "jp-MarkdownHeadingCollapsed": true,
    "tags": []
   },
   "source": [
    "# Custom concepts set"
   ]
  },
  {
   "cell_type": "code",
   "execution_count": 15,
   "id": "9230501b-afed-4466-9dfa-07a423672f4d",
   "metadata": {},
   "outputs": [],
   "source": [
    "custom_concepts = ['plane', 'airliner', 'propeller', 'monoplane', 'fuselage', 'jet', 'car', 'vehicle', 'passenger', 'internal combustion engine', 'minivan', 'sedan',\n",
    "                  'parrot', 'wing', 'passerine', 'fowl', 'albatross', 'geese', 'kiwi', 'syrinx', 'gull', 'lion', 'tiger', 'leopard', 'pet', 'jaguar', 'felis', 'rat', 'rabbit',\n",
    "                  'elk', 'moose', 'reindeer', 'antelope', 'ruminant', 'antler', 'pig', 'sheep', 'alps', 'eurasian elk', 'foxes', 'puppy', 'cur', 'wolf', 'tail', 'great dane', 'poodle', 'hound',\n",
    "                  'canid', 'corgi', 'pawl', 'toad', 'amphibian', 'egg', 'gill', 'lizard', 'tongue', 'carnivore', 'pony', 'foal', 'thoroughbred', 'hack', 'cartilage', 'donkey', 'bridle', 'boat',\n",
    "                  'ferry', 'submarine', 'vessel', 'cargo', 'sail', 'sea', 'barque', 'schooner', 'travel', 'galley', 'water', 'watercraft', 'lorry', 'van', 'wagon', 'suv', 'jeep', 'forklift', \n",
    "                  'bumper', 'trailer', 'driver', 'boxcar', 'flatcar', 'motorbikr', 'oldsmobile']"
   ]
  },
  {
   "cell_type": "markdown",
   "id": "04b9b1a9-b5b7-4a7c-95f1-c5c1228fd071",
   "metadata": {
    "jp-MarkdownHeadingCollapsed": true,
    "tags": []
   },
   "source": [
    "## Training simple head"
   ]
  },
  {
   "cell_type": "code",
   "execution_count": 17,
   "id": "deadd6af-d8fc-4252-b42d-5f63e92f36ce",
   "metadata": {},
   "outputs": [
    {
     "data": {
      "application/vnd.jupyter.widget-view+json": {
       "model_id": "f8d6dcddaa1d4b98bb04d977fcfd5788",
       "version_major": 2,
       "version_minor": 0
      },
      "text/plain": [
       "  0%|          | 0/1563 [00:00<?, ?it/s]"
      ]
     },
     "metadata": {},
     "output_type": "display_data"
    },
    {
     "data": {
      "application/vnd.jupyter.widget-view+json": {
       "model_id": "8765c911685545f4ba78a955f03f4b62",
       "version_major": 2,
       "version_minor": 0
      },
      "text/plain": [
       "  0%|          | 0/94 [00:00<?, ?it/s]"
      ]
     },
     "metadata": {},
     "output_type": "display_data"
    },
    {
     "data": {
      "application/vnd.jupyter.widget-view+json": {
       "model_id": "2281ddcf04e34796a53626104e6ec745",
       "version_major": 2,
       "version_minor": 0
      },
      "text/plain": [
       "  0%|          | 0/219 [00:00<?, ?it/s]"
      ]
     },
     "metadata": {},
     "output_type": "display_data"
    }
   ],
   "source": [
    "train_loader_preprocessed = preprocess_loader(train_loader, custom_concepts)\n",
    "val_loader_preprocessed = preprocess_loader(val_loader, custom_concepts)\n",
    "test_loader_preprocessed = preprocess_loader(test_loader, custom_concepts)"
   ]
  },
  {
   "cell_type": "code",
   "execution_count": 33,
   "id": "979cc243-4429-42d5-8a89-3d1eb0eb2f2f",
   "metadata": {
    "tags": []
   },
   "outputs": [
    {
     "name": "stdout",
     "output_type": "stream",
     "text": [
      "Number of trainable parameters is: 900\n"
     ]
    }
   ],
   "source": [
    "model = TuningCLIPhead(concepts=custom_concepts)\n",
    "optimizer = torch.optim.Adam(model.parameters(), lr=0.001)\n",
    "criterion = nn.CrossEntropyLoss()\n",
    "\n",
    "print(\"Number of trainable parameters is: {}\".format(sum(p.numel() for p in model.parameters() if p.requires_grad == True)))\n",
    "for state in optimizer.state.values():\n",
    "    for k, v in state.items():\n",
    "        if isinstance(v, torch.Tensor):\n",
    "            state[k] = v.to(device)"
   ]
  },
  {
   "cell_type": "code",
   "execution_count": 34,
   "id": "f897a072-aa53-414c-8838-0d895789fcb5",
   "metadata": {
    "tags": []
   },
   "outputs": [
    {
     "data": {
      "text/html": [
       "Tracking run with wandb version 0.16.0"
      ],
      "text/plain": [
       "<IPython.core.display.HTML object>"
      ]
     },
     "metadata": {},
     "output_type": "display_data"
    },
    {
     "data": {
      "text/html": [
       "Run data is saved locally in <code>/home/andreisemenov/wandb/run-20231115_140426-up8k85ha</code>"
      ],
      "text/plain": [
       "<IPython.core.display.HTML object>"
      ]
     },
     "metadata": {},
     "output_type": "display_data"
    },
    {
     "data": {
      "text/html": [
       "Syncing run <strong><a href='https://wandb.ai/semenov-andrei-v/cifar10-head/runs/up8k85ha' target=\"_blank\">tough-tree-14</a></strong> to <a href='https://wandb.ai/semenov-andrei-v/cifar10-head' target=\"_blank\">Weights & Biases</a> (<a href='https://wandb.me/run' target=\"_blank\">docs</a>)<br/>"
      ],
      "text/plain": [
       "<IPython.core.display.HTML object>"
      ]
     },
     "metadata": {},
     "output_type": "display_data"
    },
    {
     "data": {
      "text/html": [
       " View project at <a href='https://wandb.ai/semenov-andrei-v/cifar10-head' target=\"_blank\">https://wandb.ai/semenov-andrei-v/cifar10-head</a>"
      ],
      "text/plain": [
       "<IPython.core.display.HTML object>"
      ]
     },
     "metadata": {},
     "output_type": "display_data"
    },
    {
     "data": {
      "text/html": [
       " View run at <a href='https://wandb.ai/semenov-andrei-v/cifar10-head/runs/up8k85ha' target=\"_blank\">https://wandb.ai/semenov-andrei-v/cifar10-head/runs/up8k85ha</a>"
      ],
      "text/plain": [
       "<IPython.core.display.HTML object>"
      ]
     },
     "metadata": {},
     "output_type": "display_data"
    },
    {
     "data": {
      "application/vnd.jupyter.widget-view+json": {
       "model_id": "4f0a967f94884087b735b7e75035de79",
       "version_major": 2,
       "version_minor": 0
      },
      "text/plain": [
       "Epoch 1/ 40:   0%|          | 0/1563 [00:00<?, ?it/s]"
      ]
     },
     "metadata": {},
     "output_type": "display_data"
    },
    {
     "data": {
      "application/vnd.jupyter.widget-view+json": {
       "model_id": "2ba9664e5ab74962bfd7c1e8841bb8a6",
       "version_major": 2,
       "version_minor": 0
      },
      "text/plain": [
       "  0%|          | 0/94 [00:00<?, ?it/s]"
      ]
     },
     "metadata": {},
     "output_type": "display_data"
    },
    {
     "name": "stdout",
     "output_type": "stream",
     "text": [
      "Epoch 1/40, Loss: 0.8347995281219482, Validation Accuracy: {'accuracy': 0.689}\n"
     ]
    },
    {
     "data": {
      "application/vnd.jupyter.widget-view+json": {
       "model_id": "c1ef8f0ca9f7407099824400e62fa537",
       "version_major": 2,
       "version_minor": 0
      },
      "text/plain": [
       "Epoch 2/ 40:   0%|          | 0/1563 [00:00<?, ?it/s]"
      ]
     },
     "metadata": {},
     "output_type": "display_data"
    },
    {
     "data": {
      "application/vnd.jupyter.widget-view+json": {
       "model_id": "5340b69fb1ff4fee85aa5a4681fbd602",
       "version_major": 2,
       "version_minor": 0
      },
      "text/plain": [
       "  0%|          | 0/94 [00:00<?, ?it/s]"
      ]
     },
     "metadata": {},
     "output_type": "display_data"
    },
    {
     "name": "stdout",
     "output_type": "stream",
     "text": [
      "Epoch 2/40, Loss: 0.6357260942459106, Validation Accuracy: {'accuracy': 0.733}\n"
     ]
    },
    {
     "data": {
      "application/vnd.jupyter.widget-view+json": {
       "model_id": "64e870672bfa46f8b1bf01a281074aff",
       "version_major": 2,
       "version_minor": 0
      },
      "text/plain": [
       "Epoch 3/ 40:   0%|          | 0/1563 [00:00<?, ?it/s]"
      ]
     },
     "metadata": {},
     "output_type": "display_data"
    },
    {
     "data": {
      "application/vnd.jupyter.widget-view+json": {
       "model_id": "2118b132bcce44679ce0acc608e60f70",
       "version_major": 2,
       "version_minor": 0
      },
      "text/plain": [
       "  0%|          | 0/94 [00:00<?, ?it/s]"
      ]
     },
     "metadata": {},
     "output_type": "display_data"
    },
    {
     "name": "stdout",
     "output_type": "stream",
     "text": [
      "Epoch 3/40, Loss: 0.5521941184997559, Validation Accuracy: {'accuracy': 0.748}\n"
     ]
    },
    {
     "data": {
      "application/vnd.jupyter.widget-view+json": {
       "model_id": "0521ce58dd1f43a2a2d30c05f1e45ad3",
       "version_major": 2,
       "version_minor": 0
      },
      "text/plain": [
       "Epoch 4/ 40:   0%|          | 0/1563 [00:00<?, ?it/s]"
      ]
     },
     "metadata": {},
     "output_type": "display_data"
    },
    {
     "data": {
      "application/vnd.jupyter.widget-view+json": {
       "model_id": "e31e954dc98647dab2fd0933209ed736",
       "version_major": 2,
       "version_minor": 0
      },
      "text/plain": [
       "  0%|          | 0/94 [00:00<?, ?it/s]"
      ]
     },
     "metadata": {},
     "output_type": "display_data"
    },
    {
     "name": "stdout",
     "output_type": "stream",
     "text": [
      "Epoch 4/40, Loss: 0.5106992721557617, Validation Accuracy: {'accuracy': 0.7523333333333333}\n"
     ]
    },
    {
     "data": {
      "application/vnd.jupyter.widget-view+json": {
       "model_id": "e996a29472244b79b2dd25f29d446e97",
       "version_major": 2,
       "version_minor": 0
      },
      "text/plain": [
       "Epoch 5/ 40:   0%|          | 0/1563 [00:00<?, ?it/s]"
      ]
     },
     "metadata": {},
     "output_type": "display_data"
    },
    {
     "data": {
      "application/vnd.jupyter.widget-view+json": {
       "model_id": "bf548f00d5b94cfdac660339b682695e",
       "version_major": 2,
       "version_minor": 0
      },
      "text/plain": [
       "  0%|          | 0/94 [00:00<?, ?it/s]"
      ]
     },
     "metadata": {},
     "output_type": "display_data"
    },
    {
     "name": "stdout",
     "output_type": "stream",
     "text": [
      "Epoch 5/40, Loss: 0.48985129594802856, Validation Accuracy: {'accuracy': 0.7593333333333333}\n"
     ]
    },
    {
     "data": {
      "application/vnd.jupyter.widget-view+json": {
       "model_id": "7472ddf89702488ab62d1fb0b8f409ed",
       "version_major": 2,
       "version_minor": 0
      },
      "text/plain": [
       "Epoch 6/ 40:   0%|          | 0/1563 [00:00<?, ?it/s]"
      ]
     },
     "metadata": {},
     "output_type": "display_data"
    },
    {
     "data": {
      "application/vnd.jupyter.widget-view+json": {
       "model_id": "a5b28015da5c40dfa1b8df295347a9dc",
       "version_major": 2,
       "version_minor": 0
      },
      "text/plain": [
       "  0%|          | 0/94 [00:00<?, ?it/s]"
      ]
     },
     "metadata": {},
     "output_type": "display_data"
    },
    {
     "name": "stdout",
     "output_type": "stream",
     "text": [
      "Epoch 6/40, Loss: 0.4793414771556854, Validation Accuracy: {'accuracy': 0.7646666666666667}\n"
     ]
    },
    {
     "data": {
      "application/vnd.jupyter.widget-view+json": {
       "model_id": "45ee670b5d2349cdaf8fe797cbc11a35",
       "version_major": 2,
       "version_minor": 0
      },
      "text/plain": [
       "Epoch 7/ 40:   0%|          | 0/1563 [00:00<?, ?it/s]"
      ]
     },
     "metadata": {},
     "output_type": "display_data"
    },
    {
     "data": {
      "application/vnd.jupyter.widget-view+json": {
       "model_id": "476d73ab46cf41b299f6916afebc8a1a",
       "version_major": 2,
       "version_minor": 0
      },
      "text/plain": [
       "  0%|          | 0/94 [00:00<?, ?it/s]"
      ]
     },
     "metadata": {},
     "output_type": "display_data"
    },
    {
     "name": "stdout",
     "output_type": "stream",
     "text": [
      "Epoch 7/40, Loss: 0.47395530343055725, Validation Accuracy: {'accuracy': 0.77}\n"
     ]
    },
    {
     "data": {
      "application/vnd.jupyter.widget-view+json": {
       "model_id": "a5cf78dd575740bf97eba2eb60482507",
       "version_major": 2,
       "version_minor": 0
      },
      "text/plain": [
       "Epoch 8/ 40:   0%|          | 0/1563 [00:00<?, ?it/s]"
      ]
     },
     "metadata": {},
     "output_type": "display_data"
    },
    {
     "data": {
      "application/vnd.jupyter.widget-view+json": {
       "model_id": "d7ba940684ed40c099bfb67b66718623",
       "version_major": 2,
       "version_minor": 0
      },
      "text/plain": [
       "  0%|          | 0/94 [00:00<?, ?it/s]"
      ]
     },
     "metadata": {},
     "output_type": "display_data"
    },
    {
     "name": "stdout",
     "output_type": "stream",
     "text": [
      "Epoch 8/40, Loss: 0.47115492820739746, Validation Accuracy: {'accuracy': 0.7733333333333333}\n"
     ]
    },
    {
     "data": {
      "application/vnd.jupyter.widget-view+json": {
       "model_id": "b68ef3589b4a40a39bb53b8b860237a2",
       "version_major": 2,
       "version_minor": 0
      },
      "text/plain": [
       "Epoch 9/ 40:   0%|          | 0/1563 [00:00<?, ?it/s]"
      ]
     },
     "metadata": {},
     "output_type": "display_data"
    },
    {
     "data": {
      "application/vnd.jupyter.widget-view+json": {
       "model_id": "b1963e3239ac469f955b458ad6c60b7c",
       "version_major": 2,
       "version_minor": 0
      },
      "text/plain": [
       "  0%|          | 0/94 [00:00<?, ?it/s]"
      ]
     },
     "metadata": {},
     "output_type": "display_data"
    },
    {
     "name": "stdout",
     "output_type": "stream",
     "text": [
      "Epoch 9/40, Loss: 0.4697237014770508, Validation Accuracy: {'accuracy': 0.7803333333333333}\n"
     ]
    },
    {
     "data": {
      "application/vnd.jupyter.widget-view+json": {
       "model_id": "a6a6872cbf4a4e1f8fcc47ac7e88d7a5",
       "version_major": 2,
       "version_minor": 0
      },
      "text/plain": [
       "Epoch 10/ 40:   0%|          | 0/1563 [00:00<?, ?it/s]"
      ]
     },
     "metadata": {},
     "output_type": "display_data"
    },
    {
     "data": {
      "application/vnd.jupyter.widget-view+json": {
       "model_id": "09b3b8f007b047bcb8046d13043a3efe",
       "version_major": 2,
       "version_minor": 0
      },
      "text/plain": [
       "  0%|          | 0/94 [00:00<?, ?it/s]"
      ]
     },
     "metadata": {},
     "output_type": "display_data"
    },
    {
     "name": "stdout",
     "output_type": "stream",
     "text": [
      "Epoch 10/40, Loss: 0.4690609276294708, Validation Accuracy: {'accuracy': 0.7843333333333333}\n"
     ]
    },
    {
     "data": {
      "application/vnd.jupyter.widget-view+json": {
       "model_id": "95c6ecc9e5bd4009a7a5b2e1618a1cb9",
       "version_major": 2,
       "version_minor": 0
      },
      "text/plain": [
       "Epoch 11/ 40:   0%|          | 0/1563 [00:00<?, ?it/s]"
      ]
     },
     "metadata": {},
     "output_type": "display_data"
    },
    {
     "data": {
      "application/vnd.jupyter.widget-view+json": {
       "model_id": "bd1df69a08124f0a84cd77fbbf4e6f2c",
       "version_major": 2,
       "version_minor": 0
      },
      "text/plain": [
       "  0%|          | 0/94 [00:00<?, ?it/s]"
      ]
     },
     "metadata": {},
     "output_type": "display_data"
    },
    {
     "name": "stdout",
     "output_type": "stream",
     "text": [
      "Epoch 11/40, Loss: 0.46886470913887024, Validation Accuracy: {'accuracy': 0.7853333333333333}\n"
     ]
    },
    {
     "data": {
      "application/vnd.jupyter.widget-view+json": {
       "model_id": "87ce1e57e1ed4d70b79b45bff14ea80b",
       "version_major": 2,
       "version_minor": 0
      },
      "text/plain": [
       "Epoch 12/ 40:   0%|          | 0/1563 [00:00<?, ?it/s]"
      ]
     },
     "metadata": {},
     "output_type": "display_data"
    },
    {
     "data": {
      "application/vnd.jupyter.widget-view+json": {
       "model_id": "14b235d96ebd42c3a2a127eed61b9c28",
       "version_major": 2,
       "version_minor": 0
      },
      "text/plain": [
       "  0%|          | 0/94 [00:00<?, ?it/s]"
      ]
     },
     "metadata": {},
     "output_type": "display_data"
    },
    {
     "name": "stdout",
     "output_type": "stream",
     "text": [
      "Epoch 12/40, Loss: 0.46897709369659424, Validation Accuracy: {'accuracy': 0.7883333333333333}\n"
     ]
    },
    {
     "data": {
      "application/vnd.jupyter.widget-view+json": {
       "model_id": "f94bffe8196b4781b35b6fdc9c5b939c",
       "version_major": 2,
       "version_minor": 0
      },
      "text/plain": [
       "Epoch 13/ 40:   0%|          | 0/1563 [00:00<?, ?it/s]"
      ]
     },
     "metadata": {},
     "output_type": "display_data"
    },
    {
     "data": {
      "application/vnd.jupyter.widget-view+json": {
       "model_id": "54e8d8621170461ca43c49c1884d6ec2",
       "version_major": 2,
       "version_minor": 0
      },
      "text/plain": [
       "  0%|          | 0/94 [00:00<?, ?it/s]"
      ]
     },
     "metadata": {},
     "output_type": "display_data"
    },
    {
     "name": "stdout",
     "output_type": "stream",
     "text": [
      "Epoch 13/40, Loss: 0.46931132674217224, Validation Accuracy: {'accuracy': 0.7913333333333333}\n"
     ]
    },
    {
     "data": {
      "application/vnd.jupyter.widget-view+json": {
       "model_id": "40ec62dd813b491d91f7b54174fe7793",
       "version_major": 2,
       "version_minor": 0
      },
      "text/plain": [
       "Epoch 14/ 40:   0%|          | 0/1563 [00:00<?, ?it/s]"
      ]
     },
     "metadata": {},
     "output_type": "display_data"
    },
    {
     "data": {
      "application/vnd.jupyter.widget-view+json": {
       "model_id": "99ba3089b01a47059d75fb72c8b31b59",
       "version_major": 2,
       "version_minor": 0
      },
      "text/plain": [
       "  0%|          | 0/94 [00:00<?, ?it/s]"
      ]
     },
     "metadata": {},
     "output_type": "display_data"
    },
    {
     "name": "stdout",
     "output_type": "stream",
     "text": [
      "Epoch 14/40, Loss: 0.46981263160705566, Validation Accuracy: {'accuracy': 0.7926666666666666}\n"
     ]
    },
    {
     "data": {
      "application/vnd.jupyter.widget-view+json": {
       "model_id": "e8f4d1c5f56b46fb8c3a5d2ae4d4cd38",
       "version_major": 2,
       "version_minor": 0
      },
      "text/plain": [
       "Epoch 15/ 40:   0%|          | 0/1563 [00:00<?, ?it/s]"
      ]
     },
     "metadata": {},
     "output_type": "display_data"
    },
    {
     "data": {
      "application/vnd.jupyter.widget-view+json": {
       "model_id": "66a8c5b73b66407e8ca488f0371b1846",
       "version_major": 2,
       "version_minor": 0
      },
      "text/plain": [
       "  0%|          | 0/94 [00:00<?, ?it/s]"
      ]
     },
     "metadata": {},
     "output_type": "display_data"
    },
    {
     "name": "stdout",
     "output_type": "stream",
     "text": [
      "Epoch 15/40, Loss: 0.4704422652721405, Validation Accuracy: {'accuracy': 0.7946666666666666}\n"
     ]
    },
    {
     "data": {
      "application/vnd.jupyter.widget-view+json": {
       "model_id": "1e11abfd15d547979d18110950a3dcdb",
       "version_major": 2,
       "version_minor": 0
      },
      "text/plain": [
       "Epoch 16/ 40:   0%|          | 0/1563 [00:00<?, ?it/s]"
      ]
     },
     "metadata": {},
     "output_type": "display_data"
    },
    {
     "data": {
      "application/vnd.jupyter.widget-view+json": {
       "model_id": "0ea7eaf1a0ef419fac73394ffc0e94e9",
       "version_major": 2,
       "version_minor": 0
      },
      "text/plain": [
       "  0%|          | 0/94 [00:00<?, ?it/s]"
      ]
     },
     "metadata": {},
     "output_type": "display_data"
    },
    {
     "name": "stdout",
     "output_type": "stream",
     "text": [
      "Epoch 16/40, Loss: 0.47117435932159424, Validation Accuracy: {'accuracy': 0.7933333333333333}\n"
     ]
    },
    {
     "data": {
      "application/vnd.jupyter.widget-view+json": {
       "model_id": "de1a51439e4740a4ab1c5e6c724367a8",
       "version_major": 2,
       "version_minor": 0
      },
      "text/plain": [
       "Epoch 17/ 40:   0%|          | 0/1563 [00:00<?, ?it/s]"
      ]
     },
     "metadata": {},
     "output_type": "display_data"
    },
    {
     "data": {
      "application/vnd.jupyter.widget-view+json": {
       "model_id": "2daba84254b64361b6f00347daa7e088",
       "version_major": 2,
       "version_minor": 0
      },
      "text/plain": [
       "  0%|          | 0/94 [00:00<?, ?it/s]"
      ]
     },
     "metadata": {},
     "output_type": "display_data"
    },
    {
     "name": "stdout",
     "output_type": "stream",
     "text": [
      "Epoch 17/40, Loss: 0.4719836413860321, Validation Accuracy: {'accuracy': 0.7946666666666666}\n"
     ]
    },
    {
     "data": {
      "application/vnd.jupyter.widget-view+json": {
       "model_id": "bec6f6a1913f405490a8bb385cae92a8",
       "version_major": 2,
       "version_minor": 0
      },
      "text/plain": [
       "Epoch 18/ 40:   0%|          | 0/1563 [00:00<?, ?it/s]"
      ]
     },
     "metadata": {},
     "output_type": "display_data"
    },
    {
     "data": {
      "application/vnd.jupyter.widget-view+json": {
       "model_id": "f663ca348c5045678e31b3cb95368637",
       "version_major": 2,
       "version_minor": 0
      },
      "text/plain": [
       "  0%|          | 0/94 [00:00<?, ?it/s]"
      ]
     },
     "metadata": {},
     "output_type": "display_data"
    },
    {
     "name": "stdout",
     "output_type": "stream",
     "text": [
      "Epoch 18/40, Loss: 0.4728516638278961, Validation Accuracy: {'accuracy': 0.7966666666666666}\n"
     ]
    },
    {
     "data": {
      "application/vnd.jupyter.widget-view+json": {
       "model_id": "9b0bebb7ddbb436e99435b0f52fdea2b",
       "version_major": 2,
       "version_minor": 0
      },
      "text/plain": [
       "Epoch 19/ 40:   0%|          | 0/1563 [00:00<?, ?it/s]"
      ]
     },
     "metadata": {},
     "output_type": "display_data"
    },
    {
     "data": {
      "application/vnd.jupyter.widget-view+json": {
       "model_id": "9eb62c7fed014296b1bd33c4fced997f",
       "version_major": 2,
       "version_minor": 0
      },
      "text/plain": [
       "  0%|          | 0/94 [00:00<?, ?it/s]"
      ]
     },
     "metadata": {},
     "output_type": "display_data"
    },
    {
     "name": "stdout",
     "output_type": "stream",
     "text": [
      "Epoch 19/40, Loss: 0.47376224398612976, Validation Accuracy: {'accuracy': 0.7976666666666666}\n"
     ]
    },
    {
     "data": {
      "application/vnd.jupyter.widget-view+json": {
       "model_id": "f809595ffe934af88ad0a3f1ad8fff7d",
       "version_major": 2,
       "version_minor": 0
      },
      "text/plain": [
       "Epoch 20/ 40:   0%|          | 0/1563 [00:00<?, ?it/s]"
      ]
     },
     "metadata": {},
     "output_type": "display_data"
    },
    {
     "data": {
      "application/vnd.jupyter.widget-view+json": {
       "model_id": "86f75d25f0974e42b252323c7e8e4b10",
       "version_major": 2,
       "version_minor": 0
      },
      "text/plain": [
       "  0%|          | 0/94 [00:00<?, ?it/s]"
      ]
     },
     "metadata": {},
     "output_type": "display_data"
    },
    {
     "name": "stdout",
     "output_type": "stream",
     "text": [
      "Epoch 20/40, Loss: 0.47470447421073914, Validation Accuracy: {'accuracy': 0.797}\n"
     ]
    },
    {
     "data": {
      "application/vnd.jupyter.widget-view+json": {
       "model_id": "040be5288cdd4ebd9fff5abca7dfa646",
       "version_major": 2,
       "version_minor": 0
      },
      "text/plain": [
       "Epoch 21/ 40:   0%|          | 0/1563 [00:00<?, ?it/s]"
      ]
     },
     "metadata": {},
     "output_type": "display_data"
    },
    {
     "data": {
      "application/vnd.jupyter.widget-view+json": {
       "model_id": "407a01d13f1b4adc931aeb1f8ccb3d66",
       "version_major": 2,
       "version_minor": 0
      },
      "text/plain": [
       "  0%|          | 0/94 [00:00<?, ?it/s]"
      ]
     },
     "metadata": {},
     "output_type": "display_data"
    },
    {
     "name": "stdout",
     "output_type": "stream",
     "text": [
      "Epoch 21/40, Loss: 0.4756675660610199, Validation Accuracy: {'accuracy': 0.7986666666666666}\n"
     ]
    },
    {
     "data": {
      "application/vnd.jupyter.widget-view+json": {
       "model_id": "ef5ead7be05f4ccc8df5bb9c8bf14a00",
       "version_major": 2,
       "version_minor": 0
      },
      "text/plain": [
       "Epoch 22/ 40:   0%|          | 0/1563 [00:00<?, ?it/s]"
      ]
     },
     "metadata": {},
     "output_type": "display_data"
    },
    {
     "data": {
      "application/vnd.jupyter.widget-view+json": {
       "model_id": "bdbdeb36538a48ad994563447f192f98",
       "version_major": 2,
       "version_minor": 0
      },
      "text/plain": [
       "  0%|          | 0/94 [00:00<?, ?it/s]"
      ]
     },
     "metadata": {},
     "output_type": "display_data"
    },
    {
     "name": "stdout",
     "output_type": "stream",
     "text": [
      "Epoch 22/40, Loss: 0.4766400158405304, Validation Accuracy: {'accuracy': 0.7993333333333333}\n"
     ]
    },
    {
     "data": {
      "application/vnd.jupyter.widget-view+json": {
       "model_id": "b2f50d9303e6451b863cecc189fea62f",
       "version_major": 2,
       "version_minor": 0
      },
      "text/plain": [
       "Epoch 23/ 40:   0%|          | 0/1563 [00:00<?, ?it/s]"
      ]
     },
     "metadata": {},
     "output_type": "display_data"
    },
    {
     "data": {
      "application/vnd.jupyter.widget-view+json": {
       "model_id": "3ece40d192314b9baeaac6e5131c521c",
       "version_major": 2,
       "version_minor": 0
      },
      "text/plain": [
       "  0%|          | 0/94 [00:00<?, ?it/s]"
      ]
     },
     "metadata": {},
     "output_type": "display_data"
    },
    {
     "name": "stdout",
     "output_type": "stream",
     "text": [
      "Epoch 23/40, Loss: 0.4776172637939453, Validation Accuracy: {'accuracy': 0.7993333333333333}\n"
     ]
    },
    {
     "data": {
      "application/vnd.jupyter.widget-view+json": {
       "model_id": "983d55ac60b6489f980df4b2972ba6fa",
       "version_major": 2,
       "version_minor": 0
      },
      "text/plain": [
       "Epoch 24/ 40:   0%|          | 0/1563 [00:00<?, ?it/s]"
      ]
     },
     "metadata": {},
     "output_type": "display_data"
    },
    {
     "data": {
      "application/vnd.jupyter.widget-view+json": {
       "model_id": "d30b6d9a848c44b7995f187f31a5e30c",
       "version_major": 2,
       "version_minor": 0
      },
      "text/plain": [
       "  0%|          | 0/94 [00:00<?, ?it/s]"
      ]
     },
     "metadata": {},
     "output_type": "display_data"
    },
    {
     "name": "stdout",
     "output_type": "stream",
     "text": [
      "Epoch 24/40, Loss: 0.4785911440849304, Validation Accuracy: {'accuracy': 0.8003333333333333}\n"
     ]
    },
    {
     "data": {
      "application/vnd.jupyter.widget-view+json": {
       "model_id": "78fc9116432e46049656831a015fad9e",
       "version_major": 2,
       "version_minor": 0
      },
      "text/plain": [
       "Epoch 25/ 40:   0%|          | 0/1563 [00:00<?, ?it/s]"
      ]
     },
     "metadata": {},
     "output_type": "display_data"
    },
    {
     "data": {
      "application/vnd.jupyter.widget-view+json": {
       "model_id": "aeb24b08dc834b2d883ab75a022533cc",
       "version_major": 2,
       "version_minor": 0
      },
      "text/plain": [
       "  0%|          | 0/94 [00:00<?, ?it/s]"
      ]
     },
     "metadata": {},
     "output_type": "display_data"
    },
    {
     "name": "stdout",
     "output_type": "stream",
     "text": [
      "Epoch 25/40, Loss: 0.4795585572719574, Validation Accuracy: {'accuracy': 0.801}\n"
     ]
    },
    {
     "data": {
      "application/vnd.jupyter.widget-view+json": {
       "model_id": "175c83b04eb24696ad1d4b1c137f39ff",
       "version_major": 2,
       "version_minor": 0
      },
      "text/plain": [
       "Epoch 26/ 40:   0%|          | 0/1563 [00:00<?, ?it/s]"
      ]
     },
     "metadata": {},
     "output_type": "display_data"
    },
    {
     "data": {
      "application/vnd.jupyter.widget-view+json": {
       "model_id": "92c3b929213843a4b83f38f08840ab0e",
       "version_major": 2,
       "version_minor": 0
      },
      "text/plain": [
       "  0%|          | 0/94 [00:00<?, ?it/s]"
      ]
     },
     "metadata": {},
     "output_type": "display_data"
    },
    {
     "name": "stdout",
     "output_type": "stream",
     "text": [
      "Epoch 26/40, Loss: 0.4805152416229248, Validation Accuracy: {'accuracy': 0.8026666666666666}\n"
     ]
    },
    {
     "data": {
      "application/vnd.jupyter.widget-view+json": {
       "model_id": "91f9852032524090820bb4c7d086ca0c",
       "version_major": 2,
       "version_minor": 0
      },
      "text/plain": [
       "Epoch 27/ 40:   0%|          | 0/1563 [00:00<?, ?it/s]"
      ]
     },
     "metadata": {},
     "output_type": "display_data"
    },
    {
     "data": {
      "application/vnd.jupyter.widget-view+json": {
       "model_id": "aeb3de182d8d458b8b239617940d9c85",
       "version_major": 2,
       "version_minor": 0
      },
      "text/plain": [
       "  0%|          | 0/94 [00:00<?, ?it/s]"
      ]
     },
     "metadata": {},
     "output_type": "display_data"
    },
    {
     "name": "stdout",
     "output_type": "stream",
     "text": [
      "Epoch 27/40, Loss: 0.4814539849758148, Validation Accuracy: {'accuracy': 0.8036666666666666}\n"
     ]
    },
    {
     "data": {
      "application/vnd.jupyter.widget-view+json": {
       "model_id": "5aebb0f6550f4f56878a6498432eeb60",
       "version_major": 2,
       "version_minor": 0
      },
      "text/plain": [
       "Epoch 28/ 40:   0%|          | 0/1563 [00:00<?, ?it/s]"
      ]
     },
     "metadata": {},
     "output_type": "display_data"
    },
    {
     "data": {
      "application/vnd.jupyter.widget-view+json": {
       "model_id": "5ac89dca6ec24a4bb9d0224e8e50a8de",
       "version_major": 2,
       "version_minor": 0
      },
      "text/plain": [
       "  0%|          | 0/94 [00:00<?, ?it/s]"
      ]
     },
     "metadata": {},
     "output_type": "display_data"
    },
    {
     "name": "stdout",
     "output_type": "stream",
     "text": [
      "Epoch 28/40, Loss: 0.482377827167511, Validation Accuracy: {'accuracy': 0.8046666666666666}\n"
     ]
    },
    {
     "data": {
      "application/vnd.jupyter.widget-view+json": {
       "model_id": "21ce385fb74b4674ae70aa2d0f9a2399",
       "version_major": 2,
       "version_minor": 0
      },
      "text/plain": [
       "Epoch 29/ 40:   0%|          | 0/1563 [00:00<?, ?it/s]"
      ]
     },
     "metadata": {},
     "output_type": "display_data"
    },
    {
     "data": {
      "application/vnd.jupyter.widget-view+json": {
       "model_id": "107de28fb2634d4f88885cbbcb968dac",
       "version_major": 2,
       "version_minor": 0
      },
      "text/plain": [
       "  0%|          | 0/94 [00:00<?, ?it/s]"
      ]
     },
     "metadata": {},
     "output_type": "display_data"
    },
    {
     "name": "stdout",
     "output_type": "stream",
     "text": [
      "Epoch 29/40, Loss: 0.4832814931869507, Validation Accuracy: {'accuracy': 0.8053333333333333}\n"
     ]
    },
    {
     "data": {
      "application/vnd.jupyter.widget-view+json": {
       "model_id": "38049485cc5743d08bf62ed3f8394552",
       "version_major": 2,
       "version_minor": 0
      },
      "text/plain": [
       "Epoch 30/ 40:   0%|          | 0/1563 [00:00<?, ?it/s]"
      ]
     },
     "metadata": {},
     "output_type": "display_data"
    },
    {
     "data": {
      "application/vnd.jupyter.widget-view+json": {
       "model_id": "2a7ec8b01e0340079de281f80a69ba08",
       "version_major": 2,
       "version_minor": 0
      },
      "text/plain": [
       "  0%|          | 0/94 [00:00<?, ?it/s]"
      ]
     },
     "metadata": {},
     "output_type": "display_data"
    },
    {
     "name": "stdout",
     "output_type": "stream",
     "text": [
      "Epoch 30/40, Loss: 0.48416125774383545, Validation Accuracy: {'accuracy': 0.8053333333333333}\n"
     ]
    },
    {
     "data": {
      "application/vnd.jupyter.widget-view+json": {
       "model_id": "13839168615646ca97cdfde9f36bac38",
       "version_major": 2,
       "version_minor": 0
      },
      "text/plain": [
       "Epoch 31/ 40:   0%|          | 0/1563 [00:00<?, ?it/s]"
      ]
     },
     "metadata": {},
     "output_type": "display_data"
    },
    {
     "data": {
      "application/vnd.jupyter.widget-view+json": {
       "model_id": "af743a8ae92b48deb5f8efb797e97be0",
       "version_major": 2,
       "version_minor": 0
      },
      "text/plain": [
       "  0%|          | 0/94 [00:00<?, ?it/s]"
      ]
     },
     "metadata": {},
     "output_type": "display_data"
    },
    {
     "name": "stdout",
     "output_type": "stream",
     "text": [
      "Epoch 31/40, Loss: 0.4850197434425354, Validation Accuracy: {'accuracy': 0.8056666666666666}\n"
     ]
    },
    {
     "data": {
      "application/vnd.jupyter.widget-view+json": {
       "model_id": "9c9f7510d0cf48b2be7bbf83bfa66432",
       "version_major": 2,
       "version_minor": 0
      },
      "text/plain": [
       "Epoch 32/ 40:   0%|          | 0/1563 [00:00<?, ?it/s]"
      ]
     },
     "metadata": {},
     "output_type": "display_data"
    },
    {
     "data": {
      "application/vnd.jupyter.widget-view+json": {
       "model_id": "41d4b138f47a45d0a97101a256ea1b86",
       "version_major": 2,
       "version_minor": 0
      },
      "text/plain": [
       "  0%|          | 0/94 [00:00<?, ?it/s]"
      ]
     },
     "metadata": {},
     "output_type": "display_data"
    },
    {
     "name": "stdout",
     "output_type": "stream",
     "text": [
      "Epoch 32/40, Loss: 0.48585203289985657, Validation Accuracy: {'accuracy': 0.806}\n"
     ]
    },
    {
     "data": {
      "application/vnd.jupyter.widget-view+json": {
       "model_id": "2f43be6acf674a12a6c502820c5e1aad",
       "version_major": 2,
       "version_minor": 0
      },
      "text/plain": [
       "Epoch 33/ 40:   0%|          | 0/1563 [00:00<?, ?it/s]"
      ]
     },
     "metadata": {},
     "output_type": "display_data"
    },
    {
     "data": {
      "application/vnd.jupyter.widget-view+json": {
       "model_id": "f976adb52b1b4b8a861b5986429760e3",
       "version_major": 2,
       "version_minor": 0
      },
      "text/plain": [
       "  0%|          | 0/94 [00:00<?, ?it/s]"
      ]
     },
     "metadata": {},
     "output_type": "display_data"
    },
    {
     "name": "stdout",
     "output_type": "stream",
     "text": [
      "Epoch 33/40, Loss: 0.48666080832481384, Validation Accuracy: {'accuracy': 0.8076666666666666}\n"
     ]
    },
    {
     "data": {
      "application/vnd.jupyter.widget-view+json": {
       "model_id": "8f292dd7eccc4d42bbf46cf2d57bface",
       "version_major": 2,
       "version_minor": 0
      },
      "text/plain": [
       "Epoch 34/ 40:   0%|          | 0/1563 [00:00<?, ?it/s]"
      ]
     },
     "metadata": {},
     "output_type": "display_data"
    },
    {
     "data": {
      "application/vnd.jupyter.widget-view+json": {
       "model_id": "44afa081fc4e44798482d2da46fc5507",
       "version_major": 2,
       "version_minor": 0
      },
      "text/plain": [
       "  0%|          | 0/94 [00:00<?, ?it/s]"
      ]
     },
     "metadata": {},
     "output_type": "display_data"
    },
    {
     "name": "stdout",
     "output_type": "stream",
     "text": [
      "Epoch 34/40, Loss: 0.4874415099620819, Validation Accuracy: {'accuracy': 0.8076666666666666}\n"
     ]
    },
    {
     "data": {
      "application/vnd.jupyter.widget-view+json": {
       "model_id": "d2b75a62cb9a4d2f86fc597b6939a73f",
       "version_major": 2,
       "version_minor": 0
      },
      "text/plain": [
       "Epoch 35/ 40:   0%|          | 0/1563 [00:00<?, ?it/s]"
      ]
     },
     "metadata": {},
     "output_type": "display_data"
    },
    {
     "data": {
      "application/vnd.jupyter.widget-view+json": {
       "model_id": "48f69bbfb13047a2af077ed6ccd394e9",
       "version_major": 2,
       "version_minor": 0
      },
      "text/plain": [
       "  0%|          | 0/94 [00:00<?, ?it/s]"
      ]
     },
     "metadata": {},
     "output_type": "display_data"
    },
    {
     "name": "stdout",
     "output_type": "stream",
     "text": [
      "Epoch 35/40, Loss: 0.4881984293460846, Validation Accuracy: {'accuracy': 0.8083333333333333}\n"
     ]
    },
    {
     "data": {
      "application/vnd.jupyter.widget-view+json": {
       "model_id": "a189f3de1d984a37bf6aae54eaaab449",
       "version_major": 2,
       "version_minor": 0
      },
      "text/plain": [
       "Epoch 36/ 40:   0%|          | 0/1563 [00:00<?, ?it/s]"
      ]
     },
     "metadata": {},
     "output_type": "display_data"
    },
    {
     "data": {
      "application/vnd.jupyter.widget-view+json": {
       "model_id": "a5f1b8c71e4f4f7ea86efd15516e4279",
       "version_major": 2,
       "version_minor": 0
      },
      "text/plain": [
       "  0%|          | 0/94 [00:00<?, ?it/s]"
      ]
     },
     "metadata": {},
     "output_type": "display_data"
    },
    {
     "name": "stdout",
     "output_type": "stream",
     "text": [
      "Epoch 36/40, Loss: 0.4889273941516876, Validation Accuracy: {'accuracy': 0.808}\n"
     ]
    },
    {
     "data": {
      "application/vnd.jupyter.widget-view+json": {
       "model_id": "65da01fc0f6a46d88c6cdf27846bf55e",
       "version_major": 2,
       "version_minor": 0
      },
      "text/plain": [
       "Epoch 37/ 40:   0%|          | 0/1563 [00:00<?, ?it/s]"
      ]
     },
     "metadata": {},
     "output_type": "display_data"
    },
    {
     "data": {
      "application/vnd.jupyter.widget-view+json": {
       "model_id": "1fe5dc8ca74b47b99a2e4d15bda2042d",
       "version_major": 2,
       "version_minor": 0
      },
      "text/plain": [
       "  0%|          | 0/94 [00:00<?, ?it/s]"
      ]
     },
     "metadata": {},
     "output_type": "display_data"
    },
    {
     "name": "stdout",
     "output_type": "stream",
     "text": [
      "Epoch 37/40, Loss: 0.4896291494369507, Validation Accuracy: {'accuracy': 0.809}\n"
     ]
    },
    {
     "data": {
      "application/vnd.jupyter.widget-view+json": {
       "model_id": "098f63a9e73745e6987230c75699f57b",
       "version_major": 2,
       "version_minor": 0
      },
      "text/plain": [
       "Epoch 38/ 40:   0%|          | 0/1563 [00:00<?, ?it/s]"
      ]
     },
     "metadata": {},
     "output_type": "display_data"
    },
    {
     "data": {
      "application/vnd.jupyter.widget-view+json": {
       "model_id": "5b5383d34b4d4f268ab1b72b263343bb",
       "version_major": 2,
       "version_minor": 0
      },
      "text/plain": [
       "  0%|          | 0/94 [00:00<?, ?it/s]"
      ]
     },
     "metadata": {},
     "output_type": "display_data"
    },
    {
     "name": "stdout",
     "output_type": "stream",
     "text": [
      "Epoch 38/40, Loss: 0.4903052747249603, Validation Accuracy: {'accuracy': 0.8083333333333333}\n"
     ]
    },
    {
     "data": {
      "application/vnd.jupyter.widget-view+json": {
       "model_id": "a906ebe1f39242a5a725e18ceff5b716",
       "version_major": 2,
       "version_minor": 0
      },
      "text/plain": [
       "Epoch 39/ 40:   0%|          | 0/1563 [00:00<?, ?it/s]"
      ]
     },
     "metadata": {},
     "output_type": "display_data"
    },
    {
     "data": {
      "application/vnd.jupyter.widget-view+json": {
       "model_id": "f31afc132fd947b1825edb670d6f0dba",
       "version_major": 2,
       "version_minor": 0
      },
      "text/plain": [
       "  0%|          | 0/94 [00:00<?, ?it/s]"
      ]
     },
     "metadata": {},
     "output_type": "display_data"
    },
    {
     "name": "stdout",
     "output_type": "stream",
     "text": [
      "Epoch 39/40, Loss: 0.4909560978412628, Validation Accuracy: {'accuracy': 0.809}\n"
     ]
    },
    {
     "data": {
      "application/vnd.jupyter.widget-view+json": {
       "model_id": "45336b0d5bde402da6e6ba4b406d4693",
       "version_major": 2,
       "version_minor": 0
      },
      "text/plain": [
       "Epoch 40/ 40:   0%|          | 0/1563 [00:00<?, ?it/s]"
      ]
     },
     "metadata": {},
     "output_type": "display_data"
    },
    {
     "data": {
      "application/vnd.jupyter.widget-view+json": {
       "model_id": "250457088ee447b9826a35c375f8dc0a",
       "version_major": 2,
       "version_minor": 0
      },
      "text/plain": [
       "  0%|          | 0/94 [00:00<?, ?it/s]"
      ]
     },
     "metadata": {},
     "output_type": "display_data"
    },
    {
     "name": "stdout",
     "output_type": "stream",
     "text": [
      "Epoch 40/40, Loss: 0.49157682061195374, Validation Accuracy: {'accuracy': 0.81}\n"
     ]
    },
    {
     "data": {
      "application/vnd.jupyter.widget-view+json": {
       "model_id": "2eba757bd6c44a64a3026f728bc56121",
       "version_major": 2,
       "version_minor": 0
      },
      "text/plain": [
       "  0%|          | 0/1563 [00:00<?, ?it/s]"
      ]
     },
     "metadata": {},
     "output_type": "display_data"
    },
    {
     "data": {
      "application/vnd.jupyter.widget-view+json": {
       "model_id": "",
       "version_major": 2,
       "version_minor": 0
      },
      "text/plain": [
       "VBox(children=(Label(value='0.006 MB of 0.006 MB uploaded\\r'), FloatProgress(value=1.0, max=1.0)))"
      ]
     },
     "metadata": {},
     "output_type": "display_data"
    },
    {
     "data": {
      "text/html": [
       "<style>\n",
       "    table.wandb td:nth-child(1) { padding: 0 10px; text-align: left ; width: auto;} td:nth-child(2) {text-align: left ; width: 100%}\n",
       "    .wandb-row { display: flex; flex-direction: row; flex-wrap: wrap; justify-content: flex-start; width: 100% }\n",
       "    .wandb-col { display: flex; flex-direction: column; flex-basis: 100%; flex: 1; padding: 10px; }\n",
       "    </style>\n",
       "<div class=\"wandb-row\"><div class=\"wandb-col\"><h3>Run history:</h3><br/><table class=\"wandb\"><tr><td>Accuracy/Test</td><td>▁</td></tr><tr><td>Accuracy/Validation</td><td>▁▄▄▅▅▅▆▆▆▇▇▇▇▇▇▇▇▇▇▇▇▇▇▇▇███████████████</td></tr><tr><td>Loss/Train</td><td>█▄▃▂▁▁▁▁▁▁▁▁▁▁▁▁▁▁▁▁▁▁▁▁▁▁▁▁▁▁▁▁▁▁▁▁▁▁▁▁</td></tr><tr><td>Loss/Validation</td><td>█▅▄▄▄▃▃▃▃▂▂▂▂▂▂▂▂▂▂▂▁▁▁▁▁▁▁▁▁▁▁▁▁▁▁▁▁▁▁▁</td></tr></table><br/></div><div class=\"wandb-col\"><h3>Run summary:</h3><br/><table class=\"wandb\"><tr><td>Accuracy/Test</td><td>0.817</td></tr><tr><td>Accuracy/Validation</td><td>0.81</td></tr><tr><td>Loss/Train</td><td>0.49158</td></tr><tr><td>Loss/Validation</td><td>0.55636</td></tr></table><br/></div></div>"
      ],
      "text/plain": [
       "<IPython.core.display.HTML object>"
      ]
     },
     "metadata": {},
     "output_type": "display_data"
    },
    {
     "data": {
      "text/html": [
       " View run <strong style=\"color:#cdcd00\">tough-tree-14</strong> at: <a href='https://wandb.ai/semenov-andrei-v/cifar10-head/runs/up8k85ha' target=\"_blank\">https://wandb.ai/semenov-andrei-v/cifar10-head/runs/up8k85ha</a><br/>Synced 6 W&B file(s), 0 media file(s), 0 artifact file(s) and 0 other file(s)"
      ],
      "text/plain": [
       "<IPython.core.display.HTML object>"
      ]
     },
     "metadata": {},
     "output_type": "display_data"
    },
    {
     "data": {
      "text/html": [
       "Find logs at: <code>./wandb/run-20231115_140426-up8k85ha/logs</code>"
      ],
      "text/plain": [
       "<IPython.core.display.HTML object>"
      ]
     },
     "metadata": {},
     "output_type": "display_data"
    }
   ],
   "source": [
    "model.to(device)\n",
    "run = wandb.init(project='cifar10-head', entity='semenov-andrei-v')\n",
    "\n",
    "num_epochs = 40\n",
    "for epoch in range(num_epochs):\n",
    "    model.train()\n",
    "    for batch in tqdm(train_loader_preprocessed, desc=f\"Epoch {epoch + 1}/ {num_epochs}\"):\n",
    "        optimizer.zero_grad()\n",
    "        \n",
    "        inputs, labels = batch\n",
    "        inputs = inputs.to(device)\n",
    "        targets = torch.tensor(labels, dtype=torch.long)\n",
    "        logits = model(**inputs).squeeze(0)\n",
    "        \n",
    "        loss = criterion(logits, targets.to(device))\n",
    "        loss.backward()\n",
    "        optimizer.step()\n",
    "    \n",
    "    model.eval()\n",
    "    val_accuracy, avg_val_loss = val_loss_accuracy(model, val_loader_preprocessed)\n",
    "\n",
    "    wandb.log({\"Loss/Train\": loss.item(), \n",
    "               \"Loss/Validation\": avg_val_loss, \n",
    "               \"Accuracy/Validation\": val_accuracy['accuracy']}\n",
    "             )\n",
    "\n",
    "    print(f\"Epoch {epoch + 1}/{num_epochs}, Loss: {loss.item()}, Validation Accuracy: {val_accuracy}\")\n",
    "\n",
    "model.eval()\n",
    "test_accuracy = get_test_accuracy(model, train_loader_preprocessed)\n",
    "wandb.log({\"Accuracy/Test\": test_accuracy['accuracy']})\n",
    "\n",
    "run.finish()"
   ]
  },
  {
   "cell_type": "markdown",
   "id": "6b72df63-84be-4524-844f-0724002129e1",
   "metadata": {
    "jp-MarkdownHeadingCollapsed": true,
    "tags": []
   },
   "source": [
    "## Training smarter head"
   ]
  },
  {
   "cell_type": "code",
   "execution_count": 36,
   "id": "de0dd881-128d-479e-9a45-e8a3971793cf",
   "metadata": {
    "tags": []
   },
   "outputs": [
    {
     "name": "stdout",
     "output_type": "stream",
     "text": [
      "Number of trainable parameters is: 7500\n"
     ]
    }
   ],
   "source": [
    "model = TuningCLIPsmarterHead(concepts=custom_concepts)\n",
    "optimizer = torch.optim.Adam(model.parameters(), lr=0.001)\n",
    "criterion = nn.CrossEntropyLoss()\n",
    "\n",
    "print(\"Number of trainable parameters is: {}\".format(sum(p.numel() for p in model.parameters() if p.requires_grad == True)))\n",
    "for state in optimizer.state.values():\n",
    "    for k, v in state.items():\n",
    "        if isinstance(v, torch.Tensor):\n",
    "            state[k] = v.to(device)"
   ]
  },
  {
   "cell_type": "code",
   "execution_count": null,
   "id": "72ea42c8-b19d-4c13-a083-e2a9f82b5252",
   "metadata": {
    "tags": []
   },
   "outputs": [
    {
     "data": {
      "text/html": [
       "Tracking run with wandb version 0.16.0"
      ],
      "text/plain": [
       "<IPython.core.display.HTML object>"
      ]
     },
     "metadata": {},
     "output_type": "display_data"
    },
    {
     "data": {
      "text/html": [
       "Run data is saved locally in <code>/home/andreisemenov/wandb/run-20231115_155124-sugfi8k7</code>"
      ],
      "text/plain": [
       "<IPython.core.display.HTML object>"
      ]
     },
     "metadata": {},
     "output_type": "display_data"
    },
    {
     "data": {
      "text/html": [
       "Syncing run <strong><a href='https://wandb.ai/semenov-andrei-v/cifar10-smarter-head/runs/sugfi8k7' target=\"_blank\">fearless-firefly-11</a></strong> to <a href='https://wandb.ai/semenov-andrei-v/cifar10-smarter-head' target=\"_blank\">Weights & Biases</a> (<a href='https://wandb.me/run' target=\"_blank\">docs</a>)<br/>"
      ],
      "text/plain": [
       "<IPython.core.display.HTML object>"
      ]
     },
     "metadata": {},
     "output_type": "display_data"
    },
    {
     "data": {
      "text/html": [
       " View project at <a href='https://wandb.ai/semenov-andrei-v/cifar10-smarter-head' target=\"_blank\">https://wandb.ai/semenov-andrei-v/cifar10-smarter-head</a>"
      ],
      "text/plain": [
       "<IPython.core.display.HTML object>"
      ]
     },
     "metadata": {},
     "output_type": "display_data"
    },
    {
     "data": {
      "text/html": [
       " View run at <a href='https://wandb.ai/semenov-andrei-v/cifar10-smarter-head/runs/sugfi8k7' target=\"_blank\">https://wandb.ai/semenov-andrei-v/cifar10-smarter-head/runs/sugfi8k7</a>"
      ],
      "text/plain": [
       "<IPython.core.display.HTML object>"
      ]
     },
     "metadata": {},
     "output_type": "display_data"
    },
    {
     "data": {
      "application/vnd.jupyter.widget-view+json": {
       "model_id": "4815a394fd36423890e270219fd29122",
       "version_major": 2,
       "version_minor": 0
      },
      "text/plain": [
       "Epoch 1/ 40:   0%|          | 0/1563 [00:00<?, ?it/s]"
      ]
     },
     "metadata": {},
     "output_type": "display_data"
    },
    {
     "data": {
      "application/vnd.jupyter.widget-view+json": {
       "model_id": "3648bd8225cc452c893335a1ab9a486a",
       "version_major": 2,
       "version_minor": 0
      },
      "text/plain": [
       "  0%|          | 0/94 [00:00<?, ?it/s]"
      ]
     },
     "metadata": {},
     "output_type": "display_data"
    },
    {
     "name": "stdout",
     "output_type": "stream",
     "text": [
      "Epoch 1/40, Loss: 0.7203641533851624, Validation Accuracy: {'accuracy': 0.6846666666666666}\n"
     ]
    },
    {
     "data": {
      "application/vnd.jupyter.widget-view+json": {
       "model_id": "db841f3aaabf4a37ba567ba569fba7ff",
       "version_major": 2,
       "version_minor": 0
      },
      "text/plain": [
       "Epoch 2/ 40:   0%|          | 0/1563 [00:00<?, ?it/s]"
      ]
     },
     "metadata": {},
     "output_type": "display_data"
    },
    {
     "data": {
      "application/vnd.jupyter.widget-view+json": {
       "model_id": "d542a4eda7c740e4add42f12d7bc4d39",
       "version_major": 2,
       "version_minor": 0
      },
      "text/plain": [
       "  0%|          | 0/94 [00:00<?, ?it/s]"
      ]
     },
     "metadata": {},
     "output_type": "display_data"
    },
    {
     "name": "stdout",
     "output_type": "stream",
     "text": [
      "Epoch 2/40, Loss: 0.5950812101364136, Validation Accuracy: {'accuracy': 0.7083333333333334}\n"
     ]
    },
    {
     "data": {
      "application/vnd.jupyter.widget-view+json": {
       "model_id": "0672e41bddaa4803b9afdf72f2dba3fd",
       "version_major": 2,
       "version_minor": 0
      },
      "text/plain": [
       "Epoch 3/ 40:   0%|          | 0/1563 [00:00<?, ?it/s]"
      ]
     },
     "metadata": {},
     "output_type": "display_data"
    },
    {
     "data": {
      "application/vnd.jupyter.widget-view+json": {
       "model_id": "a9f32ef6686b4b25ab3ebc0897654e7d",
       "version_major": 2,
       "version_minor": 0
      },
      "text/plain": [
       "  0%|          | 0/94 [00:00<?, ?it/s]"
      ]
     },
     "metadata": {},
     "output_type": "display_data"
    },
    {
     "name": "stdout",
     "output_type": "stream",
     "text": [
      "Epoch 3/40, Loss: 0.6003626585006714, Validation Accuracy: {'accuracy': 0.7226666666666667}\n"
     ]
    },
    {
     "data": {
      "application/vnd.jupyter.widget-view+json": {
       "model_id": "9b434a68f81b406094fc67475cc529a1",
       "version_major": 2,
       "version_minor": 0
      },
      "text/plain": [
       "Epoch 4/ 40:   0%|          | 0/1563 [00:00<?, ?it/s]"
      ]
     },
     "metadata": {},
     "output_type": "display_data"
    },
    {
     "data": {
      "application/vnd.jupyter.widget-view+json": {
       "model_id": "450d15a4f4ad403f97fe8cf40831e448",
       "version_major": 2,
       "version_minor": 0
      },
      "text/plain": [
       "  0%|          | 0/94 [00:00<?, ?it/s]"
      ]
     },
     "metadata": {},
     "output_type": "display_data"
    },
    {
     "name": "stdout",
     "output_type": "stream",
     "text": [
      "Epoch 4/40, Loss: 0.5956344604492188, Validation Accuracy: {'accuracy': 0.74}\n"
     ]
    },
    {
     "data": {
      "application/vnd.jupyter.widget-view+json": {
       "model_id": "be78fdc0c6034df88f74109040a3b801",
       "version_major": 2,
       "version_minor": 0
      },
      "text/plain": [
       "Epoch 5/ 40:   0%|          | 0/1563 [00:00<?, ?it/s]"
      ]
     },
     "metadata": {},
     "output_type": "display_data"
    },
    {
     "data": {
      "application/vnd.jupyter.widget-view+json": {
       "model_id": "a8d0b1ffb8684a4a9744bbb650a5fb3f",
       "version_major": 2,
       "version_minor": 0
      },
      "text/plain": [
       "  0%|          | 0/94 [00:00<?, ?it/s]"
      ]
     },
     "metadata": {},
     "output_type": "display_data"
    },
    {
     "name": "stdout",
     "output_type": "stream",
     "text": [
      "Epoch 5/40, Loss: 0.5947118401527405, Validation Accuracy: {'accuracy': 0.76}\n"
     ]
    },
    {
     "data": {
      "application/vnd.jupyter.widget-view+json": {
       "model_id": "89f68d7a232049bca3c13b22773bf1ae",
       "version_major": 2,
       "version_minor": 0
      },
      "text/plain": [
       "Epoch 6/ 40:   0%|          | 0/1563 [00:00<?, ?it/s]"
      ]
     },
     "metadata": {},
     "output_type": "display_data"
    },
    {
     "data": {
      "application/vnd.jupyter.widget-view+json": {
       "model_id": "d89af75149484fa99661f14c4e69316c",
       "version_major": 2,
       "version_minor": 0
      },
      "text/plain": [
       "  0%|          | 0/94 [00:00<?, ?it/s]"
      ]
     },
     "metadata": {},
     "output_type": "display_data"
    },
    {
     "name": "stdout",
     "output_type": "stream",
     "text": [
      "Epoch 6/40, Loss: 0.5945807099342346, Validation Accuracy: {'accuracy': 0.7756666666666666}\n"
     ]
    },
    {
     "data": {
      "application/vnd.jupyter.widget-view+json": {
       "model_id": "08674449b3fd4a3ab39a0d79159834b1",
       "version_major": 2,
       "version_minor": 0
      },
      "text/plain": [
       "Epoch 7/ 40:   0%|          | 0/1563 [00:00<?, ?it/s]"
      ]
     },
     "metadata": {},
     "output_type": "display_data"
    },
    {
     "data": {
      "application/vnd.jupyter.widget-view+json": {
       "model_id": "36289bc019d94aa8924c33f3d366076c",
       "version_major": 2,
       "version_minor": 0
      },
      "text/plain": [
       "  0%|          | 0/94 [00:00<?, ?it/s]"
      ]
     },
     "metadata": {},
     "output_type": "display_data"
    },
    {
     "name": "stdout",
     "output_type": "stream",
     "text": [
      "Epoch 7/40, Loss: 0.5907315015792847, Validation Accuracy: {'accuracy': 0.783}\n"
     ]
    },
    {
     "data": {
      "application/vnd.jupyter.widget-view+json": {
       "model_id": "2bbfd7a44b5f49cfbb17316c1226b536",
       "version_major": 2,
       "version_minor": 0
      },
      "text/plain": [
       "Epoch 8/ 40:   0%|          | 0/1563 [00:00<?, ?it/s]"
      ]
     },
     "metadata": {},
     "output_type": "display_data"
    },
    {
     "data": {
      "application/vnd.jupyter.widget-view+json": {
       "model_id": "0bf634feb5f24ce5ad7a0f9f6f17028f",
       "version_major": 2,
       "version_minor": 0
      },
      "text/plain": [
       "  0%|          | 0/94 [00:00<?, ?it/s]"
      ]
     },
     "metadata": {},
     "output_type": "display_data"
    },
    {
     "name": "stdout",
     "output_type": "stream",
     "text": [
      "Epoch 8/40, Loss: 0.5827414989471436, Validation Accuracy: {'accuracy': 0.7866666666666666}\n"
     ]
    },
    {
     "data": {
      "application/vnd.jupyter.widget-view+json": {
       "model_id": "cef3318d97614e508373c1887bc38dbe",
       "version_major": 2,
       "version_minor": 0
      },
      "text/plain": [
       "Epoch 9/ 40:   0%|          | 0/1563 [00:00<?, ?it/s]"
      ]
     },
     "metadata": {},
     "output_type": "display_data"
    },
    {
     "data": {
      "application/vnd.jupyter.widget-view+json": {
       "model_id": "9250617997214a3783335f67183003e7",
       "version_major": 2,
       "version_minor": 0
      },
      "text/plain": [
       "  0%|          | 0/94 [00:00<?, ?it/s]"
      ]
     },
     "metadata": {},
     "output_type": "display_data"
    },
    {
     "name": "stdout",
     "output_type": "stream",
     "text": [
      "Epoch 9/40, Loss: 0.5767456293106079, Validation Accuracy: {'accuracy': 0.7903333333333333}\n"
     ]
    },
    {
     "data": {
      "application/vnd.jupyter.widget-view+json": {
       "model_id": "0f2063722c8f45e5ae52b282f4b51ccb",
       "version_major": 2,
       "version_minor": 0
      },
      "text/plain": [
       "Epoch 10/ 40:   0%|          | 0/1563 [00:00<?, ?it/s]"
      ]
     },
     "metadata": {},
     "output_type": "display_data"
    },
    {
     "data": {
      "application/vnd.jupyter.widget-view+json": {
       "model_id": "c03efd7936754bdcafede370323e5241",
       "version_major": 2,
       "version_minor": 0
      },
      "text/plain": [
       "  0%|          | 0/94 [00:00<?, ?it/s]"
      ]
     },
     "metadata": {},
     "output_type": "display_data"
    },
    {
     "name": "stdout",
     "output_type": "stream",
     "text": [
      "Epoch 10/40, Loss: 0.5689659118652344, Validation Accuracy: {'accuracy': 0.7906666666666666}\n"
     ]
    },
    {
     "data": {
      "application/vnd.jupyter.widget-view+json": {
       "model_id": "cc031bc6a2dc4fb2af3aa5c11938b6bb",
       "version_major": 2,
       "version_minor": 0
      },
      "text/plain": [
       "Epoch 11/ 40:   0%|          | 0/1563 [00:00<?, ?it/s]"
      ]
     },
     "metadata": {},
     "output_type": "display_data"
    },
    {
     "data": {
      "application/vnd.jupyter.widget-view+json": {
       "model_id": "107b95ea009f4039a1f3f93b6a4ab51c",
       "version_major": 2,
       "version_minor": 0
      },
      "text/plain": [
       "  0%|          | 0/94 [00:00<?, ?it/s]"
      ]
     },
     "metadata": {},
     "output_type": "display_data"
    },
    {
     "name": "stdout",
     "output_type": "stream",
     "text": [
      "Epoch 11/40, Loss: 0.5637226104736328, Validation Accuracy: {'accuracy': 0.791}\n"
     ]
    },
    {
     "data": {
      "application/vnd.jupyter.widget-view+json": {
       "model_id": "e49426437a4d433fb90b66d453f65bec",
       "version_major": 2,
       "version_minor": 0
      },
      "text/plain": [
       "Epoch 12/ 40:   0%|          | 0/1563 [00:00<?, ?it/s]"
      ]
     },
     "metadata": {},
     "output_type": "display_data"
    },
    {
     "data": {
      "application/vnd.jupyter.widget-view+json": {
       "model_id": "5f7152a73bcf46adbcb5b6042e510a71",
       "version_major": 2,
       "version_minor": 0
      },
      "text/plain": [
       "  0%|          | 0/94 [00:00<?, ?it/s]"
      ]
     },
     "metadata": {},
     "output_type": "display_data"
    },
    {
     "name": "stdout",
     "output_type": "stream",
     "text": [
      "Epoch 12/40, Loss: 0.543840229511261, Validation Accuracy: {'accuracy': 0.791}\n"
     ]
    },
    {
     "data": {
      "application/vnd.jupyter.widget-view+json": {
       "model_id": "10d003c7252b4899bcd4c69f938b8cad",
       "version_major": 2,
       "version_minor": 0
      },
      "text/plain": [
       "Epoch 13/ 40:   0%|          | 0/1563 [00:00<?, ?it/s]"
      ]
     },
     "metadata": {},
     "output_type": "display_data"
    },
    {
     "data": {
      "application/vnd.jupyter.widget-view+json": {
       "model_id": "878ae8d1741f40c7929399cb5d31c8d9",
       "version_major": 2,
       "version_minor": 0
      },
      "text/plain": [
       "  0%|          | 0/94 [00:00<?, ?it/s]"
      ]
     },
     "metadata": {},
     "output_type": "display_data"
    },
    {
     "name": "stdout",
     "output_type": "stream",
     "text": [
      "Epoch 13/40, Loss: 0.545541524887085, Validation Accuracy: {'accuracy': 0.7916666666666666}\n"
     ]
    },
    {
     "data": {
      "application/vnd.jupyter.widget-view+json": {
       "model_id": "cc1b1da904f64f509a7ae4f26da430a3",
       "version_major": 2,
       "version_minor": 0
      },
      "text/plain": [
       "Epoch 14/ 40:   0%|          | 0/1563 [00:00<?, ?it/s]"
      ]
     },
     "metadata": {},
     "output_type": "display_data"
    },
    {
     "data": {
      "application/vnd.jupyter.widget-view+json": {
       "model_id": "d214d591449948fea1d674197159f36b",
       "version_major": 2,
       "version_minor": 0
      },
      "text/plain": [
       "  0%|          | 0/94 [00:00<?, ?it/s]"
      ]
     },
     "metadata": {},
     "output_type": "display_data"
    },
    {
     "name": "stdout",
     "output_type": "stream",
     "text": [
      "Epoch 14/40, Loss: 0.5420042872428894, Validation Accuracy: {'accuracy': 0.7863333333333333}\n"
     ]
    },
    {
     "data": {
      "application/vnd.jupyter.widget-view+json": {
       "model_id": "5970684d634d46578659456fee7caa5c",
       "version_major": 2,
       "version_minor": 0
      },
      "text/plain": [
       "Epoch 15/ 40:   0%|          | 0/1563 [00:00<?, ?it/s]"
      ]
     },
     "metadata": {},
     "output_type": "display_data"
    },
    {
     "data": {
      "application/vnd.jupyter.widget-view+json": {
       "model_id": "272bfaa525b84d0e9322301d4e15e8a8",
       "version_major": 2,
       "version_minor": 0
      },
      "text/plain": [
       "  0%|          | 0/94 [00:00<?, ?it/s]"
      ]
     },
     "metadata": {},
     "output_type": "display_data"
    },
    {
     "name": "stdout",
     "output_type": "stream",
     "text": [
      "Epoch 15/40, Loss: 0.5485018491744995, Validation Accuracy: {'accuracy': 0.7846666666666666}\n"
     ]
    },
    {
     "data": {
      "application/vnd.jupyter.widget-view+json": {
       "model_id": "dae694d450ad4969b0d7980236adbba4",
       "version_major": 2,
       "version_minor": 0
      },
      "text/plain": [
       "Epoch 16/ 40:   0%|          | 0/1563 [00:00<?, ?it/s]"
      ]
     },
     "metadata": {},
     "output_type": "display_data"
    },
    {
     "data": {
      "application/vnd.jupyter.widget-view+json": {
       "model_id": "70a6d04dad4f4968bdc9a3cb5433162a",
       "version_major": 2,
       "version_minor": 0
      },
      "text/plain": [
       "  0%|          | 0/94 [00:00<?, ?it/s]"
      ]
     },
     "metadata": {},
     "output_type": "display_data"
    },
    {
     "name": "stdout",
     "output_type": "stream",
     "text": [
      "Epoch 16/40, Loss: 0.5482114553451538, Validation Accuracy: {'accuracy': 0.7863333333333333}\n"
     ]
    },
    {
     "data": {
      "application/vnd.jupyter.widget-view+json": {
       "model_id": "59b3a20620e44bbd814aac262e0133a0",
       "version_major": 2,
       "version_minor": 0
      },
      "text/plain": [
       "Epoch 17/ 40:   0%|          | 0/1563 [00:00<?, ?it/s]"
      ]
     },
     "metadata": {},
     "output_type": "display_data"
    },
    {
     "data": {
      "application/vnd.jupyter.widget-view+json": {
       "model_id": "68b687a9687445928e1fce3320950aa3",
       "version_major": 2,
       "version_minor": 0
      },
      "text/plain": [
       "  0%|          | 0/94 [00:00<?, ?it/s]"
      ]
     },
     "metadata": {},
     "output_type": "display_data"
    },
    {
     "name": "stdout",
     "output_type": "stream",
     "text": [
      "Epoch 17/40, Loss: 0.5437273383140564, Validation Accuracy: {'accuracy': 0.7886666666666666}\n"
     ]
    },
    {
     "data": {
      "application/vnd.jupyter.widget-view+json": {
       "model_id": "1d669982d26d48039c6ba0a11bfec5fd",
       "version_major": 2,
       "version_minor": 0
      },
      "text/plain": [
       "Epoch 18/ 40:   0%|          | 0/1563 [00:00<?, ?it/s]"
      ]
     },
     "metadata": {},
     "output_type": "display_data"
    },
    {
     "data": {
      "application/vnd.jupyter.widget-view+json": {
       "model_id": "4b3dba76cbce4201acda77765decfec4",
       "version_major": 2,
       "version_minor": 0
      },
      "text/plain": [
       "  0%|          | 0/94 [00:00<?, ?it/s]"
      ]
     },
     "metadata": {},
     "output_type": "display_data"
    },
    {
     "name": "stdout",
     "output_type": "stream",
     "text": [
      "Epoch 18/40, Loss: 0.537867546081543, Validation Accuracy: {'accuracy': 0.789}\n"
     ]
    },
    {
     "data": {
      "application/vnd.jupyter.widget-view+json": {
       "model_id": "8d1a5ff2b89e4d39990013c4a2aa7f36",
       "version_major": 2,
       "version_minor": 0
      },
      "text/plain": [
       "Epoch 19/ 40:   0%|          | 0/1563 [00:00<?, ?it/s]"
      ]
     },
     "metadata": {},
     "output_type": "display_data"
    },
    {
     "data": {
      "application/vnd.jupyter.widget-view+json": {
       "model_id": "ee55b01ee17f4fe6a6be57d5675be52b",
       "version_major": 2,
       "version_minor": 0
      },
      "text/plain": [
       "  0%|          | 0/94 [00:00<?, ?it/s]"
      ]
     },
     "metadata": {},
     "output_type": "display_data"
    },
    {
     "name": "stdout",
     "output_type": "stream",
     "text": [
      "Epoch 19/40, Loss: 0.550273060798645, Validation Accuracy: {'accuracy': 0.7853333333333333}\n"
     ]
    },
    {
     "data": {
      "application/vnd.jupyter.widget-view+json": {
       "model_id": "11d205b0f83a44579221953d7ddacee2",
       "version_major": 2,
       "version_minor": 0
      },
      "text/plain": [
       "Epoch 20/ 40:   0%|          | 0/1563 [00:00<?, ?it/s]"
      ]
     },
     "metadata": {},
     "output_type": "display_data"
    },
    {
     "data": {
      "application/vnd.jupyter.widget-view+json": {
       "model_id": "db5c6e3be907414faebecdba392815c6",
       "version_major": 2,
       "version_minor": 0
      },
      "text/plain": [
       "  0%|          | 0/94 [00:00<?, ?it/s]"
      ]
     },
     "metadata": {},
     "output_type": "display_data"
    },
    {
     "name": "stdout",
     "output_type": "stream",
     "text": [
      "Epoch 20/40, Loss: 0.5396540760993958, Validation Accuracy: {'accuracy': 0.788}\n"
     ]
    },
    {
     "data": {
      "application/vnd.jupyter.widget-view+json": {
       "model_id": "5ed0459cca584a80a1fa4988d98e3974",
       "version_major": 2,
       "version_minor": 0
      },
      "text/plain": [
       "Epoch 21/ 40:   0%|          | 0/1563 [00:00<?, ?it/s]"
      ]
     },
     "metadata": {},
     "output_type": "display_data"
    },
    {
     "data": {
      "application/vnd.jupyter.widget-view+json": {
       "model_id": "a5d5a31d0b974669a3c22a7026f8dac4",
       "version_major": 2,
       "version_minor": 0
      },
      "text/plain": [
       "  0%|          | 0/94 [00:00<?, ?it/s]"
      ]
     },
     "metadata": {},
     "output_type": "display_data"
    },
    {
     "name": "stdout",
     "output_type": "stream",
     "text": [
      "Epoch 21/40, Loss: 0.5421332120895386, Validation Accuracy: {'accuracy': 0.7906666666666666}\n"
     ]
    },
    {
     "data": {
      "application/vnd.jupyter.widget-view+json": {
       "model_id": "42cc11da73e04807b453bda134785210",
       "version_major": 2,
       "version_minor": 0
      },
      "text/plain": [
       "Epoch 22/ 40:   0%|          | 0/1563 [00:00<?, ?it/s]"
      ]
     },
     "metadata": {},
     "output_type": "display_data"
    },
    {
     "data": {
      "application/vnd.jupyter.widget-view+json": {
       "model_id": "8963d998e8964725ba3b7b9e18bea556",
       "version_major": 2,
       "version_minor": 0
      },
      "text/plain": [
       "  0%|          | 0/94 [00:00<?, ?it/s]"
      ]
     },
     "metadata": {},
     "output_type": "display_data"
    },
    {
     "name": "stdout",
     "output_type": "stream",
     "text": [
      "Epoch 22/40, Loss: 0.5485175848007202, Validation Accuracy: {'accuracy': 0.7903333333333333}\n"
     ]
    },
    {
     "data": {
      "application/vnd.jupyter.widget-view+json": {
       "model_id": "f1df90e210b54cfc9ce60ce9c020524a",
       "version_major": 2,
       "version_minor": 0
      },
      "text/plain": [
       "Epoch 23/ 40:   0%|          | 0/1563 [00:00<?, ?it/s]"
      ]
     },
     "metadata": {},
     "output_type": "display_data"
    },
    {
     "data": {
      "application/vnd.jupyter.widget-view+json": {
       "model_id": "446d0b9ec05748929aef4d3a71ece968",
       "version_major": 2,
       "version_minor": 0
      },
      "text/plain": [
       "  0%|          | 0/94 [00:00<?, ?it/s]"
      ]
     },
     "metadata": {},
     "output_type": "display_data"
    },
    {
     "name": "stdout",
     "output_type": "stream",
     "text": [
      "Epoch 23/40, Loss: 0.5629677176475525, Validation Accuracy: {'accuracy': 0.7896666666666666}\n"
     ]
    },
    {
     "data": {
      "application/vnd.jupyter.widget-view+json": {
       "model_id": "a8579392e8034bab93f6eee30f41f161",
       "version_major": 2,
       "version_minor": 0
      },
      "text/plain": [
       "Epoch 24/ 40:   0%|          | 0/1563 [00:00<?, ?it/s]"
      ]
     },
     "metadata": {},
     "output_type": "display_data"
    },
    {
     "data": {
      "application/vnd.jupyter.widget-view+json": {
       "model_id": "aed81f2767a54238ae7b69ae1eed1787",
       "version_major": 2,
       "version_minor": 0
      },
      "text/plain": [
       "  0%|          | 0/94 [00:00<?, ?it/s]"
      ]
     },
     "metadata": {},
     "output_type": "display_data"
    },
    {
     "name": "stdout",
     "output_type": "stream",
     "text": [
      "Epoch 24/40, Loss: 0.5205003023147583, Validation Accuracy: {'accuracy': 0.7943333333333333}\n"
     ]
    },
    {
     "data": {
      "application/vnd.jupyter.widget-view+json": {
       "model_id": "724d43d9b65f43dc8326fd547b843998",
       "version_major": 2,
       "version_minor": 0
      },
      "text/plain": [
       "Epoch 25/ 40:   0%|          | 0/1563 [00:00<?, ?it/s]"
      ]
     },
     "metadata": {},
     "output_type": "display_data"
    },
    {
     "data": {
      "application/vnd.jupyter.widget-view+json": {
       "model_id": "b2914f79e4654b1b846d61bd22c98c87",
       "version_major": 2,
       "version_minor": 0
      },
      "text/plain": [
       "  0%|          | 0/94 [00:00<?, ?it/s]"
      ]
     },
     "metadata": {},
     "output_type": "display_data"
    },
    {
     "name": "stdout",
     "output_type": "stream",
     "text": [
      "Epoch 25/40, Loss: 0.5383443832397461, Validation Accuracy: {'accuracy': 0.791}\n"
     ]
    },
    {
     "data": {
      "application/vnd.jupyter.widget-view+json": {
       "model_id": "ea7c49c2586041ec9755dcc48c3c5525",
       "version_major": 2,
       "version_minor": 0
      },
      "text/plain": [
       "Epoch 26/ 40:   0%|          | 0/1563 [00:00<?, ?it/s]"
      ]
     },
     "metadata": {},
     "output_type": "display_data"
    },
    {
     "data": {
      "application/vnd.jupyter.widget-view+json": {
       "model_id": "836e86b56ea7416da97620576bed0cc2",
       "version_major": 2,
       "version_minor": 0
      },
      "text/plain": [
       "  0%|          | 0/94 [00:00<?, ?it/s]"
      ]
     },
     "metadata": {},
     "output_type": "display_data"
    },
    {
     "name": "stdout",
     "output_type": "stream",
     "text": [
      "Epoch 26/40, Loss: 0.5389748215675354, Validation Accuracy: {'accuracy': 0.791}\n"
     ]
    },
    {
     "data": {
      "application/vnd.jupyter.widget-view+json": {
       "model_id": "f6abf6a3b2ee4d4e8e9252945d96e24c",
       "version_major": 2,
       "version_minor": 0
      },
      "text/plain": [
       "Epoch 27/ 40:   0%|          | 0/1563 [00:00<?, ?it/s]"
      ]
     },
     "metadata": {},
     "output_type": "display_data"
    },
    {
     "data": {
      "application/vnd.jupyter.widget-view+json": {
       "model_id": "88d2bf30c67445c0852ddcbbc29acbde",
       "version_major": 2,
       "version_minor": 0
      },
      "text/plain": [
       "  0%|          | 0/94 [00:00<?, ?it/s]"
      ]
     },
     "metadata": {},
     "output_type": "display_data"
    },
    {
     "name": "stdout",
     "output_type": "stream",
     "text": [
      "Epoch 27/40, Loss: 0.5502119064331055, Validation Accuracy: {'accuracy': 0.798}\n"
     ]
    },
    {
     "data": {
      "application/vnd.jupyter.widget-view+json": {
       "model_id": "2e9a5642d9474ad1b6384ff8c28c076c",
       "version_major": 2,
       "version_minor": 0
      },
      "text/plain": [
       "Epoch 28/ 40:   0%|          | 0/1563 [00:00<?, ?it/s]"
      ]
     },
     "metadata": {},
     "output_type": "display_data"
    },
    {
     "data": {
      "application/vnd.jupyter.widget-view+json": {
       "model_id": "e976d46a1b544e69af72f033904515d6",
       "version_major": 2,
       "version_minor": 0
      },
      "text/plain": [
       "  0%|          | 0/94 [00:00<?, ?it/s]"
      ]
     },
     "metadata": {},
     "output_type": "display_data"
    },
    {
     "name": "stdout",
     "output_type": "stream",
     "text": [
      "Epoch 28/40, Loss: 0.5465656518936157, Validation Accuracy: {'accuracy': 0.7896666666666666}\n"
     ]
    },
    {
     "data": {
      "application/vnd.jupyter.widget-view+json": {
       "model_id": "9d19ba94ef3b4df39217bd6b730ce0f6",
       "version_major": 2,
       "version_minor": 0
      },
      "text/plain": [
       "Epoch 29/ 40:   0%|          | 0/1563 [00:00<?, ?it/s]"
      ]
     },
     "metadata": {},
     "output_type": "display_data"
    },
    {
     "data": {
      "application/vnd.jupyter.widget-view+json": {
       "model_id": "b297a75c7ed244f9ad3a9ddce6a38be6",
       "version_major": 2,
       "version_minor": 0
      },
      "text/plain": [
       "  0%|          | 0/94 [00:00<?, ?it/s]"
      ]
     },
     "metadata": {},
     "output_type": "display_data"
    },
    {
     "name": "stdout",
     "output_type": "stream",
     "text": [
      "Epoch 29/40, Loss: 0.5391364693641663, Validation Accuracy: {'accuracy': 0.7936666666666666}\n"
     ]
    },
    {
     "data": {
      "application/vnd.jupyter.widget-view+json": {
       "model_id": "1084cd28e93b4d1aaedf64b876b815c9",
       "version_major": 2,
       "version_minor": 0
      },
      "text/plain": [
       "Epoch 30/ 40:   0%|          | 0/1563 [00:00<?, ?it/s]"
      ]
     },
     "metadata": {},
     "output_type": "display_data"
    },
    {
     "data": {
      "application/vnd.jupyter.widget-view+json": {
       "model_id": "a51f64b1f44c4ca6a022e47303d77e87",
       "version_major": 2,
       "version_minor": 0
      },
      "text/plain": [
       "  0%|          | 0/94 [00:00<?, ?it/s]"
      ]
     },
     "metadata": {},
     "output_type": "display_data"
    },
    {
     "name": "stdout",
     "output_type": "stream",
     "text": [
      "Epoch 30/40, Loss: 0.5412341952323914, Validation Accuracy: {'accuracy': 0.7966666666666666}\n"
     ]
    },
    {
     "data": {
      "application/vnd.jupyter.widget-view+json": {
       "model_id": "aa42052f2dce4f5a9afb102236e49f46",
       "version_major": 2,
       "version_minor": 0
      },
      "text/plain": [
       "Epoch 31/ 40:   0%|          | 0/1563 [00:00<?, ?it/s]"
      ]
     },
     "metadata": {},
     "output_type": "display_data"
    },
    {
     "data": {
      "application/vnd.jupyter.widget-view+json": {
       "model_id": "782746fd28ea46ad8b6350b88ec8069f",
       "version_major": 2,
       "version_minor": 0
      },
      "text/plain": [
       "  0%|          | 0/94 [00:00<?, ?it/s]"
      ]
     },
     "metadata": {},
     "output_type": "display_data"
    },
    {
     "name": "stdout",
     "output_type": "stream",
     "text": [
      "Epoch 31/40, Loss: 0.5223079323768616, Validation Accuracy: {'accuracy': 0.792}\n"
     ]
    },
    {
     "data": {
      "application/vnd.jupyter.widget-view+json": {
       "model_id": "d311168befce4383b200a98545f5a912",
       "version_major": 2,
       "version_minor": 0
      },
      "text/plain": [
       "Epoch 32/ 40:   0%|          | 0/1563 [00:00<?, ?it/s]"
      ]
     },
     "metadata": {},
     "output_type": "display_data"
    },
    {
     "data": {
      "application/vnd.jupyter.widget-view+json": {
       "model_id": "01daf17511d44d5daa1828a9d49baede",
       "version_major": 2,
       "version_minor": 0
      },
      "text/plain": [
       "  0%|          | 0/94 [00:00<?, ?it/s]"
      ]
     },
     "metadata": {},
     "output_type": "display_data"
    },
    {
     "name": "stdout",
     "output_type": "stream",
     "text": [
      "Epoch 32/40, Loss: 0.5282832384109497, Validation Accuracy: {'accuracy': 0.7973333333333333}\n"
     ]
    },
    {
     "data": {
      "application/vnd.jupyter.widget-view+json": {
       "model_id": "355c3e1aff9d4dccbddb04eafcaa743c",
       "version_major": 2,
       "version_minor": 0
      },
      "text/plain": [
       "Epoch 33/ 40:   0%|          | 0/1563 [00:00<?, ?it/s]"
      ]
     },
     "metadata": {},
     "output_type": "display_data"
    },
    {
     "data": {
      "application/vnd.jupyter.widget-view+json": {
       "model_id": "0df2590853e8474c91e1aba0447b5464",
       "version_major": 2,
       "version_minor": 0
      },
      "text/plain": [
       "  0%|          | 0/94 [00:00<?, ?it/s]"
      ]
     },
     "metadata": {},
     "output_type": "display_data"
    },
    {
     "name": "stdout",
     "output_type": "stream",
     "text": [
      "Epoch 33/40, Loss: 0.5277262926101685, Validation Accuracy: {'accuracy': 0.8033333333333333}\n"
     ]
    },
    {
     "data": {
      "application/vnd.jupyter.widget-view+json": {
       "model_id": "edcd5956f3554b1cb3e71d5df5c8fb51",
       "version_major": 2,
       "version_minor": 0
      },
      "text/plain": [
       "Epoch 34/ 40:   0%|          | 0/1563 [00:00<?, ?it/s]"
      ]
     },
     "metadata": {},
     "output_type": "display_data"
    },
    {
     "data": {
      "application/vnd.jupyter.widget-view+json": {
       "model_id": "90558d92148c4765b0871c74be3338f2",
       "version_major": 2,
       "version_minor": 0
      },
      "text/plain": [
       "  0%|          | 0/94 [00:00<?, ?it/s]"
      ]
     },
     "metadata": {},
     "output_type": "display_data"
    },
    {
     "name": "stdout",
     "output_type": "stream",
     "text": [
      "Epoch 34/40, Loss: 0.5140519142150879, Validation Accuracy: {'accuracy': 0.805}\n"
     ]
    },
    {
     "data": {
      "application/vnd.jupyter.widget-view+json": {
       "model_id": "778de9c947d44a5995e3b4114cd53cdc",
       "version_major": 2,
       "version_minor": 0
      },
      "text/plain": [
       "Epoch 35/ 40:   0%|          | 0/1563 [00:00<?, ?it/s]"
      ]
     },
     "metadata": {},
     "output_type": "display_data"
    },
    {
     "data": {
      "application/vnd.jupyter.widget-view+json": {
       "model_id": "99bc608cdbd5476c821031d67d37f062",
       "version_major": 2,
       "version_minor": 0
      },
      "text/plain": [
       "  0%|          | 0/94 [00:00<?, ?it/s]"
      ]
     },
     "metadata": {},
     "output_type": "display_data"
    },
    {
     "name": "stdout",
     "output_type": "stream",
     "text": [
      "Epoch 35/40, Loss: 0.5540097951889038, Validation Accuracy: {'accuracy': 0.7926666666666666}\n"
     ]
    },
    {
     "data": {
      "application/vnd.jupyter.widget-view+json": {
       "model_id": "0e6a2c7549ac444b8e9b15ff85617e65",
       "version_major": 2,
       "version_minor": 0
      },
      "text/plain": [
       "Epoch 36/ 40:   0%|          | 0/1563 [00:00<?, ?it/s]"
      ]
     },
     "metadata": {},
     "output_type": "display_data"
    },
    {
     "data": {
      "application/vnd.jupyter.widget-view+json": {
       "model_id": "e631a88cce9e43839ba8ec04f8d99a97",
       "version_major": 2,
       "version_minor": 0
      },
      "text/plain": [
       "  0%|          | 0/94 [00:00<?, ?it/s]"
      ]
     },
     "metadata": {},
     "output_type": "display_data"
    },
    {
     "name": "stdout",
     "output_type": "stream",
     "text": [
      "Epoch 36/40, Loss: 0.5384458303451538, Validation Accuracy: {'accuracy': 0.7933333333333333}\n"
     ]
    },
    {
     "data": {
      "application/vnd.jupyter.widget-view+json": {
       "model_id": "8f9dac7b8ec44c23bcc8ad908ca19cd8",
       "version_major": 2,
       "version_minor": 0
      },
      "text/plain": [
       "Epoch 37/ 40:   0%|          | 0/1563 [00:00<?, ?it/s]"
      ]
     },
     "metadata": {},
     "output_type": "display_data"
    },
    {
     "data": {
      "application/vnd.jupyter.widget-view+json": {
       "model_id": "d85341a719c04b88a530c9d9d444f45b",
       "version_major": 2,
       "version_minor": 0
      },
      "text/plain": [
       "  0%|          | 0/94 [00:00<?, ?it/s]"
      ]
     },
     "metadata": {},
     "output_type": "display_data"
    },
    {
     "name": "stdout",
     "output_type": "stream",
     "text": [
      "Epoch 37/40, Loss: 0.5375583171844482, Validation Accuracy: {'accuracy': 0.7893333333333333}\n"
     ]
    },
    {
     "data": {
      "application/vnd.jupyter.widget-view+json": {
       "model_id": "9baed78cfc35471f958982957ac06bad",
       "version_major": 2,
       "version_minor": 0
      },
      "text/plain": [
       "Epoch 38/ 40:   0%|          | 0/1563 [00:00<?, ?it/s]"
      ]
     },
     "metadata": {},
     "output_type": "display_data"
    },
    {
     "data": {
      "application/vnd.jupyter.widget-view+json": {
       "model_id": "c918fc9db0e24cc2a47792c69d6d2f38",
       "version_major": 2,
       "version_minor": 0
      },
      "text/plain": [
       "  0%|          | 0/94 [00:00<?, ?it/s]"
      ]
     },
     "metadata": {},
     "output_type": "display_data"
    },
    {
     "name": "stdout",
     "output_type": "stream",
     "text": [
      "Epoch 38/40, Loss: 0.5673350095748901, Validation Accuracy: {'accuracy': 0.7956666666666666}\n"
     ]
    },
    {
     "data": {
      "application/vnd.jupyter.widget-view+json": {
       "model_id": "9a7e6662144946699fdf8a2eb0d57530",
       "version_major": 2,
       "version_minor": 0
      },
      "text/plain": [
       "Epoch 39/ 40:   0%|          | 0/1563 [00:00<?, ?it/s]"
      ]
     },
     "metadata": {},
     "output_type": "display_data"
    },
    {
     "data": {
      "application/vnd.jupyter.widget-view+json": {
       "model_id": "36a74470cec645a6a1b5b8bf95997baa",
       "version_major": 2,
       "version_minor": 0
      },
      "text/plain": [
       "  0%|          | 0/94 [00:00<?, ?it/s]"
      ]
     },
     "metadata": {},
     "output_type": "display_data"
    },
    {
     "name": "stdout",
     "output_type": "stream",
     "text": [
      "Epoch 39/40, Loss: 0.521165668964386, Validation Accuracy: {'accuracy': 0.8033333333333333}\n"
     ]
    },
    {
     "data": {
      "application/vnd.jupyter.widget-view+json": {
       "model_id": "4ff44cd7742e453a8f1fb1ebbce29ca9",
       "version_major": 2,
       "version_minor": 0
      },
      "text/plain": [
       "Epoch 40/ 40:   0%|          | 0/1563 [00:00<?, ?it/s]"
      ]
     },
     "metadata": {},
     "output_type": "display_data"
    },
    {
     "data": {
      "application/vnd.jupyter.widget-view+json": {
       "model_id": "d5d72017a21c40b8bb33969469a91cb5",
       "version_major": 2,
       "version_minor": 0
      },
      "text/plain": [
       "  0%|          | 0/94 [00:00<?, ?it/s]"
      ]
     },
     "metadata": {},
     "output_type": "display_data"
    },
    {
     "name": "stdout",
     "output_type": "stream",
     "text": [
      "Epoch 40/40, Loss: 0.5174022912979126, Validation Accuracy: {'accuracy': 0.8016666666666666}\n"
     ]
    },
    {
     "data": {
      "application/vnd.jupyter.widget-view+json": {
       "model_id": "e1c972079f524391b227f181bf16c229",
       "version_major": 2,
       "version_minor": 0
      },
      "text/plain": [
       "  0%|          | 0/1563 [00:00<?, ?it/s]"
      ]
     },
     "metadata": {},
     "output_type": "display_data"
    }
   ],
   "source": [
    "model.to(device)\n",
    "run = wandb.init(project='cifar10-smarter-head', entity='semenov-andrei-v')\n",
    "\n",
    "num_epochs = 40\n",
    "for epoch in range(num_epochs):\n",
    "    model.train()\n",
    "    for batch in tqdm(train_loader_preprocessed, desc=f\"Epoch {epoch + 1}/ {num_epochs}\"):\n",
    "        optimizer.zero_grad()\n",
    "        \n",
    "        inputs, labels = batch\n",
    "        inputs = inputs.to(device)\n",
    "        targets = torch.tensor(labels, dtype=torch.long)\n",
    "        logits = model(**inputs).squeeze(0)\n",
    "        \n",
    "        loss = criterion(logits, targets.to(device))\n",
    "        loss.backward()\n",
    "        optimizer.step()\n",
    "    \n",
    "    model.eval()\n",
    "    val_accuracy, avg_val_loss = val_loss_accuracy(model, val_loader_preprocessed)\n",
    "\n",
    "    wandb.log({\"Loss/Train\": loss.item(), \n",
    "               \"Loss/Validation\": avg_val_loss, \n",
    "               \"Accuracy/Validation\": val_accuracy['accuracy']}\n",
    "             )\n",
    "\n",
    "    print(f\"Epoch {epoch + 1}/{num_epochs}, Loss: {loss.item()}, Validation Accuracy: {val_accuracy}\")\n",
    "\n",
    "model.eval()\n",
    "test_accuracy = get_test_accuracy(model, train_loader_preprocessed)\n",
    "wandb.log({\"Accuracy/Test\": test_accuracy['accuracy']})\n",
    "\n",
    "run.finish()"
   ]
  },
  {
   "cell_type": "markdown",
   "id": "061de140-b579-4bbe-a807-5c259a384f55",
   "metadata": {
    "tags": []
   },
   "source": [
    "# Simple head with two loss functions"
   ]
  },
  {
   "cell_type": "code",
   "execution_count": 35,
   "id": "5ee86ce9-fe54-43c7-853c-1ff33b9cd567",
   "metadata": {
    "tags": []
   },
   "outputs": [],
   "source": [
    "torch.cuda.empty_cache()"
   ]
  },
  {
   "cell_type": "code",
   "execution_count": 36,
   "id": "82a6e9ed-f53c-49e4-9823-445ad322bce9",
   "metadata": {
    "tags": []
   },
   "outputs": [
    {
     "name": "stdout",
     "output_type": "stream",
     "text": [
      "Number of trainable parameters is: 1200\n"
     ]
    }
   ],
   "source": [
    "model = TuningCLIPhead()\n",
    "optimizer = torch.optim.Adam(model.parameters(), lr=0.001)\n",
    "criterion = nn.CrossEntropyLoss()\n",
    "\n",
    "print(\"Number of trainable parameters is: {}\".format(sum(p.numel() for p in model.parameters() if p.requires_grad == True)))\n",
    "\n",
    "for state in optimizer.state.values():\n",
    "    for k, v in state.items():\n",
    "        if isinstance(v, torch.Tensor):\n",
    "            state[k] = v.to(device)"
   ]
  },
  {
   "cell_type": "markdown",
   "id": "c9cd9e69-3a73-443f-9243-eebbeb144ee6",
   "metadata": {},
   "source": [
    "new loss function"
   ]
  },
  {
   "cell_type": "code",
   "execution_count": 34,
   "id": "50887de2-fdca-4f71-9415-5947043c0137",
   "metadata": {
    "tags": []
   },
   "outputs": [],
   "source": [
    "def contrastive_loss(logits, dim: int):\n",
    "    neg_ce = torch.diag(F.log_softmax(logits, dim=dim))\n",
    "    return -neg_ce.mean() # set back to -\n",
    "\n",
    "def clip_loss(similarity: torch.Tensor) -> torch.Tensor:\n",
    "    \"\"\"\n",
    "    Args:\n",
    "        similarity: is equal to logits_per_image\n",
    "    \"\"\"\n",
    "    caption_loss = contrastive_loss(similarity, dim=0)\n",
    "    image_loss = contrastive_loss(similarity, dim=1)\n",
    "    return (caption_loss + image_loss) / 2.0"
   ]
  },
  {
   "cell_type": "code",
   "execution_count": 37,
   "id": "8ec4ef81-96a8-4605-a8ce-bebb557bc431",
   "metadata": {
    "tags": []
   },
   "outputs": [
    {
     "data": {
      "text/html": [
       "Tracking run with wandb version 0.16.0"
      ],
      "text/plain": [
       "<IPython.core.display.HTML object>"
      ]
     },
     "metadata": {},
     "output_type": "display_data"
    },
    {
     "data": {
      "text/html": [
       "Run data is saved locally in <code>/home/andreisemenov/wandb/run-20231123_193505-61j32tbr</code>"
      ],
      "text/plain": [
       "<IPython.core.display.HTML object>"
      ]
     },
     "metadata": {},
     "output_type": "display_data"
    },
    {
     "data": {
      "text/html": [
       "Syncing run <strong><a href='https://wandb.ai/semenov-andrei-v/cifar10-head/runs/61j32tbr' target=\"_blank\">fallen-glitter-28</a></strong> to <a href='https://wandb.ai/semenov-andrei-v/cifar10-head' target=\"_blank\">Weights & Biases</a> (<a href='https://wandb.me/run' target=\"_blank\">docs</a>)<br/>"
      ],
      "text/plain": [
       "<IPython.core.display.HTML object>"
      ]
     },
     "metadata": {},
     "output_type": "display_data"
    },
    {
     "data": {
      "text/html": [
       " View project at <a href='https://wandb.ai/semenov-andrei-v/cifar10-head' target=\"_blank\">https://wandb.ai/semenov-andrei-v/cifar10-head</a>"
      ],
      "text/plain": [
       "<IPython.core.display.HTML object>"
      ]
     },
     "metadata": {},
     "output_type": "display_data"
    },
    {
     "data": {
      "text/html": [
       " View run at <a href='https://wandb.ai/semenov-andrei-v/cifar10-head/runs/61j32tbr' target=\"_blank\">https://wandb.ai/semenov-andrei-v/cifar10-head/runs/61j32tbr</a>"
      ],
      "text/plain": [
       "<IPython.core.display.HTML object>"
      ]
     },
     "metadata": {},
     "output_type": "display_data"
    },
    {
     "data": {
      "application/vnd.jupyter.widget-view+json": {
       "model_id": "76a0cee0345747ed8fa1f062e65582c5",
       "version_major": 2,
       "version_minor": 0
      },
      "text/plain": [
       "Epoch 1/ 150:   0%|          | 0/1563 [00:00<?, ?it/s]"
      ]
     },
     "metadata": {},
     "output_type": "display_data"
    },
    {
     "data": {
      "application/vnd.jupyter.widget-view+json": {
       "model_id": "95111f09262945f69d65bc90589a9596",
       "version_major": 2,
       "version_minor": 0
      },
      "text/plain": [
       "  0%|          | 0/94 [00:00<?, ?it/s]"
      ]
     },
     "metadata": {},
     "output_type": "display_data"
    },
    {
     "name": "stdout",
     "output_type": "stream",
     "text": [
      "Epoch 1/150, Training Loss: 6.287978172302246, Validation Loss: 6.629819722885781, Validation Accuracy: {'accuracy': 0.5966666666666667}\n"
     ]
    },
    {
     "data": {
      "application/vnd.jupyter.widget-view+json": {
       "model_id": "b0ed1b6cdb9549b182a46802fa19dfd4",
       "version_major": 2,
       "version_minor": 0
      },
      "text/plain": [
       "Epoch 2/ 150:   0%|          | 0/1563 [00:00<?, ?it/s]"
      ]
     },
     "metadata": {},
     "output_type": "display_data"
    },
    {
     "data": {
      "application/vnd.jupyter.widget-view+json": {
       "model_id": "c33ffd4b75fb456b9e725026765933f1",
       "version_major": 2,
       "version_minor": 0
      },
      "text/plain": [
       "  0%|          | 0/94 [00:00<?, ?it/s]"
      ]
     },
     "metadata": {},
     "output_type": "display_data"
    },
    {
     "name": "stdout",
     "output_type": "stream",
     "text": [
      "Epoch 2/150, Training Loss: 6.169147491455078, Validation Loss: 6.458192480371354, Validation Accuracy: {'accuracy': 0.67}\n"
     ]
    },
    {
     "data": {
      "application/vnd.jupyter.widget-view+json": {
       "model_id": "b63c1376cdff4fb2a0270d14c2a8c91b",
       "version_major": 2,
       "version_minor": 0
      },
      "text/plain": [
       "Epoch 3/ 150:   0%|          | 0/1563 [00:00<?, ?it/s]"
      ]
     },
     "metadata": {},
     "output_type": "display_data"
    },
    {
     "data": {
      "application/vnd.jupyter.widget-view+json": {
       "model_id": "1f0ca44628cd499dbb878d1d7e24e8cf",
       "version_major": 2,
       "version_minor": 0
      },
      "text/plain": [
       "  0%|          | 0/94 [00:00<?, ?it/s]"
      ]
     },
     "metadata": {},
     "output_type": "display_data"
    },
    {
     "name": "stdout",
     "output_type": "stream",
     "text": [
      "Epoch 3/150, Training Loss: 6.164817810058594, Validation Loss: 6.431430882595955, Validation Accuracy: {'accuracy': 0.68}\n"
     ]
    },
    {
     "data": {
      "application/vnd.jupyter.widget-view+json": {
       "model_id": "d19cbd88c1a4480a84e589d3650b7e22",
       "version_major": 2,
       "version_minor": 0
      },
      "text/plain": [
       "Epoch 4/ 150:   0%|          | 0/1563 [00:00<?, ?it/s]"
      ]
     },
     "metadata": {},
     "output_type": "display_data"
    },
    {
     "data": {
      "application/vnd.jupyter.widget-view+json": {
       "model_id": "f99cdc5b92c6459794506d77ee5233ed",
       "version_major": 2,
       "version_minor": 0
      },
      "text/plain": [
       "  0%|          | 0/94 [00:00<?, ?it/s]"
      ]
     },
     "metadata": {},
     "output_type": "display_data"
    },
    {
     "name": "stdout",
     "output_type": "stream",
     "text": [
      "Epoch 4/150, Training Loss: 6.168425559997559, Validation Loss: 6.431413366439495, Validation Accuracy: {'accuracy': 0.6833333333333333}\n"
     ]
    },
    {
     "data": {
      "application/vnd.jupyter.widget-view+json": {
       "model_id": "545c8ec75724440095f081b24954c287",
       "version_major": 2,
       "version_minor": 0
      },
      "text/plain": [
       "Epoch 5/ 150:   0%|          | 0/1563 [00:00<?, ?it/s]"
      ]
     },
     "metadata": {},
     "output_type": "display_data"
    },
    {
     "data": {
      "application/vnd.jupyter.widget-view+json": {
       "model_id": "210c2f6e600c4ccc95ff919a631bb689",
       "version_major": 2,
       "version_minor": 0
      },
      "text/plain": [
       "  0%|          | 0/94 [00:00<?, ?it/s]"
      ]
     },
     "metadata": {},
     "output_type": "display_data"
    },
    {
     "name": "stdout",
     "output_type": "stream",
     "text": [
      "Epoch 5/150, Training Loss: 6.171731948852539, Validation Loss: 6.432331962788359, Validation Accuracy: {'accuracy': 0.69}\n"
     ]
    },
    {
     "data": {
      "application/vnd.jupyter.widget-view+json": {
       "model_id": "8b6af5d18bb74e36b5e4ca052fd33664",
       "version_major": 2,
       "version_minor": 0
      },
      "text/plain": [
       "Epoch 6/ 150:   0%|          | 0/1563 [00:00<?, ?it/s]"
      ]
     },
     "metadata": {},
     "output_type": "display_data"
    },
    {
     "data": {
      "application/vnd.jupyter.widget-view+json": {
       "model_id": "218841cf5e724414bbe0b911ca72efd5",
       "version_major": 2,
       "version_minor": 0
      },
      "text/plain": [
       "  0%|          | 0/94 [00:00<?, ?it/s]"
      ]
     },
     "metadata": {},
     "output_type": "display_data"
    },
    {
     "name": "stdout",
     "output_type": "stream",
     "text": [
      "Epoch 6/150, Training Loss: 6.173544883728027, Validation Loss: 6.427800599564898, Validation Accuracy: {'accuracy': 0.697}\n"
     ]
    },
    {
     "data": {
      "application/vnd.jupyter.widget-view+json": {
       "model_id": "4d63e9f0ad6b4ed1b765d4b99d36bb06",
       "version_major": 2,
       "version_minor": 0
      },
      "text/plain": [
       "Epoch 7/ 150:   0%|          | 0/1563 [00:00<?, ?it/s]"
      ]
     },
     "metadata": {},
     "output_type": "display_data"
    },
    {
     "data": {
      "application/vnd.jupyter.widget-view+json": {
       "model_id": "ea88c8819e2d403f861187b4f11a8bb3",
       "version_major": 2,
       "version_minor": 0
      },
      "text/plain": [
       "  0%|          | 0/94 [00:00<?, ?it/s]"
      ]
     },
     "metadata": {},
     "output_type": "display_data"
    },
    {
     "name": "stdout",
     "output_type": "stream",
     "text": [
      "Epoch 7/150, Training Loss: 6.174279689788818, Validation Loss: 6.413553643733897, Validation Accuracy: {'accuracy': 0.7013333333333334}\n"
     ]
    },
    {
     "data": {
      "application/vnd.jupyter.widget-view+json": {
       "model_id": "ff6729cb20e04f50995c491a344b6962",
       "version_major": 2,
       "version_minor": 0
      },
      "text/plain": [
       "Epoch 8/ 150:   0%|          | 0/1563 [00:00<?, ?it/s]"
      ]
     },
     "metadata": {},
     "output_type": "display_data"
    },
    {
     "data": {
      "application/vnd.jupyter.widget-view+json": {
       "model_id": "69fd50e6060e49ee996cb491fd1dbcb9",
       "version_major": 2,
       "version_minor": 0
      },
      "text/plain": [
       "  0%|          | 0/94 [00:00<?, ?it/s]"
      ]
     },
     "metadata": {},
     "output_type": "display_data"
    },
    {
     "name": "stdout",
     "output_type": "stream",
     "text": [
      "Epoch 8/150, Training Loss: 6.174312114715576, Validation Loss: 6.39849332545666, Validation Accuracy: {'accuracy': 0.7113333333333334}\n"
     ]
    },
    {
     "data": {
      "application/vnd.jupyter.widget-view+json": {
       "model_id": "5b3889f857694ea7a07f28fd470f2f93",
       "version_major": 2,
       "version_minor": 0
      },
      "text/plain": [
       "Epoch 9/ 150:   0%|          | 0/1563 [00:00<?, ?it/s]"
      ]
     },
     "metadata": {},
     "output_type": "display_data"
    },
    {
     "data": {
      "application/vnd.jupyter.widget-view+json": {
       "model_id": "bacad4c5ccfb4f9f9cd8668e61ff4b26",
       "version_major": 2,
       "version_minor": 0
      },
      "text/plain": [
       "  0%|          | 0/94 [00:00<?, ?it/s]"
      ]
     },
     "metadata": {},
     "output_type": "display_data"
    },
    {
     "name": "stdout",
     "output_type": "stream",
     "text": [
      "Epoch 9/150, Training Loss: 6.173724174499512, Validation Loss: 6.3803260072748715, Validation Accuracy: {'accuracy': 0.72}\n"
     ]
    },
    {
     "data": {
      "application/vnd.jupyter.widget-view+json": {
       "model_id": "fa6590cea56647699b919e75402ffddf",
       "version_major": 2,
       "version_minor": 0
      },
      "text/plain": [
       "Epoch 10/ 150:   0%|          | 0/1563 [00:00<?, ?it/s]"
      ]
     },
     "metadata": {},
     "output_type": "display_data"
    },
    {
     "data": {
      "application/vnd.jupyter.widget-view+json": {
       "model_id": "da91499bf7fa4a3dbe1933a095b8a2aa",
       "version_major": 2,
       "version_minor": 0
      },
      "text/plain": [
       "  0%|          | 0/94 [00:00<?, ?it/s]"
      ]
     },
     "metadata": {},
     "output_type": "display_data"
    },
    {
     "name": "stdout",
     "output_type": "stream",
     "text": [
      "Epoch 10/150, Training Loss: 6.172296047210693, Validation Loss: 6.362395565560523, Validation Accuracy: {'accuracy': 0.7283333333333334}\n"
     ]
    },
    {
     "data": {
      "application/vnd.jupyter.widget-view+json": {
       "model_id": "320cdd48daae409fa4c745640cedfc1f",
       "version_major": 2,
       "version_minor": 0
      },
      "text/plain": [
       "Epoch 11/ 150:   0%|          | 0/1563 [00:00<?, ?it/s]"
      ]
     },
     "metadata": {},
     "output_type": "display_data"
    },
    {
     "data": {
      "application/vnd.jupyter.widget-view+json": {
       "model_id": "03c5d2c7969a467389e30356bcfc3ec8",
       "version_major": 2,
       "version_minor": 0
      },
      "text/plain": [
       "  0%|          | 0/94 [00:00<?, ?it/s]"
      ]
     },
     "metadata": {},
     "output_type": "display_data"
    },
    {
     "name": "stdout",
     "output_type": "stream",
     "text": [
      "Epoch 11/150, Training Loss: 6.169850826263428, Validation Loss: 6.3454364665011145, Validation Accuracy: {'accuracy': 0.734}\n"
     ]
    },
    {
     "data": {
      "application/vnd.jupyter.widget-view+json": {
       "model_id": "86da6bcab8d04a599bd0a7d21d9f2933",
       "version_major": 2,
       "version_minor": 0
      },
      "text/plain": [
       "Epoch 12/ 150:   0%|          | 0/1563 [00:00<?, ?it/s]"
      ]
     },
     "metadata": {},
     "output_type": "display_data"
    },
    {
     "data": {
      "application/vnd.jupyter.widget-view+json": {
       "model_id": "b76db084c72142f09e4205ddb27cfe76",
       "version_major": 2,
       "version_minor": 0
      },
      "text/plain": [
       "  0%|          | 0/94 [00:00<?, ?it/s]"
      ]
     },
     "metadata": {},
     "output_type": "display_data"
    },
    {
     "name": "stdout",
     "output_type": "stream",
     "text": [
      "Epoch 12/150, Training Loss: 6.166464805603027, Validation Loss: 6.327026970843051, Validation Accuracy: {'accuracy': 0.7426666666666667}\n"
     ]
    },
    {
     "data": {
      "application/vnd.jupyter.widget-view+json": {
       "model_id": "5abee8c7c93041ef804b1b2a3fe07090",
       "version_major": 2,
       "version_minor": 0
      },
      "text/plain": [
       "Epoch 13/ 150:   0%|          | 0/1563 [00:00<?, ?it/s]"
      ]
     },
     "metadata": {},
     "output_type": "display_data"
    },
    {
     "data": {
      "application/vnd.jupyter.widget-view+json": {
       "model_id": "befd803778c34cca9c5399cff3de2876",
       "version_major": 2,
       "version_minor": 0
      },
      "text/plain": [
       "  0%|          | 0/94 [00:00<?, ?it/s]"
      ]
     },
     "metadata": {},
     "output_type": "display_data"
    },
    {
     "name": "stdout",
     "output_type": "stream",
     "text": [
      "Epoch 13/150, Training Loss: 6.162545204162598, Validation Loss: 6.313199611420327, Validation Accuracy: {'accuracy': 0.7446666666666667}\n"
     ]
    },
    {
     "data": {
      "application/vnd.jupyter.widget-view+json": {
       "model_id": "adfe494dcf7249ef9c5b6e087504e661",
       "version_major": 2,
       "version_minor": 0
      },
      "text/plain": [
       "Epoch 14/ 150:   0%|          | 0/1563 [00:00<?, ?it/s]"
      ]
     },
     "metadata": {},
     "output_type": "display_data"
    },
    {
     "data": {
      "application/vnd.jupyter.widget-view+json": {
       "model_id": "db06b2ffd78b4f5aa0a8b06e520a617e",
       "version_major": 2,
       "version_minor": 0
      },
      "text/plain": [
       "  0%|          | 0/94 [00:00<?, ?it/s]"
      ]
     },
     "metadata": {},
     "output_type": "display_data"
    },
    {
     "name": "stdout",
     "output_type": "stream",
     "text": [
      "Epoch 14/150, Training Loss: 6.158557891845703, Validation Loss: 6.296669087511428, Validation Accuracy: {'accuracy': 0.7526666666666667}\n"
     ]
    },
    {
     "data": {
      "application/vnd.jupyter.widget-view+json": {
       "model_id": "3c1fd40727514fa58faf969f3bf87eac",
       "version_major": 2,
       "version_minor": 0
      },
      "text/plain": [
       "Epoch 15/ 150:   0%|          | 0/1563 [00:00<?, ?it/s]"
      ]
     },
     "metadata": {},
     "output_type": "display_data"
    },
    {
     "data": {
      "application/vnd.jupyter.widget-view+json": {
       "model_id": "4e06905fc2f349dabe62406c08e52ce6",
       "version_major": 2,
       "version_minor": 0
      },
      "text/plain": [
       "  0%|          | 0/94 [00:00<?, ?it/s]"
      ]
     },
     "metadata": {},
     "output_type": "display_data"
    },
    {
     "name": "stdout",
     "output_type": "stream",
     "text": [
      "Epoch 15/150, Training Loss: 6.154724597930908, Validation Loss: 6.2835266285754265, Validation Accuracy: {'accuracy': 0.759}\n"
     ]
    },
    {
     "data": {
      "application/vnd.jupyter.widget-view+json": {
       "model_id": "7d81dbaa08484c019f4bbd9a7c14b927",
       "version_major": 2,
       "version_minor": 0
      },
      "text/plain": [
       "Epoch 16/ 150:   0%|          | 0/1563 [00:00<?, ?it/s]"
      ]
     },
     "metadata": {},
     "output_type": "display_data"
    },
    {
     "data": {
      "application/vnd.jupyter.widget-view+json": {
       "model_id": "49df2dc49f6d42af87e20b0669de01b5",
       "version_major": 2,
       "version_minor": 0
      },
      "text/plain": [
       "  0%|          | 0/94 [00:00<?, ?it/s]"
      ]
     },
     "metadata": {},
     "output_type": "display_data"
    },
    {
     "name": "stdout",
     "output_type": "stream",
     "text": [
      "Epoch 16/150, Training Loss: 6.151095390319824, Validation Loss: 6.272848134345197, Validation Accuracy: {'accuracy': 0.765}\n"
     ]
    },
    {
     "data": {
      "application/vnd.jupyter.widget-view+json": {
       "model_id": "6658dd3024b448c6934543433709666d",
       "version_major": 2,
       "version_minor": 0
      },
      "text/plain": [
       "Epoch 17/ 150:   0%|          | 0/1563 [00:00<?, ?it/s]"
      ]
     },
     "metadata": {},
     "output_type": "display_data"
    },
    {
     "data": {
      "application/vnd.jupyter.widget-view+json": {
       "model_id": "580a2e91f6124d59ae4162adf13708c5",
       "version_major": 2,
       "version_minor": 0
      },
      "text/plain": [
       "  0%|          | 0/94 [00:00<?, ?it/s]"
      ]
     },
     "metadata": {},
     "output_type": "display_data"
    },
    {
     "name": "stdout",
     "output_type": "stream",
     "text": [
      "Epoch 17/150, Training Loss: 6.147675037384033, Validation Loss: 6.2620829673523595, Validation Accuracy: {'accuracy': 0.7693333333333333}\n"
     ]
    },
    {
     "data": {
      "application/vnd.jupyter.widget-view+json": {
       "model_id": "fde477ea97ed4bfeb38da06e606b1e37",
       "version_major": 2,
       "version_minor": 0
      },
      "text/plain": [
       "Epoch 18/ 150:   0%|          | 0/1563 [00:00<?, ?it/s]"
      ]
     },
     "metadata": {},
     "output_type": "display_data"
    },
    {
     "data": {
      "application/vnd.jupyter.widget-view+json": {
       "model_id": "4aa0d47afb9f403989eb6978212bff70",
       "version_major": 2,
       "version_minor": 0
      },
      "text/plain": [
       "  0%|          | 0/94 [00:00<?, ?it/s]"
      ]
     },
     "metadata": {},
     "output_type": "display_data"
    },
    {
     "name": "stdout",
     "output_type": "stream",
     "text": [
      "Epoch 18/150, Training Loss: 6.144469261169434, Validation Loss: 6.253180569790779, Validation Accuracy: {'accuracy': 0.771}\n"
     ]
    },
    {
     "data": {
      "application/vnd.jupyter.widget-view+json": {
       "model_id": "0f5c767100ca448699df817810607fa6",
       "version_major": 2,
       "version_minor": 0
      },
      "text/plain": [
       "Epoch 19/ 150:   0%|          | 0/1563 [00:00<?, ?it/s]"
      ]
     },
     "metadata": {},
     "output_type": "display_data"
    },
    {
     "data": {
      "application/vnd.jupyter.widget-view+json": {
       "model_id": "02150f3f907c4e7b80562b53c76625d8",
       "version_major": 2,
       "version_minor": 0
      },
      "text/plain": [
       "  0%|          | 0/94 [00:00<?, ?it/s]"
      ]
     },
     "metadata": {},
     "output_type": "display_data"
    },
    {
     "name": "stdout",
     "output_type": "stream",
     "text": [
      "Epoch 19/150, Training Loss: 6.141480445861816, Validation Loss: 6.245834710750174, Validation Accuracy: {'accuracy': 0.7733333333333333}\n"
     ]
    },
    {
     "data": {
      "application/vnd.jupyter.widget-view+json": {
       "model_id": "09084b91b62c426aabb740136f33a31e",
       "version_major": 2,
       "version_minor": 0
      },
      "text/plain": [
       "Epoch 20/ 150:   0%|          | 0/1563 [00:00<?, ?it/s]"
      ]
     },
     "metadata": {},
     "output_type": "display_data"
    },
    {
     "data": {
      "application/vnd.jupyter.widget-view+json": {
       "model_id": "484960b02a68467dba693bab4bb15731",
       "version_major": 2,
       "version_minor": 0
      },
      "text/plain": [
       "  0%|          | 0/94 [00:00<?, ?it/s]"
      ]
     },
     "metadata": {},
     "output_type": "display_data"
    },
    {
     "name": "stdout",
     "output_type": "stream",
     "text": [
      "Epoch 20/150, Training Loss: 6.138702392578125, Validation Loss: 6.239683034572195, Validation Accuracy: {'accuracy': 0.7763333333333333}\n"
     ]
    },
    {
     "data": {
      "application/vnd.jupyter.widget-view+json": {
       "model_id": "b4f3f8b98287444c8fad862159472de1",
       "version_major": 2,
       "version_minor": 0
      },
      "text/plain": [
       "Epoch 21/ 150:   0%|          | 0/1563 [00:00<?, ?it/s]"
      ]
     },
     "metadata": {},
     "output_type": "display_data"
    },
    {
     "data": {
      "application/vnd.jupyter.widget-view+json": {
       "model_id": "c0a47857479a49258dc8569e540806b9",
       "version_major": 2,
       "version_minor": 0
      },
      "text/plain": [
       "  0%|          | 0/94 [00:00<?, ?it/s]"
      ]
     },
     "metadata": {},
     "output_type": "display_data"
    },
    {
     "name": "stdout",
     "output_type": "stream",
     "text": [
      "Epoch 21/150, Training Loss: 6.136127471923828, Validation Loss: 6.233277087515973, Validation Accuracy: {'accuracy': 0.779}\n"
     ]
    },
    {
     "data": {
      "application/vnd.jupyter.widget-view+json": {
       "model_id": "a7c5f06e4ff149c7a0d5992207a5e785",
       "version_major": 2,
       "version_minor": 0
      },
      "text/plain": [
       "Epoch 22/ 150:   0%|          | 0/1563 [00:00<?, ?it/s]"
      ]
     },
     "metadata": {},
     "output_type": "display_data"
    },
    {
     "data": {
      "application/vnd.jupyter.widget-view+json": {
       "model_id": "100a3f4dc0b44561811055e52ca886d8",
       "version_major": 2,
       "version_minor": 0
      },
      "text/plain": [
       "  0%|          | 0/94 [00:00<?, ?it/s]"
      ]
     },
     "metadata": {},
     "output_type": "display_data"
    },
    {
     "name": "stdout",
     "output_type": "stream",
     "text": [
      "Epoch 22/150, Training Loss: 6.133737564086914, Validation Loss: 6.228047868038746, Validation Accuracy: {'accuracy': 0.7833333333333333}\n"
     ]
    },
    {
     "data": {
      "application/vnd.jupyter.widget-view+json": {
       "model_id": "0fa73b93fc3044b6b103cbdc51c4609f",
       "version_major": 2,
       "version_minor": 0
      },
      "text/plain": [
       "Epoch 23/ 150:   0%|          | 0/1563 [00:00<?, ?it/s]"
      ]
     },
     "metadata": {},
     "output_type": "display_data"
    },
    {
     "data": {
      "application/vnd.jupyter.widget-view+json": {
       "model_id": "43c9d64a56a346b3b770db654147b3c6",
       "version_major": 2,
       "version_minor": 0
      },
      "text/plain": [
       "  0%|          | 0/94 [00:00<?, ?it/s]"
      ]
     },
     "metadata": {},
     "output_type": "display_data"
    },
    {
     "name": "stdout",
     "output_type": "stream",
     "text": [
      "Epoch 23/150, Training Loss: 6.1315202713012695, Validation Loss: 6.223702466234248, Validation Accuracy: {'accuracy': 0.7856666666666666}\n"
     ]
    },
    {
     "data": {
      "application/vnd.jupyter.widget-view+json": {
       "model_id": "a8f25053e9ef4377a4dff61aa7d828b5",
       "version_major": 2,
       "version_minor": 0
      },
      "text/plain": [
       "Epoch 24/ 150:   0%|          | 0/1563 [00:00<?, ?it/s]"
      ]
     },
     "metadata": {},
     "output_type": "display_data"
    },
    {
     "data": {
      "application/vnd.jupyter.widget-view+json": {
       "model_id": "879c879c2c814962bb46809628a5f575",
       "version_major": 2,
       "version_minor": 0
      },
      "text/plain": [
       "  0%|          | 0/94 [00:00<?, ?it/s]"
      ]
     },
     "metadata": {},
     "output_type": "display_data"
    },
    {
     "name": "stdout",
     "output_type": "stream",
     "text": [
      "Epoch 24/150, Training Loss: 6.129459381103516, Validation Loss: 6.2194253028707305, Validation Accuracy: {'accuracy': 0.7883333333333333}\n"
     ]
    },
    {
     "data": {
      "application/vnd.jupyter.widget-view+json": {
       "model_id": "68236f21317c47a08e0a95ba87d8edbc",
       "version_major": 2,
       "version_minor": 0
      },
      "text/plain": [
       "Epoch 25/ 150:   0%|          | 0/1563 [00:00<?, ?it/s]"
      ]
     },
     "metadata": {},
     "output_type": "display_data"
    },
    {
     "data": {
      "application/vnd.jupyter.widget-view+json": {
       "model_id": "6c460518700b47639b6c47adee7128ba",
       "version_major": 2,
       "version_minor": 0
      },
      "text/plain": [
       "  0%|          | 0/94 [00:00<?, ?it/s]"
      ]
     },
     "metadata": {},
     "output_type": "display_data"
    },
    {
     "name": "stdout",
     "output_type": "stream",
     "text": [
      "Epoch 25/150, Training Loss: 6.127543926239014, Validation Loss: 6.215545294132639, Validation Accuracy: {'accuracy': 0.7893333333333333}\n"
     ]
    },
    {
     "data": {
      "application/vnd.jupyter.widget-view+json": {
       "model_id": "4b910f1b3d21489a8efdbd6f6c9e4f99",
       "version_major": 2,
       "version_minor": 0
      },
      "text/plain": [
       "Epoch 26/ 150:   0%|          | 0/1563 [00:00<?, ?it/s]"
      ]
     },
     "metadata": {},
     "output_type": "display_data"
    },
    {
     "data": {
      "application/vnd.jupyter.widget-view+json": {
       "model_id": "de804b1539334134a7c26d5340ae6ac7",
       "version_major": 2,
       "version_minor": 0
      },
      "text/plain": [
       "  0%|          | 0/94 [00:00<?, ?it/s]"
      ]
     },
     "metadata": {},
     "output_type": "display_data"
    },
    {
     "name": "stdout",
     "output_type": "stream",
     "text": [
      "Epoch 26/150, Training Loss: 6.125760078430176, Validation Loss: 6.212597730311941, Validation Accuracy: {'accuracy': 0.7893333333333333}\n"
     ]
    },
    {
     "data": {
      "application/vnd.jupyter.widget-view+json": {
       "model_id": "069b1ff00af94eef892d63c4945c1fc4",
       "version_major": 2,
       "version_minor": 0
      },
      "text/plain": [
       "Epoch 27/ 150:   0%|          | 0/1563 [00:00<?, ?it/s]"
      ]
     },
     "metadata": {},
     "output_type": "display_data"
    },
    {
     "data": {
      "application/vnd.jupyter.widget-view+json": {
       "model_id": "abb47c93b24349acb98bf781a22204bd",
       "version_major": 2,
       "version_minor": 0
      },
      "text/plain": [
       "  0%|          | 0/94 [00:00<?, ?it/s]"
      ]
     },
     "metadata": {},
     "output_type": "display_data"
    },
    {
     "name": "stdout",
     "output_type": "stream",
     "text": [
      "Epoch 27/150, Training Loss: 6.124096870422363, Validation Loss: 6.208639251424911, Validation Accuracy: {'accuracy': 0.7916666666666666}\n"
     ]
    },
    {
     "data": {
      "application/vnd.jupyter.widget-view+json": {
       "model_id": "96def9b5b383444d9d80cba76e9881d3",
       "version_major": 2,
       "version_minor": 0
      },
      "text/plain": [
       "Epoch 28/ 150:   0%|          | 0/1563 [00:00<?, ?it/s]"
      ]
     },
     "metadata": {},
     "output_type": "display_data"
    },
    {
     "data": {
      "application/vnd.jupyter.widget-view+json": {
       "model_id": "2ab00678bfa4470ba58d6fd6b848b754",
       "version_major": 2,
       "version_minor": 0
      },
      "text/plain": [
       "  0%|          | 0/94 [00:00<?, ?it/s]"
      ]
     },
     "metadata": {},
     "output_type": "display_data"
    },
    {
     "name": "stdout",
     "output_type": "stream",
     "text": [
      "Epoch 28/150, Training Loss: 6.1225481033325195, Validation Loss: 6.205456099611648, Validation Accuracy: {'accuracy': 0.7926666666666666}\n"
     ]
    },
    {
     "data": {
      "application/vnd.jupyter.widget-view+json": {
       "model_id": "11ada27c1eb348b69700ab7b5fac9de0",
       "version_major": 2,
       "version_minor": 0
      },
      "text/plain": [
       "Epoch 29/ 150:   0%|          | 0/1563 [00:00<?, ?it/s]"
      ]
     },
     "metadata": {},
     "output_type": "display_data"
    },
    {
     "data": {
      "application/vnd.jupyter.widget-view+json": {
       "model_id": "98b802947c554497b3024058d7d0d361",
       "version_major": 2,
       "version_minor": 0
      },
      "text/plain": [
       "  0%|          | 0/94 [00:00<?, ?it/s]"
      ]
     },
     "metadata": {},
     "output_type": "display_data"
    },
    {
     "name": "stdout",
     "output_type": "stream",
     "text": [
      "Epoch 29/150, Training Loss: 6.121098518371582, Validation Loss: 6.203381320263477, Validation Accuracy: {'accuracy': 0.7936666666666666}\n"
     ]
    },
    {
     "data": {
      "application/vnd.jupyter.widget-view+json": {
       "model_id": "2a699a5af5734872b83332b147efaaa7",
       "version_major": 2,
       "version_minor": 0
      },
      "text/plain": [
       "Epoch 30/ 150:   0%|          | 0/1563 [00:00<?, ?it/s]"
      ]
     },
     "metadata": {},
     "output_type": "display_data"
    },
    {
     "data": {
      "application/vnd.jupyter.widget-view+json": {
       "model_id": "b78ab5567e7b449c8d71c733526b4ada",
       "version_major": 2,
       "version_minor": 0
      },
      "text/plain": [
       "  0%|          | 0/94 [00:00<?, ?it/s]"
      ]
     },
     "metadata": {},
     "output_type": "display_data"
    },
    {
     "name": "stdout",
     "output_type": "stream",
     "text": [
      "Epoch 30/150, Training Loss: 6.119743824005127, Validation Loss: 6.200816164625452, Validation Accuracy: {'accuracy': 0.795}\n"
     ]
    },
    {
     "data": {
      "application/vnd.jupyter.widget-view+json": {
       "model_id": "a4f1efb850b743c1977ca2df39b9044d",
       "version_major": 2,
       "version_minor": 0
      },
      "text/plain": [
       "Epoch 31/ 150:   0%|          | 0/1563 [00:00<?, ?it/s]"
      ]
     },
     "metadata": {},
     "output_type": "display_data"
    },
    {
     "data": {
      "application/vnd.jupyter.widget-view+json": {
       "model_id": "a51998f2ca8d4bc6b9ba8b810622d528",
       "version_major": 2,
       "version_minor": 0
      },
      "text/plain": [
       "  0%|          | 0/94 [00:00<?, ?it/s]"
      ]
     },
     "metadata": {},
     "output_type": "display_data"
    },
    {
     "name": "stdout",
     "output_type": "stream",
     "text": [
      "Epoch 31/150, Training Loss: 6.118476390838623, Validation Loss: 6.1988503273497235, Validation Accuracy: {'accuracy': 0.7956666666666666}\n"
     ]
    },
    {
     "data": {
      "application/vnd.jupyter.widget-view+json": {
       "model_id": "2a6b129076e4498ba78e317a613cf428",
       "version_major": 2,
       "version_minor": 0
      },
      "text/plain": [
       "Epoch 32/ 150:   0%|          | 0/1563 [00:00<?, ?it/s]"
      ]
     },
     "metadata": {},
     "output_type": "display_data"
    },
    {
     "data": {
      "application/vnd.jupyter.widget-view+json": {
       "model_id": "e2012e4ab4a84404a016d99439ab2654",
       "version_major": 2,
       "version_minor": 0
      },
      "text/plain": [
       "  0%|          | 0/94 [00:00<?, ?it/s]"
      ]
     },
     "metadata": {},
     "output_type": "display_data"
    },
    {
     "name": "stdout",
     "output_type": "stream",
     "text": [
      "Epoch 32/150, Training Loss: 6.117284297943115, Validation Loss: 6.196540107118323, Validation Accuracy: {'accuracy': 0.796}\n"
     ]
    },
    {
     "data": {
      "application/vnd.jupyter.widget-view+json": {
       "model_id": "11a3df9bb3964502b9a1ed503d7f6df8",
       "version_major": 2,
       "version_minor": 0
      },
      "text/plain": [
       "Epoch 33/ 150:   0%|          | 0/1563 [00:00<?, ?it/s]"
      ]
     },
     "metadata": {},
     "output_type": "display_data"
    },
    {
     "data": {
      "application/vnd.jupyter.widget-view+json": {
       "model_id": "28e2fefbfc144daf87a3ba666e4b1435",
       "version_major": 2,
       "version_minor": 0
      },
      "text/plain": [
       "  0%|          | 0/94 [00:00<?, ?it/s]"
      ]
     },
     "metadata": {},
     "output_type": "display_data"
    },
    {
     "name": "stdout",
     "output_type": "stream",
     "text": [
      "Epoch 33/150, Training Loss: 6.116167068481445, Validation Loss: 6.193807754110782, Validation Accuracy: {'accuracy': 0.7966666666666666}\n"
     ]
    },
    {
     "data": {
      "application/vnd.jupyter.widget-view+json": {
       "model_id": "3717697296f1428ebe691da54e895179",
       "version_major": 2,
       "version_minor": 0
      },
      "text/plain": [
       "Epoch 34/ 150:   0%|          | 0/1563 [00:00<?, ?it/s]"
      ]
     },
     "metadata": {},
     "output_type": "display_data"
    },
    {
     "data": {
      "application/vnd.jupyter.widget-view+json": {
       "model_id": "dbdc1dd98ec442dfb317666aaa0f7cc1",
       "version_major": 2,
       "version_minor": 0
      },
      "text/plain": [
       "  0%|          | 0/94 [00:00<?, ?it/s]"
      ]
     },
     "metadata": {},
     "output_type": "display_data"
    },
    {
     "name": "stdout",
     "output_type": "stream",
     "text": [
      "Epoch 34/150, Training Loss: 6.1151123046875, Validation Loss: 6.191469288886862, Validation Accuracy: {'accuracy': 0.7976666666666666}\n"
     ]
    },
    {
     "data": {
      "application/vnd.jupyter.widget-view+json": {
       "model_id": "80c6ce45e8b346e391f51c8c08dfd99a",
       "version_major": 2,
       "version_minor": 0
      },
      "text/plain": [
       "Epoch 35/ 150:   0%|          | 0/1563 [00:00<?, ?it/s]"
      ]
     },
     "metadata": {},
     "output_type": "display_data"
    },
    {
     "data": {
      "application/vnd.jupyter.widget-view+json": {
       "model_id": "836351bb04ba45baa1dd63c9bafdccc5",
       "version_major": 2,
       "version_minor": 0
      },
      "text/plain": [
       "  0%|          | 0/94 [00:00<?, ?it/s]"
      ]
     },
     "metadata": {},
     "output_type": "display_data"
    },
    {
     "name": "stdout",
     "output_type": "stream",
     "text": [
      "Epoch 35/150, Training Loss: 6.1141133308410645, Validation Loss: 6.189499023112845, Validation Accuracy: {'accuracy': 0.7976666666666666}\n"
     ]
    },
    {
     "data": {
      "application/vnd.jupyter.widget-view+json": {
       "model_id": "5e41fb79ad584418a165bc108a3743b4",
       "version_major": 2,
       "version_minor": 0
      },
      "text/plain": [
       "Epoch 36/ 150:   0%|          | 0/1563 [00:00<?, ?it/s]"
      ]
     },
     "metadata": {},
     "output_type": "display_data"
    },
    {
     "data": {
      "application/vnd.jupyter.widget-view+json": {
       "model_id": "574f8bcff13646fea0b78852ffd63f61",
       "version_major": 2,
       "version_minor": 0
      },
      "text/plain": [
       "  0%|          | 0/94 [00:00<?, ?it/s]"
      ]
     },
     "metadata": {},
     "output_type": "display_data"
    },
    {
     "name": "stdout",
     "output_type": "stream",
     "text": [
      "Epoch 36/150, Training Loss: 6.113170146942139, Validation Loss: 6.1881983330909245, Validation Accuracy: {'accuracy': 0.7986666666666666}\n"
     ]
    },
    {
     "data": {
      "application/vnd.jupyter.widget-view+json": {
       "model_id": "be52ed27fd2c4763be88b873a247b3b8",
       "version_major": 2,
       "version_minor": 0
      },
      "text/plain": [
       "Epoch 37/ 150:   0%|          | 0/1563 [00:00<?, ?it/s]"
      ]
     },
     "metadata": {},
     "output_type": "display_data"
    },
    {
     "data": {
      "application/vnd.jupyter.widget-view+json": {
       "model_id": "c8fc6098c2c74661a703629dd4c3fa42",
       "version_major": 2,
       "version_minor": 0
      },
      "text/plain": [
       "  0%|          | 0/94 [00:00<?, ?it/s]"
      ]
     },
     "metadata": {},
     "output_type": "display_data"
    },
    {
     "name": "stdout",
     "output_type": "stream",
     "text": [
      "Epoch 37/150, Training Loss: 6.112269401550293, Validation Loss: 6.18601771111184, Validation Accuracy: {'accuracy': 0.7996666666666666}\n"
     ]
    },
    {
     "data": {
      "application/vnd.jupyter.widget-view+json": {
       "model_id": "4ebd091bd811434e803485b570baa09a",
       "version_major": 2,
       "version_minor": 0
      },
      "text/plain": [
       "Epoch 38/ 150:   0%|          | 0/1563 [00:00<?, ?it/s]"
      ]
     },
     "metadata": {},
     "output_type": "display_data"
    },
    {
     "data": {
      "application/vnd.jupyter.widget-view+json": {
       "model_id": "6abb23508124406b8c26dcacd79c1911",
       "version_major": 2,
       "version_minor": 0
      },
      "text/plain": [
       "  0%|          | 0/94 [00:00<?, ?it/s]"
      ]
     },
     "metadata": {},
     "output_type": "display_data"
    },
    {
     "name": "stdout",
     "output_type": "stream",
     "text": [
      "Epoch 38/150, Training Loss: 6.111414432525635, Validation Loss: 6.183973677614902, Validation Accuracy: {'accuracy': 0.7996666666666666}\n"
     ]
    },
    {
     "data": {
      "application/vnd.jupyter.widget-view+json": {
       "model_id": "3ba433605f8b4585904ad965af908342",
       "version_major": 2,
       "version_minor": 0
      },
      "text/plain": [
       "Epoch 39/ 150:   0%|          | 0/1563 [00:00<?, ?it/s]"
      ]
     },
     "metadata": {},
     "output_type": "display_data"
    },
    {
     "data": {
      "application/vnd.jupyter.widget-view+json": {
       "model_id": "6223410273a64918854836491ee6e871",
       "version_major": 2,
       "version_minor": 0
      },
      "text/plain": [
       "  0%|          | 0/94 [00:00<?, ?it/s]"
      ]
     },
     "metadata": {},
     "output_type": "display_data"
    },
    {
     "name": "stdout",
     "output_type": "stream",
     "text": [
      "Epoch 39/150, Training Loss: 6.110592842102051, Validation Loss: 6.182193583630501, Validation Accuracy: {'accuracy': 0.8}\n"
     ]
    },
    {
     "data": {
      "application/vnd.jupyter.widget-view+json": {
       "model_id": "6e0af677cd6c4f7286ea844c5cc4f9bf",
       "version_major": 2,
       "version_minor": 0
      },
      "text/plain": [
       "Epoch 40/ 150:   0%|          | 0/1563 [00:00<?, ?it/s]"
      ]
     },
     "metadata": {},
     "output_type": "display_data"
    },
    {
     "data": {
      "application/vnd.jupyter.widget-view+json": {
       "model_id": "64ce3b4fb50c49c9a55793be8e6b45c1",
       "version_major": 2,
       "version_minor": 0
      },
      "text/plain": [
       "  0%|          | 0/94 [00:00<?, ?it/s]"
      ]
     },
     "metadata": {},
     "output_type": "display_data"
    },
    {
     "name": "stdout",
     "output_type": "stream",
     "text": [
      "Epoch 40/150, Training Loss: 6.109802722930908, Validation Loss: 6.181458331168966, Validation Accuracy: {'accuracy': 0.8}\n"
     ]
    },
    {
     "data": {
      "application/vnd.jupyter.widget-view+json": {
       "model_id": "3bd9e0d53de04800804ac6629f45c97d",
       "version_major": 2,
       "version_minor": 0
      },
      "text/plain": [
       "Epoch 41/ 150:   0%|          | 0/1563 [00:00<?, ?it/s]"
      ]
     },
     "metadata": {},
     "output_type": "display_data"
    },
    {
     "data": {
      "application/vnd.jupyter.widget-view+json": {
       "model_id": "bfeeecd5ba104779a8f715db31daca2a",
       "version_major": 2,
       "version_minor": 0
      },
      "text/plain": [
       "  0%|          | 0/94 [00:00<?, ?it/s]"
      ]
     },
     "metadata": {},
     "output_type": "display_data"
    },
    {
     "name": "stdout",
     "output_type": "stream",
     "text": [
      "Epoch 41/150, Training Loss: 6.109039306640625, Validation Loss: 6.1791959671264, Validation Accuracy: {'accuracy': 0.7993333333333333}\n"
     ]
    },
    {
     "data": {
      "application/vnd.jupyter.widget-view+json": {
       "model_id": "9e984481d56a4e398151f868cc670b2e",
       "version_major": 2,
       "version_minor": 0
      },
      "text/plain": [
       "Epoch 42/ 150:   0%|          | 0/1563 [00:00<?, ?it/s]"
      ]
     },
     "metadata": {},
     "output_type": "display_data"
    },
    {
     "data": {
      "application/vnd.jupyter.widget-view+json": {
       "model_id": "7ab8c5da89fa412a8dae223fc1aff64a",
       "version_major": 2,
       "version_minor": 0
      },
      "text/plain": [
       "  0%|          | 0/94 [00:00<?, ?it/s]"
      ]
     },
     "metadata": {},
     "output_type": "display_data"
    },
    {
     "name": "stdout",
     "output_type": "stream",
     "text": [
      "Epoch 42/150, Training Loss: 6.108302116394043, Validation Loss: 6.177256675476723, Validation Accuracy: {'accuracy': 0.8003333333333333}\n"
     ]
    },
    {
     "data": {
      "application/vnd.jupyter.widget-view+json": {
       "model_id": "7cbfbf2d71b1406b94ef0d1f03ccf5ed",
       "version_major": 2,
       "version_minor": 0
      },
      "text/plain": [
       "Epoch 43/ 150:   0%|          | 0/1563 [00:00<?, ?it/s]"
      ]
     },
     "metadata": {},
     "output_type": "display_data"
    },
    {
     "data": {
      "application/vnd.jupyter.widget-view+json": {
       "model_id": "26f4265de63c40e6a2ea04fec45e28bb",
       "version_major": 2,
       "version_minor": 0
      },
      "text/plain": [
       "  0%|          | 0/94 [00:00<?, ?it/s]"
      ]
     },
     "metadata": {},
     "output_type": "display_data"
    },
    {
     "name": "stdout",
     "output_type": "stream",
     "text": [
      "Epoch 43/150, Training Loss: 6.107580184936523, Validation Loss: 6.17544842273631, Validation Accuracy: {'accuracy': 0.8016666666666666}\n"
     ]
    },
    {
     "data": {
      "application/vnd.jupyter.widget-view+json": {
       "model_id": "b624c2eee8bd46b88d3b85781535058b",
       "version_major": 2,
       "version_minor": 0
      },
      "text/plain": [
       "Epoch 44/ 150:   0%|          | 0/1563 [00:00<?, ?it/s]"
      ]
     },
     "metadata": {},
     "output_type": "display_data"
    },
    {
     "data": {
      "application/vnd.jupyter.widget-view+json": {
       "model_id": "4531e5d14f994af18f193938a9d6bd20",
       "version_major": 2,
       "version_minor": 0
      },
      "text/plain": [
       "  0%|          | 0/94 [00:00<?, ?it/s]"
      ]
     },
     "metadata": {},
     "output_type": "display_data"
    },
    {
     "name": "stdout",
     "output_type": "stream",
     "text": [
      "Epoch 44/150, Training Loss: 6.106870174407959, Validation Loss: 6.175246654672826, Validation Accuracy: {'accuracy': 0.801}\n"
     ]
    },
    {
     "data": {
      "application/vnd.jupyter.widget-view+json": {
       "model_id": "3f16a5066838452789d475b7314cc4e4",
       "version_major": 2,
       "version_minor": 0
      },
      "text/plain": [
       "Epoch 45/ 150:   0%|          | 0/1563 [00:00<?, ?it/s]"
      ]
     },
     "metadata": {},
     "output_type": "display_data"
    },
    {
     "data": {
      "application/vnd.jupyter.widget-view+json": {
       "model_id": "dc3afba7e090458cae29b72ad926b98d",
       "version_major": 2,
       "version_minor": 0
      },
      "text/plain": [
       "  0%|          | 0/94 [00:00<?, ?it/s]"
      ]
     },
     "metadata": {},
     "output_type": "display_data"
    },
    {
     "name": "stdout",
     "output_type": "stream",
     "text": [
      "Epoch 45/150, Training Loss: 6.106175422668457, Validation Loss: 6.173736785320526, Validation Accuracy: {'accuracy': 0.8016666666666666}\n"
     ]
    },
    {
     "data": {
      "application/vnd.jupyter.widget-view+json": {
       "model_id": "7c0b5f9986f7439e8eab6b6629296d06",
       "version_major": 2,
       "version_minor": 0
      },
      "text/plain": [
       "Epoch 46/ 150:   0%|          | 0/1563 [00:00<?, ?it/s]"
      ]
     },
     "metadata": {},
     "output_type": "display_data"
    },
    {
     "data": {
      "application/vnd.jupyter.widget-view+json": {
       "model_id": "7350da5e95cb4263a585f2d66121c8b2",
       "version_major": 2,
       "version_minor": 0
      },
      "text/plain": [
       "  0%|          | 0/94 [00:00<?, ?it/s]"
      ]
     },
     "metadata": {},
     "output_type": "display_data"
    },
    {
     "name": "stdout",
     "output_type": "stream",
     "text": [
      "Epoch 46/150, Training Loss: 6.105489730834961, Validation Loss: 6.1723438425267, Validation Accuracy: {'accuracy': 0.8026666666666666}\n"
     ]
    },
    {
     "data": {
      "application/vnd.jupyter.widget-view+json": {
       "model_id": "6a3c3e9caef748da93fbb008330e7948",
       "version_major": 2,
       "version_minor": 0
      },
      "text/plain": [
       "Epoch 47/ 150:   0%|          | 0/1563 [00:00<?, ?it/s]"
      ]
     },
     "metadata": {},
     "output_type": "display_data"
    },
    {
     "data": {
      "application/vnd.jupyter.widget-view+json": {
       "model_id": "21c84007ca0c45d582ff217e1a1b3ab0",
       "version_major": 2,
       "version_minor": 0
      },
      "text/plain": [
       "  0%|          | 0/94 [00:00<?, ?it/s]"
      ]
     },
     "metadata": {},
     "output_type": "display_data"
    },
    {
     "name": "stdout",
     "output_type": "stream",
     "text": [
      "Epoch 47/150, Training Loss: 6.104801654815674, Validation Loss: 6.171290209952821, Validation Accuracy: {'accuracy': 0.8036666666666666}\n"
     ]
    },
    {
     "data": {
      "application/vnd.jupyter.widget-view+json": {
       "model_id": "06f549d51edb4e8cb21754b031893749",
       "version_major": 2,
       "version_minor": 0
      },
      "text/plain": [
       "Epoch 48/ 150:   0%|          | 0/1563 [00:00<?, ?it/s]"
      ]
     },
     "metadata": {},
     "output_type": "display_data"
    },
    {
     "data": {
      "application/vnd.jupyter.widget-view+json": {
       "model_id": "d31f05f3bc7e430dbd1e093c90352822",
       "version_major": 2,
       "version_minor": 0
      },
      "text/plain": [
       "  0%|          | 0/94 [00:00<?, ?it/s]"
      ]
     },
     "metadata": {},
     "output_type": "display_data"
    },
    {
     "name": "stdout",
     "output_type": "stream",
     "text": [
      "Epoch 48/150, Training Loss: 6.104116916656494, Validation Loss: 6.1696518025499705, Validation Accuracy: {'accuracy': 0.8043333333333333}\n"
     ]
    },
    {
     "data": {
      "application/vnd.jupyter.widget-view+json": {
       "model_id": "1f4adb1bbeb54b96b1dc8b932fc8b2b5",
       "version_major": 2,
       "version_minor": 0
      },
      "text/plain": [
       "Epoch 49/ 150:   0%|          | 0/1563 [00:00<?, ?it/s]"
      ]
     },
     "metadata": {},
     "output_type": "display_data"
    },
    {
     "data": {
      "application/vnd.jupyter.widget-view+json": {
       "model_id": "f77f6b9a3ab842268b38460ba21e9d76",
       "version_major": 2,
       "version_minor": 0
      },
      "text/plain": [
       "  0%|          | 0/94 [00:00<?, ?it/s]"
      ]
     },
     "metadata": {},
     "output_type": "display_data"
    },
    {
     "name": "stdout",
     "output_type": "stream",
     "text": [
      "Epoch 49/150, Training Loss: 6.1034345626831055, Validation Loss: 6.168808353708146, Validation Accuracy: {'accuracy': 0.804}\n"
     ]
    },
    {
     "data": {
      "application/vnd.jupyter.widget-view+json": {
       "model_id": "cb806da659d14fa5ab83081f877a2c1c",
       "version_major": 2,
       "version_minor": 0
      },
      "text/plain": [
       "Epoch 50/ 150:   0%|          | 0/1563 [00:00<?, ?it/s]"
      ]
     },
     "metadata": {},
     "output_type": "display_data"
    },
    {
     "data": {
      "application/vnd.jupyter.widget-view+json": {
       "model_id": "a9f85f36f2f5464c80d717464533606c",
       "version_major": 2,
       "version_minor": 0
      },
      "text/plain": [
       "  0%|          | 0/94 [00:00<?, ?it/s]"
      ]
     },
     "metadata": {},
     "output_type": "display_data"
    },
    {
     "name": "stdout",
     "output_type": "stream",
     "text": [
      "Epoch 50/150, Training Loss: 6.102749347686768, Validation Loss: 6.167710623842605, Validation Accuracy: {'accuracy': 0.8043333333333333}\n"
     ]
    },
    {
     "data": {
      "application/vnd.jupyter.widget-view+json": {
       "model_id": "45d7dadac33742de957e36063ed12617",
       "version_major": 2,
       "version_minor": 0
      },
      "text/plain": [
       "Epoch 51/ 150:   0%|          | 0/1563 [00:00<?, ?it/s]"
      ]
     },
     "metadata": {},
     "output_type": "display_data"
    },
    {
     "data": {
      "application/vnd.jupyter.widget-view+json": {
       "model_id": "ccbfa1e18b004d649960b321d85639cf",
       "version_major": 2,
       "version_minor": 0
      },
      "text/plain": [
       "  0%|          | 0/94 [00:00<?, ?it/s]"
      ]
     },
     "metadata": {},
     "output_type": "display_data"
    },
    {
     "name": "stdout",
     "output_type": "stream",
     "text": [
      "Epoch 51/150, Training Loss: 6.102059364318848, Validation Loss: 6.167354015593833, Validation Accuracy: {'accuracy': 0.803}\n"
     ]
    },
    {
     "data": {
      "application/vnd.jupyter.widget-view+json": {
       "model_id": "487b9f4459a7440da3b877a5beec7d99",
       "version_major": 2,
       "version_minor": 0
      },
      "text/plain": [
       "Epoch 52/ 150:   0%|          | 0/1563 [00:00<?, ?it/s]"
      ]
     },
     "metadata": {},
     "output_type": "display_data"
    },
    {
     "data": {
      "application/vnd.jupyter.widget-view+json": {
       "model_id": "6d7f3fe314fd4401a31d5cef67218911",
       "version_major": 2,
       "version_minor": 0
      },
      "text/plain": [
       "  0%|          | 0/94 [00:00<?, ?it/s]"
      ]
     },
     "metadata": {},
     "output_type": "display_data"
    },
    {
     "name": "stdout",
     "output_type": "stream",
     "text": [
      "Epoch 52/150, Training Loss: 6.1013593673706055, Validation Loss: 6.165634353110131, Validation Accuracy: {'accuracy': 0.8046666666666666}\n"
     ]
    },
    {
     "data": {
      "application/vnd.jupyter.widget-view+json": {
       "model_id": "55eb5d81b8ec49ca86d31cb6eea5eb42",
       "version_major": 2,
       "version_minor": 0
      },
      "text/plain": [
       "Epoch 53/ 150:   0%|          | 0/1563 [00:00<?, ?it/s]"
      ]
     },
     "metadata": {},
     "output_type": "display_data"
    },
    {
     "data": {
      "application/vnd.jupyter.widget-view+json": {
       "model_id": "1b7c29ac851443b895153aad3181c9f6",
       "version_major": 2,
       "version_minor": 0
      },
      "text/plain": [
       "  0%|          | 0/94 [00:00<?, ?it/s]"
      ]
     },
     "metadata": {},
     "output_type": "display_data"
    },
    {
     "name": "stdout",
     "output_type": "stream",
     "text": [
      "Epoch 53/150, Training Loss: 6.100650787353516, Validation Loss: 6.164855916449365, Validation Accuracy: {'accuracy': 0.805}\n"
     ]
    },
    {
     "data": {
      "application/vnd.jupyter.widget-view+json": {
       "model_id": "64d9fbe8b2a646f88091d1362c71bb75",
       "version_major": 2,
       "version_minor": 0
      },
      "text/plain": [
       "Epoch 54/ 150:   0%|          | 0/1563 [00:00<?, ?it/s]"
      ]
     },
     "metadata": {},
     "output_type": "display_data"
    },
    {
     "data": {
      "application/vnd.jupyter.widget-view+json": {
       "model_id": "47f332651570446c828d15c9db01f025",
       "version_major": 2,
       "version_minor": 0
      },
      "text/plain": [
       "  0%|          | 0/94 [00:00<?, ?it/s]"
      ]
     },
     "metadata": {},
     "output_type": "display_data"
    },
    {
     "name": "stdout",
     "output_type": "stream",
     "text": [
      "Epoch 54/150, Training Loss: 6.099936008453369, Validation Loss: 6.163882925155315, Validation Accuracy: {'accuracy': 0.805}\n"
     ]
    },
    {
     "data": {
      "application/vnd.jupyter.widget-view+json": {
       "model_id": "a34c895555f3451babeeae4c3b46d9f1",
       "version_major": 2,
       "version_minor": 0
      },
      "text/plain": [
       "Epoch 55/ 150:   0%|          | 0/1563 [00:00<?, ?it/s]"
      ]
     },
     "metadata": {},
     "output_type": "display_data"
    },
    {
     "data": {
      "application/vnd.jupyter.widget-view+json": {
       "model_id": "56583d8314654409bb34f1c761dd1406",
       "version_major": 2,
       "version_minor": 0
      },
      "text/plain": [
       "  0%|          | 0/94 [00:00<?, ?it/s]"
      ]
     },
     "metadata": {},
     "output_type": "display_data"
    },
    {
     "name": "stdout",
     "output_type": "stream",
     "text": [
      "Epoch 55/150, Training Loss: 6.099207401275635, Validation Loss: 6.1633491921932135, Validation Accuracy: {'accuracy': 0.8066666666666666}\n"
     ]
    },
    {
     "data": {
      "application/vnd.jupyter.widget-view+json": {
       "model_id": "a1aa8d6f8f074f30b46ff63de96ee020",
       "version_major": 2,
       "version_minor": 0
      },
      "text/plain": [
       "Epoch 56/ 150:   0%|          | 0/1563 [00:00<?, ?it/s]"
      ]
     },
     "metadata": {},
     "output_type": "display_data"
    },
    {
     "data": {
      "application/vnd.jupyter.widget-view+json": {
       "model_id": "a35deebde6e84ba7a6d2756b12bf6086",
       "version_major": 2,
       "version_minor": 0
      },
      "text/plain": [
       "  0%|          | 0/94 [00:00<?, ?it/s]"
      ]
     },
     "metadata": {},
     "output_type": "display_data"
    },
    {
     "name": "stdout",
     "output_type": "stream",
     "text": [
      "Epoch 56/150, Training Loss: 6.098466873168945, Validation Loss: 6.161704575761836, Validation Accuracy: {'accuracy': 0.8073333333333333}\n"
     ]
    },
    {
     "data": {
      "application/vnd.jupyter.widget-view+json": {
       "model_id": "e0bf9985b0b14bd8952b861d174a24ff",
       "version_major": 2,
       "version_minor": 0
      },
      "text/plain": [
       "Epoch 57/ 150:   0%|          | 0/1563 [00:00<?, ?it/s]"
      ]
     },
     "metadata": {},
     "output_type": "display_data"
    },
    {
     "data": {
      "application/vnd.jupyter.widget-view+json": {
       "model_id": "94c43def8090438092f16df7a95a29da",
       "version_major": 2,
       "version_minor": 0
      },
      "text/plain": [
       "  0%|          | 0/94 [00:00<?, ?it/s]"
      ]
     },
     "metadata": {},
     "output_type": "display_data"
    },
    {
     "name": "stdout",
     "output_type": "stream",
     "text": [
      "Epoch 57/150, Training Loss: 6.097711563110352, Validation Loss: 6.160367433060991, Validation Accuracy: {'accuracy': 0.8076666666666666}\n"
     ]
    },
    {
     "data": {
      "application/vnd.jupyter.widget-view+json": {
       "model_id": "1ac2e38adf374da1a71bc2f1ab24f2fa",
       "version_major": 2,
       "version_minor": 0
      },
      "text/plain": [
       "Epoch 58/ 150:   0%|          | 0/1563 [00:00<?, ?it/s]"
      ]
     },
     "metadata": {},
     "output_type": "display_data"
    },
    {
     "data": {
      "application/vnd.jupyter.widget-view+json": {
       "model_id": "5540f69f94f747029808c905e9ff27f7",
       "version_major": 2,
       "version_minor": 0
      },
      "text/plain": [
       "  0%|          | 0/94 [00:00<?, ?it/s]"
      ]
     },
     "metadata": {},
     "output_type": "display_data"
    },
    {
     "name": "stdout",
     "output_type": "stream",
     "text": [
      "Epoch 58/150, Training Loss: 6.096948146820068, Validation Loss: 6.160299970748577, Validation Accuracy: {'accuracy': 0.807}\n"
     ]
    },
    {
     "data": {
      "application/vnd.jupyter.widget-view+json": {
       "model_id": "371a74e2013745c7ac6daf1ef3300030",
       "version_major": 2,
       "version_minor": 0
      },
      "text/plain": [
       "Epoch 59/ 150:   0%|          | 0/1563 [00:00<?, ?it/s]"
      ]
     },
     "metadata": {},
     "output_type": "display_data"
    },
    {
     "data": {
      "application/vnd.jupyter.widget-view+json": {
       "model_id": "40084ff3aabf4cb5b029b63ff8743c2a",
       "version_major": 2,
       "version_minor": 0
      },
      "text/plain": [
       "  0%|          | 0/94 [00:00<?, ?it/s]"
      ]
     },
     "metadata": {},
     "output_type": "display_data"
    },
    {
     "name": "stdout",
     "output_type": "stream",
     "text": [
      "Epoch 59/150, Training Loss: 6.096166610717773, Validation Loss: 6.158820294319315, Validation Accuracy: {'accuracy': 0.8066666666666666}\n"
     ]
    },
    {
     "data": {
      "application/vnd.jupyter.widget-view+json": {
       "model_id": "eb9797614b15435a9e5b4c87a84aa85c",
       "version_major": 2,
       "version_minor": 0
      },
      "text/plain": [
       "Epoch 60/ 150:   0%|          | 0/1563 [00:00<?, ?it/s]"
      ]
     },
     "metadata": {},
     "output_type": "display_data"
    },
    {
     "data": {
      "application/vnd.jupyter.widget-view+json": {
       "model_id": "f857bcf6c28c46b4b4cd4dc01f4f2fa1",
       "version_major": 2,
       "version_minor": 0
      },
      "text/plain": [
       "  0%|          | 0/94 [00:00<?, ?it/s]"
      ]
     },
     "metadata": {},
     "output_type": "display_data"
    },
    {
     "name": "stdout",
     "output_type": "stream",
     "text": [
      "Epoch 60/150, Training Loss: 6.095372200012207, Validation Loss: 6.158727615437609, Validation Accuracy: {'accuracy': 0.8083333333333333}\n"
     ]
    },
    {
     "data": {
      "application/vnd.jupyter.widget-view+json": {
       "model_id": "993d3dc82d464fae94f4c6323232d478",
       "version_major": 2,
       "version_minor": 0
      },
      "text/plain": [
       "Epoch 61/ 150:   0%|          | 0/1563 [00:00<?, ?it/s]"
      ]
     },
     "metadata": {},
     "output_type": "display_data"
    },
    {
     "data": {
      "application/vnd.jupyter.widget-view+json": {
       "model_id": "56c7b35e54f744acbb2581be2f216290",
       "version_major": 2,
       "version_minor": 0
      },
      "text/plain": [
       "  0%|          | 0/94 [00:00<?, ?it/s]"
      ]
     },
     "metadata": {},
     "output_type": "display_data"
    },
    {
     "name": "stdout",
     "output_type": "stream",
     "text": [
      "Epoch 61/150, Training Loss: 6.094562530517578, Validation Loss: 6.156923288994647, Validation Accuracy: {'accuracy': 0.8083333333333333}\n"
     ]
    },
    {
     "data": {
      "application/vnd.jupyter.widget-view+json": {
       "model_id": "d21cc9ae095e4cce8ae24b415df6ab86",
       "version_major": 2,
       "version_minor": 0
      },
      "text/plain": [
       "Epoch 62/ 150:   0%|          | 0/1563 [00:00<?, ?it/s]"
      ]
     },
     "metadata": {},
     "output_type": "display_data"
    },
    {
     "data": {
      "application/vnd.jupyter.widget-view+json": {
       "model_id": "cbc902f1380d408ca4a86aaf14e0feb7",
       "version_major": 2,
       "version_minor": 0
      },
      "text/plain": [
       "  0%|          | 0/94 [00:00<?, ?it/s]"
      ]
     },
     "metadata": {},
     "output_type": "display_data"
    },
    {
     "name": "stdout",
     "output_type": "stream",
     "text": [
      "Epoch 62/150, Training Loss: 6.093735694885254, Validation Loss: 6.156703669974145, Validation Accuracy: {'accuracy': 0.809}\n"
     ]
    },
    {
     "data": {
      "application/vnd.jupyter.widget-view+json": {
       "model_id": "8bbd7dbf7e0b45f98f58f199445882c6",
       "version_major": 2,
       "version_minor": 0
      },
      "text/plain": [
       "Epoch 63/ 150:   0%|          | 0/1563 [00:00<?, ?it/s]"
      ]
     },
     "metadata": {},
     "output_type": "display_data"
    },
    {
     "data": {
      "application/vnd.jupyter.widget-view+json": {
       "model_id": "f6a0c6d801f542e6a3d78d9a426b6513",
       "version_major": 2,
       "version_minor": 0
      },
      "text/plain": [
       "  0%|          | 0/94 [00:00<?, ?it/s]"
      ]
     },
     "metadata": {},
     "output_type": "display_data"
    },
    {
     "name": "stdout",
     "output_type": "stream",
     "text": [
      "Epoch 63/150, Training Loss: 6.092894077301025, Validation Loss: 6.155585568001929, Validation Accuracy: {'accuracy': 0.809}\n"
     ]
    },
    {
     "data": {
      "application/vnd.jupyter.widget-view+json": {
       "model_id": "7e6c9138294b4297a65a1dbe8830417d",
       "version_major": 2,
       "version_minor": 0
      },
      "text/plain": [
       "Epoch 64/ 150:   0%|          | 0/1563 [00:00<?, ?it/s]"
      ]
     },
     "metadata": {},
     "output_type": "display_data"
    },
    {
     "data": {
      "application/vnd.jupyter.widget-view+json": {
       "model_id": "d847c54e11674f3bba2f23311b3d2073",
       "version_major": 2,
       "version_minor": 0
      },
      "text/plain": [
       "  0%|          | 0/94 [00:00<?, ?it/s]"
      ]
     },
     "metadata": {},
     "output_type": "display_data"
    },
    {
     "name": "stdout",
     "output_type": "stream",
     "text": [
      "Epoch 64/150, Training Loss: 6.092036724090576, Validation Loss: 6.154849067647406, Validation Accuracy: {'accuracy': 0.8083333333333333}\n"
     ]
    },
    {
     "data": {
      "application/vnd.jupyter.widget-view+json": {
       "model_id": "87a351a520694b6fb902e45e7822367f",
       "version_major": 2,
       "version_minor": 0
      },
      "text/plain": [
       "Epoch 65/ 150:   0%|          | 0/1563 [00:00<?, ?it/s]"
      ]
     },
     "metadata": {},
     "output_type": "display_data"
    },
    {
     "data": {
      "application/vnd.jupyter.widget-view+json": {
       "model_id": "367b3b968d454aea9d06c865d77bce43",
       "version_major": 2,
       "version_minor": 0
      },
      "text/plain": [
       "  0%|          | 0/94 [00:00<?, ?it/s]"
      ]
     },
     "metadata": {},
     "output_type": "display_data"
    },
    {
     "name": "stdout",
     "output_type": "stream",
     "text": [
      "Epoch 65/150, Training Loss: 6.091165065765381, Validation Loss: 6.153898071735464, Validation Accuracy: {'accuracy': 0.8093333333333333}\n"
     ]
    },
    {
     "data": {
      "application/vnd.jupyter.widget-view+json": {
       "model_id": "a1734cf9f58f4a10869ead252be1837b",
       "version_major": 2,
       "version_minor": 0
      },
      "text/plain": [
       "Epoch 66/ 150:   0%|          | 0/1563 [00:00<?, ?it/s]"
      ]
     },
     "metadata": {},
     "output_type": "display_data"
    },
    {
     "data": {
      "application/vnd.jupyter.widget-view+json": {
       "model_id": "cc9fb1564f4f490189f09d24a401b91f",
       "version_major": 2,
       "version_minor": 0
      },
      "text/plain": [
       "  0%|          | 0/94 [00:00<?, ?it/s]"
      ]
     },
     "metadata": {},
     "output_type": "display_data"
    },
    {
     "name": "stdout",
     "output_type": "stream",
     "text": [
      "Epoch 66/150, Training Loss: 6.090278625488281, Validation Loss: 6.154345410935422, Validation Accuracy: {'accuracy': 0.8083333333333333}\n"
     ]
    },
    {
     "data": {
      "application/vnd.jupyter.widget-view+json": {
       "model_id": "e3d64098ca4740d084ee8e7bf49d7455",
       "version_major": 2,
       "version_minor": 0
      },
      "text/plain": [
       "Epoch 67/ 150:   0%|          | 0/1563 [00:00<?, ?it/s]"
      ]
     },
     "metadata": {},
     "output_type": "display_data"
    },
    {
     "data": {
      "application/vnd.jupyter.widget-view+json": {
       "model_id": "66150ab93def44ceaad04d6d524d748d",
       "version_major": 2,
       "version_minor": 0
      },
      "text/plain": [
       "  0%|          | 0/94 [00:00<?, ?it/s]"
      ]
     },
     "metadata": {},
     "output_type": "display_data"
    },
    {
     "name": "stdout",
     "output_type": "stream",
     "text": [
      "Epoch 67/150, Training Loss: 6.08937931060791, Validation Loss: 6.1525781357542, Validation Accuracy: {'accuracy': 0.81}\n"
     ]
    },
    {
     "data": {
      "application/vnd.jupyter.widget-view+json": {
       "model_id": "0aa4416cdba94b0a98be64182bcd1459",
       "version_major": 2,
       "version_minor": 0
      },
      "text/plain": [
       "Epoch 68/ 150:   0%|          | 0/1563 [00:00<?, ?it/s]"
      ]
     },
     "metadata": {},
     "output_type": "display_data"
    },
    {
     "data": {
      "application/vnd.jupyter.widget-view+json": {
       "model_id": "f7d28bb0dc42405a85e8bf38bce3016a",
       "version_major": 2,
       "version_minor": 0
      },
      "text/plain": [
       "  0%|          | 0/94 [00:00<?, ?it/s]"
      ]
     },
     "metadata": {},
     "output_type": "display_data"
    },
    {
     "name": "stdout",
     "output_type": "stream",
     "text": [
      "Epoch 68/150, Training Loss: 6.08846378326416, Validation Loss: 6.151742022088233, Validation Accuracy: {'accuracy': 0.8096666666666666}\n"
     ]
    },
    {
     "data": {
      "application/vnd.jupyter.widget-view+json": {
       "model_id": "6e90518987bf4011858eca0643bdab37",
       "version_major": 2,
       "version_minor": 0
      },
      "text/plain": [
       "Epoch 69/ 150:   0%|          | 0/1563 [00:00<?, ?it/s]"
      ]
     },
     "metadata": {},
     "output_type": "display_data"
    },
    {
     "data": {
      "application/vnd.jupyter.widget-view+json": {
       "model_id": "57ca7d27733a4890aff54dc3cd8bb104",
       "version_major": 2,
       "version_minor": 0
      },
      "text/plain": [
       "  0%|          | 0/94 [00:00<?, ?it/s]"
      ]
     },
     "metadata": {},
     "output_type": "display_data"
    },
    {
     "name": "stdout",
     "output_type": "stream",
     "text": [
      "Epoch 69/150, Training Loss: 6.087536334991455, Validation Loss: 6.151483916221781, Validation Accuracy: {'accuracy': 0.8093333333333333}\n"
     ]
    },
    {
     "data": {
      "application/vnd.jupyter.widget-view+json": {
       "model_id": "1945f7a59e89485cb362219ef2940f8a",
       "version_major": 2,
       "version_minor": 0
      },
      "text/plain": [
       "Epoch 70/ 150:   0%|          | 0/1563 [00:00<?, ?it/s]"
      ]
     },
     "metadata": {},
     "output_type": "display_data"
    },
    {
     "data": {
      "application/vnd.jupyter.widget-view+json": {
       "model_id": "d605e5550e994f169050e472cccd3074",
       "version_major": 2,
       "version_minor": 0
      },
      "text/plain": [
       "  0%|          | 0/94 [00:00<?, ?it/s]"
      ]
     },
     "metadata": {},
     "output_type": "display_data"
    },
    {
     "name": "stdout",
     "output_type": "stream",
     "text": [
      "Epoch 70/150, Training Loss: 6.086591720581055, Validation Loss: 6.1508679491408325, Validation Accuracy: {'accuracy': 0.8093333333333333}\n"
     ]
    },
    {
     "data": {
      "application/vnd.jupyter.widget-view+json": {
       "model_id": "6451d7c383224937b031adebbfdb4b23",
       "version_major": 2,
       "version_minor": 0
      },
      "text/plain": [
       "Epoch 71/ 150:   0%|          | 0/1563 [00:00<?, ?it/s]"
      ]
     },
     "metadata": {},
     "output_type": "display_data"
    },
    {
     "data": {
      "application/vnd.jupyter.widget-view+json": {
       "model_id": "d833a3b607344faaaa0afed2c238940a",
       "version_major": 2,
       "version_minor": 0
      },
      "text/plain": [
       "  0%|          | 0/94 [00:00<?, ?it/s]"
      ]
     },
     "metadata": {},
     "output_type": "display_data"
    },
    {
     "name": "stdout",
     "output_type": "stream",
     "text": [
      "Epoch 71/150, Training Loss: 6.085639476776123, Validation Loss: 6.148933177298688, Validation Accuracy: {'accuracy': 0.81}\n"
     ]
    },
    {
     "data": {
      "application/vnd.jupyter.widget-view+json": {
       "model_id": "30b30b34ce834481a2221ca38796e034",
       "version_major": 2,
       "version_minor": 0
      },
      "text/plain": [
       "Epoch 72/ 150:   0%|          | 0/1563 [00:00<?, ?it/s]"
      ]
     },
     "metadata": {},
     "output_type": "display_data"
    },
    {
     "data": {
      "application/vnd.jupyter.widget-view+json": {
       "model_id": "0bce90f2df7741438d7e097fc8cee68f",
       "version_major": 2,
       "version_minor": 0
      },
      "text/plain": [
       "  0%|          | 0/94 [00:00<?, ?it/s]"
      ]
     },
     "metadata": {},
     "output_type": "display_data"
    },
    {
     "name": "stdout",
     "output_type": "stream",
     "text": [
      "Epoch 72/150, Training Loss: 6.084670066833496, Validation Loss: 6.149104869112056, Validation Accuracy: {'accuracy': 0.8103333333333333}\n"
     ]
    },
    {
     "data": {
      "application/vnd.jupyter.widget-view+json": {
       "model_id": "db917370c0704056b7fd9523e62fe0b8",
       "version_major": 2,
       "version_minor": 0
      },
      "text/plain": [
       "Epoch 73/ 150:   0%|          | 0/1563 [00:00<?, ?it/s]"
      ]
     },
     "metadata": {},
     "output_type": "display_data"
    },
    {
     "data": {
      "application/vnd.jupyter.widget-view+json": {
       "model_id": "154a41075364409c8a9226335a8e70e5",
       "version_major": 2,
       "version_minor": 0
      },
      "text/plain": [
       "  0%|          | 0/94 [00:00<?, ?it/s]"
      ]
     },
     "metadata": {},
     "output_type": "display_data"
    },
    {
     "name": "stdout",
     "output_type": "stream",
     "text": [
      "Epoch 73/150, Training Loss: 6.0836920738220215, Validation Loss: 6.148615456641989, Validation Accuracy: {'accuracy': 0.8096666666666666}\n"
     ]
    },
    {
     "data": {
      "application/vnd.jupyter.widget-view+json": {
       "model_id": "fdbf514145044502868703f879fe0c06",
       "version_major": 2,
       "version_minor": 0
      },
      "text/plain": [
       "Epoch 74/ 150:   0%|          | 0/1563 [00:00<?, ?it/s]"
      ]
     },
     "metadata": {},
     "output_type": "display_data"
    },
    {
     "data": {
      "application/vnd.jupyter.widget-view+json": {
       "model_id": "6ac4041a5f454b35a066ecfeb0278ccc",
       "version_major": 2,
       "version_minor": 0
      },
      "text/plain": [
       "  0%|          | 0/94 [00:00<?, ?it/s]"
      ]
     },
     "metadata": {},
     "output_type": "display_data"
    },
    {
     "name": "stdout",
     "output_type": "stream",
     "text": [
      "Epoch 74/150, Training Loss: 6.082701206207275, Validation Loss: 6.148113783369673, Validation Accuracy: {'accuracy': 0.8096666666666666}\n"
     ]
    },
    {
     "data": {
      "application/vnd.jupyter.widget-view+json": {
       "model_id": "04bd8da7480d4ac8bddf23fbe875608c",
       "version_major": 2,
       "version_minor": 0
      },
      "text/plain": [
       "Epoch 75/ 150:   0%|          | 0/1563 [00:00<?, ?it/s]"
      ]
     },
     "metadata": {},
     "output_type": "display_data"
    },
    {
     "data": {
      "application/vnd.jupyter.widget-view+json": {
       "model_id": "9609801f2a80408ea8cf0f8b50ee3301",
       "version_major": 2,
       "version_minor": 0
      },
      "text/plain": [
       "  0%|          | 0/94 [00:00<?, ?it/s]"
      ]
     },
     "metadata": {},
     "output_type": "display_data"
    },
    {
     "name": "stdout",
     "output_type": "stream",
     "text": [
      "Epoch 75/150, Training Loss: 6.081701278686523, Validation Loss: 6.147463844177571, Validation Accuracy: {'accuracy': 0.8096666666666666}\n"
     ]
    },
    {
     "data": {
      "application/vnd.jupyter.widget-view+json": {
       "model_id": "911d4fa01cf743b3b6607968cac62bc0",
       "version_major": 2,
       "version_minor": 0
      },
      "text/plain": [
       "Epoch 76/ 150:   0%|          | 0/1563 [00:00<?, ?it/s]"
      ]
     },
     "metadata": {},
     "output_type": "display_data"
    },
    {
     "data": {
      "application/vnd.jupyter.widget-view+json": {
       "model_id": "55b1e2e56dae487eb04c5eec0a5f9b2c",
       "version_major": 2,
       "version_minor": 0
      },
      "text/plain": [
       "  0%|          | 0/94 [00:00<?, ?it/s]"
      ]
     },
     "metadata": {},
     "output_type": "display_data"
    },
    {
     "name": "stdout",
     "output_type": "stream",
     "text": [
      "Epoch 76/150, Training Loss: 6.080689907073975, Validation Loss: 6.14606911578077, Validation Accuracy: {'accuracy': 0.8103333333333333}\n"
     ]
    },
    {
     "data": {
      "application/vnd.jupyter.widget-view+json": {
       "model_id": "186ba95879da4131bcc16ee1a9713f13",
       "version_major": 2,
       "version_minor": 0
      },
      "text/plain": [
       "Epoch 77/ 150:   0%|          | 0/1563 [00:00<?, ?it/s]"
      ]
     },
     "metadata": {},
     "output_type": "display_data"
    },
    {
     "data": {
      "application/vnd.jupyter.widget-view+json": {
       "model_id": "b783d2b614cd4aa683702c20d5f2c9fe",
       "version_major": 2,
       "version_minor": 0
      },
      "text/plain": [
       "  0%|          | 0/94 [00:00<?, ?it/s]"
      ]
     },
     "metadata": {},
     "output_type": "display_data"
    },
    {
     "name": "stdout",
     "output_type": "stream",
     "text": [
      "Epoch 77/150, Training Loss: 6.0796685218811035, Validation Loss: 6.145422976067725, Validation Accuracy: {'accuracy': 0.811}\n"
     ]
    },
    {
     "data": {
      "application/vnd.jupyter.widget-view+json": {
       "model_id": "1e27063f02d740fa8d6b1338fc43a77f",
       "version_major": 2,
       "version_minor": 0
      },
      "text/plain": [
       "Epoch 78/ 150:   0%|          | 0/1563 [00:00<?, ?it/s]"
      ]
     },
     "metadata": {},
     "output_type": "display_data"
    },
    {
     "data": {
      "application/vnd.jupyter.widget-view+json": {
       "model_id": "a51c6c5b7f3645858fab9ab774df5995",
       "version_major": 2,
       "version_minor": 0
      },
      "text/plain": [
       "  0%|          | 0/94 [00:00<?, ?it/s]"
      ]
     },
     "metadata": {},
     "output_type": "display_data"
    },
    {
     "name": "stdout",
     "output_type": "stream",
     "text": [
      "Epoch 78/150, Training Loss: 6.078640937805176, Validation Loss: 6.145167497878379, Validation Accuracy: {'accuracy': 0.8106666666666666}\n"
     ]
    },
    {
     "data": {
      "application/vnd.jupyter.widget-view+json": {
       "model_id": "25c53db992a145558796fa09f708e78c",
       "version_major": 2,
       "version_minor": 0
      },
      "text/plain": [
       "Epoch 79/ 150:   0%|          | 0/1563 [00:00<?, ?it/s]"
      ]
     },
     "metadata": {},
     "output_type": "display_data"
    },
    {
     "data": {
      "application/vnd.jupyter.widget-view+json": {
       "model_id": "d78f836b601c4160a2f7ff33d396fd7b",
       "version_major": 2,
       "version_minor": 0
      },
      "text/plain": [
       "  0%|          | 0/94 [00:00<?, ?it/s]"
      ]
     },
     "metadata": {},
     "output_type": "display_data"
    },
    {
     "name": "stdout",
     "output_type": "stream",
     "text": [
      "Epoch 79/150, Training Loss: 6.077601432800293, Validation Loss: 6.145192019482876, Validation Accuracy: {'accuracy': 0.81}\n"
     ]
    },
    {
     "data": {
      "application/vnd.jupyter.widget-view+json": {
       "model_id": "35dd5d4dbf884f8d99adbf809fed3def",
       "version_major": 2,
       "version_minor": 0
      },
      "text/plain": [
       "Epoch 80/ 150:   0%|          | 0/1563 [00:00<?, ?it/s]"
      ]
     },
     "metadata": {},
     "output_type": "display_data"
    },
    {
     "data": {
      "application/vnd.jupyter.widget-view+json": {
       "model_id": "e9505856ff864c3db7499617d4d2ca69",
       "version_major": 2,
       "version_minor": 0
      },
      "text/plain": [
       "  0%|          | 0/94 [00:00<?, ?it/s]"
      ]
     },
     "metadata": {},
     "output_type": "display_data"
    },
    {
     "name": "stdout",
     "output_type": "stream",
     "text": [
      "Epoch 80/150, Training Loss: 6.076559066772461, Validation Loss: 6.143984809834906, Validation Accuracy: {'accuracy': 0.81}\n"
     ]
    },
    {
     "data": {
      "application/vnd.jupyter.widget-view+json": {
       "model_id": "a737ba98aaec4f6396f467f56d41368d",
       "version_major": 2,
       "version_minor": 0
      },
      "text/plain": [
       "Epoch 81/ 150:   0%|          | 0/1563 [00:00<?, ?it/s]"
      ]
     },
     "metadata": {},
     "output_type": "display_data"
    },
    {
     "data": {
      "application/vnd.jupyter.widget-view+json": {
       "model_id": "bcf436a2c05b4b6fb7826d848afa55ee",
       "version_major": 2,
       "version_minor": 0
      },
      "text/plain": [
       "  0%|          | 0/94 [00:00<?, ?it/s]"
      ]
     },
     "metadata": {},
     "output_type": "display_data"
    },
    {
     "name": "stdout",
     "output_type": "stream",
     "text": [
      "Epoch 81/150, Training Loss: 6.075505256652832, Validation Loss: 6.143409936986071, Validation Accuracy: {'accuracy': 0.81}\n"
     ]
    },
    {
     "data": {
      "application/vnd.jupyter.widget-view+json": {
       "model_id": "47f6a61d48674db788b1931f74b68d81",
       "version_major": 2,
       "version_minor": 0
      },
      "text/plain": [
       "Epoch 82/ 150:   0%|          | 0/1563 [00:00<?, ?it/s]"
      ]
     },
     "metadata": {},
     "output_type": "display_data"
    },
    {
     "data": {
      "application/vnd.jupyter.widget-view+json": {
       "model_id": "77b797a8b91c423d9d6e69560b7476a5",
       "version_major": 2,
       "version_minor": 0
      },
      "text/plain": [
       "  0%|          | 0/94 [00:00<?, ?it/s]"
      ]
     },
     "metadata": {},
     "output_type": "display_data"
    },
    {
     "name": "stdout",
     "output_type": "stream",
     "text": [
      "Epoch 82/150, Training Loss: 6.07444953918457, Validation Loss: 6.143176423742416, Validation Accuracy: {'accuracy': 0.8103333333333333}\n"
     ]
    },
    {
     "data": {
      "application/vnd.jupyter.widget-view+json": {
       "model_id": "06be90885b394ec293ca3c254a72cf69",
       "version_major": 2,
       "version_minor": 0
      },
      "text/plain": [
       "Epoch 83/ 150:   0%|          | 0/1563 [00:00<?, ?it/s]"
      ]
     },
     "metadata": {},
     "output_type": "display_data"
    },
    {
     "data": {
      "application/vnd.jupyter.widget-view+json": {
       "model_id": "325bb505d0f74940bd868c539f0d07a2",
       "version_major": 2,
       "version_minor": 0
      },
      "text/plain": [
       "  0%|          | 0/94 [00:00<?, ?it/s]"
      ]
     },
     "metadata": {},
     "output_type": "display_data"
    },
    {
     "name": "stdout",
     "output_type": "stream",
     "text": [
      "Epoch 83/150, Training Loss: 6.073383331298828, Validation Loss: 6.1424979757755365, Validation Accuracy: {'accuracy': 0.8103333333333333}\n"
     ]
    },
    {
     "data": {
      "application/vnd.jupyter.widget-view+json": {
       "model_id": "ea45214617ee4f8b982269ac4354be54",
       "version_major": 2,
       "version_minor": 0
      },
      "text/plain": [
       "Epoch 84/ 150:   0%|          | 0/1563 [00:00<?, ?it/s]"
      ]
     },
     "metadata": {},
     "output_type": "display_data"
    },
    {
     "data": {
      "application/vnd.jupyter.widget-view+json": {
       "model_id": "71da0849be14403cbf38337683f15d69",
       "version_major": 2,
       "version_minor": 0
      },
      "text/plain": [
       "  0%|          | 0/94 [00:00<?, ?it/s]"
      ]
     },
     "metadata": {},
     "output_type": "display_data"
    },
    {
     "name": "stdout",
     "output_type": "stream",
     "text": [
      "Epoch 84/150, Training Loss: 6.072314739227295, Validation Loss: 6.1411884439752455, Validation Accuracy: {'accuracy': 0.8113333333333334}\n"
     ]
    },
    {
     "data": {
      "application/vnd.jupyter.widget-view+json": {
       "model_id": "c9937172684340eda047bb4f14475ffa",
       "version_major": 2,
       "version_minor": 0
      },
      "text/plain": [
       "Epoch 85/ 150:   0%|          | 0/1563 [00:00<?, ?it/s]"
      ]
     },
     "metadata": {},
     "output_type": "display_data"
    },
    {
     "data": {
      "application/vnd.jupyter.widget-view+json": {
       "model_id": "d51e9818ec9340659bbaf68392080ff6",
       "version_major": 2,
       "version_minor": 0
      },
      "text/plain": [
       "  0%|          | 0/94 [00:00<?, ?it/s]"
      ]
     },
     "metadata": {},
     "output_type": "display_data"
    },
    {
     "name": "stdout",
     "output_type": "stream",
     "text": [
      "Epoch 85/150, Training Loss: 6.07124137878418, Validation Loss: 6.141430525069541, Validation Accuracy: {'accuracy': 0.81}\n"
     ]
    },
    {
     "data": {
      "application/vnd.jupyter.widget-view+json": {
       "model_id": "a97c49fc394241f2baf104fd605c9589",
       "version_major": 2,
       "version_minor": 0
      },
      "text/plain": [
       "Epoch 86/ 150:   0%|          | 0/1563 [00:00<?, ?it/s]"
      ]
     },
     "metadata": {},
     "output_type": "display_data"
    },
    {
     "data": {
      "application/vnd.jupyter.widget-view+json": {
       "model_id": "f3fe44d4e789488f99f5f0636830e316",
       "version_major": 2,
       "version_minor": 0
      },
      "text/plain": [
       "  0%|          | 0/94 [00:00<?, ?it/s]"
      ]
     },
     "metadata": {},
     "output_type": "display_data"
    },
    {
     "name": "stdout",
     "output_type": "stream",
     "text": [
      "Epoch 86/150, Training Loss: 6.070161819458008, Validation Loss: 6.14092713721255, Validation Accuracy: {'accuracy': 0.81}\n"
     ]
    },
    {
     "data": {
      "application/vnd.jupyter.widget-view+json": {
       "model_id": "5c2c40391bc645d3a02045095c61affd",
       "version_major": 2,
       "version_minor": 0
      },
      "text/plain": [
       "Epoch 87/ 150:   0%|          | 0/1563 [00:00<?, ?it/s]"
      ]
     },
     "metadata": {},
     "output_type": "display_data"
    },
    {
     "data": {
      "application/vnd.jupyter.widget-view+json": {
       "model_id": "2a831068c5884e43b75cb36cada8b73b",
       "version_major": 2,
       "version_minor": 0
      },
      "text/plain": [
       "  0%|          | 0/94 [00:00<?, ?it/s]"
      ]
     },
     "metadata": {},
     "output_type": "display_data"
    },
    {
     "name": "stdout",
     "output_type": "stream",
     "text": [
      "Epoch 87/150, Training Loss: 6.0690813064575195, Validation Loss: 6.140837293990115, Validation Accuracy: {'accuracy': 0.811}\n"
     ]
    },
    {
     "data": {
      "application/vnd.jupyter.widget-view+json": {
       "model_id": "0da184222a194faeb2b6d9494e9e6e17",
       "version_major": 2,
       "version_minor": 0
      },
      "text/plain": [
       "Epoch 88/ 150:   0%|          | 0/1563 [00:00<?, ?it/s]"
      ]
     },
     "metadata": {},
     "output_type": "display_data"
    },
    {
     "data": {
      "application/vnd.jupyter.widget-view+json": {
       "model_id": "09541b68798d4b93a31099ef934439dd",
       "version_major": 2,
       "version_minor": 0
      },
      "text/plain": [
       "  0%|          | 0/94 [00:00<?, ?it/s]"
      ]
     },
     "metadata": {},
     "output_type": "display_data"
    },
    {
     "name": "stdout",
     "output_type": "stream",
     "text": [
      "Epoch 88/150, Training Loss: 6.067997455596924, Validation Loss: 6.140187928017149, Validation Accuracy: {'accuracy': 0.81}\n"
     ]
    },
    {
     "data": {
      "application/vnd.jupyter.widget-view+json": {
       "model_id": "3320a171c52246709dc89d147a3821ca",
       "version_major": 2,
       "version_minor": 0
      },
      "text/plain": [
       "Epoch 89/ 150:   0%|          | 0/1563 [00:00<?, ?it/s]"
      ]
     },
     "metadata": {},
     "output_type": "display_data"
    },
    {
     "data": {
      "application/vnd.jupyter.widget-view+json": {
       "model_id": "e9d4c6b8d9d44e2083a585dea9713d00",
       "version_major": 2,
       "version_minor": 0
      },
      "text/plain": [
       "  0%|          | 0/94 [00:00<?, ?it/s]"
      ]
     },
     "metadata": {},
     "output_type": "display_data"
    },
    {
     "name": "stdout",
     "output_type": "stream",
     "text": [
      "Epoch 89/150, Training Loss: 6.0669074058532715, Validation Loss: 6.139496047446069, Validation Accuracy: {'accuracy': 0.8113333333333334}\n"
     ]
    },
    {
     "data": {
      "application/vnd.jupyter.widget-view+json": {
       "model_id": "548ff39ec6274f61959234a765f6b19a",
       "version_major": 2,
       "version_minor": 0
      },
      "text/plain": [
       "Epoch 90/ 150:   0%|          | 0/1563 [00:00<?, ?it/s]"
      ]
     },
     "metadata": {},
     "output_type": "display_data"
    },
    {
     "data": {
      "application/vnd.jupyter.widget-view+json": {
       "model_id": "6f2cf0f0f5944ec19a3d34bf0bdfac37",
       "version_major": 2,
       "version_minor": 0
      },
      "text/plain": [
       "  0%|          | 0/94 [00:00<?, ?it/s]"
      ]
     },
     "metadata": {},
     "output_type": "display_data"
    },
    {
     "name": "stdout",
     "output_type": "stream",
     "text": [
      "Epoch 90/150, Training Loss: 6.0658135414123535, Validation Loss: 6.138613766812264, Validation Accuracy: {'accuracy': 0.8106666666666666}\n"
     ]
    },
    {
     "data": {
      "application/vnd.jupyter.widget-view+json": {
       "model_id": "35e071fed3c244869b659adef3384301",
       "version_major": 2,
       "version_minor": 0
      },
      "text/plain": [
       "Epoch 91/ 150:   0%|          | 0/1563 [00:00<?, ?it/s]"
      ]
     },
     "metadata": {},
     "output_type": "display_data"
    },
    {
     "data": {
      "application/vnd.jupyter.widget-view+json": {
       "model_id": "cdd01fa7fdf34618a991b00660a1f801",
       "version_major": 2,
       "version_minor": 0
      },
      "text/plain": [
       "  0%|          | 0/94 [00:00<?, ?it/s]"
      ]
     },
     "metadata": {},
     "output_type": "display_data"
    },
    {
     "name": "stdout",
     "output_type": "stream",
     "text": [
      "Epoch 91/150, Training Loss: 6.064720630645752, Validation Loss: 6.137947741975176, Validation Accuracy: {'accuracy': 0.8123333333333334}\n"
     ]
    },
    {
     "data": {
      "application/vnd.jupyter.widget-view+json": {
       "model_id": "c101123330ff4845800b5b70d3f94187",
       "version_major": 2,
       "version_minor": 0
      },
      "text/plain": [
       "Epoch 92/ 150:   0%|          | 0/1563 [00:00<?, ?it/s]"
      ]
     },
     "metadata": {},
     "output_type": "display_data"
    },
    {
     "data": {
      "application/vnd.jupyter.widget-view+json": {
       "model_id": "94c165c651f94cb9b112e4bf828a0af1",
       "version_major": 2,
       "version_minor": 0
      },
      "text/plain": [
       "  0%|          | 0/94 [00:00<?, ?it/s]"
      ]
     },
     "metadata": {},
     "output_type": "display_data"
    },
    {
     "name": "stdout",
     "output_type": "stream",
     "text": [
      "Epoch 92/150, Training Loss: 6.063629150390625, Validation Loss: 6.13880136165213, Validation Accuracy: {'accuracy': 0.8113333333333334}\n"
     ]
    },
    {
     "data": {
      "application/vnd.jupyter.widget-view+json": {
       "model_id": "929cd69ff8e84a65b2cb89e0ee305f03",
       "version_major": 2,
       "version_minor": 0
      },
      "text/plain": [
       "Epoch 93/ 150:   0%|          | 0/1563 [00:00<?, ?it/s]"
      ]
     },
     "metadata": {},
     "output_type": "display_data"
    },
    {
     "data": {
      "application/vnd.jupyter.widget-view+json": {
       "model_id": "42cf68066c824422a3fda012e0a6616f",
       "version_major": 2,
       "version_minor": 0
      },
      "text/plain": [
       "  0%|          | 0/94 [00:00<?, ?it/s]"
      ]
     },
     "metadata": {},
     "output_type": "display_data"
    },
    {
     "name": "stdout",
     "output_type": "stream",
     "text": [
      "Epoch 93/150, Training Loss: 6.062533378601074, Validation Loss: 6.138370042151593, Validation Accuracy: {'accuracy': 0.8116666666666666}\n"
     ]
    },
    {
     "data": {
      "application/vnd.jupyter.widget-view+json": {
       "model_id": "0e25c5bdbcd14565994fecb163dfebe3",
       "version_major": 2,
       "version_minor": 0
      },
      "text/plain": [
       "Epoch 94/ 150:   0%|          | 0/1563 [00:00<?, ?it/s]"
      ]
     },
     "metadata": {},
     "output_type": "display_data"
    },
    {
     "data": {
      "application/vnd.jupyter.widget-view+json": {
       "model_id": "55d3a3a9ae4a44a991009542e24864e3",
       "version_major": 2,
       "version_minor": 0
      },
      "text/plain": [
       "  0%|          | 0/94 [00:00<?, ?it/s]"
      ]
     },
     "metadata": {},
     "output_type": "display_data"
    },
    {
     "name": "stdout",
     "output_type": "stream",
     "text": [
      "Epoch 94/150, Training Loss: 6.061437129974365, Validation Loss: 6.137084986301178, Validation Accuracy: {'accuracy': 0.8123333333333334}\n"
     ]
    },
    {
     "data": {
      "application/vnd.jupyter.widget-view+json": {
       "model_id": "95947665bbbc40b6a909f8e3833eba81",
       "version_major": 2,
       "version_minor": 0
      },
      "text/plain": [
       "Epoch 95/ 150:   0%|          | 0/1563 [00:00<?, ?it/s]"
      ]
     },
     "metadata": {},
     "output_type": "display_data"
    },
    {
     "data": {
      "application/vnd.jupyter.widget-view+json": {
       "model_id": "26f56ec93a344277b1a158d8efe3910f",
       "version_major": 2,
       "version_minor": 0
      },
      "text/plain": [
       "  0%|          | 0/94 [00:00<?, ?it/s]"
      ]
     },
     "metadata": {},
     "output_type": "display_data"
    },
    {
     "name": "stdout",
     "output_type": "stream",
     "text": [
      "Epoch 95/150, Training Loss: 6.060340881347656, Validation Loss: 6.136653981310256, Validation Accuracy: {'accuracy': 0.8113333333333334}\n"
     ]
    },
    {
     "data": {
      "application/vnd.jupyter.widget-view+json": {
       "model_id": "8112072a31d14edca1389197f6bb0456",
       "version_major": 2,
       "version_minor": 0
      },
      "text/plain": [
       "Epoch 96/ 150:   0%|          | 0/1563 [00:00<?, ?it/s]"
      ]
     },
     "metadata": {},
     "output_type": "display_data"
    },
    {
     "data": {
      "application/vnd.jupyter.widget-view+json": {
       "model_id": "2182455f5dad40908c8d6bb7b40dbde7",
       "version_major": 2,
       "version_minor": 0
      },
      "text/plain": [
       "  0%|          | 0/94 [00:00<?, ?it/s]"
      ]
     },
     "metadata": {},
     "output_type": "display_data"
    },
    {
     "name": "stdout",
     "output_type": "stream",
     "text": [
      "Epoch 96/150, Training Loss: 6.059246063232422, Validation Loss: 6.135875950468347, Validation Accuracy: {'accuracy': 0.8126666666666666}\n"
     ]
    },
    {
     "data": {
      "application/vnd.jupyter.widget-view+json": {
       "model_id": "673da682de504676ab0dd7c06e07d35d",
       "version_major": 2,
       "version_minor": 0
      },
      "text/plain": [
       "Epoch 97/ 150:   0%|          | 0/1563 [00:00<?, ?it/s]"
      ]
     },
     "metadata": {},
     "output_type": "display_data"
    },
    {
     "data": {
      "application/vnd.jupyter.widget-view+json": {
       "model_id": "bd7a1e9909404cfcb30605630426a41b",
       "version_major": 2,
       "version_minor": 0
      },
      "text/plain": [
       "  0%|          | 0/94 [00:00<?, ?it/s]"
      ]
     },
     "metadata": {},
     "output_type": "display_data"
    },
    {
     "name": "stdout",
     "output_type": "stream",
     "text": [
      "Epoch 97/150, Training Loss: 6.0581512451171875, Validation Loss: 6.1359346521661635, Validation Accuracy: {'accuracy': 0.8123333333333334}\n"
     ]
    },
    {
     "data": {
      "application/vnd.jupyter.widget-view+json": {
       "model_id": "da4f6631c4e247a5a271532079ae27bc",
       "version_major": 2,
       "version_minor": 0
      },
      "text/plain": [
       "Epoch 98/ 150:   0%|          | 0/1563 [00:00<?, ?it/s]"
      ]
     },
     "metadata": {},
     "output_type": "display_data"
    },
    {
     "data": {
      "application/vnd.jupyter.widget-view+json": {
       "model_id": "d2aa0b878eac43859c3d2656c2796b09",
       "version_major": 2,
       "version_minor": 0
      },
      "text/plain": [
       "  0%|          | 0/94 [00:00<?, ?it/s]"
      ]
     },
     "metadata": {},
     "output_type": "display_data"
    },
    {
     "name": "stdout",
     "output_type": "stream",
     "text": [
      "Epoch 98/150, Training Loss: 6.05705451965332, Validation Loss: 6.135363710687516, Validation Accuracy: {'accuracy': 0.813}\n"
     ]
    },
    {
     "data": {
      "application/vnd.jupyter.widget-view+json": {
       "model_id": "1f6bcada2c7f491e92abe1a4847aa8ae",
       "version_major": 2,
       "version_minor": 0
      },
      "text/plain": [
       "Epoch 99/ 150:   0%|          | 0/1563 [00:00<?, ?it/s]"
      ]
     },
     "metadata": {},
     "output_type": "display_data"
    },
    {
     "data": {
      "application/vnd.jupyter.widget-view+json": {
       "model_id": "5c6627d9790141dc8e11f1c6e0d61dc5",
       "version_major": 2,
       "version_minor": 0
      },
      "text/plain": [
       "  0%|          | 0/94 [00:00<?, ?it/s]"
      ]
     },
     "metadata": {},
     "output_type": "display_data"
    },
    {
     "name": "stdout",
     "output_type": "stream",
     "text": [
      "Epoch 99/150, Training Loss: 6.0559611320495605, Validation Loss: 6.135419647744361, Validation Accuracy: {'accuracy': 0.8123333333333334}\n"
     ]
    },
    {
     "data": {
      "application/vnd.jupyter.widget-view+json": {
       "model_id": "ad19c10334b0490383d7d59cc0f1c40f",
       "version_major": 2,
       "version_minor": 0
      },
      "text/plain": [
       "Epoch 100/ 150:   0%|          | 0/1563 [00:00<?, ?it/s]"
      ]
     },
     "metadata": {},
     "output_type": "display_data"
    },
    {
     "data": {
      "application/vnd.jupyter.widget-view+json": {
       "model_id": "1001105e5fea42eabc4af00843d71bb2",
       "version_major": 2,
       "version_minor": 0
      },
      "text/plain": [
       "  0%|          | 0/94 [00:00<?, ?it/s]"
      ]
     },
     "metadata": {},
     "output_type": "display_data"
    },
    {
     "name": "stdout",
     "output_type": "stream",
     "text": [
      "Epoch 100/150, Training Loss: 6.054863929748535, Validation Loss: 6.134247850864492, Validation Accuracy: {'accuracy': 0.8123333333333334}\n"
     ]
    },
    {
     "data": {
      "application/vnd.jupyter.widget-view+json": {
       "model_id": "d34da3f27c2a4981af64240fb291c951",
       "version_major": 2,
       "version_minor": 0
      },
      "text/plain": [
       "Epoch 101/ 150:   0%|          | 0/1563 [00:00<?, ?it/s]"
      ]
     },
     "metadata": {},
     "output_type": "display_data"
    },
    {
     "data": {
      "application/vnd.jupyter.widget-view+json": {
       "model_id": "dd6ceaf84bf543cdbf0370301b34b854",
       "version_major": 2,
       "version_minor": 0
      },
      "text/plain": [
       "  0%|          | 0/94 [00:00<?, ?it/s]"
      ]
     },
     "metadata": {},
     "output_type": "display_data"
    },
    {
     "name": "stdout",
     "output_type": "stream",
     "text": [
      "Epoch 101/150, Training Loss: 6.053781032562256, Validation Loss: 6.1332788264497795, Validation Accuracy: {'accuracy': 0.8123333333333334}\n"
     ]
    },
    {
     "data": {
      "application/vnd.jupyter.widget-view+json": {
       "model_id": "4f751aba6fc44eed867124c03d1c065f",
       "version_major": 2,
       "version_minor": 0
      },
      "text/plain": [
       "Epoch 102/ 150:   0%|          | 0/1563 [00:00<?, ?it/s]"
      ]
     },
     "metadata": {},
     "output_type": "display_data"
    },
    {
     "data": {
      "application/vnd.jupyter.widget-view+json": {
       "model_id": "7d59a70457a54730ab688fb634795f3c",
       "version_major": 2,
       "version_minor": 0
      },
      "text/plain": [
       "  0%|          | 0/94 [00:00<?, ?it/s]"
      ]
     },
     "metadata": {},
     "output_type": "display_data"
    },
    {
     "name": "stdout",
     "output_type": "stream",
     "text": [
      "Epoch 102/150, Training Loss: 6.052691459655762, Validation Loss: 6.134771484009763, Validation Accuracy: {'accuracy': 0.813}\n"
     ]
    },
    {
     "data": {
      "application/vnd.jupyter.widget-view+json": {
       "model_id": "5d83d5412ab145ab8021daebb4335c29",
       "version_major": 2,
       "version_minor": 0
      },
      "text/plain": [
       "Epoch 103/ 150:   0%|          | 0/1563 [00:00<?, ?it/s]"
      ]
     },
     "metadata": {},
     "output_type": "display_data"
    },
    {
     "data": {
      "application/vnd.jupyter.widget-view+json": {
       "model_id": "b02f7e87c5d74aa6b7de31bdc87a5ee3",
       "version_major": 2,
       "version_minor": 0
      },
      "text/plain": [
       "  0%|          | 0/94 [00:00<?, ?it/s]"
      ]
     },
     "metadata": {},
     "output_type": "display_data"
    },
    {
     "name": "stdout",
     "output_type": "stream",
     "text": [
      "Epoch 103/150, Training Loss: 6.051606178283691, Validation Loss: 6.133568266604809, Validation Accuracy: {'accuracy': 0.813}\n"
     ]
    },
    {
     "data": {
      "application/vnd.jupyter.widget-view+json": {
       "model_id": "fb9cdf59c6e1496dbe6400c24bc625a3",
       "version_major": 2,
       "version_minor": 0
      },
      "text/plain": [
       "Epoch 104/ 150:   0%|          | 0/1563 [00:00<?, ?it/s]"
      ]
     },
     "metadata": {},
     "output_type": "display_data"
    },
    {
     "data": {
      "application/vnd.jupyter.widget-view+json": {
       "model_id": "dde6a8462d8b4d798c0f85931cde56c0",
       "version_major": 2,
       "version_minor": 0
      },
      "text/plain": [
       "  0%|          | 0/94 [00:00<?, ?it/s]"
      ]
     },
     "metadata": {},
     "output_type": "display_data"
    },
    {
     "name": "stdout",
     "output_type": "stream",
     "text": [
      "Epoch 104/150, Training Loss: 6.050518989562988, Validation Loss: 6.133278425703657, Validation Accuracy: {'accuracy': 0.8123333333333334}\n"
     ]
    },
    {
     "data": {
      "application/vnd.jupyter.widget-view+json": {
       "model_id": "c5e6a37d9ec54f358e23e375b959380a",
       "version_major": 2,
       "version_minor": 0
      },
      "text/plain": [
       "Epoch 105/ 150:   0%|          | 0/1563 [00:00<?, ?it/s]"
      ]
     },
     "metadata": {},
     "output_type": "display_data"
    },
    {
     "data": {
      "application/vnd.jupyter.widget-view+json": {
       "model_id": "0533722a31724d07993171683f05430f",
       "version_major": 2,
       "version_minor": 0
      },
      "text/plain": [
       "  0%|          | 0/94 [00:00<?, ?it/s]"
      ]
     },
     "metadata": {},
     "output_type": "display_data"
    },
    {
     "name": "stdout",
     "output_type": "stream",
     "text": [
      "Epoch 105/150, Training Loss: 6.049442768096924, Validation Loss: 6.132481717048807, Validation Accuracy: {'accuracy': 0.8136666666666666}\n"
     ]
    },
    {
     "data": {
      "application/vnd.jupyter.widget-view+json": {
       "model_id": "a42566f43a7a443892e3e61870aec6df",
       "version_major": 2,
       "version_minor": 0
      },
      "text/plain": [
       "Epoch 106/ 150:   0%|          | 0/1563 [00:00<?, ?it/s]"
      ]
     },
     "metadata": {},
     "output_type": "display_data"
    },
    {
     "data": {
      "application/vnd.jupyter.widget-view+json": {
       "model_id": "1f340c185e4946c2be3d16a823316945",
       "version_major": 2,
       "version_minor": 0
      },
      "text/plain": [
       "  0%|          | 0/94 [00:00<?, ?it/s]"
      ]
     },
     "metadata": {},
     "output_type": "display_data"
    },
    {
     "name": "stdout",
     "output_type": "stream",
     "text": [
      "Epoch 106/150, Training Loss: 6.048366546630859, Validation Loss: 6.133066948423994, Validation Accuracy: {'accuracy': 0.8136666666666666}\n"
     ]
    },
    {
     "data": {
      "application/vnd.jupyter.widget-view+json": {
       "model_id": "4ee3feb2c5e44105bebdf541cc18e712",
       "version_major": 2,
       "version_minor": 0
      },
      "text/plain": [
       "Epoch 107/ 150:   0%|          | 0/1563 [00:00<?, ?it/s]"
      ]
     },
     "metadata": {},
     "output_type": "display_data"
    },
    {
     "data": {
      "application/vnd.jupyter.widget-view+json": {
       "model_id": "0892eb5739654808b4f05da1d0cf5616",
       "version_major": 2,
       "version_minor": 0
      },
      "text/plain": [
       "  0%|          | 0/94 [00:00<?, ?it/s]"
      ]
     },
     "metadata": {},
     "output_type": "display_data"
    },
    {
     "name": "stdout",
     "output_type": "stream",
     "text": [
      "Epoch 107/150, Training Loss: 6.047289848327637, Validation Loss: 6.132592683142804, Validation Accuracy: {'accuracy': 0.8133333333333334}\n"
     ]
    },
    {
     "data": {
      "application/vnd.jupyter.widget-view+json": {
       "model_id": "0bbc3ec162e943e2840564ce58c3c74e",
       "version_major": 2,
       "version_minor": 0
      },
      "text/plain": [
       "Epoch 108/ 150:   0%|          | 0/1563 [00:00<?, ?it/s]"
      ]
     },
     "metadata": {},
     "output_type": "display_data"
    },
    {
     "data": {
      "application/vnd.jupyter.widget-view+json": {
       "model_id": "b4651c7403934afcadbc425924e20659",
       "version_major": 2,
       "version_minor": 0
      },
      "text/plain": [
       "  0%|          | 0/94 [00:00<?, ?it/s]"
      ]
     },
     "metadata": {},
     "output_type": "display_data"
    },
    {
     "name": "stdout",
     "output_type": "stream",
     "text": [
      "Epoch 108/150, Training Loss: 6.046220779418945, Validation Loss: 6.132059350926825, Validation Accuracy: {'accuracy': 0.814}\n"
     ]
    },
    {
     "data": {
      "application/vnd.jupyter.widget-view+json": {
       "model_id": "d74e1f269978462583ab9d3346925507",
       "version_major": 2,
       "version_minor": 0
      },
      "text/plain": [
       "Epoch 109/ 150:   0%|          | 0/1563 [00:00<?, ?it/s]"
      ]
     },
     "metadata": {},
     "output_type": "display_data"
    },
    {
     "data": {
      "application/vnd.jupyter.widget-view+json": {
       "model_id": "878195f434d249178ec625019206b628",
       "version_major": 2,
       "version_minor": 0
      },
      "text/plain": [
       "  0%|          | 0/94 [00:00<?, ?it/s]"
      ]
     },
     "metadata": {},
     "output_type": "display_data"
    },
    {
     "name": "stdout",
     "output_type": "stream",
     "text": [
      "Epoch 109/150, Training Loss: 6.045151710510254, Validation Loss: 6.13172690919105, Validation Accuracy: {'accuracy': 0.814}\n"
     ]
    },
    {
     "data": {
      "application/vnd.jupyter.widget-view+json": {
       "model_id": "822fe4ebeb184ac5b78172d5d329d7d2",
       "version_major": 2,
       "version_minor": 0
      },
      "text/plain": [
       "Epoch 110/ 150:   0%|          | 0/1563 [00:00<?, ?it/s]"
      ]
     },
     "metadata": {},
     "output_type": "display_data"
    },
    {
     "data": {
      "application/vnd.jupyter.widget-view+json": {
       "model_id": "3ecf37e3950b4e1ab178d12d601f4da9",
       "version_major": 2,
       "version_minor": 0
      },
      "text/plain": [
       "  0%|          | 0/94 [00:00<?, ?it/s]"
      ]
     },
     "metadata": {},
     "output_type": "display_data"
    },
    {
     "name": "stdout",
     "output_type": "stream",
     "text": [
      "Epoch 110/150, Training Loss: 6.044090747833252, Validation Loss: 6.131072749482825, Validation Accuracy: {'accuracy': 0.8143333333333334}\n"
     ]
    },
    {
     "data": {
      "application/vnd.jupyter.widget-view+json": {
       "model_id": "7ab812f7a2d745508288b91a7146818a",
       "version_major": 2,
       "version_minor": 0
      },
      "text/plain": [
       "Epoch 111/ 150:   0%|          | 0/1563 [00:00<?, ?it/s]"
      ]
     },
     "metadata": {},
     "output_type": "display_data"
    },
    {
     "data": {
      "application/vnd.jupyter.widget-view+json": {
       "model_id": "2b524f98bd44488c98a5483e29ff0474",
       "version_major": 2,
       "version_minor": 0
      },
      "text/plain": [
       "  0%|          | 0/94 [00:00<?, ?it/s]"
      ]
     },
     "metadata": {},
     "output_type": "display_data"
    },
    {
     "name": "stdout",
     "output_type": "stream",
     "text": [
      "Epoch 111/150, Training Loss: 6.04302453994751, Validation Loss: 6.130338937678236, Validation Accuracy: {'accuracy': 0.814}\n"
     ]
    },
    {
     "data": {
      "application/vnd.jupyter.widget-view+json": {
       "model_id": "a6854fa19528441db4c437d19245dfd5",
       "version_major": 2,
       "version_minor": 0
      },
      "text/plain": [
       "Epoch 112/ 150:   0%|          | 0/1563 [00:00<?, ?it/s]"
      ]
     },
     "metadata": {},
     "output_type": "display_data"
    },
    {
     "data": {
      "application/vnd.jupyter.widget-view+json": {
       "model_id": "90092d6c9a83423dbd10f4f185e3afad",
       "version_major": 2,
       "version_minor": 0
      },
      "text/plain": [
       "  0%|          | 0/94 [00:00<?, ?it/s]"
      ]
     },
     "metadata": {},
     "output_type": "display_data"
    },
    {
     "name": "stdout",
     "output_type": "stream",
     "text": [
      "Epoch 112/150, Training Loss: 6.041974067687988, Validation Loss: 6.129663350734305, Validation Accuracy: {'accuracy': 0.814}\n"
     ]
    },
    {
     "data": {
      "application/vnd.jupyter.widget-view+json": {
       "model_id": "60c71f7dc07648189567e7cabb67a6e5",
       "version_major": 2,
       "version_minor": 0
      },
      "text/plain": [
       "Epoch 113/ 150:   0%|          | 0/1563 [00:00<?, ?it/s]"
      ]
     },
     "metadata": {},
     "output_type": "display_data"
    },
    {
     "data": {
      "application/vnd.jupyter.widget-view+json": {
       "model_id": "3e9eff2415a641e0adac6419aea6ed60",
       "version_major": 2,
       "version_minor": 0
      },
      "text/plain": [
       "  0%|          | 0/94 [00:00<?, ?it/s]"
      ]
     },
     "metadata": {},
     "output_type": "display_data"
    },
    {
     "name": "stdout",
     "output_type": "stream",
     "text": [
      "Epoch 113/150, Training Loss: 6.040921211242676, Validation Loss: 6.130112161027625, Validation Accuracy: {'accuracy': 0.814}\n"
     ]
    },
    {
     "data": {
      "application/vnd.jupyter.widget-view+json": {
       "model_id": "a3f4902e5f2245e59b422ea32ef4e721",
       "version_major": 2,
       "version_minor": 0
      },
      "text/plain": [
       "Epoch 114/ 150:   0%|          | 0/1563 [00:00<?, ?it/s]"
      ]
     },
     "metadata": {},
     "output_type": "display_data"
    },
    {
     "data": {
      "application/vnd.jupyter.widget-view+json": {
       "model_id": "928ae3e84a8b44359b2ef15f283c114c",
       "version_major": 2,
       "version_minor": 0
      },
      "text/plain": [
       "  0%|          | 0/94 [00:00<?, ?it/s]"
      ]
     },
     "metadata": {},
     "output_type": "display_data"
    },
    {
     "name": "stdout",
     "output_type": "stream",
     "text": [
      "Epoch 114/150, Training Loss: 6.039876937866211, Validation Loss: 6.129662599969418, Validation Accuracy: {'accuracy': 0.8153333333333334}\n"
     ]
    },
    {
     "data": {
      "application/vnd.jupyter.widget-view+json": {
       "model_id": "f8599c2b25ca41028b69b32d7c4a6fc8",
       "version_major": 2,
       "version_minor": 0
      },
      "text/plain": [
       "Epoch 115/ 150:   0%|          | 0/1563 [00:00<?, ?it/s]"
      ]
     },
     "metadata": {},
     "output_type": "display_data"
    },
    {
     "data": {
      "application/vnd.jupyter.widget-view+json": {
       "model_id": "18015f4cf0754cc191a7aae6088b7f45",
       "version_major": 2,
       "version_minor": 0
      },
      "text/plain": [
       "  0%|          | 0/94 [00:00<?, ?it/s]"
      ]
     },
     "metadata": {},
     "output_type": "display_data"
    },
    {
     "name": "stdout",
     "output_type": "stream",
     "text": [
      "Epoch 115/150, Training Loss: 6.0388336181640625, Validation Loss: 6.129495285926981, Validation Accuracy: {'accuracy': 0.8153333333333334}\n"
     ]
    },
    {
     "data": {
      "application/vnd.jupyter.widget-view+json": {
       "model_id": "0d07c03724434cc29f4f8e89f26b4a40",
       "version_major": 2,
       "version_minor": 0
      },
      "text/plain": [
       "Epoch 116/ 150:   0%|          | 0/1563 [00:00<?, ?it/s]"
      ]
     },
     "metadata": {},
     "output_type": "display_data"
    },
    {
     "data": {
      "application/vnd.jupyter.widget-view+json": {
       "model_id": "be5be44d41ab4f33801037ef0b6fa556",
       "version_major": 2,
       "version_minor": 0
      },
      "text/plain": [
       "  0%|          | 0/94 [00:00<?, ?it/s]"
      ]
     },
     "metadata": {},
     "output_type": "display_data"
    },
    {
     "name": "stdout",
     "output_type": "stream",
     "text": [
      "Epoch 116/150, Training Loss: 6.0377960205078125, Validation Loss: 6.128529320371912, Validation Accuracy: {'accuracy': 0.8156666666666667}\n"
     ]
    },
    {
     "data": {
      "application/vnd.jupyter.widget-view+json": {
       "model_id": "25bb97a2bc38411789a38f7243653f0d",
       "version_major": 2,
       "version_minor": 0
      },
      "text/plain": [
       "Epoch 117/ 150:   0%|          | 0/1563 [00:00<?, ?it/s]"
      ]
     },
     "metadata": {},
     "output_type": "display_data"
    },
    {
     "data": {
      "application/vnd.jupyter.widget-view+json": {
       "model_id": "5fd2106cce8640f08be6825bc33e1bf8",
       "version_major": 2,
       "version_minor": 0
      },
      "text/plain": [
       "  0%|          | 0/94 [00:00<?, ?it/s]"
      ]
     },
     "metadata": {},
     "output_type": "display_data"
    },
    {
     "name": "stdout",
     "output_type": "stream",
     "text": [
      "Epoch 117/150, Training Loss: 6.036762237548828, Validation Loss: 6.128768286806472, Validation Accuracy: {'accuracy': 0.8156666666666667}\n"
     ]
    },
    {
     "data": {
      "application/vnd.jupyter.widget-view+json": {
       "model_id": "3a4b85cae9eb448b9dfc0a7aed51a86b",
       "version_major": 2,
       "version_minor": 0
      },
      "text/plain": [
       "Epoch 118/ 150:   0%|          | 0/1563 [00:00<?, ?it/s]"
      ]
     },
     "metadata": {},
     "output_type": "display_data"
    },
    {
     "data": {
      "application/vnd.jupyter.widget-view+json": {
       "model_id": "a26a2f418e23460f90b312a2b84fd22f",
       "version_major": 2,
       "version_minor": 0
      },
      "text/plain": [
       "  0%|          | 0/94 [00:00<?, ?it/s]"
      ]
     },
     "metadata": {},
     "output_type": "display_data"
    },
    {
     "name": "stdout",
     "output_type": "stream",
     "text": [
      "Epoch 118/150, Training Loss: 6.035732746124268, Validation Loss: 6.128724788097625, Validation Accuracy: {'accuracy': 0.8146666666666667}\n"
     ]
    },
    {
     "data": {
      "application/vnd.jupyter.widget-view+json": {
       "model_id": "a3ac346a159545cc9a1cf698153ed8a9",
       "version_major": 2,
       "version_minor": 0
      },
      "text/plain": [
       "Epoch 119/ 150:   0%|          | 0/1563 [00:00<?, ?it/s]"
      ]
     },
     "metadata": {},
     "output_type": "display_data"
    },
    {
     "data": {
      "application/vnd.jupyter.widget-view+json": {
       "model_id": "25a9d8c7d2114878be15691513cb9edd",
       "version_major": 2,
       "version_minor": 0
      },
      "text/plain": [
       "  0%|          | 0/94 [00:00<?, ?it/s]"
      ]
     },
     "metadata": {},
     "output_type": "display_data"
    },
    {
     "name": "stdout",
     "output_type": "stream",
     "text": [
      "Epoch 119/150, Training Loss: 6.034713268280029, Validation Loss: 6.128567604308433, Validation Accuracy: {'accuracy': 0.8143333333333334}\n"
     ]
    },
    {
     "data": {
      "application/vnd.jupyter.widget-view+json": {
       "model_id": "4267decc586e4b879fe9a1e1c34ced2a",
       "version_major": 2,
       "version_minor": 0
      },
      "text/plain": [
       "Epoch 120/ 150:   0%|          | 0/1563 [00:00<?, ?it/s]"
      ]
     },
     "metadata": {},
     "output_type": "display_data"
    },
    {
     "data": {
      "application/vnd.jupyter.widget-view+json": {
       "model_id": "ca359fe38c3e4b1897dfb7d10c671dca",
       "version_major": 2,
       "version_minor": 0
      },
      "text/plain": [
       "  0%|          | 0/94 [00:00<?, ?it/s]"
      ]
     },
     "metadata": {},
     "output_type": "display_data"
    },
    {
     "name": "stdout",
     "output_type": "stream",
     "text": [
      "Epoch 120/150, Training Loss: 6.033694267272949, Validation Loss: 6.128755356403107, Validation Accuracy: {'accuracy': 0.8153333333333334}\n"
     ]
    },
    {
     "data": {
      "application/vnd.jupyter.widget-view+json": {
       "model_id": "0eb5b81a41b74df397a3c88e53d7cc89",
       "version_major": 2,
       "version_minor": 0
      },
      "text/plain": [
       "Epoch 121/ 150:   0%|          | 0/1563 [00:00<?, ?it/s]"
      ]
     },
     "metadata": {},
     "output_type": "display_data"
    },
    {
     "data": {
      "application/vnd.jupyter.widget-view+json": {
       "model_id": "693da7864208437b9e5e020068f19387",
       "version_major": 2,
       "version_minor": 0
      },
      "text/plain": [
       "  0%|          | 0/94 [00:00<?, ?it/s]"
      ]
     },
     "metadata": {},
     "output_type": "display_data"
    },
    {
     "name": "stdout",
     "output_type": "stream",
     "text": [
      "Epoch 121/150, Training Loss: 6.032680988311768, Validation Loss: 6.127453631543099, Validation Accuracy: {'accuracy': 0.8156666666666667}\n"
     ]
    },
    {
     "data": {
      "application/vnd.jupyter.widget-view+json": {
       "model_id": "a8b7b5068645478c98b03d8d998b27aa",
       "version_major": 2,
       "version_minor": 0
      },
      "text/plain": [
       "Epoch 122/ 150:   0%|          | 0/1563 [00:00<?, ?it/s]"
      ]
     },
     "metadata": {},
     "output_type": "display_data"
    },
    {
     "data": {
      "application/vnd.jupyter.widget-view+json": {
       "model_id": "6b4dae166e334f6a9dbf4f5599361a44",
       "version_major": 2,
       "version_minor": 0
      },
      "text/plain": [
       "  0%|          | 0/94 [00:00<?, ?it/s]"
      ]
     },
     "metadata": {},
     "output_type": "display_data"
    },
    {
     "name": "stdout",
     "output_type": "stream",
     "text": [
      "Epoch 122/150, Training Loss: 6.031673431396484, Validation Loss: 6.1270443936611745, Validation Accuracy: {'accuracy': 0.815}\n"
     ]
    },
    {
     "data": {
      "application/vnd.jupyter.widget-view+json": {
       "model_id": "65cd9fddf93e47868caa73a82f9bcfda",
       "version_major": 2,
       "version_minor": 0
      },
      "text/plain": [
       "Epoch 123/ 150:   0%|          | 0/1563 [00:00<?, ?it/s]"
      ]
     },
     "metadata": {},
     "output_type": "display_data"
    },
    {
     "data": {
      "application/vnd.jupyter.widget-view+json": {
       "model_id": "f11b3f93241c4abc90fb5b2f8542e157",
       "version_major": 2,
       "version_minor": 0
      },
      "text/plain": [
       "  0%|          | 0/94 [00:00<?, ?it/s]"
      ]
     },
     "metadata": {},
     "output_type": "display_data"
    },
    {
     "name": "stdout",
     "output_type": "stream",
     "text": [
      "Epoch 123/150, Training Loss: 6.030673027038574, Validation Loss: 6.126750986626807, Validation Accuracy: {'accuracy': 0.8153333333333334}\n"
     ]
    },
    {
     "data": {
      "application/vnd.jupyter.widget-view+json": {
       "model_id": "5c82e7c8697f4b62a9fb1ff3e0b8ebed",
       "version_major": 2,
       "version_minor": 0
      },
      "text/plain": [
       "Epoch 124/ 150:   0%|          | 0/1563 [00:00<?, ?it/s]"
      ]
     },
     "metadata": {},
     "output_type": "display_data"
    },
    {
     "data": {
      "application/vnd.jupyter.widget-view+json": {
       "model_id": "e5a49fa9a9ee4ddebe7c76ebadcb1ec5",
       "version_major": 2,
       "version_minor": 0
      },
      "text/plain": [
       "  0%|          | 0/94 [00:00<?, ?it/s]"
      ]
     },
     "metadata": {},
     "output_type": "display_data"
    },
    {
     "name": "stdout",
     "output_type": "stream",
     "text": [
      "Epoch 124/150, Training Loss: 6.029676914215088, Validation Loss: 6.1274028889676355, Validation Accuracy: {'accuracy': 0.8153333333333334}\n"
     ]
    },
    {
     "data": {
      "application/vnd.jupyter.widget-view+json": {
       "model_id": "cde54e16803347b3bb426f07b191e12b",
       "version_major": 2,
       "version_minor": 0
      },
      "text/plain": [
       "Epoch 125/ 150:   0%|          | 0/1563 [00:00<?, ?it/s]"
      ]
     },
     "metadata": {},
     "output_type": "display_data"
    },
    {
     "data": {
      "application/vnd.jupyter.widget-view+json": {
       "model_id": "89f696988c4c46009653dc364a24d7e3",
       "version_major": 2,
       "version_minor": 0
      },
      "text/plain": [
       "  0%|          | 0/94 [00:00<?, ?it/s]"
      ]
     },
     "metadata": {},
     "output_type": "display_data"
    },
    {
     "name": "stdout",
     "output_type": "stream",
     "text": [
      "Epoch 125/150, Training Loss: 6.028688907623291, Validation Loss: 6.12631837357866, Validation Accuracy: {'accuracy': 0.8153333333333334}\n"
     ]
    },
    {
     "data": {
      "application/vnd.jupyter.widget-view+json": {
       "model_id": "da04407ac18f4f80b39502a12272ef36",
       "version_major": 2,
       "version_minor": 0
      },
      "text/plain": [
       "Epoch 126/ 150:   0%|          | 0/1563 [00:00<?, ?it/s]"
      ]
     },
     "metadata": {},
     "output_type": "display_data"
    },
    {
     "data": {
      "application/vnd.jupyter.widget-view+json": {
       "model_id": "31aab0c0271240699e2a0f137a484039",
       "version_major": 2,
       "version_minor": 0
      },
      "text/plain": [
       "  0%|          | 0/94 [00:00<?, ?it/s]"
      ]
     },
     "metadata": {},
     "output_type": "display_data"
    },
    {
     "name": "stdout",
     "output_type": "stream",
     "text": [
      "Epoch 126/150, Training Loss: 6.027701377868652, Validation Loss: 6.126682819204127, Validation Accuracy: {'accuracy': 0.8156666666666667}\n"
     ]
    },
    {
     "data": {
      "application/vnd.jupyter.widget-view+json": {
       "model_id": "efcc0d6e0c7f4926858447b0984beb05",
       "version_major": 2,
       "version_minor": 0
      },
      "text/plain": [
       "Epoch 127/ 150:   0%|          | 0/1563 [00:00<?, ?it/s]"
      ]
     },
     "metadata": {},
     "output_type": "display_data"
    },
    {
     "data": {
      "application/vnd.jupyter.widget-view+json": {
       "model_id": "783dd14a4b9b433c98b5146c62e1c455",
       "version_major": 2,
       "version_minor": 0
      },
      "text/plain": [
       "  0%|          | 0/94 [00:00<?, ?it/s]"
      ]
     },
     "metadata": {},
     "output_type": "display_data"
    },
    {
     "name": "stdout",
     "output_type": "stream",
     "text": [
      "Epoch 127/150, Training Loss: 6.0267229080200195, Validation Loss: 6.126298534109237, Validation Accuracy: {'accuracy': 0.815}\n"
     ]
    },
    {
     "data": {
      "application/vnd.jupyter.widget-view+json": {
       "model_id": "273d455001194fbeaa8668d0b8a21448",
       "version_major": 2,
       "version_minor": 0
      },
      "text/plain": [
       "Epoch 128/ 150:   0%|          | 0/1563 [00:00<?, ?it/s]"
      ]
     },
     "metadata": {},
     "output_type": "display_data"
    },
    {
     "data": {
      "application/vnd.jupyter.widget-view+json": {
       "model_id": "b2dde6fc34f44c8dadb45adb1313d6d7",
       "version_major": 2,
       "version_minor": 0
      },
      "text/plain": [
       "  0%|          | 0/94 [00:00<?, ?it/s]"
      ]
     },
     "metadata": {},
     "output_type": "display_data"
    },
    {
     "name": "stdout",
     "output_type": "stream",
     "text": [
      "Epoch 128/150, Training Loss: 6.025749683380127, Validation Loss: 6.126504116869987, Validation Accuracy: {'accuracy': 0.8156666666666667}\n"
     ]
    },
    {
     "data": {
      "application/vnd.jupyter.widget-view+json": {
       "model_id": "79e0a3d5905e435594326485134b8e5a",
       "version_major": 2,
       "version_minor": 0
      },
      "text/plain": [
       "Epoch 129/ 150:   0%|          | 0/1563 [00:00<?, ?it/s]"
      ]
     },
     "metadata": {},
     "output_type": "display_data"
    },
    {
     "data": {
      "application/vnd.jupyter.widget-view+json": {
       "model_id": "3fc8d16ec77449b586145de181e01566",
       "version_major": 2,
       "version_minor": 0
      },
      "text/plain": [
       "  0%|          | 0/94 [00:00<?, ?it/s]"
      ]
     },
     "metadata": {},
     "output_type": "display_data"
    },
    {
     "name": "stdout",
     "output_type": "stream",
     "text": [
      "Epoch 129/150, Training Loss: 6.024780750274658, Validation Loss: 6.125303821360811, Validation Accuracy: {'accuracy': 0.8156666666666667}\n"
     ]
    },
    {
     "data": {
      "application/vnd.jupyter.widget-view+json": {
       "model_id": "9a2428b44ceb4b56887e6df61949e378",
       "version_major": 2,
       "version_minor": 0
      },
      "text/plain": [
       "Epoch 130/ 150:   0%|          | 0/1563 [00:00<?, ?it/s]"
      ]
     },
     "metadata": {},
     "output_type": "display_data"
    },
    {
     "data": {
      "application/vnd.jupyter.widget-view+json": {
       "model_id": "c82b2bd5517242ea90f151fbc32f7e31",
       "version_major": 2,
       "version_minor": 0
      },
      "text/plain": [
       "  0%|          | 0/94 [00:00<?, ?it/s]"
      ]
     },
     "metadata": {},
     "output_type": "display_data"
    },
    {
     "name": "stdout",
     "output_type": "stream",
     "text": [
      "Epoch 130/150, Training Loss: 6.02381706237793, Validation Loss: 6.125590131637898, Validation Accuracy: {'accuracy': 0.816}\n"
     ]
    },
    {
     "data": {
      "application/vnd.jupyter.widget-view+json": {
       "model_id": "796a70dbc8ee47679b3c872e4f053d07",
       "version_major": 2,
       "version_minor": 0
      },
      "text/plain": [
       "Epoch 131/ 150:   0%|          | 0/1563 [00:00<?, ?it/s]"
      ]
     },
     "metadata": {},
     "output_type": "display_data"
    },
    {
     "data": {
      "application/vnd.jupyter.widget-view+json": {
       "model_id": "11a680e0cdb541c39d3096362d77522c",
       "version_major": 2,
       "version_minor": 0
      },
      "text/plain": [
       "  0%|          | 0/94 [00:00<?, ?it/s]"
      ]
     },
     "metadata": {},
     "output_type": "display_data"
    },
    {
     "name": "stdout",
     "output_type": "stream",
     "text": [
      "Epoch 131/150, Training Loss: 6.022860050201416, Validation Loss: 6.125463759645503, Validation Accuracy: {'accuracy': 0.8166666666666667}\n"
     ]
    },
    {
     "data": {
      "application/vnd.jupyter.widget-view+json": {
       "model_id": "be79dc274d0d49c485bd52a0d8de5fb2",
       "version_major": 2,
       "version_minor": 0
      },
      "text/plain": [
       "Epoch 132/ 150:   0%|          | 0/1563 [00:00<?, ?it/s]"
      ]
     },
     "metadata": {},
     "output_type": "display_data"
    },
    {
     "data": {
      "application/vnd.jupyter.widget-view+json": {
       "model_id": "6105affdbade4def83ed183041bda8ae",
       "version_major": 2,
       "version_minor": 0
      },
      "text/plain": [
       "  0%|          | 0/94 [00:00<?, ?it/s]"
      ]
     },
     "metadata": {},
     "output_type": "display_data"
    },
    {
     "name": "stdout",
     "output_type": "stream",
     "text": [
      "Epoch 132/150, Training Loss: 6.02191162109375, Validation Loss: 6.1249594384051385, Validation Accuracy: {'accuracy': 0.817}\n"
     ]
    },
    {
     "data": {
      "application/vnd.jupyter.widget-view+json": {
       "model_id": "61ab5393ec59408ba12c1543967b7e2a",
       "version_major": 2,
       "version_minor": 0
      },
      "text/plain": [
       "Epoch 133/ 150:   0%|          | 0/1563 [00:00<?, ?it/s]"
      ]
     },
     "metadata": {},
     "output_type": "display_data"
    },
    {
     "data": {
      "application/vnd.jupyter.widget-view+json": {
       "model_id": "c859567282604d82aa629d74dbf44f09",
       "version_major": 2,
       "version_minor": 0
      },
      "text/plain": [
       "  0%|          | 0/94 [00:00<?, ?it/s]"
      ]
     },
     "metadata": {},
     "output_type": "display_data"
    },
    {
     "name": "stdout",
     "output_type": "stream",
     "text": [
      "Epoch 133/150, Training Loss: 6.020966529846191, Validation Loss: 6.124204458074367, Validation Accuracy: {'accuracy': 0.817}\n"
     ]
    },
    {
     "data": {
      "application/vnd.jupyter.widget-view+json": {
       "model_id": "e4a07c034c64433e9fa2a0e73a94aca1",
       "version_major": 2,
       "version_minor": 0
      },
      "text/plain": [
       "Epoch 134/ 150:   0%|          | 0/1563 [00:00<?, ?it/s]"
      ]
     },
     "metadata": {},
     "output_type": "display_data"
    },
    {
     "data": {
      "application/vnd.jupyter.widget-view+json": {
       "model_id": "eee0458dc6264d538b5a93cf0f683f5e",
       "version_major": 2,
       "version_minor": 0
      },
      "text/plain": [
       "  0%|          | 0/94 [00:00<?, ?it/s]"
      ]
     },
     "metadata": {},
     "output_type": "display_data"
    },
    {
     "name": "stdout",
     "output_type": "stream",
     "text": [
      "Epoch 134/150, Training Loss: 6.020026683807373, Validation Loss: 6.125196482272858, Validation Accuracy: {'accuracy': 0.8173333333333334}\n"
     ]
    },
    {
     "data": {
      "application/vnd.jupyter.widget-view+json": {
       "model_id": "5c8ee2443af54ee39fd0f11f6fe5e353",
       "version_major": 2,
       "version_minor": 0
      },
      "text/plain": [
       "Epoch 135/ 150:   0%|          | 0/1563 [00:00<?, ?it/s]"
      ]
     },
     "metadata": {},
     "output_type": "display_data"
    },
    {
     "data": {
      "application/vnd.jupyter.widget-view+json": {
       "model_id": "2971f17746784feb959151580b2f7d43",
       "version_major": 2,
       "version_minor": 0
      },
      "text/plain": [
       "  0%|          | 0/94 [00:00<?, ?it/s]"
      ]
     },
     "metadata": {},
     "output_type": "display_data"
    },
    {
     "name": "stdout",
     "output_type": "stream",
     "text": [
      "Epoch 135/150, Training Loss: 6.019099235534668, Validation Loss: 6.1249006707617575, Validation Accuracy: {'accuracy': 0.817}\n"
     ]
    },
    {
     "data": {
      "application/vnd.jupyter.widget-view+json": {
       "model_id": "b7b3753377524065bb72493c4a20f1ce",
       "version_major": 2,
       "version_minor": 0
      },
      "text/plain": [
       "Epoch 136/ 150:   0%|          | 0/1563 [00:00<?, ?it/s]"
      ]
     },
     "metadata": {},
     "output_type": "display_data"
    },
    {
     "data": {
      "application/vnd.jupyter.widget-view+json": {
       "model_id": "ca04942836e54c9a999add696b59b2e7",
       "version_major": 2,
       "version_minor": 0
      },
      "text/plain": [
       "  0%|          | 0/94 [00:00<?, ?it/s]"
      ]
     },
     "metadata": {},
     "output_type": "display_data"
    },
    {
     "name": "stdout",
     "output_type": "stream",
     "text": [
      "Epoch 136/150, Training Loss: 6.0181660652160645, Validation Loss: 6.124265604830803, Validation Accuracy: {'accuracy': 0.817}\n"
     ]
    },
    {
     "data": {
      "application/vnd.jupyter.widget-view+json": {
       "model_id": "913c8a3245a14c76a6c05c1bcb90a0fb",
       "version_major": 2,
       "version_minor": 0
      },
      "text/plain": [
       "Epoch 137/ 150:   0%|          | 0/1563 [00:00<?, ?it/s]"
      ]
     },
     "metadata": {},
     "output_type": "display_data"
    },
    {
     "data": {
      "application/vnd.jupyter.widget-view+json": {
       "model_id": "cc2a83f18a164d9f9ce8421c1f8be1ea",
       "version_major": 2,
       "version_minor": 0
      },
      "text/plain": [
       "  0%|          | 0/94 [00:00<?, ?it/s]"
      ]
     },
     "metadata": {},
     "output_type": "display_data"
    },
    {
     "name": "stdout",
     "output_type": "stream",
     "text": [
      "Epoch 137/150, Training Loss: 6.017245769500732, Validation Loss: 6.1242533338830825, Validation Accuracy: {'accuracy': 0.818}\n"
     ]
    },
    {
     "data": {
      "application/vnd.jupyter.widget-view+json": {
       "model_id": "f4fb9b6613434187bc03e0a57bea60c7",
       "version_major": 2,
       "version_minor": 0
      },
      "text/plain": [
       "Epoch 138/ 150:   0%|          | 0/1563 [00:00<?, ?it/s]"
      ]
     },
     "metadata": {},
     "output_type": "display_data"
    },
    {
     "data": {
      "application/vnd.jupyter.widget-view+json": {
       "model_id": "e2e72826808c45e19771dae0fd5ebb4c",
       "version_major": 2,
       "version_minor": 0
      },
      "text/plain": [
       "  0%|          | 0/94 [00:00<?, ?it/s]"
      ]
     },
     "metadata": {},
     "output_type": "display_data"
    },
    {
     "name": "stdout",
     "output_type": "stream",
     "text": [
      "Epoch 138/150, Training Loss: 6.016334533691406, Validation Loss: 6.122938866310931, Validation Accuracy: {'accuracy': 0.817}\n"
     ]
    },
    {
     "data": {
      "application/vnd.jupyter.widget-view+json": {
       "model_id": "848ca309e33b457eb32dedcb70a49e22",
       "version_major": 2,
       "version_minor": 0
      },
      "text/plain": [
       "Epoch 139/ 150:   0%|          | 0/1563 [00:00<?, ?it/s]"
      ]
     },
     "metadata": {},
     "output_type": "display_data"
    },
    {
     "data": {
      "application/vnd.jupyter.widget-view+json": {
       "model_id": "e189421a6e7a49d2bb5fedba9cdcd24e",
       "version_major": 2,
       "version_minor": 0
      },
      "text/plain": [
       "  0%|          | 0/94 [00:00<?, ?it/s]"
      ]
     },
     "metadata": {},
     "output_type": "display_data"
    },
    {
     "name": "stdout",
     "output_type": "stream",
     "text": [
      "Epoch 139/150, Training Loss: 6.015423774719238, Validation Loss: 6.123682093113027, Validation Accuracy: {'accuracy': 0.818}\n"
     ]
    },
    {
     "data": {
      "application/vnd.jupyter.widget-view+json": {
       "model_id": "065bf2b1ce694aca8771b5027e87fa71",
       "version_major": 2,
       "version_minor": 0
      },
      "text/plain": [
       "Epoch 140/ 150:   0%|          | 0/1563 [00:00<?, ?it/s]"
      ]
     },
     "metadata": {},
     "output_type": "display_data"
    },
    {
     "data": {
      "application/vnd.jupyter.widget-view+json": {
       "model_id": "1e5af27205e7496f9825194788fb4690",
       "version_major": 2,
       "version_minor": 0
      },
      "text/plain": [
       "  0%|          | 0/94 [00:00<?, ?it/s]"
      ]
     },
     "metadata": {},
     "output_type": "display_data"
    },
    {
     "name": "stdout",
     "output_type": "stream",
     "text": [
      "Epoch 140/150, Training Loss: 6.014520645141602, Validation Loss: 6.123543536409419, Validation Accuracy: {'accuracy': 0.8186666666666667}\n"
     ]
    },
    {
     "data": {
      "application/vnd.jupyter.widget-view+json": {
       "model_id": "1667907f86b44aba95330ba4a5ee33d0",
       "version_major": 2,
       "version_minor": 0
      },
      "text/plain": [
       "Epoch 141/ 150:   0%|          | 0/1563 [00:00<?, ?it/s]"
      ]
     },
     "metadata": {},
     "output_type": "display_data"
    },
    {
     "data": {
      "application/vnd.jupyter.widget-view+json": {
       "model_id": "acc160fcdba74471951824f8fbbf4941",
       "version_major": 2,
       "version_minor": 0
      },
      "text/plain": [
       "  0%|          | 0/94 [00:00<?, ?it/s]"
      ]
     },
     "metadata": {},
     "output_type": "display_data"
    },
    {
     "name": "stdout",
     "output_type": "stream",
     "text": [
      "Epoch 141/150, Training Loss: 6.0136260986328125, Validation Loss: 6.122840739311056, Validation Accuracy: {'accuracy': 0.818}\n"
     ]
    },
    {
     "data": {
      "application/vnd.jupyter.widget-view+json": {
       "model_id": "1fbb6b08c0af473a9c5e115068b14c8e",
       "version_major": 2,
       "version_minor": 0
      },
      "text/plain": [
       "Epoch 142/ 150:   0%|          | 0/1563 [00:00<?, ?it/s]"
      ]
     },
     "metadata": {},
     "output_type": "display_data"
    },
    {
     "data": {
      "application/vnd.jupyter.widget-view+json": {
       "model_id": "77d50ceee6a4418ab20d00cf84439c85",
       "version_major": 2,
       "version_minor": 0
      },
      "text/plain": [
       "  0%|          | 0/94 [00:00<?, ?it/s]"
      ]
     },
     "metadata": {},
     "output_type": "display_data"
    },
    {
     "name": "stdout",
     "output_type": "stream",
     "text": [
      "Epoch 142/150, Training Loss: 6.0127339363098145, Validation Loss: 6.123146858621151, Validation Accuracy: {'accuracy': 0.8186666666666667}\n"
     ]
    },
    {
     "data": {
      "application/vnd.jupyter.widget-view+json": {
       "model_id": "48e61a0ebaf848789fa29058c3a0f189",
       "version_major": 2,
       "version_minor": 0
      },
      "text/plain": [
       "Epoch 143/ 150:   0%|          | 0/1563 [00:00<?, ?it/s]"
      ]
     },
     "metadata": {},
     "output_type": "display_data"
    },
    {
     "data": {
      "application/vnd.jupyter.widget-view+json": {
       "model_id": "5fdda23c6e714ad595f9aa312cfafa6c",
       "version_major": 2,
       "version_minor": 0
      },
      "text/plain": [
       "  0%|          | 0/94 [00:00<?, ?it/s]"
      ]
     },
     "metadata": {},
     "output_type": "display_data"
    },
    {
     "name": "stdout",
     "output_type": "stream",
     "text": [
      "Epoch 143/150, Training Loss: 6.011851787567139, Validation Loss: 6.122749151067531, Validation Accuracy: {'accuracy': 0.8186666666666667}\n"
     ]
    },
    {
     "data": {
      "application/vnd.jupyter.widget-view+json": {
       "model_id": "566af4b7eb704163ac398faa2584febc",
       "version_major": 2,
       "version_minor": 0
      },
      "text/plain": [
       "Epoch 144/ 150:   0%|          | 0/1563 [00:00<?, ?it/s]"
      ]
     },
     "metadata": {},
     "output_type": "display_data"
    },
    {
     "name": "stderr",
     "output_type": "stream",
     "text": [
      "IOPub message rate exceeded.\n",
      "The Jupyter server will temporarily stop sending output\n",
      "to the client in order to avoid crashing it.\n",
      "To change this limit, set the config variable\n",
      "`--ServerApp.iopub_msg_rate_limit`.\n",
      "\n",
      "Current values:\n",
      "ServerApp.iopub_msg_rate_limit=1000.0 (msgs/sec)\n",
      "ServerApp.rate_limit_window=3.0 (secs)\n",
      "\n"
     ]
    },
    {
     "data": {
      "application/vnd.jupyter.widget-view+json": {
       "model_id": "5b3d44f3cf1f44cf907072d54712dbcb",
       "version_major": 2,
       "version_minor": 0
      },
      "text/plain": [
       "  0%|          | 0/94 [00:00<?, ?it/s]"
      ]
     },
     "metadata": {},
     "output_type": "display_data"
    },
    {
     "name": "stdout",
     "output_type": "stream",
     "text": [
      "Epoch 148/150, Training Loss: 6.0075178146362305, Validation Loss: 6.12186088460557, Validation Accuracy: {'accuracy': 0.8173333333333334}\n"
     ]
    },
    {
     "data": {
      "application/vnd.jupyter.widget-view+json": {
       "model_id": "396734f5e153451f86567bcdac014691",
       "version_major": 2,
       "version_minor": 0
      },
      "text/plain": [
       "Epoch 149/ 150:   0%|          | 0/1563 [00:00<?, ?it/s]"
      ]
     },
     "metadata": {},
     "output_type": "display_data"
    },
    {
     "data": {
      "application/vnd.jupyter.widget-view+json": {
       "model_id": "d0ddf033a56c4fcfba961bf60403275f",
       "version_major": 2,
       "version_minor": 0
      },
      "text/plain": [
       "  0%|          | 0/94 [00:00<?, ?it/s]"
      ]
     },
     "metadata": {},
     "output_type": "display_data"
    },
    {
     "name": "stdout",
     "output_type": "stream",
     "text": [
      "Epoch 149/150, Training Loss: 6.006669998168945, Validation Loss: 6.1210163248346205, Validation Accuracy: {'accuracy': 0.819}\n"
     ]
    },
    {
     "data": {
      "application/vnd.jupyter.widget-view+json": {
       "model_id": "8171f0c7237246d48843c84502bc7af0",
       "version_major": 2,
       "version_minor": 0
      },
      "text/plain": [
       "Epoch 150/ 150:   0%|          | 0/1563 [00:00<?, ?it/s]"
      ]
     },
     "metadata": {},
     "output_type": "display_data"
    },
    {
     "name": "stderr",
     "output_type": "stream",
     "text": [
      "IOPub message rate exceeded.\n",
      "The Jupyter server will temporarily stop sending output\n",
      "to the client in order to avoid crashing it.\n",
      "To change this limit, set the config variable\n",
      "`--ServerApp.iopub_msg_rate_limit`.\n",
      "\n",
      "Current values:\n",
      "ServerApp.iopub_msg_rate_limit=1000.0 (msgs/sec)\n",
      "ServerApp.rate_limit_window=3.0 (secs)\n",
      "\n"
     ]
    }
   ],
   "source": [
    "model.to(device)\n",
    "run = wandb.init(project='cifar10-head', entity='semenov-andrei-v')\n",
    "\n",
    "num_epochs = 150\n",
    "for epoch in range(num_epochs):\n",
    "    model.train()\n",
    "    for batch in tqdm(train_loader_preprocessed, desc=f\"Epoch {epoch + 1}/ {num_epochs}\"):\n",
    "        optimizer.zero_grad()\n",
    "        \n",
    "        inputs, labels = batch\n",
    "        inputs = inputs.to(device)\n",
    "        targets = torch.tensor(labels, dtype=torch.long)\n",
    "        logits = model(**inputs).squeeze(0)\n",
    "        similarity = model.clip(**inputs).logits_per_image.to(device)\n",
    "        loss = criterion(logits, targets.to(device)) + clip_loss(similarity)\n",
    "        loss.backward()\n",
    "        optimizer.step()\n",
    "    \n",
    "    model.eval()\n",
    "    val_accuracy, avg_val_loss = val_loss_accuracy(model, val_loader_preprocessed)\n",
    "\n",
    "    wandb.log({\"Loss/Train\": loss.item(), \n",
    "               \"Loss/Validation\": avg_val_loss, \n",
    "               \"Accuracy/Validation\": val_accuracy['accuracy']}\n",
    "             )\n",
    "\n",
    "    print(f\"Epoch {epoch + 1}/{num_epochs}, Training Loss: {loss.item()}, Validation Loss: {avg_val_loss}, Validation Accuracy: {val_accuracy}\")\n",
    "\n",
    "model.eval()\n",
    "test_accuracy = get_test_accuracy(model, test_loader_preprocessed)\n",
    "wandb.log({\"Accuracy/Test\": test_accuracy['accuracy']})\n",
    "\n",
    "run.finish()"
   ]
  },
  {
   "cell_type": "code",
   "execution_count": null,
   "id": "093473fb-5c1f-4e09-a628-3d8919e8eb1e",
   "metadata": {},
   "outputs": [],
   "source": []
  }
 ],
 "metadata": {
  "kernelspec": {
   "display_name": "andronserv",
   "language": "python",
   "name": "andronserv"
  },
  "language_info": {
   "codemirror_mode": {
    "name": "ipython",
    "version": 3
   },
   "file_extension": ".py",
   "mimetype": "text/x-python",
   "name": "python",
   "nbconvert_exporter": "python",
   "pygments_lexer": "ipython3",
   "version": "3.10.13"
  }
 },
 "nbformat": 4,
 "nbformat_minor": 5
}
