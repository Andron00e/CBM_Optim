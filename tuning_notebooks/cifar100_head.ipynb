{
 "cells": [
  {
   "cell_type": "code",
   "execution_count": 2,
   "id": "453f2957-1e53-4a0b-9108-111d99a75d7c",
   "metadata": {
    "tags": []
   },
   "outputs": [
    {
     "name": "stderr",
     "output_type": "stream",
     "text": [
      "2023-11-16 12:46:25.035579: E tensorflow/compiler/xla/stream_executor/cuda/cuda_dnn.cc:9342] Unable to register cuDNN factory: Attempting to register factory for plugin cuDNN when one has already been registered\n",
      "2023-11-16 12:46:25.035689: E tensorflow/compiler/xla/stream_executor/cuda/cuda_fft.cc:609] Unable to register cuFFT factory: Attempting to register factory for plugin cuFFT when one has already been registered\n",
      "2023-11-16 12:46:25.035727: E tensorflow/compiler/xla/stream_executor/cuda/cuda_blas.cc:1518] Unable to register cuBLAS factory: Attempting to register factory for plugin cuBLAS when one has already been registered\n",
      "2023-11-16 12:46:25.045468: I tensorflow/core/platform/cpu_feature_guard.cc:182] This TensorFlow binary is optimized to use available CPU instructions in performance-critical operations.\n",
      "To enable the following instructions: AVX2 FMA, in other operations, rebuild TensorFlow with the appropriate compiler flags.\n",
      "2023-11-16 12:46:26.187567: W tensorflow/compiler/tf2tensorrt/utils/py_utils.cc:38] TF-TRT Warning: Could not find TensorRT\n",
      "/home/andreisemenov/training_utils.py:5: FutureWarning: load_metric is deprecated and will be removed in the next major version of datasets. Use 'evaluate.load' instead, from the new library 🤗 Evaluate: https://huggingface.co/docs/evaluate\n",
      "  metric = datasets.load_metric(\"accuracy\")\n"
     ]
    }
   ],
   "source": [
    "import os\n",
    "import sys\n",
    "import torch\n",
    "import random\n",
    "import configs\n",
    "import numpy as np\n",
    "import transformers\n",
    "import torch.nn as nn\n",
    "from PIL import Image\n",
    "import tensorflow as tf\n",
    "from tqdm.auto import tqdm\n",
    "from training_utils import val_loss_accuracy, get_test_accuracy"
   ]
  },
  {
   "cell_type": "code",
   "execution_count": 3,
   "id": "ce4ddcc9-6d73-40c5-9960-bfdb7d45f1e7",
   "metadata": {
    "tags": []
   },
   "outputs": [
    {
     "name": "stdout",
     "output_type": "stream",
     "text": [
      "There are 8 GPU(s) available.\n",
      "We will use the GPU: NVIDIA A100-SXM4-80GB\n"
     ]
    }
   ],
   "source": [
    "configs.set_seed(42)\n",
    "device = configs.set_device(2)"
   ]
  },
  {
   "cell_type": "code",
   "execution_count": 4,
   "id": "4cdf9a88-bab4-4fa2-a273-e292b60773f5",
   "metadata": {
    "tags": []
   },
   "outputs": [
    {
     "name": "stderr",
     "output_type": "stream",
     "text": [
      "\u001b[34m\u001b[1mwandb\u001b[0m: Currently logged in as: \u001b[33msemenov-andrei-v\u001b[0m. Use \u001b[1m`wandb login --relogin`\u001b[0m to force relogin\n"
     ]
    },
    {
     "data": {
      "text/plain": [
       "True"
      ]
     },
     "execution_count": 4,
     "metadata": {},
     "output_type": "execute_result"
    }
   ],
   "source": [
    "import wandb\n",
    "\n",
    "wandb.login()"
   ]
  },
  {
   "cell_type": "code",
   "execution_count": 5,
   "id": "c85a8110-3028-4115-873c-b1a3f0dd7652",
   "metadata": {
    "tags": []
   },
   "outputs": [],
   "source": [
    "import datasets\n",
    "\n",
    "metric = datasets.load_metric(\"accuracy\")"
   ]
  },
  {
   "cell_type": "markdown",
   "id": "73ff3f98-5a2f-49a8-b47e-32425f642d1c",
   "metadata": {},
   "source": [
    "data"
   ]
  },
  {
   "cell_type": "code",
   "execution_count": 6,
   "id": "88929975-a0ac-4106-a998-d7bed6ba9450",
   "metadata": {
    "tags": []
   },
   "outputs": [
    {
     "name": "stdout",
     "output_type": "stream",
     "text": [
      "50000 \n",
      "\n",
      "10000 \n",
      "\n",
      "60000\n"
     ]
    }
   ],
   "source": [
    "from tensorflow.keras.datasets import cifar100\n",
    "\n",
    "(train_images, train_labels), (test_images, test_labels) = cifar100.load_data()\n",
    "\n",
    "\n",
    "image_paths = []\n",
    "labels = []\n",
    "\n",
    "save_dir = 'cifar100_images'\n",
    "if not os.path.exists(save_dir):\n",
    "    os.makedirs(save_dir)\n",
    "\n",
    "for i in range(len(train_images)):\n",
    "    image_path = os.path.join(save_dir, f\"train_image_{i}.jpg\")\n",
    "    tf.keras.preprocessing.image.save_img(image_path, train_images[i])\n",
    "    image_paths.append(image_path)\n",
    "    labels.append(train_labels[i][0])\n",
    "\n",
    "\n",
    "for i in range(len(test_images)):\n",
    "    image_path = os.path.join(save_dir, f\"test_image_{i}.jpg\")\n",
    "    tf.keras.preprocessing.image.save_img(image_path, test_images[i])\n",
    "    image_paths.append(image_path)\n",
    "    labels.append(test_labels[i][0])\n",
    "\n",
    "print(len(train_images), \"\\n\")\n",
    "print(len(test_images), \"\\n\")\n",
    "print(len(image_paths))"
   ]
  },
  {
   "cell_type": "code",
   "execution_count": 7,
   "id": "35d565d4-42a1-4dbf-ad3b-10b793b1ed8c",
   "metadata": {
    "tags": []
   },
   "outputs": [
    {
     "name": "stdout",
     "output_type": "stream",
     "text": [
      "Dataset size: 60000 \n",
      "\n",
      "Train set: 50000 \n",
      "\n",
      "Validation set: 3000 \n",
      "\n",
      "Test set: 7000\n"
     ]
    }
   ],
   "source": [
    "import dataset_utils\n",
    "\n",
    "dataset = dataset_utils.CLIPDataset(list_image_path=image_paths, list_txt=labels)\n",
    "train_dataset, val_dataset, test_dataset = torch.utils.data.random_split(dataset, [50000, 3000, 7000])\n",
    "\n",
    "train_loader = torch.utils.data.DataLoader(train_dataset, batch_size=32, shuffle=True, collate_fn=dataset_utils.collate_fn, pin_memory=True)\n",
    "val_loader = torch.utils.data.DataLoader(val_dataset, batch_size=32, shuffle=False, collate_fn=dataset_utils.collate_fn, pin_memory=True)\n",
    "test_loader = torch.utils.data.DataLoader(test_dataset, batch_size=32, shuffle=False, collate_fn=dataset_utils.collate_fn, pin_memory=True)\n",
    "\n",
    "assert len(dataset) == len(image_paths)\n",
    "print(\"Dataset size: {}\".format(len(dataset)), \"\\n\")\n",
    "\n",
    "train_dataset, val_dataset, test_dataset = torch.utils.data.random_split(dataset, [50000, 3000, 7000])\n",
    "print(\"Train set: {}\".format(len(train_dataset)), \"\\n\")\n",
    "print(\"Validation set: {}\".format(len(val_dataset)), \"\\n\")\n",
    "print(\"Test set: {}\".format(len(test_dataset)))"
   ]
  },
  {
   "cell_type": "code",
   "execution_count": 8,
   "id": "e397c468-4ec1-440d-90a6-945bc178884c",
   "metadata": {
    "tags": []
   },
   "outputs": [],
   "source": [
    "def remove_prefixes(strings):\n",
    "    prefixes = ['a', 'an', 'the']\n",
    "    result = []\n",
    "\n",
    "    for string in strings:\n",
    "        words = string.split()\n",
    "        if words[0].lower() in prefixes:\n",
    "            result.append(' '.join(words[1:]))\n",
    "        else:\n",
    "            result.append(string)\n",
    "\n",
    "    return result\n",
    "\n",
    "with open(\"conceptnet_cifar10_filtered_new.txt\", \"r\") as f:\n",
    "    concepts = f.read().lower().split(\"\\n\")\n",
    "    concepts = remove_prefixes(concepts)"
   ]
  },
  {
   "cell_type": "code",
   "execution_count": 8,
   "id": "c65a56e2-ea1e-4de7-b0fa-c9e1892e5ec8",
   "metadata": {
    "tags": []
   },
   "outputs": [
    {
     "name": "stderr",
     "output_type": "stream",
     "text": [
      "100%|███████████████████████████████████████| 1563/1563 [04:49<00:00,  5.40it/s]\n",
      "100%|███████████████████████████████████████████| 94/94 [00:17<00:00,  5.47it/s]\n",
      "100%|█████████████████████████████████████████| 219/219 [00:39<00:00,  5.51it/s]\n"
     ]
    }
   ],
   "source": [
    "from transformers import CLIPModel, CLIPProcessor, AutoTokenizer\n",
    "\n",
    "train_loader_preprocessed = dataset_utils.preprocess_loader(train_loader, concepts)\n",
    "val_loader_preprocessed = dataset_utils.preprocess_loader(val_loader, concepts)\n",
    "test_loader_preprocessed = dataset_utils.preprocess_loader(test_loader, concepts)"
   ]
  },
  {
   "cell_type": "markdown",
   "id": "bb0c61af-4c4b-490f-b8d2-010554b8bfdc",
   "metadata": {},
   "source": [
    "model"
   ]
  },
  {
   "cell_type": "code",
   "execution_count": 12,
   "id": "b0451eaa-b521-441f-a197-1b237458a98f",
   "metadata": {
    "tags": []
   },
   "outputs": [],
   "source": [
    "class TuningCLIPhead(nn.Module):\n",
    "    def __init__(self, concepts: list, model_name: str=\"openai/clip-vit-base-patch32\"):\n",
    "        super().__init__()\n",
    "        self.clip = transformers.CLIPModel.from_pretrained(model_name)\n",
    "        self.processor = transformers.CLIPProcessor.from_pretrained(model_name)\n",
    "        for param in self.clip.parameters():\n",
    "            param.requires_grad=False\n",
    "        self.head = nn.Linear(len(concepts), 100, bias=False)\n",
    "\n",
    "    def forward(self, **batch):\n",
    "        out = self.clip(**batch).logits_per_image\n",
    "        return self.head(out)"
   ]
  },
  {
   "cell_type": "markdown",
   "id": "986bd35d-7e91-4765-b3ed-f9160ff57f48",
   "metadata": {},
   "source": [
    "training"
   ]
  },
  {
   "cell_type": "code",
   "execution_count": 13,
   "id": "79963646-3767-4d4c-93c3-6b0e9a0ae69c",
   "metadata": {
    "tags": []
   },
   "outputs": [],
   "source": [
    "torch.cuda.empty_cache()"
   ]
  },
  {
   "cell_type": "code",
   "execution_count": 14,
   "id": "08628092-691e-4346-bfdb-1f2525547e46",
   "metadata": {
    "tags": []
   },
   "outputs": [
    {
     "name": "stdout",
     "output_type": "stream",
     "text": [
      "Number of trainable parameters is: 12000\n"
     ]
    }
   ],
   "source": [
    "model = TuningCLIPhead(concepts=concepts)\n",
    "optimizer = torch.optim.Adam(model.parameters(), lr=0.001)\n",
    "criterion = nn.CrossEntropyLoss()\n",
    "\n",
    "print(\"Number of trainable parameters is: {}\".format(sum(p.numel() for p in model.parameters() if p.requires_grad == True)))\n",
    "\n",
    "for state in optimizer.state.values():\n",
    "    for k, v in state.items():\n",
    "        if isinstance(v, torch.Tensor):\n",
    "            state[k] = v.to(device)"
   ]
  },
  {
   "cell_type": "code",
   "execution_count": 13,
   "id": "f444ca61-5648-4a71-8f86-51814f78421c",
   "metadata": {
    "tags": []
   },
   "outputs": [],
   "source": [
    "@torch.no_grad()\n",
    "@torch.cuda.amp.autocast()\n",
    "def val_loss_accuracy(model, loader):\n",
    "    model.eval()\n",
    "    all_preds = []\n",
    "    all_labels = []\n",
    "    val_losses = []\n",
    "    for batch in tqdm(loader):\n",
    "        inputs, labels = batch\n",
    "        inputs = inputs.to(device)\n",
    "        logits = model(**inputs).squeeze(0)\n",
    "        targets = torch.tensor(labels, dtype=torch.long)\n",
    "        loss = criterion(logits, targets.to(device))\n",
    "        val_losses.append(loss.item())\n",
    "        preds = torch.argmax(logits, dim=-1)\n",
    "        all_preds.extend(preds.cpu().numpy())\n",
    "        all_labels.extend(labels)\n",
    "\n",
    "    val_accuracy = metric.compute(predictions=all_preds, references=all_labels)\n",
    "    avg_val_loss = sum(val_losses) / len(val_losses)\n",
    "    \n",
    "    return val_accuracy, avg_val_loss\n",
    "\n",
    "@torch.no_grad()\n",
    "@torch.cuda.amp.autocast()\n",
    "def get_test_accuracy(model, loader):\n",
    "    model.eval()\n",
    "    all_preds = []\n",
    "    all_labels = []\n",
    "    for batch in tqdm(loader):\n",
    "        inputs, labels = batch\n",
    "        inputs = inputs.to(device)\n",
    "        logits = model(**inputs).squeeze(0)\n",
    "        targets = torch.tensor(labels, dtype=torch.long)\n",
    "        preds = torch.argmax(logits, dim=-1)\n",
    "        all_preds.extend(preds.cpu().numpy())\n",
    "        all_labels.extend(labels)\n",
    "        \n",
    "    test_accuracy = metric.compute(predictions=all_preds, references=all_labels)\n",
    "    \n",
    "    return test_accuracy"
   ]
  },
  {
   "cell_type": "code",
   "execution_count": 16,
   "id": "48b23fd3-ad4d-4023-815a-901140b49cdd",
   "metadata": {
    "tags": []
   },
   "outputs": [
    {
     "data": {
      "text/html": [
       "Tracking run with wandb version 0.16.0"
      ],
      "text/plain": [
       "<IPython.core.display.HTML object>"
      ]
     },
     "metadata": {},
     "output_type": "display_data"
    },
    {
     "data": {
      "text/html": [
       "Run data is saved locally in <code>/home/andreisemenov/wandb/run-20231115_202033-epdojona</code>"
      ],
      "text/plain": [
       "<IPython.core.display.HTML object>"
      ]
     },
     "metadata": {},
     "output_type": "display_data"
    },
    {
     "data": {
      "text/html": [
       "Syncing run <strong><a href='https://wandb.ai/semenov-andrei-v/cifar100-head/runs/epdojona' target=\"_blank\">elated-thunder-9</a></strong> to <a href='https://wandb.ai/semenov-andrei-v/cifar100-head' target=\"_blank\">Weights & Biases</a> (<a href='https://wandb.me/run' target=\"_blank\">docs</a>)<br/>"
      ],
      "text/plain": [
       "<IPython.core.display.HTML object>"
      ]
     },
     "metadata": {},
     "output_type": "display_data"
    },
    {
     "data": {
      "text/html": [
       " View project at <a href='https://wandb.ai/semenov-andrei-v/cifar100-head' target=\"_blank\">https://wandb.ai/semenov-andrei-v/cifar100-head</a>"
      ],
      "text/plain": [
       "<IPython.core.display.HTML object>"
      ]
     },
     "metadata": {},
     "output_type": "display_data"
    },
    {
     "data": {
      "text/html": [
       " View run at <a href='https://wandb.ai/semenov-andrei-v/cifar100-head/runs/epdojona' target=\"_blank\">https://wandb.ai/semenov-andrei-v/cifar100-head/runs/epdojona</a>"
      ],
      "text/plain": [
       "<IPython.core.display.HTML object>"
      ]
     },
     "metadata": {},
     "output_type": "display_data"
    },
    {
     "data": {
      "application/vnd.jupyter.widget-view+json": {
       "model_id": "b55ccb4ae7c947d6a8884fce96830289",
       "version_major": 2,
       "version_minor": 0
      },
      "text/plain": [
       "Epoch 1/ 60:   0%|          | 0/1563 [00:00<?, ?it/s]"
      ]
     },
     "metadata": {},
     "output_type": "display_data"
    },
    {
     "data": {
      "application/vnd.jupyter.widget-view+json": {
       "model_id": "6d912c93d9904511bce360ad968a4077",
       "version_major": 2,
       "version_minor": 0
      },
      "text/plain": [
       "  0%|          | 0/94 [00:00<?, ?it/s]"
      ]
     },
     "metadata": {},
     "output_type": "display_data"
    },
    {
     "name": "stdout",
     "output_type": "stream",
     "text": [
      "Epoch 1/60, Loss: 5.463306427001953, Validation Accuracy: {'accuracy': 0.07133333333333333}\n"
     ]
    },
    {
     "data": {
      "application/vnd.jupyter.widget-view+json": {
       "model_id": "34dfe5c6bf944fd889459651c8eab1bb",
       "version_major": 2,
       "version_minor": 0
      },
      "text/plain": [
       "Epoch 2/ 60:   0%|          | 0/1563 [00:00<?, ?it/s]"
      ]
     },
     "metadata": {},
     "output_type": "display_data"
    },
    {
     "data": {
      "application/vnd.jupyter.widget-view+json": {
       "model_id": "4d459625646e48eba85300c630ec599a",
       "version_major": 2,
       "version_minor": 0
      },
      "text/plain": [
       "  0%|          | 0/94 [00:00<?, ?it/s]"
      ]
     },
     "metadata": {},
     "output_type": "display_data"
    },
    {
     "name": "stdout",
     "output_type": "stream",
     "text": [
      "Epoch 2/60, Loss: 4.903232574462891, Validation Accuracy: {'accuracy': 0.12666666666666668}\n"
     ]
    },
    {
     "data": {
      "application/vnd.jupyter.widget-view+json": {
       "model_id": "66e7a1a4cd6e477285ce14b5f856460a",
       "version_major": 2,
       "version_minor": 0
      },
      "text/plain": [
       "Epoch 3/ 60:   0%|          | 0/1563 [00:00<?, ?it/s]"
      ]
     },
     "metadata": {},
     "output_type": "display_data"
    },
    {
     "data": {
      "application/vnd.jupyter.widget-view+json": {
       "model_id": "577a7f07bb1f4d51a7c49f608faffe7e",
       "version_major": 2,
       "version_minor": 0
      },
      "text/plain": [
       "  0%|          | 0/94 [00:00<?, ?it/s]"
      ]
     },
     "metadata": {},
     "output_type": "display_data"
    },
    {
     "name": "stdout",
     "output_type": "stream",
     "text": [
      "Epoch 3/60, Loss: 4.532017230987549, Validation Accuracy: {'accuracy': 0.16566666666666666}\n"
     ]
    },
    {
     "data": {
      "application/vnd.jupyter.widget-view+json": {
       "model_id": "cb02fd678cbe4b5583919897e5e811ab",
       "version_major": 2,
       "version_minor": 0
      },
      "text/plain": [
       "Epoch 4/ 60:   0%|          | 0/1563 [00:00<?, ?it/s]"
      ]
     },
     "metadata": {},
     "output_type": "display_data"
    },
    {
     "data": {
      "application/vnd.jupyter.widget-view+json": {
       "model_id": "e37de8e4a4b042579c22f59aeef97f40",
       "version_major": 2,
       "version_minor": 0
      },
      "text/plain": [
       "  0%|          | 0/94 [00:00<?, ?it/s]"
      ]
     },
     "metadata": {},
     "output_type": "display_data"
    },
    {
     "name": "stdout",
     "output_type": "stream",
     "text": [
      "Epoch 4/60, Loss: 4.275141716003418, Validation Accuracy: {'accuracy': 0.19866666666666666}\n"
     ]
    },
    {
     "data": {
      "application/vnd.jupyter.widget-view+json": {
       "model_id": "0453d709e1fb4a6784e5bcc8deb21f33",
       "version_major": 2,
       "version_minor": 0
      },
      "text/plain": [
       "Epoch 5/ 60:   0%|          | 0/1563 [00:00<?, ?it/s]"
      ]
     },
     "metadata": {},
     "output_type": "display_data"
    },
    {
     "data": {
      "application/vnd.jupyter.widget-view+json": {
       "model_id": "17c6843b825b4b66adabc674aac6c6fb",
       "version_major": 2,
       "version_minor": 0
      },
      "text/plain": [
       "  0%|          | 0/94 [00:00<?, ?it/s]"
      ]
     },
     "metadata": {},
     "output_type": "display_data"
    },
    {
     "name": "stdout",
     "output_type": "stream",
     "text": [
      "Epoch 5/60, Loss: 4.102478504180908, Validation Accuracy: {'accuracy': 0.23066666666666666}\n"
     ]
    },
    {
     "data": {
      "application/vnd.jupyter.widget-view+json": {
       "model_id": "01c0490e44704ec288b45a6bd221d578",
       "version_major": 2,
       "version_minor": 0
      },
      "text/plain": [
       "Epoch 6/ 60:   0%|          | 0/1563 [00:00<?, ?it/s]"
      ]
     },
     "metadata": {},
     "output_type": "display_data"
    },
    {
     "data": {
      "application/vnd.jupyter.widget-view+json": {
       "model_id": "614f35260f4e4262a4c9b632b0ce1306",
       "version_major": 2,
       "version_minor": 0
      },
      "text/plain": [
       "  0%|          | 0/94 [00:00<?, ?it/s]"
      ]
     },
     "metadata": {},
     "output_type": "display_data"
    },
    {
     "name": "stdout",
     "output_type": "stream",
     "text": [
      "Epoch 6/60, Loss: 3.9665961265563965, Validation Accuracy: {'accuracy': 0.25333333333333335}\n"
     ]
    },
    {
     "data": {
      "application/vnd.jupyter.widget-view+json": {
       "model_id": "617e4fbec919414ab19f43e2be7f45df",
       "version_major": 2,
       "version_minor": 0
      },
      "text/plain": [
       "Epoch 7/ 60:   0%|          | 0/1563 [00:00<?, ?it/s]"
      ]
     },
     "metadata": {},
     "output_type": "display_data"
    },
    {
     "data": {
      "application/vnd.jupyter.widget-view+json": {
       "model_id": "be22cc03851a4aaf994fb7f4d6fa7edd",
       "version_major": 2,
       "version_minor": 0
      },
      "text/plain": [
       "  0%|          | 0/94 [00:00<?, ?it/s]"
      ]
     },
     "metadata": {},
     "output_type": "display_data"
    },
    {
     "name": "stdout",
     "output_type": "stream",
     "text": [
      "Epoch 7/60, Loss: 3.8958752155303955, Validation Accuracy: {'accuracy': 0.273}\n"
     ]
    },
    {
     "data": {
      "application/vnd.jupyter.widget-view+json": {
       "model_id": "96cf4bf506574ac1a8ef4a20ce5b28ae",
       "version_major": 2,
       "version_minor": 0
      },
      "text/plain": [
       "Epoch 8/ 60:   0%|          | 0/1563 [00:00<?, ?it/s]"
      ]
     },
     "metadata": {},
     "output_type": "display_data"
    },
    {
     "data": {
      "application/vnd.jupyter.widget-view+json": {
       "model_id": "628c2c88f3274672b702c0a3feaa89aa",
       "version_major": 2,
       "version_minor": 0
      },
      "text/plain": [
       "  0%|          | 0/94 [00:00<?, ?it/s]"
      ]
     },
     "metadata": {},
     "output_type": "display_data"
    },
    {
     "name": "stdout",
     "output_type": "stream",
     "text": [
      "Epoch 8/60, Loss: 3.866090774536133, Validation Accuracy: {'accuracy': 0.29033333333333333}\n"
     ]
    },
    {
     "data": {
      "application/vnd.jupyter.widget-view+json": {
       "model_id": "50c11849d94f4497981f55fb41346cc6",
       "version_major": 2,
       "version_minor": 0
      },
      "text/plain": [
       "Epoch 9/ 60:   0%|          | 0/1563 [00:00<?, ?it/s]"
      ]
     },
     "metadata": {},
     "output_type": "display_data"
    },
    {
     "data": {
      "application/vnd.jupyter.widget-view+json": {
       "model_id": "5d3f33dfad4741618c43a2927037f200",
       "version_major": 2,
       "version_minor": 0
      },
      "text/plain": [
       "  0%|          | 0/94 [00:00<?, ?it/s]"
      ]
     },
     "metadata": {},
     "output_type": "display_data"
    },
    {
     "name": "stdout",
     "output_type": "stream",
     "text": [
      "Epoch 9/60, Loss: 3.8298683166503906, Validation Accuracy: {'accuracy': 0.29733333333333334}\n"
     ]
    },
    {
     "data": {
      "application/vnd.jupyter.widget-view+json": {
       "model_id": "d29c6f39910747e88096b647744b27b0",
       "version_major": 2,
       "version_minor": 0
      },
      "text/plain": [
       "Epoch 10/ 60:   0%|          | 0/1563 [00:00<?, ?it/s]"
      ]
     },
     "metadata": {},
     "output_type": "display_data"
    },
    {
     "data": {
      "application/vnd.jupyter.widget-view+json": {
       "model_id": "ec8317dced37459cb155a7ff3d02380f",
       "version_major": 2,
       "version_minor": 0
      },
      "text/plain": [
       "  0%|          | 0/94 [00:00<?, ?it/s]"
      ]
     },
     "metadata": {},
     "output_type": "display_data"
    },
    {
     "name": "stdout",
     "output_type": "stream",
     "text": [
      "Epoch 10/60, Loss: 3.7827839851379395, Validation Accuracy: {'accuracy': 0.31066666666666665}\n"
     ]
    },
    {
     "data": {
      "application/vnd.jupyter.widget-view+json": {
       "model_id": "871006b52fc54e439ee01163268b701b",
       "version_major": 2,
       "version_minor": 0
      },
      "text/plain": [
       "Epoch 11/ 60:   0%|          | 0/1563 [00:00<?, ?it/s]"
      ]
     },
     "metadata": {},
     "output_type": "display_data"
    },
    {
     "data": {
      "application/vnd.jupyter.widget-view+json": {
       "model_id": "8a653ff23c6a4c9a944a383ede1a7caf",
       "version_major": 2,
       "version_minor": 0
      },
      "text/plain": [
       "  0%|          | 0/94 [00:00<?, ?it/s]"
      ]
     },
     "metadata": {},
     "output_type": "display_data"
    },
    {
     "name": "stdout",
     "output_type": "stream",
     "text": [
      "Epoch 11/60, Loss: 3.7235217094421387, Validation Accuracy: {'accuracy': 0.321}\n"
     ]
    },
    {
     "data": {
      "application/vnd.jupyter.widget-view+json": {
       "model_id": "f952ec71a0264c428eef63f8096c3c1b",
       "version_major": 2,
       "version_minor": 0
      },
      "text/plain": [
       "Epoch 12/ 60:   0%|          | 0/1563 [00:00<?, ?it/s]"
      ]
     },
     "metadata": {},
     "output_type": "display_data"
    },
    {
     "data": {
      "application/vnd.jupyter.widget-view+json": {
       "model_id": "49226602d75a4bc1aea7db5cca97ca88",
       "version_major": 2,
       "version_minor": 0
      },
      "text/plain": [
       "  0%|          | 0/94 [00:00<?, ?it/s]"
      ]
     },
     "metadata": {},
     "output_type": "display_data"
    },
    {
     "name": "stdout",
     "output_type": "stream",
     "text": [
      "Epoch 12/60, Loss: 3.651564121246338, Validation Accuracy: {'accuracy': 0.33266666666666667}\n"
     ]
    },
    {
     "data": {
      "application/vnd.jupyter.widget-view+json": {
       "model_id": "f47ce69b14f341ba8125f1465f029df3",
       "version_major": 2,
       "version_minor": 0
      },
      "text/plain": [
       "Epoch 13/ 60:   0%|          | 0/1563 [00:00<?, ?it/s]"
      ]
     },
     "metadata": {},
     "output_type": "display_data"
    },
    {
     "data": {
      "application/vnd.jupyter.widget-view+json": {
       "model_id": "d11b021a7ca746b287999d0001dda289",
       "version_major": 2,
       "version_minor": 0
      },
      "text/plain": [
       "  0%|          | 0/94 [00:00<?, ?it/s]"
      ]
     },
     "metadata": {},
     "output_type": "display_data"
    },
    {
     "name": "stdout",
     "output_type": "stream",
     "text": [
      "Epoch 13/60, Loss: 3.5711171627044678, Validation Accuracy: {'accuracy': 0.33766666666666667}\n"
     ]
    },
    {
     "data": {
      "application/vnd.jupyter.widget-view+json": {
       "model_id": "e11401e73360486ea1de719d73805332",
       "version_major": 2,
       "version_minor": 0
      },
      "text/plain": [
       "Epoch 14/ 60:   0%|          | 0/1563 [00:00<?, ?it/s]"
      ]
     },
     "metadata": {},
     "output_type": "display_data"
    },
    {
     "data": {
      "application/vnd.jupyter.widget-view+json": {
       "model_id": "5325b04b36cb4869981f3a98b06e6c8c",
       "version_major": 2,
       "version_minor": 0
      },
      "text/plain": [
       "  0%|          | 0/94 [00:00<?, ?it/s]"
      ]
     },
     "metadata": {},
     "output_type": "display_data"
    },
    {
     "name": "stdout",
     "output_type": "stream",
     "text": [
      "Epoch 14/60, Loss: 3.487610101699829, Validation Accuracy: {'accuracy': 0.3446666666666667}\n"
     ]
    },
    {
     "data": {
      "application/vnd.jupyter.widget-view+json": {
       "model_id": "200060b41afa4d2d8665873b6164fb9d",
       "version_major": 2,
       "version_minor": 0
      },
      "text/plain": [
       "Epoch 15/ 60:   0%|          | 0/1563 [00:00<?, ?it/s]"
      ]
     },
     "metadata": {},
     "output_type": "display_data"
    },
    {
     "data": {
      "application/vnd.jupyter.widget-view+json": {
       "model_id": "8e9d98e152d4459485e77a0e4ee8bd65",
       "version_major": 2,
       "version_minor": 0
      },
      "text/plain": [
       "  0%|          | 0/94 [00:00<?, ?it/s]"
      ]
     },
     "metadata": {},
     "output_type": "display_data"
    },
    {
     "name": "stdout",
     "output_type": "stream",
     "text": [
      "Epoch 15/60, Loss: 3.4069440364837646, Validation Accuracy: {'accuracy': 0.35133333333333333}\n"
     ]
    },
    {
     "data": {
      "application/vnd.jupyter.widget-view+json": {
       "model_id": "1421d2d2294345269d0de525e6a69cf5",
       "version_major": 2,
       "version_minor": 0
      },
      "text/plain": [
       "Epoch 16/ 60:   0%|          | 0/1563 [00:00<?, ?it/s]"
      ]
     },
     "metadata": {},
     "output_type": "display_data"
    },
    {
     "data": {
      "application/vnd.jupyter.widget-view+json": {
       "model_id": "ce0fa48ff54e46dc8e596d020b095c99",
       "version_major": 2,
       "version_minor": 0
      },
      "text/plain": [
       "  0%|          | 0/94 [00:00<?, ?it/s]"
      ]
     },
     "metadata": {},
     "output_type": "display_data"
    },
    {
     "name": "stdout",
     "output_type": "stream",
     "text": [
      "Epoch 16/60, Loss: 3.33453369140625, Validation Accuracy: {'accuracy': 0.359}\n"
     ]
    },
    {
     "data": {
      "application/vnd.jupyter.widget-view+json": {
       "model_id": "ce805b4dea334ecfabcad72e3e92deae",
       "version_major": 2,
       "version_minor": 0
      },
      "text/plain": [
       "Epoch 17/ 60:   0%|          | 0/1563 [00:00<?, ?it/s]"
      ]
     },
     "metadata": {},
     "output_type": "display_data"
    },
    {
     "data": {
      "application/vnd.jupyter.widget-view+json": {
       "model_id": "e93c5649be6f4fa985fa684e21082bc1",
       "version_major": 2,
       "version_minor": 0
      },
      "text/plain": [
       "  0%|          | 0/94 [00:00<?, ?it/s]"
      ]
     },
     "metadata": {},
     "output_type": "display_data"
    },
    {
     "name": "stdout",
     "output_type": "stream",
     "text": [
      "Epoch 17/60, Loss: 3.2750816345214844, Validation Accuracy: {'accuracy': 0.36466666666666664}\n"
     ]
    },
    {
     "data": {
      "application/vnd.jupyter.widget-view+json": {
       "model_id": "6632842158cb45088d9f558e89736296",
       "version_major": 2,
       "version_minor": 0
      },
      "text/plain": [
       "Epoch 18/ 60:   0%|          | 0/1563 [00:00<?, ?it/s]"
      ]
     },
     "metadata": {},
     "output_type": "display_data"
    },
    {
     "data": {
      "application/vnd.jupyter.widget-view+json": {
       "model_id": "9f9c9678b6844c14bd1ccef7be66aca1",
       "version_major": 2,
       "version_minor": 0
      },
      "text/plain": [
       "  0%|          | 0/94 [00:00<?, ?it/s]"
      ]
     },
     "metadata": {},
     "output_type": "display_data"
    },
    {
     "name": "stdout",
     "output_type": "stream",
     "text": [
      "Epoch 18/60, Loss: 3.2300734519958496, Validation Accuracy: {'accuracy': 0.368}\n"
     ]
    },
    {
     "data": {
      "application/vnd.jupyter.widget-view+json": {
       "model_id": "3a3f8796c6624b218434f88ddc424822",
       "version_major": 2,
       "version_minor": 0
      },
      "text/plain": [
       "Epoch 19/ 60:   0%|          | 0/1563 [00:00<?, ?it/s]"
      ]
     },
     "metadata": {},
     "output_type": "display_data"
    },
    {
     "data": {
      "application/vnd.jupyter.widget-view+json": {
       "model_id": "a9b4fca784cf4c29a64c7e0ee23f0caf",
       "version_major": 2,
       "version_minor": 0
      },
      "text/plain": [
       "  0%|          | 0/94 [00:00<?, ?it/s]"
      ]
     },
     "metadata": {},
     "output_type": "display_data"
    },
    {
     "name": "stdout",
     "output_type": "stream",
     "text": [
      "Epoch 19/60, Loss: 3.1985647678375244, Validation Accuracy: {'accuracy': 0.37466666666666665}\n"
     ]
    },
    {
     "data": {
      "application/vnd.jupyter.widget-view+json": {
       "model_id": "aaf318799ef44dfbbdbc52e49d28519a",
       "version_major": 2,
       "version_minor": 0
      },
      "text/plain": [
       "Epoch 20/ 60:   0%|          | 0/1563 [00:00<?, ?it/s]"
      ]
     },
     "metadata": {},
     "output_type": "display_data"
    },
    {
     "data": {
      "application/vnd.jupyter.widget-view+json": {
       "model_id": "19cc54bd4a2548d5a4db5848d6b310f3",
       "version_major": 2,
       "version_minor": 0
      },
      "text/plain": [
       "  0%|          | 0/94 [00:00<?, ?it/s]"
      ]
     },
     "metadata": {},
     "output_type": "display_data"
    },
    {
     "name": "stdout",
     "output_type": "stream",
     "text": [
      "Epoch 20/60, Loss: 3.1886956691741943, Validation Accuracy: {'accuracy': 0.37666666666666665}\n"
     ]
    },
    {
     "data": {
      "application/vnd.jupyter.widget-view+json": {
       "model_id": "7ca21c3816ba4ed29f38395e4043dece",
       "version_major": 2,
       "version_minor": 0
      },
      "text/plain": [
       "Epoch 21/ 60:   0%|          | 0/1563 [00:00<?, ?it/s]"
      ]
     },
     "metadata": {},
     "output_type": "display_data"
    },
    {
     "data": {
      "application/vnd.jupyter.widget-view+json": {
       "model_id": "711e0ff7a34148338c9dc11ea57a4ada",
       "version_major": 2,
       "version_minor": 0
      },
      "text/plain": [
       "  0%|          | 0/94 [00:00<?, ?it/s]"
      ]
     },
     "metadata": {},
     "output_type": "display_data"
    },
    {
     "name": "stdout",
     "output_type": "stream",
     "text": [
      "Epoch 21/60, Loss: 3.1685791015625, Validation Accuracy: {'accuracy': 0.379}\n"
     ]
    },
    {
     "data": {
      "application/vnd.jupyter.widget-view+json": {
       "model_id": "14a72e6f93fd4deba3d043e0df40a80a",
       "version_major": 2,
       "version_minor": 0
      },
      "text/plain": [
       "Epoch 22/ 60:   0%|          | 0/1563 [00:00<?, ?it/s]"
      ]
     },
     "metadata": {},
     "output_type": "display_data"
    },
    {
     "data": {
      "application/vnd.jupyter.widget-view+json": {
       "model_id": "4e9cce04edd84ba98cfb147ed6e10beb",
       "version_major": 2,
       "version_minor": 0
      },
      "text/plain": [
       "  0%|          | 0/94 [00:00<?, ?it/s]"
      ]
     },
     "metadata": {},
     "output_type": "display_data"
    },
    {
     "name": "stdout",
     "output_type": "stream",
     "text": [
      "Epoch 22/60, Loss: 3.145977020263672, Validation Accuracy: {'accuracy': 0.38466666666666666}\n"
     ]
    },
    {
     "data": {
      "application/vnd.jupyter.widget-view+json": {
       "model_id": "12b6d37a523445ab859f1ae91779dd3b",
       "version_major": 2,
       "version_minor": 0
      },
      "text/plain": [
       "Epoch 23/ 60:   0%|          | 0/1563 [00:00<?, ?it/s]"
      ]
     },
     "metadata": {},
     "output_type": "display_data"
    },
    {
     "data": {
      "application/vnd.jupyter.widget-view+json": {
       "model_id": "8b9d5e5e03a94ef99d43d417ddbc159c",
       "version_major": 2,
       "version_minor": 0
      },
      "text/plain": [
       "  0%|          | 0/94 [00:00<?, ?it/s]"
      ]
     },
     "metadata": {},
     "output_type": "display_data"
    },
    {
     "name": "stdout",
     "output_type": "stream",
     "text": [
      "Epoch 23/60, Loss: 3.127363681793213, Validation Accuracy: {'accuracy': 0.38766666666666666}\n"
     ]
    },
    {
     "data": {
      "application/vnd.jupyter.widget-view+json": {
       "model_id": "56cd2e49d5d54ba2a2d35f1b954dae3c",
       "version_major": 2,
       "version_minor": 0
      },
      "text/plain": [
       "Epoch 24/ 60:   0%|          | 0/1563 [00:00<?, ?it/s]"
      ]
     },
     "metadata": {},
     "output_type": "display_data"
    },
    {
     "data": {
      "application/vnd.jupyter.widget-view+json": {
       "model_id": "9fa8dc3af1344716b44d8cdb3fc4d50c",
       "version_major": 2,
       "version_minor": 0
      },
      "text/plain": [
       "  0%|          | 0/94 [00:00<?, ?it/s]"
      ]
     },
     "metadata": {},
     "output_type": "display_data"
    },
    {
     "name": "stdout",
     "output_type": "stream",
     "text": [
      "Epoch 24/60, Loss: 3.115309476852417, Validation Accuracy: {'accuracy': 0.392}\n"
     ]
    },
    {
     "data": {
      "application/vnd.jupyter.widget-view+json": {
       "model_id": "f56f643ba99f415aab396623713b6c1a",
       "version_major": 2,
       "version_minor": 0
      },
      "text/plain": [
       "Epoch 25/ 60:   0%|          | 0/1563 [00:00<?, ?it/s]"
      ]
     },
     "metadata": {},
     "output_type": "display_data"
    },
    {
     "data": {
      "application/vnd.jupyter.widget-view+json": {
       "model_id": "bf8146ce83674912b2899d71b62cf259",
       "version_major": 2,
       "version_minor": 0
      },
      "text/plain": [
       "  0%|          | 0/94 [00:00<?, ?it/s]"
      ]
     },
     "metadata": {},
     "output_type": "display_data"
    },
    {
     "name": "stdout",
     "output_type": "stream",
     "text": [
      "Epoch 25/60, Loss: 3.109464168548584, Validation Accuracy: {'accuracy': 0.394}\n"
     ]
    },
    {
     "data": {
      "application/vnd.jupyter.widget-view+json": {
       "model_id": "747cf471dc594468a019abbb2c233fc9",
       "version_major": 2,
       "version_minor": 0
      },
      "text/plain": [
       "Epoch 26/ 60:   0%|          | 0/1563 [00:00<?, ?it/s]"
      ]
     },
     "metadata": {},
     "output_type": "display_data"
    },
    {
     "data": {
      "application/vnd.jupyter.widget-view+json": {
       "model_id": "b4fe3b8cb7dd4897935ed196e05f181b",
       "version_major": 2,
       "version_minor": 0
      },
      "text/plain": [
       "  0%|          | 0/94 [00:00<?, ?it/s]"
      ]
     },
     "metadata": {},
     "output_type": "display_data"
    },
    {
     "name": "stdout",
     "output_type": "stream",
     "text": [
      "Epoch 26/60, Loss: 3.1078193187713623, Validation Accuracy: {'accuracy': 0.3963333333333333}\n"
     ]
    },
    {
     "data": {
      "application/vnd.jupyter.widget-view+json": {
       "model_id": "a92263b2f03b49c6aa30416935105c50",
       "version_major": 2,
       "version_minor": 0
      },
      "text/plain": [
       "Epoch 27/ 60:   0%|          | 0/1563 [00:00<?, ?it/s]"
      ]
     },
     "metadata": {},
     "output_type": "display_data"
    },
    {
     "data": {
      "application/vnd.jupyter.widget-view+json": {
       "model_id": "e0c01972552c4c5f98b7c6397901a405",
       "version_major": 2,
       "version_minor": 0
      },
      "text/plain": [
       "  0%|          | 0/94 [00:00<?, ?it/s]"
      ]
     },
     "metadata": {},
     "output_type": "display_data"
    },
    {
     "name": "stdout",
     "output_type": "stream",
     "text": [
      "Epoch 27/60, Loss: 3.1089394092559814, Validation Accuracy: {'accuracy': 0.3983333333333333}\n"
     ]
    },
    {
     "data": {
      "application/vnd.jupyter.widget-view+json": {
       "model_id": "f21c1b9b3da54c40abf36d10651e3665",
       "version_major": 2,
       "version_minor": 0
      },
      "text/plain": [
       "Epoch 28/ 60:   0%|          | 0/1563 [00:00<?, ?it/s]"
      ]
     },
     "metadata": {},
     "output_type": "display_data"
    },
    {
     "data": {
      "application/vnd.jupyter.widget-view+json": {
       "model_id": "660ca25b3378490d98c12c8f460f2316",
       "version_major": 2,
       "version_minor": 0
      },
      "text/plain": [
       "  0%|          | 0/94 [00:00<?, ?it/s]"
      ]
     },
     "metadata": {},
     "output_type": "display_data"
    },
    {
     "name": "stdout",
     "output_type": "stream",
     "text": [
      "Epoch 28/60, Loss: 3.111908435821533, Validation Accuracy: {'accuracy': 0.4}\n"
     ]
    },
    {
     "data": {
      "application/vnd.jupyter.widget-view+json": {
       "model_id": "0bd10148f4634ffd914a9cc537570584",
       "version_major": 2,
       "version_minor": 0
      },
      "text/plain": [
       "Epoch 29/ 60:   0%|          | 0/1563 [00:00<?, ?it/s]"
      ]
     },
     "metadata": {},
     "output_type": "display_data"
    },
    {
     "data": {
      "application/vnd.jupyter.widget-view+json": {
       "model_id": "f9e2d8a7a4894204ae7e6dbdf45b555f",
       "version_major": 2,
       "version_minor": 0
      },
      "text/plain": [
       "  0%|          | 0/94 [00:00<?, ?it/s]"
      ]
     },
     "metadata": {},
     "output_type": "display_data"
    },
    {
     "name": "stdout",
     "output_type": "stream",
     "text": [
      "Epoch 29/60, Loss: 3.115781307220459, Validation Accuracy: {'accuracy': 0.401}\n"
     ]
    },
    {
     "data": {
      "application/vnd.jupyter.widget-view+json": {
       "model_id": "b1933bca379a4ff8923a2cc4f826534f",
       "version_major": 2,
       "version_minor": 0
      },
      "text/plain": [
       "Epoch 30/ 60:   0%|          | 0/1563 [00:00<?, ?it/s]"
      ]
     },
     "metadata": {},
     "output_type": "display_data"
    },
    {
     "data": {
      "application/vnd.jupyter.widget-view+json": {
       "model_id": "f2d8e1d5d0c048ddbb27156ed5c07f6c",
       "version_major": 2,
       "version_minor": 0
      },
      "text/plain": [
       "  0%|          | 0/94 [00:00<?, ?it/s]"
      ]
     },
     "metadata": {},
     "output_type": "display_data"
    },
    {
     "name": "stdout",
     "output_type": "stream",
     "text": [
      "Epoch 30/60, Loss: 3.1197266578674316, Validation Accuracy: {'accuracy': 0.403}\n"
     ]
    },
    {
     "data": {
      "application/vnd.jupyter.widget-view+json": {
       "model_id": "e72d6d5b8453444c8a47d35bfe8e6323",
       "version_major": 2,
       "version_minor": 0
      },
      "text/plain": [
       "Epoch 31/ 60:   0%|          | 0/1563 [00:00<?, ?it/s]"
      ]
     },
     "metadata": {},
     "output_type": "display_data"
    },
    {
     "data": {
      "application/vnd.jupyter.widget-view+json": {
       "model_id": "dfe93d91b1c045d5ad579bfdd1541b84",
       "version_major": 2,
       "version_minor": 0
      },
      "text/plain": [
       "  0%|          | 0/94 [00:00<?, ?it/s]"
      ]
     },
     "metadata": {},
     "output_type": "display_data"
    },
    {
     "name": "stdout",
     "output_type": "stream",
     "text": [
      "Epoch 31/60, Loss: 3.123175621032715, Validation Accuracy: {'accuracy': 0.4046666666666667}\n"
     ]
    },
    {
     "data": {
      "application/vnd.jupyter.widget-view+json": {
       "model_id": "9161425449ad4aab9efa9774c76ea20e",
       "version_major": 2,
       "version_minor": 0
      },
      "text/plain": [
       "Epoch 32/ 60:   0%|          | 0/1563 [00:00<?, ?it/s]"
      ]
     },
     "metadata": {},
     "output_type": "display_data"
    },
    {
     "data": {
      "application/vnd.jupyter.widget-view+json": {
       "model_id": "6a3fb60f1847415b873f5ffe29449d9f",
       "version_major": 2,
       "version_minor": 0
      },
      "text/plain": [
       "  0%|          | 0/94 [00:00<?, ?it/s]"
      ]
     },
     "metadata": {},
     "output_type": "display_data"
    },
    {
     "name": "stdout",
     "output_type": "stream",
     "text": [
      "Epoch 32/60, Loss: 3.1257710456848145, Validation Accuracy: {'accuracy': 0.4053333333333333}\n"
     ]
    },
    {
     "data": {
      "application/vnd.jupyter.widget-view+json": {
       "model_id": "08b5d73bbea444cdb335127162bf167d",
       "version_major": 2,
       "version_minor": 0
      },
      "text/plain": [
       "Epoch 33/ 60:   0%|          | 0/1563 [00:00<?, ?it/s]"
      ]
     },
     "metadata": {},
     "output_type": "display_data"
    },
    {
     "data": {
      "application/vnd.jupyter.widget-view+json": {
       "model_id": "bec3a1d6138f4799948c977cc18a32ec",
       "version_major": 2,
       "version_minor": 0
      },
      "text/plain": [
       "  0%|          | 0/94 [00:00<?, ?it/s]"
      ]
     },
     "metadata": {},
     "output_type": "display_data"
    },
    {
     "name": "stdout",
     "output_type": "stream",
     "text": [
      "Epoch 33/60, Loss: 3.1272764205932617, Validation Accuracy: {'accuracy': 0.4033333333333333}\n"
     ]
    },
    {
     "data": {
      "application/vnd.jupyter.widget-view+json": {
       "model_id": "1da7ca551f5848c194d9753b5e640b39",
       "version_major": 2,
       "version_minor": 0
      },
      "text/plain": [
       "Epoch 34/ 60:   0%|          | 0/1563 [00:00<?, ?it/s]"
      ]
     },
     "metadata": {},
     "output_type": "display_data"
    },
    {
     "data": {
      "application/vnd.jupyter.widget-view+json": {
       "model_id": "a75e67cfd68749caa4a11d70a42e250f",
       "version_major": 2,
       "version_minor": 0
      },
      "text/plain": [
       "  0%|          | 0/94 [00:00<?, ?it/s]"
      ]
     },
     "metadata": {},
     "output_type": "display_data"
    },
    {
     "name": "stdout",
     "output_type": "stream",
     "text": [
      "Epoch 34/60, Loss: 3.1274819374084473, Validation Accuracy: {'accuracy': 0.4046666666666667}\n"
     ]
    },
    {
     "data": {
      "application/vnd.jupyter.widget-view+json": {
       "model_id": "71559e7dd8614cc6bde38d12e835baa2",
       "version_major": 2,
       "version_minor": 0
      },
      "text/plain": [
       "Epoch 35/ 60:   0%|          | 0/1563 [00:00<?, ?it/s]"
      ]
     },
     "metadata": {},
     "output_type": "display_data"
    },
    {
     "data": {
      "application/vnd.jupyter.widget-view+json": {
       "model_id": "4c3a045835594622a08e31259cf2e25e",
       "version_major": 2,
       "version_minor": 0
      },
      "text/plain": [
       "  0%|          | 0/94 [00:00<?, ?it/s]"
      ]
     },
     "metadata": {},
     "output_type": "display_data"
    },
    {
     "name": "stdout",
     "output_type": "stream",
     "text": [
      "Epoch 35/60, Loss: 3.126197338104248, Validation Accuracy: {'accuracy': 0.4063333333333333}\n"
     ]
    },
    {
     "data": {
      "application/vnd.jupyter.widget-view+json": {
       "model_id": "0dce05084712473b8ed28470be5433f6",
       "version_major": 2,
       "version_minor": 0
      },
      "text/plain": [
       "Epoch 36/ 60:   0%|          | 0/1563 [00:00<?, ?it/s]"
      ]
     },
     "metadata": {},
     "output_type": "display_data"
    },
    {
     "data": {
      "application/vnd.jupyter.widget-view+json": {
       "model_id": "917c1dac21174a47b438659ea647f04c",
       "version_major": 2,
       "version_minor": 0
      },
      "text/plain": [
       "  0%|          | 0/94 [00:00<?, ?it/s]"
      ]
     },
     "metadata": {},
     "output_type": "display_data"
    },
    {
     "name": "stdout",
     "output_type": "stream",
     "text": [
      "Epoch 36/60, Loss: 3.1233034133911133, Validation Accuracy: {'accuracy': 0.4063333333333333}\n"
     ]
    },
    {
     "data": {
      "application/vnd.jupyter.widget-view+json": {
       "model_id": "50aa88848a6f424485526595a67920d0",
       "version_major": 2,
       "version_minor": 0
      },
      "text/plain": [
       "Epoch 37/ 60:   0%|          | 0/1563 [00:00<?, ?it/s]"
      ]
     },
     "metadata": {},
     "output_type": "display_data"
    },
    {
     "data": {
      "application/vnd.jupyter.widget-view+json": {
       "model_id": "e4cd68e7207c49a8a8f148e634ba69ab",
       "version_major": 2,
       "version_minor": 0
      },
      "text/plain": [
       "  0%|          | 0/94 [00:00<?, ?it/s]"
      ]
     },
     "metadata": {},
     "output_type": "display_data"
    },
    {
     "name": "stdout",
     "output_type": "stream",
     "text": [
      "Epoch 37/60, Loss: 3.1187357902526855, Validation Accuracy: {'accuracy': 0.4076666666666667}\n"
     ]
    },
    {
     "data": {
      "application/vnd.jupyter.widget-view+json": {
       "model_id": "18098db428e14211a90026df1ca09b73",
       "version_major": 2,
       "version_minor": 0
      },
      "text/plain": [
       "Epoch 38/ 60:   0%|          | 0/1563 [00:00<?, ?it/s]"
      ]
     },
     "metadata": {},
     "output_type": "display_data"
    },
    {
     "data": {
      "application/vnd.jupyter.widget-view+json": {
       "model_id": "46158496ceb84d0ca0ecc05c8c3e4443",
       "version_major": 2,
       "version_minor": 0
      },
      "text/plain": [
       "  0%|          | 0/94 [00:00<?, ?it/s]"
      ]
     },
     "metadata": {},
     "output_type": "display_data"
    },
    {
     "name": "stdout",
     "output_type": "stream",
     "text": [
      "Epoch 38/60, Loss: 3.112337827682495, Validation Accuracy: {'accuracy': 0.4096666666666667}\n"
     ]
    },
    {
     "data": {
      "application/vnd.jupyter.widget-view+json": {
       "model_id": "13082fc2629040ccb0cdb6430adb62d6",
       "version_major": 2,
       "version_minor": 0
      },
      "text/plain": [
       "Epoch 39/ 60:   0%|          | 0/1563 [00:00<?, ?it/s]"
      ]
     },
     "metadata": {},
     "output_type": "display_data"
    },
    {
     "data": {
      "application/vnd.jupyter.widget-view+json": {
       "model_id": "11a3320d23b04e54b8229d8f7129b7eb",
       "version_major": 2,
       "version_minor": 0
      },
      "text/plain": [
       "  0%|          | 0/94 [00:00<?, ?it/s]"
      ]
     },
     "metadata": {},
     "output_type": "display_data"
    },
    {
     "name": "stdout",
     "output_type": "stream",
     "text": [
      "Epoch 39/60, Loss: 3.10394549369812, Validation Accuracy: {'accuracy': 0.41}\n"
     ]
    },
    {
     "data": {
      "application/vnd.jupyter.widget-view+json": {
       "model_id": "a360c9c09f2948bea546824401a82ec5",
       "version_major": 2,
       "version_minor": 0
      },
      "text/plain": [
       "Epoch 40/ 60:   0%|          | 0/1563 [00:00<?, ?it/s]"
      ]
     },
     "metadata": {},
     "output_type": "display_data"
    },
    {
     "data": {
      "application/vnd.jupyter.widget-view+json": {
       "model_id": "5e635a10f90a4fb4b85af24a68f4166a",
       "version_major": 2,
       "version_minor": 0
      },
      "text/plain": [
       "  0%|          | 0/94 [00:00<?, ?it/s]"
      ]
     },
     "metadata": {},
     "output_type": "display_data"
    },
    {
     "name": "stdout",
     "output_type": "stream",
     "text": [
      "Epoch 40/60, Loss: 3.093994379043579, Validation Accuracy: {'accuracy': 0.4093333333333333}\n"
     ]
    },
    {
     "data": {
      "application/vnd.jupyter.widget-view+json": {
       "model_id": "6e5d22b0cced45e987bf89c35bcf4707",
       "version_major": 2,
       "version_minor": 0
      },
      "text/plain": [
       "Epoch 41/ 60:   0%|          | 0/1563 [00:00<?, ?it/s]"
      ]
     },
     "metadata": {},
     "output_type": "display_data"
    },
    {
     "data": {
      "application/vnd.jupyter.widget-view+json": {
       "model_id": "2453a915cf5145f6b2d410f94da4ad2d",
       "version_major": 2,
       "version_minor": 0
      },
      "text/plain": [
       "  0%|          | 0/94 [00:00<?, ?it/s]"
      ]
     },
     "metadata": {},
     "output_type": "display_data"
    },
    {
     "name": "stdout",
     "output_type": "stream",
     "text": [
      "Epoch 41/60, Loss: 3.0836637020111084, Validation Accuracy: {'accuracy': 0.409}\n"
     ]
    },
    {
     "data": {
      "application/vnd.jupyter.widget-view+json": {
       "model_id": "ec6caf0e3dcb4e4f86b73a94082da105",
       "version_major": 2,
       "version_minor": 0
      },
      "text/plain": [
       "Epoch 42/ 60:   0%|          | 0/1563 [00:00<?, ?it/s]"
      ]
     },
     "metadata": {},
     "output_type": "display_data"
    },
    {
     "data": {
      "application/vnd.jupyter.widget-view+json": {
       "model_id": "34e3ef13a31648f395551aefa78c80f0",
       "version_major": 2,
       "version_minor": 0
      },
      "text/plain": [
       "  0%|          | 0/94 [00:00<?, ?it/s]"
      ]
     },
     "metadata": {},
     "output_type": "display_data"
    },
    {
     "name": "stdout",
     "output_type": "stream",
     "text": [
      "Epoch 42/60, Loss: 3.0742428302764893, Validation Accuracy: {'accuracy': 0.41}\n"
     ]
    },
    {
     "data": {
      "application/vnd.jupyter.widget-view+json": {
       "model_id": "f99b1dfda5dc4557b185b5e38f8ba225",
       "version_major": 2,
       "version_minor": 0
      },
      "text/plain": [
       "Epoch 43/ 60:   0%|          | 0/1563 [00:00<?, ?it/s]"
      ]
     },
     "metadata": {},
     "output_type": "display_data"
    },
    {
     "data": {
      "application/vnd.jupyter.widget-view+json": {
       "model_id": "82b446cc4ace449993f82e66ad982a6d",
       "version_major": 2,
       "version_minor": 0
      },
      "text/plain": [
       "  0%|          | 0/94 [00:00<?, ?it/s]"
      ]
     },
     "metadata": {},
     "output_type": "display_data"
    },
    {
     "name": "stdout",
     "output_type": "stream",
     "text": [
      "Epoch 43/60, Loss: 3.0660905838012695, Validation Accuracy: {'accuracy': 0.4116666666666667}\n"
     ]
    },
    {
     "data": {
      "application/vnd.jupyter.widget-view+json": {
       "model_id": "cc492293423f4c289d3a0d8484696ff2",
       "version_major": 2,
       "version_minor": 0
      },
      "text/plain": [
       "Epoch 44/ 60:   0%|          | 0/1563 [00:00<?, ?it/s]"
      ]
     },
     "metadata": {},
     "output_type": "display_data"
    },
    {
     "data": {
      "application/vnd.jupyter.widget-view+json": {
       "model_id": "227ee0dbda7e4c54adcbe4c612774227",
       "version_major": 2,
       "version_minor": 0
      },
      "text/plain": [
       "  0%|          | 0/94 [00:00<?, ?it/s]"
      ]
     },
     "metadata": {},
     "output_type": "display_data"
    },
    {
     "name": "stdout",
     "output_type": "stream",
     "text": [
      "Epoch 44/60, Loss: 3.0588932037353516, Validation Accuracy: {'accuracy': 0.41333333333333333}\n"
     ]
    },
    {
     "data": {
      "application/vnd.jupyter.widget-view+json": {
       "model_id": "f058db8666d94917b35bb18dabd0f8ab",
       "version_major": 2,
       "version_minor": 0
      },
      "text/plain": [
       "Epoch 45/ 60:   0%|          | 0/1563 [00:00<?, ?it/s]"
      ]
     },
     "metadata": {},
     "output_type": "display_data"
    },
    {
     "data": {
      "application/vnd.jupyter.widget-view+json": {
       "model_id": "4ac9357a592f4d57b5f13f578ba80a32",
       "version_major": 2,
       "version_minor": 0
      },
      "text/plain": [
       "  0%|          | 0/94 [00:00<?, ?it/s]"
      ]
     },
     "metadata": {},
     "output_type": "display_data"
    },
    {
     "name": "stdout",
     "output_type": "stream",
     "text": [
      "Epoch 45/60, Loss: 3.052229642868042, Validation Accuracy: {'accuracy': 0.4156666666666667}\n"
     ]
    },
    {
     "data": {
      "application/vnd.jupyter.widget-view+json": {
       "model_id": "f1b35b669a944c8784de9292e762a40b",
       "version_major": 2,
       "version_minor": 0
      },
      "text/plain": [
       "Epoch 46/ 60:   0%|          | 0/1563 [00:00<?, ?it/s]"
      ]
     },
     "metadata": {},
     "output_type": "display_data"
    },
    {
     "data": {
      "application/vnd.jupyter.widget-view+json": {
       "model_id": "2af4f4a0d78844ca806b42342abe6f7d",
       "version_major": 2,
       "version_minor": 0
      },
      "text/plain": [
       "  0%|          | 0/94 [00:00<?, ?it/s]"
      ]
     },
     "metadata": {},
     "output_type": "display_data"
    },
    {
     "name": "stdout",
     "output_type": "stream",
     "text": [
      "Epoch 46/60, Loss: 3.0457992553710938, Validation Accuracy: {'accuracy': 0.417}\n"
     ]
    },
    {
     "data": {
      "application/vnd.jupyter.widget-view+json": {
       "model_id": "a73f4da0f5a14f0498410a2ce30b9a50",
       "version_major": 2,
       "version_minor": 0
      },
      "text/plain": [
       "Epoch 47/ 60:   0%|          | 0/1563 [00:00<?, ?it/s]"
      ]
     },
     "metadata": {},
     "output_type": "display_data"
    },
    {
     "data": {
      "application/vnd.jupyter.widget-view+json": {
       "model_id": "14ae445beece44f8b160922fd9566c97",
       "version_major": 2,
       "version_minor": 0
      },
      "text/plain": [
       "  0%|          | 0/94 [00:00<?, ?it/s]"
      ]
     },
     "metadata": {},
     "output_type": "display_data"
    },
    {
     "name": "stdout",
     "output_type": "stream",
     "text": [
      "Epoch 47/60, Loss: 3.0394349098205566, Validation Accuracy: {'accuracy': 0.4156666666666667}\n"
     ]
    },
    {
     "data": {
      "application/vnd.jupyter.widget-view+json": {
       "model_id": "fb2eaa26eaab46a3a28ac5fdcabbf048",
       "version_major": 2,
       "version_minor": 0
      },
      "text/plain": [
       "Epoch 48/ 60:   0%|          | 0/1563 [00:00<?, ?it/s]"
      ]
     },
     "metadata": {},
     "output_type": "display_data"
    },
    {
     "data": {
      "application/vnd.jupyter.widget-view+json": {
       "model_id": "fa9b1d606577456fba588d75d6e30fd6",
       "version_major": 2,
       "version_minor": 0
      },
      "text/plain": [
       "  0%|          | 0/94 [00:00<?, ?it/s]"
      ]
     },
     "metadata": {},
     "output_type": "display_data"
    },
    {
     "name": "stdout",
     "output_type": "stream",
     "text": [
      "Epoch 48/60, Loss: 3.033052682876587, Validation Accuracy: {'accuracy': 0.4156666666666667}\n"
     ]
    },
    {
     "data": {
      "application/vnd.jupyter.widget-view+json": {
       "model_id": "3310eab4a0704601a5df6281c1f3d737",
       "version_major": 2,
       "version_minor": 0
      },
      "text/plain": [
       "Epoch 49/ 60:   0%|          | 0/1563 [00:00<?, ?it/s]"
      ]
     },
     "metadata": {},
     "output_type": "display_data"
    },
    {
     "data": {
      "application/vnd.jupyter.widget-view+json": {
       "model_id": "da4ff5d5b72144bdb6ef961fcf7c8b1c",
       "version_major": 2,
       "version_minor": 0
      },
      "text/plain": [
       "  0%|          | 0/94 [00:00<?, ?it/s]"
      ]
     },
     "metadata": {},
     "output_type": "display_data"
    },
    {
     "name": "stdout",
     "output_type": "stream",
     "text": [
      "Epoch 49/60, Loss: 3.0266506671905518, Validation Accuracy: {'accuracy': 0.4166666666666667}\n"
     ]
    },
    {
     "data": {
      "application/vnd.jupyter.widget-view+json": {
       "model_id": "99974e2a718d4149ace8e9339e8ad82e",
       "version_major": 2,
       "version_minor": 0
      },
      "text/plain": [
       "Epoch 50/ 60:   0%|          | 0/1563 [00:00<?, ?it/s]"
      ]
     },
     "metadata": {},
     "output_type": "display_data"
    },
    {
     "data": {
      "application/vnd.jupyter.widget-view+json": {
       "model_id": "21672f101e4c46a6b48f43a30a2aa63b",
       "version_major": 2,
       "version_minor": 0
      },
      "text/plain": [
       "  0%|          | 0/94 [00:00<?, ?it/s]"
      ]
     },
     "metadata": {},
     "output_type": "display_data"
    },
    {
     "name": "stdout",
     "output_type": "stream",
     "text": [
      "Epoch 50/60, Loss: 3.020282745361328, Validation Accuracy: {'accuracy': 0.41833333333333333}\n"
     ]
    },
    {
     "data": {
      "application/vnd.jupyter.widget-view+json": {
       "model_id": "ca718d8b5bee455b86689ef6b5dccb45",
       "version_major": 2,
       "version_minor": 0
      },
      "text/plain": [
       "Epoch 51/ 60:   0%|          | 0/1563 [00:00<?, ?it/s]"
      ]
     },
     "metadata": {},
     "output_type": "display_data"
    },
    {
     "data": {
      "application/vnd.jupyter.widget-view+json": {
       "model_id": "cfe4bd7062e140e2b5a19947389fb350",
       "version_major": 2,
       "version_minor": 0
      },
      "text/plain": [
       "  0%|          | 0/94 [00:00<?, ?it/s]"
      ]
     },
     "metadata": {},
     "output_type": "display_data"
    },
    {
     "name": "stdout",
     "output_type": "stream",
     "text": [
      "Epoch 51/60, Loss: 3.0140442848205566, Validation Accuracy: {'accuracy': 0.4186666666666667}\n"
     ]
    },
    {
     "data": {
      "application/vnd.jupyter.widget-view+json": {
       "model_id": "e5bab53c57794e2db3888c65758a9698",
       "version_major": 2,
       "version_minor": 0
      },
      "text/plain": [
       "Epoch 52/ 60:   0%|          | 0/1563 [00:00<?, ?it/s]"
      ]
     },
     "metadata": {},
     "output_type": "display_data"
    },
    {
     "data": {
      "application/vnd.jupyter.widget-view+json": {
       "model_id": "80ca6e85ace9445ab5eea8b4f9c7c99b",
       "version_major": 2,
       "version_minor": 0
      },
      "text/plain": [
       "  0%|          | 0/94 [00:00<?, ?it/s]"
      ]
     },
     "metadata": {},
     "output_type": "display_data"
    },
    {
     "name": "stdout",
     "output_type": "stream",
     "text": [
      "Epoch 52/60, Loss: 3.008023500442505, Validation Accuracy: {'accuracy': 0.42133333333333334}\n"
     ]
    },
    {
     "data": {
      "application/vnd.jupyter.widget-view+json": {
       "model_id": "2f7cb8c7137d42dba734b464a9e0a52e",
       "version_major": 2,
       "version_minor": 0
      },
      "text/plain": [
       "Epoch 53/ 60:   0%|          | 0/1563 [00:00<?, ?it/s]"
      ]
     },
     "metadata": {},
     "output_type": "display_data"
    },
    {
     "data": {
      "application/vnd.jupyter.widget-view+json": {
       "model_id": "36f21043672f4173b8b6d35ac1cf4639",
       "version_major": 2,
       "version_minor": 0
      },
      "text/plain": [
       "  0%|          | 0/94 [00:00<?, ?it/s]"
      ]
     },
     "metadata": {},
     "output_type": "display_data"
    },
    {
     "name": "stdout",
     "output_type": "stream",
     "text": [
      "Epoch 53/60, Loss: 3.00228214263916, Validation Accuracy: {'accuracy': 0.422}\n"
     ]
    },
    {
     "data": {
      "application/vnd.jupyter.widget-view+json": {
       "model_id": "45749ed8d3704a6d96a06e137c2a70a8",
       "version_major": 2,
       "version_minor": 0
      },
      "text/plain": [
       "Epoch 54/ 60:   0%|          | 0/1563 [00:00<?, ?it/s]"
      ]
     },
     "metadata": {},
     "output_type": "display_data"
    },
    {
     "data": {
      "application/vnd.jupyter.widget-view+json": {
       "model_id": "79ba85d553694cc6a0322c15312b9b85",
       "version_major": 2,
       "version_minor": 0
      },
      "text/plain": [
       "  0%|          | 0/94 [00:00<?, ?it/s]"
      ]
     },
     "metadata": {},
     "output_type": "display_data"
    },
    {
     "name": "stdout",
     "output_type": "stream",
     "text": [
      "Epoch 54/60, Loss: 2.996842384338379, Validation Accuracy: {'accuracy': 0.422}\n"
     ]
    },
    {
     "data": {
      "application/vnd.jupyter.widget-view+json": {
       "model_id": "4d2ad75207434b529125b1316745d4e0",
       "version_major": 2,
       "version_minor": 0
      },
      "text/plain": [
       "Epoch 55/ 60:   0%|          | 0/1563 [00:00<?, ?it/s]"
      ]
     },
     "metadata": {},
     "output_type": "display_data"
    },
    {
     "data": {
      "application/vnd.jupyter.widget-view+json": {
       "model_id": "bc098c412649475386164a9eddea3d6d",
       "version_major": 2,
       "version_minor": 0
      },
      "text/plain": [
       "  0%|          | 0/94 [00:00<?, ?it/s]"
      ]
     },
     "metadata": {},
     "output_type": "display_data"
    },
    {
     "name": "stdout",
     "output_type": "stream",
     "text": [
      "Epoch 55/60, Loss: 2.9917078018188477, Validation Accuracy: {'accuracy': 0.42333333333333334}\n"
     ]
    },
    {
     "data": {
      "application/vnd.jupyter.widget-view+json": {
       "model_id": "8d156ffbb13f49cbbc7e146ce92c8226",
       "version_major": 2,
       "version_minor": 0
      },
      "text/plain": [
       "Epoch 56/ 60:   0%|          | 0/1563 [00:00<?, ?it/s]"
      ]
     },
     "metadata": {},
     "output_type": "display_data"
    },
    {
     "data": {
      "application/vnd.jupyter.widget-view+json": {
       "model_id": "e28e4ecac28445eda8a72740d4bc4113",
       "version_major": 2,
       "version_minor": 0
      },
      "text/plain": [
       "  0%|          | 0/94 [00:00<?, ?it/s]"
      ]
     },
     "metadata": {},
     "output_type": "display_data"
    },
    {
     "name": "stdout",
     "output_type": "stream",
     "text": [
      "Epoch 56/60, Loss: 2.9868929386138916, Validation Accuracy: {'accuracy': 0.4246666666666667}\n"
     ]
    },
    {
     "data": {
      "application/vnd.jupyter.widget-view+json": {
       "model_id": "bea054b872b3427ab9a5b65e0cc2d491",
       "version_major": 2,
       "version_minor": 0
      },
      "text/plain": [
       "Epoch 57/ 60:   0%|          | 0/1563 [00:00<?, ?it/s]"
      ]
     },
     "metadata": {},
     "output_type": "display_data"
    },
    {
     "data": {
      "application/vnd.jupyter.widget-view+json": {
       "model_id": "916d600b353c4c7089acfde96b98ed7e",
       "version_major": 2,
       "version_minor": 0
      },
      "text/plain": [
       "  0%|          | 0/94 [00:00<?, ?it/s]"
      ]
     },
     "metadata": {},
     "output_type": "display_data"
    },
    {
     "name": "stdout",
     "output_type": "stream",
     "text": [
      "Epoch 57/60, Loss: 2.9823927879333496, Validation Accuracy: {'accuracy': 0.426}\n"
     ]
    },
    {
     "data": {
      "application/vnd.jupyter.widget-view+json": {
       "model_id": "7d4fe1d1f5ae493b9592875df74ae1c0",
       "version_major": 2,
       "version_minor": 0
      },
      "text/plain": [
       "Epoch 58/ 60:   0%|          | 0/1563 [00:00<?, ?it/s]"
      ]
     },
     "metadata": {},
     "output_type": "display_data"
    },
    {
     "data": {
      "application/vnd.jupyter.widget-view+json": {
       "model_id": "9b7c0998e3194bb2a31c05cc4deac3da",
       "version_major": 2,
       "version_minor": 0
      },
      "text/plain": [
       "  0%|          | 0/94 [00:00<?, ?it/s]"
      ]
     },
     "metadata": {},
     "output_type": "display_data"
    },
    {
     "name": "stdout",
     "output_type": "stream",
     "text": [
      "Epoch 58/60, Loss: 2.978238582611084, Validation Accuracy: {'accuracy': 0.42733333333333334}\n"
     ]
    },
    {
     "data": {
      "application/vnd.jupyter.widget-view+json": {
       "model_id": "ff38bcb3302e46c18006c8a714486930",
       "version_major": 2,
       "version_minor": 0
      },
      "text/plain": [
       "Epoch 59/ 60:   0%|          | 0/1563 [00:00<?, ?it/s]"
      ]
     },
     "metadata": {},
     "output_type": "display_data"
    },
    {
     "data": {
      "application/vnd.jupyter.widget-view+json": {
       "model_id": "5688e33ca504490799ee40b31125c93e",
       "version_major": 2,
       "version_minor": 0
      },
      "text/plain": [
       "  0%|          | 0/94 [00:00<?, ?it/s]"
      ]
     },
     "metadata": {},
     "output_type": "display_data"
    },
    {
     "name": "stdout",
     "output_type": "stream",
     "text": [
      "Epoch 59/60, Loss: 2.9744746685028076, Validation Accuracy: {'accuracy': 0.427}\n"
     ]
    },
    {
     "data": {
      "application/vnd.jupyter.widget-view+json": {
       "model_id": "73a7c435dc8748be862993381d627ea7",
       "version_major": 2,
       "version_minor": 0
      },
      "text/plain": [
       "Epoch 60/ 60:   0%|          | 0/1563 [00:00<?, ?it/s]"
      ]
     },
     "metadata": {},
     "output_type": "display_data"
    },
    {
     "data": {
      "application/vnd.jupyter.widget-view+json": {
       "model_id": "b315665b78044ebe91faa9c18d87e487",
       "version_major": 2,
       "version_minor": 0
      },
      "text/plain": [
       "  0%|          | 0/94 [00:00<?, ?it/s]"
      ]
     },
     "metadata": {},
     "output_type": "display_data"
    },
    {
     "name": "stdout",
     "output_type": "stream",
     "text": [
      "Epoch 60/60, Loss: 2.9711647033691406, Validation Accuracy: {'accuracy': 0.429}\n"
     ]
    },
    {
     "data": {
      "application/vnd.jupyter.widget-view+json": {
       "model_id": "b76d3202103246569d9a9b0e0543f6e8",
       "version_major": 2,
       "version_minor": 0
      },
      "text/plain": [
       "  0%|          | 0/1563 [00:00<?, ?it/s]"
      ]
     },
     "metadata": {},
     "output_type": "display_data"
    },
    {
     "data": {
      "application/vnd.jupyter.widget-view+json": {
       "model_id": "",
       "version_major": 2,
       "version_minor": 0
      },
      "text/plain": [
       "VBox(children=(Label(value='0.006 MB of 0.006 MB uploaded\\r'), FloatProgress(value=1.0, max=1.0)))"
      ]
     },
     "metadata": {},
     "output_type": "display_data"
    },
    {
     "data": {
      "text/html": [
       "<style>\n",
       "    table.wandb td:nth-child(1) { padding: 0 10px; text-align: left ; width: auto;} td:nth-child(2) {text-align: left ; width: 100%}\n",
       "    .wandb-row { display: flex; flex-direction: row; flex-wrap: wrap; justify-content: flex-start; width: 100% }\n",
       "    .wandb-col { display: flex; flex-direction: column; flex-basis: 100%; flex: 1; padding: 10px; }\n",
       "    </style>\n",
       "<div class=\"wandb-row\"><div class=\"wandb-col\"><h3>Run history:</h3><br/><table class=\"wandb\"><tr><td>Accuracy/Test</td><td>▁</td></tr><tr><td>Accuracy/Validation</td><td>▁▂▃▄▅▅▆▆▆▆▇▇▇▇▇▇▇▇▇▇████████████████████</td></tr><tr><td>Loss/Train</td><td>█▆▅▄▄▄▃▃▃▂▂▂▂▂▁▁▁▁▁▁▁▁▁▁▁▁▁▁▁▁▁▁▁▁▁▁▁▁▁▁</td></tr><tr><td>Loss/Validation</td><td>█▆▄▃▃▃▂▂▂▂▁▁▁▁▁▁▁▁▁▁▁▁▁▁▁▁▁▁▁▁▁▁▁▁▁▁▁▁▁▁</td></tr></table><br/></div><div class=\"wandb-col\"><h3>Run summary:</h3><br/><table class=\"wandb\"><tr><td>Accuracy/Test</td><td>0.45096</td></tr><tr><td>Accuracy/Validation</td><td>0.429</td></tr><tr><td>Loss/Train</td><td>2.97116</td></tr><tr><td>Loss/Validation</td><td>2.53374</td></tr></table><br/></div></div>"
      ],
      "text/plain": [
       "<IPython.core.display.HTML object>"
      ]
     },
     "metadata": {},
     "output_type": "display_data"
    },
    {
     "data": {
      "text/html": [
       " View run <strong style=\"color:#cdcd00\">elated-thunder-9</strong> at: <a href='https://wandb.ai/semenov-andrei-v/cifar100-head/runs/epdojona' target=\"_blank\">https://wandb.ai/semenov-andrei-v/cifar100-head/runs/epdojona</a><br/>Synced 6 W&B file(s), 0 media file(s), 0 artifact file(s) and 0 other file(s)"
      ],
      "text/plain": [
       "<IPython.core.display.HTML object>"
      ]
     },
     "metadata": {},
     "output_type": "display_data"
    },
    {
     "data": {
      "text/html": [
       "Find logs at: <code>./wandb/run-20231115_202033-epdojona/logs</code>"
      ],
      "text/plain": [
       "<IPython.core.display.HTML object>"
      ]
     },
     "metadata": {},
     "output_type": "display_data"
    }
   ],
   "source": [
    "model.to(device)\n",
    "run = wandb.init(project='cifar100-head', entity='semenov-andrei-v')\n",
    "\n",
    "num_epochs = 60\n",
    "for epoch in range(num_epochs):\n",
    "    model.train()\n",
    "    for batch in tqdm(train_loader_preprocessed, desc=f\"Epoch {epoch + 1}/ {num_epochs}\"):\n",
    "        optimizer.zero_grad()\n",
    "        \n",
    "        inputs, labels = batch\n",
    "        inputs = inputs.to(device)\n",
    "        targets = torch.tensor(labels, dtype=torch.long)\n",
    "        logits = model(**inputs).squeeze(0)\n",
    "        \n",
    "        loss = criterion(logits, targets.to(device))\n",
    "        loss.backward()\n",
    "        optimizer.step()\n",
    "    \n",
    "    model.eval()\n",
    "    val_accuracy, avg_val_loss = val_loss_accuracy(model, val_loader_preprocessed)\n",
    "\n",
    "    wandb.log({\"Loss/Train\": loss.item(), \n",
    "               \"Loss/Validation\": avg_val_loss, \n",
    "               \"Accuracy/Validation\": val_accuracy['accuracy']}\n",
    "             )\n",
    "\n",
    "    print(f\"Epoch {epoch + 1}/{num_epochs}, Loss: {loss.item()}, Validation Accuracy: {val_accuracy}\")\n",
    "\n",
    "model.eval()\n",
    "test_accuracy = get_test_accuracy(model, train_loader_preprocessed)\n",
    "wandb.log({\"Accuracy/Test\": test_accuracy['accuracy']})\n",
    "\n",
    "run.finish()"
   ]
  },
  {
   "cell_type": "markdown",
   "id": "0edaf050-77f5-4ed9-8254-8d1b6e432604",
   "metadata": {},
   "source": [
    "## with cifar100 concepts only"
   ]
  },
  {
   "cell_type": "code",
   "execution_count": 9,
   "id": "55eb414d-0e1d-4748-9681-356d955c5e07",
   "metadata": {
    "tags": []
   },
   "outputs": [],
   "source": [
    "with open(\"conceptnet_cifar100_filtered_new.txt\", \"r\") as f:\n",
    "    concepts = f.read().lower().split(\"\\n\")\n",
    "    concepts = remove_prefixes(concepts)"
   ]
  },
  {
   "cell_type": "code",
   "execution_count": 10,
   "id": "ebdecdad-1f00-4846-81b6-d896e3c9756e",
   "metadata": {
    "tags": []
   },
   "outputs": [
    {
     "data": {
      "text/plain": [
       "944"
      ]
     },
     "execution_count": 10,
     "metadata": {},
     "output_type": "execute_result"
    }
   ],
   "source": [
    "len(concepts)"
   ]
  },
  {
   "cell_type": "code",
   "execution_count": 11,
   "id": "2e2ccb7c-6339-4d79-a506-f344b2185f22",
   "metadata": {
    "tags": []
   },
   "outputs": [
    {
     "name": "stderr",
     "output_type": "stream",
     "text": [
      "100%|███████████████████████████████████████| 1563/1563 [05:13<00:00,  4.99it/s]\n",
      "100%|███████████████████████████████████████████| 94/94 [00:19<00:00,  4.92it/s]\n",
      "100%|█████████████████████████████████████████| 219/219 [00:44<00:00,  4.89it/s]\n"
     ]
    }
   ],
   "source": [
    "from transformers import CLIPModel, CLIPProcessor, AutoTokenizer\n",
    "\n",
    "train_loader_preprocessed = dataset_utils.preprocess_loader(train_loader, concepts)\n",
    "val_loader_preprocessed = dataset_utils.preprocess_loader(val_loader, concepts)\n",
    "test_loader_preprocessed = dataset_utils.preprocess_loader(test_loader, concepts)"
   ]
  },
  {
   "cell_type": "code",
   "execution_count": 19,
   "id": "8a2a61ef-d8e5-466c-9d8d-1dcf602107fd",
   "metadata": {
    "tags": []
   },
   "outputs": [],
   "source": [
    "torch.cuda.empty_cache()"
   ]
  },
  {
   "cell_type": "code",
   "execution_count": 20,
   "id": "6d472825-fd33-4f19-bcee-c3ad05a66428",
   "metadata": {
    "tags": []
   },
   "outputs": [
    {
     "name": "stdout",
     "output_type": "stream",
     "text": [
      "Number of trainable parameters is: 94400\n"
     ]
    }
   ],
   "source": [
    "model = TuningCLIPhead(concepts=concepts)\n",
    "optimizer = torch.optim.Adam(model.parameters(), lr=0.001)\n",
    "criterion = nn.CrossEntropyLoss()\n",
    "\n",
    "print(\"Number of trainable parameters is: {}\".format(sum(p.numel() for p in model.parameters() if p.requires_grad == True)))\n",
    "\n",
    "for state in optimizer.state.values():\n",
    "    for k, v in state.items():\n",
    "        if isinstance(v, torch.Tensor):\n",
    "            state[k] = v.to(device)"
   ]
  },
  {
   "cell_type": "code",
   "execution_count": 21,
   "id": "b5751e18-09dc-4db3-9975-f5525eaf4e3f",
   "metadata": {
    "tags": []
   },
   "outputs": [
    {
     "data": {
      "text/html": [
       "Tracking run with wandb version 0.16.0"
      ],
      "text/plain": [
       "<IPython.core.display.HTML object>"
      ]
     },
     "metadata": {},
     "output_type": "display_data"
    },
    {
     "data": {
      "text/html": [
       "Run data is saved locally in <code>/home/andreisemenov/wandb/run-20231116_141729-2uas26fb</code>"
      ],
      "text/plain": [
       "<IPython.core.display.HTML object>"
      ]
     },
     "metadata": {},
     "output_type": "display_data"
    },
    {
     "data": {
      "text/html": [
       "Syncing run <strong><a href='https://wandb.ai/semenov-andrei-v/cifar100-head/runs/2uas26fb' target=\"_blank\">olive-salad-12</a></strong> to <a href='https://wandb.ai/semenov-andrei-v/cifar100-head' target=\"_blank\">Weights & Biases</a> (<a href='https://wandb.me/run' target=\"_blank\">docs</a>)<br/>"
      ],
      "text/plain": [
       "<IPython.core.display.HTML object>"
      ]
     },
     "metadata": {},
     "output_type": "display_data"
    },
    {
     "data": {
      "text/html": [
       " View project at <a href='https://wandb.ai/semenov-andrei-v/cifar100-head' target=\"_blank\">https://wandb.ai/semenov-andrei-v/cifar100-head</a>"
      ],
      "text/plain": [
       "<IPython.core.display.HTML object>"
      ]
     },
     "metadata": {},
     "output_type": "display_data"
    },
    {
     "data": {
      "text/html": [
       " View run at <a href='https://wandb.ai/semenov-andrei-v/cifar100-head/runs/2uas26fb' target=\"_blank\">https://wandb.ai/semenov-andrei-v/cifar100-head/runs/2uas26fb</a>"
      ],
      "text/plain": [
       "<IPython.core.display.HTML object>"
      ]
     },
     "metadata": {},
     "output_type": "display_data"
    },
    {
     "data": {
      "application/vnd.jupyter.widget-view+json": {
       "model_id": "8b4bdbbfded6441a9ab8735568575e32",
       "version_major": 2,
       "version_minor": 0
      },
      "text/plain": [
       "Epoch 1/ 60:   0%|          | 0/1563 [00:00<?, ?it/s]"
      ]
     },
     "metadata": {},
     "output_type": "display_data"
    },
    {
     "data": {
      "application/vnd.jupyter.widget-view+json": {
       "model_id": "0a8e7530eda84ace9bf399a58e0e3acd",
       "version_major": 2,
       "version_minor": 0
      },
      "text/plain": [
       "  0%|          | 0/94 [00:00<?, ?it/s]"
      ]
     },
     "metadata": {},
     "output_type": "display_data"
    },
    {
     "name": "stdout",
     "output_type": "stream",
     "text": [
      "Epoch 1/60, Loss: 26.086469650268555, Validation Accuracy: {'accuracy': 0.11066666666666666}\n"
     ]
    },
    {
     "data": {
      "application/vnd.jupyter.widget-view+json": {
       "model_id": "95ab0c831de84bcdae8a7e808ae56df8",
       "version_major": 2,
       "version_minor": 0
      },
      "text/plain": [
       "Epoch 2/ 60:   0%|          | 0/1563 [00:00<?, ?it/s]"
      ]
     },
     "metadata": {},
     "output_type": "display_data"
    },
    {
     "data": {
      "application/vnd.jupyter.widget-view+json": {
       "model_id": "e97f4c669d9b4b08b43b46d632e135b5",
       "version_major": 2,
       "version_minor": 0
      },
      "text/plain": [
       "  0%|          | 0/94 [00:00<?, ?it/s]"
      ]
     },
     "metadata": {},
     "output_type": "display_data"
    },
    {
     "name": "stdout",
     "output_type": "stream",
     "text": [
      "Epoch 2/60, Loss: 12.031149864196777, Validation Accuracy: {'accuracy': 0.16833333333333333}\n"
     ]
    },
    {
     "data": {
      "application/vnd.jupyter.widget-view+json": {
       "model_id": "d8d01ce913ee456bbb6abc725c50af0a",
       "version_major": 2,
       "version_minor": 0
      },
      "text/plain": [
       "Epoch 3/ 60:   0%|          | 0/1563 [00:00<?, ?it/s]"
      ]
     },
     "metadata": {},
     "output_type": "display_data"
    },
    {
     "data": {
      "application/vnd.jupyter.widget-view+json": {
       "model_id": "e7828bd4720e482fb1a0233bd185e854",
       "version_major": 2,
       "version_minor": 0
      },
      "text/plain": [
       "  0%|          | 0/94 [00:00<?, ?it/s]"
      ]
     },
     "metadata": {},
     "output_type": "display_data"
    },
    {
     "name": "stdout",
     "output_type": "stream",
     "text": [
      "Epoch 3/60, Loss: 12.257671356201172, Validation Accuracy: {'accuracy': 0.21066666666666667}\n"
     ]
    },
    {
     "data": {
      "application/vnd.jupyter.widget-view+json": {
       "model_id": "9352f1def89f4918a07fed0cd4cf6c38",
       "version_major": 2,
       "version_minor": 0
      },
      "text/plain": [
       "Epoch 4/ 60:   0%|          | 0/1563 [00:00<?, ?it/s]"
      ]
     },
     "metadata": {},
     "output_type": "display_data"
    },
    {
     "data": {
      "application/vnd.jupyter.widget-view+json": {
       "model_id": "a787272ca945435b9b3c5c011fb4de88",
       "version_major": 2,
       "version_minor": 0
      },
      "text/plain": [
       "  0%|          | 0/94 [00:00<?, ?it/s]"
      ]
     },
     "metadata": {},
     "output_type": "display_data"
    },
    {
     "name": "stdout",
     "output_type": "stream",
     "text": [
      "Epoch 4/60, Loss: 15.282087326049805, Validation Accuracy: {'accuracy': 0.184}\n"
     ]
    },
    {
     "data": {
      "application/vnd.jupyter.widget-view+json": {
       "model_id": "fe1762cbcf6c4bcca1f0b90acb3f082f",
       "version_major": 2,
       "version_minor": 0
      },
      "text/plain": [
       "Epoch 5/ 60:   0%|          | 0/1563 [00:00<?, ?it/s]"
      ]
     },
     "metadata": {},
     "output_type": "display_data"
    },
    {
     "data": {
      "application/vnd.jupyter.widget-view+json": {
       "model_id": "8cbb43ad0eb4418da2a598b226fe85d1",
       "version_major": 2,
       "version_minor": 0
      },
      "text/plain": [
       "  0%|          | 0/94 [00:00<?, ?it/s]"
      ]
     },
     "metadata": {},
     "output_type": "display_data"
    },
    {
     "name": "stdout",
     "output_type": "stream",
     "text": [
      "Epoch 5/60, Loss: 15.90857219696045, Validation Accuracy: {'accuracy': 0.221}\n"
     ]
    },
    {
     "data": {
      "application/vnd.jupyter.widget-view+json": {
       "model_id": "7bd9d59bd5aa4e8b8bdf70fc32c8cab3",
       "version_major": 2,
       "version_minor": 0
      },
      "text/plain": [
       "Epoch 6/ 60:   0%|          | 0/1563 [00:00<?, ?it/s]"
      ]
     },
     "metadata": {},
     "output_type": "display_data"
    },
    {
     "data": {
      "application/vnd.jupyter.widget-view+json": {
       "model_id": "f1d482ee357443028e9d3fa0ca255a8a",
       "version_major": 2,
       "version_minor": 0
      },
      "text/plain": [
       "  0%|          | 0/94 [00:00<?, ?it/s]"
      ]
     },
     "metadata": {},
     "output_type": "display_data"
    },
    {
     "name": "stdout",
     "output_type": "stream",
     "text": [
      "Epoch 6/60, Loss: 19.34119987487793, Validation Accuracy: {'accuracy': 0.21633333333333332}\n"
     ]
    },
    {
     "data": {
      "application/vnd.jupyter.widget-view+json": {
       "model_id": "464ed56567434e99be2a4fb6279994a0",
       "version_major": 2,
       "version_minor": 0
      },
      "text/plain": [
       "Epoch 7/ 60:   0%|          | 0/1563 [00:00<?, ?it/s]"
      ]
     },
     "metadata": {},
     "output_type": "display_data"
    },
    {
     "data": {
      "application/vnd.jupyter.widget-view+json": {
       "model_id": "b721c07335b145398195f41ba17226b4",
       "version_major": 2,
       "version_minor": 0
      },
      "text/plain": [
       "  0%|          | 0/94 [00:00<?, ?it/s]"
      ]
     },
     "metadata": {},
     "output_type": "display_data"
    },
    {
     "name": "stdout",
     "output_type": "stream",
     "text": [
      "Epoch 7/60, Loss: 22.17243194580078, Validation Accuracy: {'accuracy': 0.27466666666666667}\n"
     ]
    },
    {
     "data": {
      "application/vnd.jupyter.widget-view+json": {
       "model_id": "1c3695116efa40b2a9b1db6be832f52f",
       "version_major": 2,
       "version_minor": 0
      },
      "text/plain": [
       "Epoch 8/ 60:   0%|          | 0/1563 [00:00<?, ?it/s]"
      ]
     },
     "metadata": {},
     "output_type": "display_data"
    },
    {
     "data": {
      "application/vnd.jupyter.widget-view+json": {
       "model_id": "2313c802592d43659ab2e605141d5777",
       "version_major": 2,
       "version_minor": 0
      },
      "text/plain": [
       "  0%|          | 0/94 [00:00<?, ?it/s]"
      ]
     },
     "metadata": {},
     "output_type": "display_data"
    },
    {
     "name": "stdout",
     "output_type": "stream",
     "text": [
      "Epoch 8/60, Loss: 16.483795166015625, Validation Accuracy: {'accuracy': 0.24966666666666668}\n"
     ]
    },
    {
     "data": {
      "application/vnd.jupyter.widget-view+json": {
       "model_id": "d3de1e77365c410891eabd63f1f11edb",
       "version_major": 2,
       "version_minor": 0
      },
      "text/plain": [
       "Epoch 9/ 60:   0%|          | 0/1563 [00:00<?, ?it/s]"
      ]
     },
     "metadata": {},
     "output_type": "display_data"
    },
    {
     "data": {
      "application/vnd.jupyter.widget-view+json": {
       "model_id": "7bb4b4abdf0a4f18910f6012e4512316",
       "version_major": 2,
       "version_minor": 0
      },
      "text/plain": [
       "  0%|          | 0/94 [00:00<?, ?it/s]"
      ]
     },
     "metadata": {},
     "output_type": "display_data"
    },
    {
     "name": "stdout",
     "output_type": "stream",
     "text": [
      "Epoch 9/60, Loss: 17.13865852355957, Validation Accuracy: {'accuracy': 0.25766666666666665}\n"
     ]
    },
    {
     "data": {
      "application/vnd.jupyter.widget-view+json": {
       "model_id": "967feab75364456fac7945444d675fa2",
       "version_major": 2,
       "version_minor": 0
      },
      "text/plain": [
       "Epoch 10/ 60:   0%|          | 0/1563 [00:00<?, ?it/s]"
      ]
     },
     "metadata": {},
     "output_type": "display_data"
    },
    {
     "data": {
      "application/vnd.jupyter.widget-view+json": {
       "model_id": "9a0ae8a5e252498e9645c6165ff04144",
       "version_major": 2,
       "version_minor": 0
      },
      "text/plain": [
       "  0%|          | 0/94 [00:00<?, ?it/s]"
      ]
     },
     "metadata": {},
     "output_type": "display_data"
    },
    {
     "name": "stdout",
     "output_type": "stream",
     "text": [
      "Epoch 10/60, Loss: 18.489322662353516, Validation Accuracy: {'accuracy': 0.29533333333333334}\n"
     ]
    },
    {
     "data": {
      "application/vnd.jupyter.widget-view+json": {
       "model_id": "57ff1cff12bf4521bebc5600c0139908",
       "version_major": 2,
       "version_minor": 0
      },
      "text/plain": [
       "Epoch 11/ 60:   0%|          | 0/1563 [00:00<?, ?it/s]"
      ]
     },
     "metadata": {},
     "output_type": "display_data"
    },
    {
     "data": {
      "application/vnd.jupyter.widget-view+json": {
       "model_id": "20c713f574e94c3ca251fece0b2e9a74",
       "version_major": 2,
       "version_minor": 0
      },
      "text/plain": [
       "  0%|          | 0/94 [00:00<?, ?it/s]"
      ]
     },
     "metadata": {},
     "output_type": "display_data"
    },
    {
     "name": "stdout",
     "output_type": "stream",
     "text": [
      "Epoch 11/60, Loss: 16.34471893310547, Validation Accuracy: {'accuracy': 0.2633333333333333}\n"
     ]
    },
    {
     "data": {
      "application/vnd.jupyter.widget-view+json": {
       "model_id": "d95bbbe01e234d32aeb57ff9250d1e70",
       "version_major": 2,
       "version_minor": 0
      },
      "text/plain": [
       "Epoch 12/ 60:   0%|          | 0/1563 [00:00<?, ?it/s]"
      ]
     },
     "metadata": {},
     "output_type": "display_data"
    },
    {
     "data": {
      "application/vnd.jupyter.widget-view+json": {
       "model_id": "0c7ead5e81194110821f0c4b150349ca",
       "version_major": 2,
       "version_minor": 0
      },
      "text/plain": [
       "  0%|          | 0/94 [00:00<?, ?it/s]"
      ]
     },
     "metadata": {},
     "output_type": "display_data"
    },
    {
     "name": "stdout",
     "output_type": "stream",
     "text": [
      "Epoch 12/60, Loss: 20.72008514404297, Validation Accuracy: {'accuracy': 0.30833333333333335}\n"
     ]
    },
    {
     "data": {
      "application/vnd.jupyter.widget-view+json": {
       "model_id": "59a68b6956004dc3b366288a94f2c415",
       "version_major": 2,
       "version_minor": 0
      },
      "text/plain": [
       "Epoch 13/ 60:   0%|          | 0/1563 [00:00<?, ?it/s]"
      ]
     },
     "metadata": {},
     "output_type": "display_data"
    },
    {
     "data": {
      "application/vnd.jupyter.widget-view+json": {
       "model_id": "559a2c888f7c4e7fbfccdf12511e763b",
       "version_major": 2,
       "version_minor": 0
      },
      "text/plain": [
       "  0%|          | 0/94 [00:00<?, ?it/s]"
      ]
     },
     "metadata": {},
     "output_type": "display_data"
    },
    {
     "name": "stdout",
     "output_type": "stream",
     "text": [
      "Epoch 13/60, Loss: 14.050576210021973, Validation Accuracy: {'accuracy': 0.298}\n"
     ]
    },
    {
     "data": {
      "application/vnd.jupyter.widget-view+json": {
       "model_id": "77b9c2c2ae404ab38fd42d2d43925f41",
       "version_major": 2,
       "version_minor": 0
      },
      "text/plain": [
       "Epoch 14/ 60:   0%|          | 0/1563 [00:00<?, ?it/s]"
      ]
     },
     "metadata": {},
     "output_type": "display_data"
    },
    {
     "data": {
      "application/vnd.jupyter.widget-view+json": {
       "model_id": "a5dee195d69a4c7c9bbb6488916666b0",
       "version_major": 2,
       "version_minor": 0
      },
      "text/plain": [
       "  0%|          | 0/94 [00:00<?, ?it/s]"
      ]
     },
     "metadata": {},
     "output_type": "display_data"
    },
    {
     "name": "stdout",
     "output_type": "stream",
     "text": [
      "Epoch 14/60, Loss: 14.777558326721191, Validation Accuracy: {'accuracy': 0.3383333333333333}\n"
     ]
    },
    {
     "data": {
      "application/vnd.jupyter.widget-view+json": {
       "model_id": "bc5dcc517ef84984994028ae3749a102",
       "version_major": 2,
       "version_minor": 0
      },
      "text/plain": [
       "Epoch 15/ 60:   0%|          | 0/1563 [00:00<?, ?it/s]"
      ]
     },
     "metadata": {},
     "output_type": "display_data"
    },
    {
     "data": {
      "application/vnd.jupyter.widget-view+json": {
       "model_id": "4461a4d119b0459eaf8ed8513967b431",
       "version_major": 2,
       "version_minor": 0
      },
      "text/plain": [
       "  0%|          | 0/94 [00:00<?, ?it/s]"
      ]
     },
     "metadata": {},
     "output_type": "display_data"
    },
    {
     "name": "stdout",
     "output_type": "stream",
     "text": [
      "Epoch 15/60, Loss: 23.919715881347656, Validation Accuracy: {'accuracy': 0.33566666666666667}\n"
     ]
    },
    {
     "data": {
      "application/vnd.jupyter.widget-view+json": {
       "model_id": "6b13c74eada64408ab64eb069ce79ea3",
       "version_major": 2,
       "version_minor": 0
      },
      "text/plain": [
       "Epoch 16/ 60:   0%|          | 0/1563 [00:00<?, ?it/s]"
      ]
     },
     "metadata": {},
     "output_type": "display_data"
    },
    {
     "data": {
      "application/vnd.jupyter.widget-view+json": {
       "model_id": "96164b17b94c48759003c92a2a8b4dcf",
       "version_major": 2,
       "version_minor": 0
      },
      "text/plain": [
       "  0%|          | 0/94 [00:00<?, ?it/s]"
      ]
     },
     "metadata": {},
     "output_type": "display_data"
    },
    {
     "name": "stdout",
     "output_type": "stream",
     "text": [
      "Epoch 16/60, Loss: 22.782711029052734, Validation Accuracy: {'accuracy': 0.2976666666666667}\n"
     ]
    },
    {
     "data": {
      "application/vnd.jupyter.widget-view+json": {
       "model_id": "3322b13f8c3441bfba8f375397819fba",
       "version_major": 2,
       "version_minor": 0
      },
      "text/plain": [
       "Epoch 17/ 60:   0%|          | 0/1563 [00:00<?, ?it/s]"
      ]
     },
     "metadata": {},
     "output_type": "display_data"
    },
    {
     "data": {
      "application/vnd.jupyter.widget-view+json": {
       "model_id": "8f61cbf5bd564b07a888be8d83d43eac",
       "version_major": 2,
       "version_minor": 0
      },
      "text/plain": [
       "  0%|          | 0/94 [00:00<?, ?it/s]"
      ]
     },
     "metadata": {},
     "output_type": "display_data"
    },
    {
     "name": "stdout",
     "output_type": "stream",
     "text": [
      "Epoch 17/60, Loss: 22.52137565612793, Validation Accuracy: {'accuracy': 0.326}\n"
     ]
    },
    {
     "data": {
      "application/vnd.jupyter.widget-view+json": {
       "model_id": "4099d244e0384773b68e27c74d1afe29",
       "version_major": 2,
       "version_minor": 0
      },
      "text/plain": [
       "Epoch 18/ 60:   0%|          | 0/1563 [00:00<?, ?it/s]"
      ]
     },
     "metadata": {},
     "output_type": "display_data"
    },
    {
     "data": {
      "application/vnd.jupyter.widget-view+json": {
       "model_id": "503e39682f5b402ab9c0a8e5c324f6e9",
       "version_major": 2,
       "version_minor": 0
      },
      "text/plain": [
       "  0%|          | 0/94 [00:00<?, ?it/s]"
      ]
     },
     "metadata": {},
     "output_type": "display_data"
    },
    {
     "name": "stdout",
     "output_type": "stream",
     "text": [
      "Epoch 18/60, Loss: 11.632498741149902, Validation Accuracy: {'accuracy': 0.3546666666666667}\n"
     ]
    },
    {
     "data": {
      "application/vnd.jupyter.widget-view+json": {
       "model_id": "8d3662190cb34c5e83c4e25d8357878c",
       "version_major": 2,
       "version_minor": 0
      },
      "text/plain": [
       "Epoch 19/ 60:   0%|          | 0/1563 [00:00<?, ?it/s]"
      ]
     },
     "metadata": {},
     "output_type": "display_data"
    },
    {
     "data": {
      "application/vnd.jupyter.widget-view+json": {
       "model_id": "b929477fa2f34f04981de9f9d014fe24",
       "version_major": 2,
       "version_minor": 0
      },
      "text/plain": [
       "  0%|          | 0/94 [00:00<?, ?it/s]"
      ]
     },
     "metadata": {},
     "output_type": "display_data"
    },
    {
     "name": "stdout",
     "output_type": "stream",
     "text": [
      "Epoch 19/60, Loss: 16.93497657775879, Validation Accuracy: {'accuracy': 0.332}\n"
     ]
    },
    {
     "data": {
      "application/vnd.jupyter.widget-view+json": {
       "model_id": "8ea102416777427786c55045dc3ab198",
       "version_major": 2,
       "version_minor": 0
      },
      "text/plain": [
       "Epoch 20/ 60:   0%|          | 0/1563 [00:00<?, ?it/s]"
      ]
     },
     "metadata": {},
     "output_type": "display_data"
    },
    {
     "data": {
      "application/vnd.jupyter.widget-view+json": {
       "model_id": "679a359b563741a8a6fe2bdd34cf67d7",
       "version_major": 2,
       "version_minor": 0
      },
      "text/plain": [
       "  0%|          | 0/94 [00:00<?, ?it/s]"
      ]
     },
     "metadata": {},
     "output_type": "display_data"
    },
    {
     "name": "stdout",
     "output_type": "stream",
     "text": [
      "Epoch 20/60, Loss: 15.75847053527832, Validation Accuracy: {'accuracy': 0.35333333333333333}\n"
     ]
    },
    {
     "data": {
      "application/vnd.jupyter.widget-view+json": {
       "model_id": "92ff29ad537b47ec82e9d37178fd9e8a",
       "version_major": 2,
       "version_minor": 0
      },
      "text/plain": [
       "Epoch 21/ 60:   0%|          | 0/1563 [00:00<?, ?it/s]"
      ]
     },
     "metadata": {},
     "output_type": "display_data"
    },
    {
     "data": {
      "application/vnd.jupyter.widget-view+json": {
       "model_id": "0c76cde3c9da475093b5ae37731fde8a",
       "version_major": 2,
       "version_minor": 0
      },
      "text/plain": [
       "  0%|          | 0/94 [00:00<?, ?it/s]"
      ]
     },
     "metadata": {},
     "output_type": "display_data"
    },
    {
     "name": "stdout",
     "output_type": "stream",
     "text": [
      "Epoch 21/60, Loss: 16.80501937866211, Validation Accuracy: {'accuracy': 0.3433333333333333}\n"
     ]
    },
    {
     "data": {
      "application/vnd.jupyter.widget-view+json": {
       "model_id": "6c7ab6f13be0451d94fa1d965db1b1ee",
       "version_major": 2,
       "version_minor": 0
      },
      "text/plain": [
       "Epoch 22/ 60:   0%|          | 0/1563 [00:00<?, ?it/s]"
      ]
     },
     "metadata": {},
     "output_type": "display_data"
    },
    {
     "data": {
      "application/vnd.jupyter.widget-view+json": {
       "model_id": "6683dc1a0330422d85820d3213e4d2a0",
       "version_major": 2,
       "version_minor": 0
      },
      "text/plain": [
       "  0%|          | 0/94 [00:00<?, ?it/s]"
      ]
     },
     "metadata": {},
     "output_type": "display_data"
    },
    {
     "name": "stdout",
     "output_type": "stream",
     "text": [
      "Epoch 22/60, Loss: 24.949922561645508, Validation Accuracy: {'accuracy': 0.3536666666666667}\n"
     ]
    },
    {
     "data": {
      "application/vnd.jupyter.widget-view+json": {
       "model_id": "815f5117dc714685b1fa3186725d8330",
       "version_major": 2,
       "version_minor": 0
      },
      "text/plain": [
       "Epoch 23/ 60:   0%|          | 0/1563 [00:00<?, ?it/s]"
      ]
     },
     "metadata": {},
     "output_type": "display_data"
    },
    {
     "data": {
      "application/vnd.jupyter.widget-view+json": {
       "model_id": "64aa207aae3a465d9c128153a92a2d4f",
       "version_major": 2,
       "version_minor": 0
      },
      "text/plain": [
       "  0%|          | 0/94 [00:00<?, ?it/s]"
      ]
     },
     "metadata": {},
     "output_type": "display_data"
    },
    {
     "name": "stdout",
     "output_type": "stream",
     "text": [
      "Epoch 23/60, Loss: 15.148921966552734, Validation Accuracy: {'accuracy': 0.34933333333333333}\n"
     ]
    },
    {
     "data": {
      "application/vnd.jupyter.widget-view+json": {
       "model_id": "213be8adbbea436686e27a2a2ce63db0",
       "version_major": 2,
       "version_minor": 0
      },
      "text/plain": [
       "Epoch 24/ 60:   0%|          | 0/1563 [00:00<?, ?it/s]"
      ]
     },
     "metadata": {},
     "output_type": "display_data"
    },
    {
     "data": {
      "application/vnd.jupyter.widget-view+json": {
       "model_id": "4d52b1a7fe174a1ca95c2bcdc6b87177",
       "version_major": 2,
       "version_minor": 0
      },
      "text/plain": [
       "  0%|          | 0/94 [00:00<?, ?it/s]"
      ]
     },
     "metadata": {},
     "output_type": "display_data"
    },
    {
     "name": "stdout",
     "output_type": "stream",
     "text": [
      "Epoch 24/60, Loss: 22.779537200927734, Validation Accuracy: {'accuracy': 0.3263333333333333}\n"
     ]
    },
    {
     "data": {
      "application/vnd.jupyter.widget-view+json": {
       "model_id": "f9318d0df75d40a9a9adb3c06ef3411a",
       "version_major": 2,
       "version_minor": 0
      },
      "text/plain": [
       "Epoch 25/ 60:   0%|          | 0/1563 [00:00<?, ?it/s]"
      ]
     },
     "metadata": {},
     "output_type": "display_data"
    },
    {
     "data": {
      "application/vnd.jupyter.widget-view+json": {
       "model_id": "8094d63f9d01445d85b9cc88fc5e84ab",
       "version_major": 2,
       "version_minor": 0
      },
      "text/plain": [
       "  0%|          | 0/94 [00:00<?, ?it/s]"
      ]
     },
     "metadata": {},
     "output_type": "display_data"
    },
    {
     "name": "stdout",
     "output_type": "stream",
     "text": [
      "Epoch 25/60, Loss: 15.233345031738281, Validation Accuracy: {'accuracy': 0.36433333333333334}\n"
     ]
    },
    {
     "data": {
      "application/vnd.jupyter.widget-view+json": {
       "model_id": "858d942a43a74b41ba4d8918cf99263d",
       "version_major": 2,
       "version_minor": 0
      },
      "text/plain": [
       "Epoch 26/ 60:   0%|          | 0/1563 [00:00<?, ?it/s]"
      ]
     },
     "metadata": {},
     "output_type": "display_data"
    },
    {
     "data": {
      "application/vnd.jupyter.widget-view+json": {
       "model_id": "807a451d91504691af90ced40ee1bc01",
       "version_major": 2,
       "version_minor": 0
      },
      "text/plain": [
       "  0%|          | 0/94 [00:00<?, ?it/s]"
      ]
     },
     "metadata": {},
     "output_type": "display_data"
    },
    {
     "name": "stdout",
     "output_type": "stream",
     "text": [
      "Epoch 26/60, Loss: 19.45241928100586, Validation Accuracy: {'accuracy': 0.38866666666666666}\n"
     ]
    },
    {
     "data": {
      "application/vnd.jupyter.widget-view+json": {
       "model_id": "e1d444c82be04077b386892b60023fce",
       "version_major": 2,
       "version_minor": 0
      },
      "text/plain": [
       "Epoch 27/ 60:   0%|          | 0/1563 [00:00<?, ?it/s]"
      ]
     },
     "metadata": {},
     "output_type": "display_data"
    },
    {
     "data": {
      "application/vnd.jupyter.widget-view+json": {
       "model_id": "f5ddf08507e3480db3b72e306994ee62",
       "version_major": 2,
       "version_minor": 0
      },
      "text/plain": [
       "  0%|          | 0/94 [00:00<?, ?it/s]"
      ]
     },
     "metadata": {},
     "output_type": "display_data"
    },
    {
     "name": "stdout",
     "output_type": "stream",
     "text": [
      "Epoch 27/60, Loss: 13.310646057128906, Validation Accuracy: {'accuracy': 0.3436666666666667}\n"
     ]
    },
    {
     "data": {
      "application/vnd.jupyter.widget-view+json": {
       "model_id": "ffdb547cfc874fdeb5cac0ac71a1ae7b",
       "version_major": 2,
       "version_minor": 0
      },
      "text/plain": [
       "Epoch 28/ 60:   0%|          | 0/1563 [00:00<?, ?it/s]"
      ]
     },
     "metadata": {},
     "output_type": "display_data"
    },
    {
     "data": {
      "application/vnd.jupyter.widget-view+json": {
       "model_id": "5fe765fc286641928fafd6a915fde21a",
       "version_major": 2,
       "version_minor": 0
      },
      "text/plain": [
       "  0%|          | 0/94 [00:00<?, ?it/s]"
      ]
     },
     "metadata": {},
     "output_type": "display_data"
    },
    {
     "name": "stdout",
     "output_type": "stream",
     "text": [
      "Epoch 28/60, Loss: 12.36600399017334, Validation Accuracy: {'accuracy': 0.36433333333333334}\n"
     ]
    },
    {
     "data": {
      "application/vnd.jupyter.widget-view+json": {
       "model_id": "f1023a47629043f3a0b37ba7d7c032c6",
       "version_major": 2,
       "version_minor": 0
      },
      "text/plain": [
       "Epoch 29/ 60:   0%|          | 0/1563 [00:00<?, ?it/s]"
      ]
     },
     "metadata": {},
     "output_type": "display_data"
    },
    {
     "data": {
      "application/vnd.jupyter.widget-view+json": {
       "model_id": "08d08ae07c59497dba692ed6e2ebf28c",
       "version_major": 2,
       "version_minor": 0
      },
      "text/plain": [
       "  0%|          | 0/94 [00:00<?, ?it/s]"
      ]
     },
     "metadata": {},
     "output_type": "display_data"
    },
    {
     "name": "stdout",
     "output_type": "stream",
     "text": [
      "Epoch 29/60, Loss: 16.72597312927246, Validation Accuracy: {'accuracy': 0.37166666666666665}\n"
     ]
    },
    {
     "data": {
      "application/vnd.jupyter.widget-view+json": {
       "model_id": "6e76688cb08c46449223b94a53afd78d",
       "version_major": 2,
       "version_minor": 0
      },
      "text/plain": [
       "Epoch 30/ 60:   0%|          | 0/1563 [00:00<?, ?it/s]"
      ]
     },
     "metadata": {},
     "output_type": "display_data"
    },
    {
     "data": {
      "application/vnd.jupyter.widget-view+json": {
       "model_id": "c4c89faa6a194282bcd7fd4c256a48af",
       "version_major": 2,
       "version_minor": 0
      },
      "text/plain": [
       "  0%|          | 0/94 [00:00<?, ?it/s]"
      ]
     },
     "metadata": {},
     "output_type": "display_data"
    },
    {
     "name": "stdout",
     "output_type": "stream",
     "text": [
      "Epoch 30/60, Loss: 15.903167724609375, Validation Accuracy: {'accuracy': 0.37}\n"
     ]
    },
    {
     "data": {
      "application/vnd.jupyter.widget-view+json": {
       "model_id": "af5aabfab03448a2b5fd13b09b805106",
       "version_major": 2,
       "version_minor": 0
      },
      "text/plain": [
       "Epoch 31/ 60:   0%|          | 0/1563 [00:00<?, ?it/s]"
      ]
     },
     "metadata": {},
     "output_type": "display_data"
    },
    {
     "data": {
      "application/vnd.jupyter.widget-view+json": {
       "model_id": "83e98ea5cf4244889a7114f3db104cef",
       "version_major": 2,
       "version_minor": 0
      },
      "text/plain": [
       "  0%|          | 0/94 [00:00<?, ?it/s]"
      ]
     },
     "metadata": {},
     "output_type": "display_data"
    },
    {
     "name": "stdout",
     "output_type": "stream",
     "text": [
      "Epoch 31/60, Loss: 14.029983520507812, Validation Accuracy: {'accuracy': 0.3463333333333333}\n"
     ]
    },
    {
     "data": {
      "application/vnd.jupyter.widget-view+json": {
       "model_id": "1a440c6364384ec78b6aeda9485636ff",
       "version_major": 2,
       "version_minor": 0
      },
      "text/plain": [
       "Epoch 32/ 60:   0%|          | 0/1563 [00:00<?, ?it/s]"
      ]
     },
     "metadata": {},
     "output_type": "display_data"
    },
    {
     "data": {
      "application/vnd.jupyter.widget-view+json": {
       "model_id": "68b46e5154174b3e8d356ed01d5ba4c7",
       "version_major": 2,
       "version_minor": 0
      },
      "text/plain": [
       "  0%|          | 0/94 [00:00<?, ?it/s]"
      ]
     },
     "metadata": {},
     "output_type": "display_data"
    },
    {
     "name": "stdout",
     "output_type": "stream",
     "text": [
      "Epoch 32/60, Loss: 21.321746826171875, Validation Accuracy: {'accuracy': 0.357}\n"
     ]
    },
    {
     "data": {
      "application/vnd.jupyter.widget-view+json": {
       "model_id": "162688efdd0a494399b95c5b0ffd0fcf",
       "version_major": 2,
       "version_minor": 0
      },
      "text/plain": [
       "Epoch 33/ 60:   0%|          | 0/1563 [00:00<?, ?it/s]"
      ]
     },
     "metadata": {},
     "output_type": "display_data"
    },
    {
     "data": {
      "application/vnd.jupyter.widget-view+json": {
       "model_id": "e313b0826d444f8298f4c4a5935b10ca",
       "version_major": 2,
       "version_minor": 0
      },
      "text/plain": [
       "  0%|          | 0/94 [00:00<?, ?it/s]"
      ]
     },
     "metadata": {},
     "output_type": "display_data"
    },
    {
     "name": "stdout",
     "output_type": "stream",
     "text": [
      "Epoch 33/60, Loss: 16.57905387878418, Validation Accuracy: {'accuracy': 0.4033333333333333}\n"
     ]
    },
    {
     "data": {
      "application/vnd.jupyter.widget-view+json": {
       "model_id": "4ad183eaf262475d89caa5012ca35498",
       "version_major": 2,
       "version_minor": 0
      },
      "text/plain": [
       "Epoch 34/ 60:   0%|          | 0/1563 [00:00<?, ?it/s]"
      ]
     },
     "metadata": {},
     "output_type": "display_data"
    },
    {
     "data": {
      "application/vnd.jupyter.widget-view+json": {
       "model_id": "f3b5f670d2de4ca2b25247348909f33c",
       "version_major": 2,
       "version_minor": 0
      },
      "text/plain": [
       "  0%|          | 0/94 [00:00<?, ?it/s]"
      ]
     },
     "metadata": {},
     "output_type": "display_data"
    },
    {
     "name": "stdout",
     "output_type": "stream",
     "text": [
      "Epoch 34/60, Loss: 16.83977508544922, Validation Accuracy: {'accuracy': 0.36}\n"
     ]
    },
    {
     "data": {
      "application/vnd.jupyter.widget-view+json": {
       "model_id": "ecbbd1724ba8439da81123dc2cc6b82f",
       "version_major": 2,
       "version_minor": 0
      },
      "text/plain": [
       "Epoch 35/ 60:   0%|          | 0/1563 [00:00<?, ?it/s]"
      ]
     },
     "metadata": {},
     "output_type": "display_data"
    },
    {
     "data": {
      "application/vnd.jupyter.widget-view+json": {
       "model_id": "0b3a4054e1c64ea4a42a89860c188654",
       "version_major": 2,
       "version_minor": 0
      },
      "text/plain": [
       "  0%|          | 0/94 [00:00<?, ?it/s]"
      ]
     },
     "metadata": {},
     "output_type": "display_data"
    },
    {
     "name": "stdout",
     "output_type": "stream",
     "text": [
      "Epoch 35/60, Loss: 12.50976848602295, Validation Accuracy: {'accuracy': 0.37066666666666664}\n"
     ]
    },
    {
     "data": {
      "application/vnd.jupyter.widget-view+json": {
       "model_id": "b5ae90cbf60b46838b1b6fd562294535",
       "version_major": 2,
       "version_minor": 0
      },
      "text/plain": [
       "Epoch 36/ 60:   0%|          | 0/1563 [00:00<?, ?it/s]"
      ]
     },
     "metadata": {},
     "output_type": "display_data"
    },
    {
     "data": {
      "application/vnd.jupyter.widget-view+json": {
       "model_id": "275f3793cd8b486bb4fcfb862b50a326",
       "version_major": 2,
       "version_minor": 0
      },
      "text/plain": [
       "  0%|          | 0/94 [00:00<?, ?it/s]"
      ]
     },
     "metadata": {},
     "output_type": "display_data"
    },
    {
     "name": "stdout",
     "output_type": "stream",
     "text": [
      "Epoch 36/60, Loss: 10.182174682617188, Validation Accuracy: {'accuracy': 0.39066666666666666}\n"
     ]
    },
    {
     "data": {
      "application/vnd.jupyter.widget-view+json": {
       "model_id": "694a5485c85b468fb37cf802346d168e",
       "version_major": 2,
       "version_minor": 0
      },
      "text/plain": [
       "Epoch 37/ 60:   0%|          | 0/1563 [00:00<?, ?it/s]"
      ]
     },
     "metadata": {},
     "output_type": "display_data"
    },
    {
     "data": {
      "application/vnd.jupyter.widget-view+json": {
       "model_id": "46fb6388926c436ca58085efa05cd98c",
       "version_major": 2,
       "version_minor": 0
      },
      "text/plain": [
       "  0%|          | 0/94 [00:00<?, ?it/s]"
      ]
     },
     "metadata": {},
     "output_type": "display_data"
    },
    {
     "name": "stdout",
     "output_type": "stream",
     "text": [
      "Epoch 37/60, Loss: 14.254904747009277, Validation Accuracy: {'accuracy': 0.3933333333333333}\n"
     ]
    },
    {
     "data": {
      "application/vnd.jupyter.widget-view+json": {
       "model_id": "a954c3a7aa24435b8969e9f214181b4d",
       "version_major": 2,
       "version_minor": 0
      },
      "text/plain": [
       "Epoch 38/ 60:   0%|          | 0/1563 [00:00<?, ?it/s]"
      ]
     },
     "metadata": {},
     "output_type": "display_data"
    },
    {
     "data": {
      "application/vnd.jupyter.widget-view+json": {
       "model_id": "c0127a6b0d514495878f84b24aa8035d",
       "version_major": 2,
       "version_minor": 0
      },
      "text/plain": [
       "  0%|          | 0/94 [00:00<?, ?it/s]"
      ]
     },
     "metadata": {},
     "output_type": "display_data"
    },
    {
     "name": "stdout",
     "output_type": "stream",
     "text": [
      "Epoch 38/60, Loss: 14.070018768310547, Validation Accuracy: {'accuracy': 0.38166666666666665}\n"
     ]
    },
    {
     "data": {
      "application/vnd.jupyter.widget-view+json": {
       "model_id": "c07bea9c6fad4efca24dea430ea0855d",
       "version_major": 2,
       "version_minor": 0
      },
      "text/plain": [
       "Epoch 39/ 60:   0%|          | 0/1563 [00:00<?, ?it/s]"
      ]
     },
     "metadata": {},
     "output_type": "display_data"
    },
    {
     "data": {
      "application/vnd.jupyter.widget-view+json": {
       "model_id": "f10adbfdfa004d489afc6bbe3fcd458f",
       "version_major": 2,
       "version_minor": 0
      },
      "text/plain": [
       "  0%|          | 0/94 [00:00<?, ?it/s]"
      ]
     },
     "metadata": {},
     "output_type": "display_data"
    },
    {
     "name": "stdout",
     "output_type": "stream",
     "text": [
      "Epoch 39/60, Loss: 18.82832908630371, Validation Accuracy: {'accuracy': 0.3963333333333333}\n"
     ]
    },
    {
     "data": {
      "application/vnd.jupyter.widget-view+json": {
       "model_id": "cc20f74bdea449679ba7872c746fe6b0",
       "version_major": 2,
       "version_minor": 0
      },
      "text/plain": [
       "Epoch 40/ 60:   0%|          | 0/1563 [00:00<?, ?it/s]"
      ]
     },
     "metadata": {},
     "output_type": "display_data"
    },
    {
     "data": {
      "application/vnd.jupyter.widget-view+json": {
       "model_id": "b46999cf0afe4793b2355b12eb431bf7",
       "version_major": 2,
       "version_minor": 0
      },
      "text/plain": [
       "  0%|          | 0/94 [00:00<?, ?it/s]"
      ]
     },
     "metadata": {},
     "output_type": "display_data"
    },
    {
     "name": "stdout",
     "output_type": "stream",
     "text": [
      "Epoch 40/60, Loss: 16.76792335510254, Validation Accuracy: {'accuracy': 0.374}\n"
     ]
    },
    {
     "data": {
      "application/vnd.jupyter.widget-view+json": {
       "model_id": "392620e5b31f4954a4920b9c842de17b",
       "version_major": 2,
       "version_minor": 0
      },
      "text/plain": [
       "Epoch 41/ 60:   0%|          | 0/1563 [00:00<?, ?it/s]"
      ]
     },
     "metadata": {},
     "output_type": "display_data"
    },
    {
     "data": {
      "application/vnd.jupyter.widget-view+json": {
       "model_id": "290016ff16ed450ca289ec2d5cbdf5bb",
       "version_major": 2,
       "version_minor": 0
      },
      "text/plain": [
       "  0%|          | 0/94 [00:00<?, ?it/s]"
      ]
     },
     "metadata": {},
     "output_type": "display_data"
    },
    {
     "name": "stdout",
     "output_type": "stream",
     "text": [
      "Epoch 41/60, Loss: 11.992900848388672, Validation Accuracy: {'accuracy': 0.38066666666666665}\n"
     ]
    },
    {
     "data": {
      "application/vnd.jupyter.widget-view+json": {
       "model_id": "54f102c7c8f9495db395db3bb483be95",
       "version_major": 2,
       "version_minor": 0
      },
      "text/plain": [
       "Epoch 42/ 60:   0%|          | 0/1563 [00:00<?, ?it/s]"
      ]
     },
     "metadata": {},
     "output_type": "display_data"
    },
    {
     "data": {
      "application/vnd.jupyter.widget-view+json": {
       "model_id": "ba4d04d6e3ef4410a76add47e0702085",
       "version_major": 2,
       "version_minor": 0
      },
      "text/plain": [
       "  0%|          | 0/94 [00:00<?, ?it/s]"
      ]
     },
     "metadata": {},
     "output_type": "display_data"
    },
    {
     "name": "stdout",
     "output_type": "stream",
     "text": [
      "Epoch 42/60, Loss: 12.539794921875, Validation Accuracy: {'accuracy': 0.374}\n"
     ]
    },
    {
     "data": {
      "application/vnd.jupyter.widget-view+json": {
       "model_id": "965a9bb9a7a44c818bf907684449718f",
       "version_major": 2,
       "version_minor": 0
      },
      "text/plain": [
       "Epoch 43/ 60:   0%|          | 0/1563 [00:00<?, ?it/s]"
      ]
     },
     "metadata": {},
     "output_type": "display_data"
    },
    {
     "data": {
      "application/vnd.jupyter.widget-view+json": {
       "model_id": "bea80bd05ab544f5a50ebe7074f2b569",
       "version_major": 2,
       "version_minor": 0
      },
      "text/plain": [
       "  0%|          | 0/94 [00:00<?, ?it/s]"
      ]
     },
     "metadata": {},
     "output_type": "display_data"
    },
    {
     "name": "stdout",
     "output_type": "stream",
     "text": [
      "Epoch 43/60, Loss: 19.90580177307129, Validation Accuracy: {'accuracy': 0.3496666666666667}\n"
     ]
    },
    {
     "data": {
      "application/vnd.jupyter.widget-view+json": {
       "model_id": "1df3bb5a67cf49a0b0347786e8aeedc7",
       "version_major": 2,
       "version_minor": 0
      },
      "text/plain": [
       "Epoch 44/ 60:   0%|          | 0/1563 [00:00<?, ?it/s]"
      ]
     },
     "metadata": {},
     "output_type": "display_data"
    },
    {
     "data": {
      "application/vnd.jupyter.widget-view+json": {
       "model_id": "26e6fac01a95459a8c51bd9d38b4bfab",
       "version_major": 2,
       "version_minor": 0
      },
      "text/plain": [
       "  0%|          | 0/94 [00:00<?, ?it/s]"
      ]
     },
     "metadata": {},
     "output_type": "display_data"
    },
    {
     "name": "stdout",
     "output_type": "stream",
     "text": [
      "Epoch 44/60, Loss: 16.561410903930664, Validation Accuracy: {'accuracy': 0.373}\n"
     ]
    },
    {
     "data": {
      "application/vnd.jupyter.widget-view+json": {
       "model_id": "1f80b7f1ff2b4afc8426d527cd5c30e3",
       "version_major": 2,
       "version_minor": 0
      },
      "text/plain": [
       "Epoch 45/ 60:   0%|          | 0/1563 [00:00<?, ?it/s]"
      ]
     },
     "metadata": {},
     "output_type": "display_data"
    },
    {
     "data": {
      "application/vnd.jupyter.widget-view+json": {
       "model_id": "5609bb9dbca44b6ebd62dfc2e0240ef9",
       "version_major": 2,
       "version_minor": 0
      },
      "text/plain": [
       "  0%|          | 0/94 [00:00<?, ?it/s]"
      ]
     },
     "metadata": {},
     "output_type": "display_data"
    },
    {
     "name": "stdout",
     "output_type": "stream",
     "text": [
      "Epoch 45/60, Loss: 24.137067794799805, Validation Accuracy: {'accuracy': 0.339}\n"
     ]
    },
    {
     "data": {
      "application/vnd.jupyter.widget-view+json": {
       "model_id": "aad8e1b9077545579b82b96c385c18ca",
       "version_major": 2,
       "version_minor": 0
      },
      "text/plain": [
       "Epoch 46/ 60:   0%|          | 0/1563 [00:00<?, ?it/s]"
      ]
     },
     "metadata": {},
     "output_type": "display_data"
    },
    {
     "data": {
      "application/vnd.jupyter.widget-view+json": {
       "model_id": "b1b497ed820e447eb00a3976a191e534",
       "version_major": 2,
       "version_minor": 0
      },
      "text/plain": [
       "  0%|          | 0/94 [00:00<?, ?it/s]"
      ]
     },
     "metadata": {},
     "output_type": "display_data"
    },
    {
     "name": "stdout",
     "output_type": "stream",
     "text": [
      "Epoch 46/60, Loss: 15.249022483825684, Validation Accuracy: {'accuracy': 0.37}\n"
     ]
    },
    {
     "data": {
      "application/vnd.jupyter.widget-view+json": {
       "model_id": "0bf34c56104f412385b9fe231bb9c694",
       "version_major": 2,
       "version_minor": 0
      },
      "text/plain": [
       "Epoch 47/ 60:   0%|          | 0/1563 [00:00<?, ?it/s]"
      ]
     },
     "metadata": {},
     "output_type": "display_data"
    },
    {
     "data": {
      "application/vnd.jupyter.widget-view+json": {
       "model_id": "08546f1cc40b41b7bffe86caf7e3fb7f",
       "version_major": 2,
       "version_minor": 0
      },
      "text/plain": [
       "  0%|          | 0/94 [00:00<?, ?it/s]"
      ]
     },
     "metadata": {},
     "output_type": "display_data"
    },
    {
     "name": "stdout",
     "output_type": "stream",
     "text": [
      "Epoch 47/60, Loss: 16.377527236938477, Validation Accuracy: {'accuracy': 0.40166666666666667}\n"
     ]
    },
    {
     "data": {
      "application/vnd.jupyter.widget-view+json": {
       "model_id": "31206d80329f4ffa8badbae386bbbbdb",
       "version_major": 2,
       "version_minor": 0
      },
      "text/plain": [
       "Epoch 48/ 60:   0%|          | 0/1563 [00:00<?, ?it/s]"
      ]
     },
     "metadata": {},
     "output_type": "display_data"
    },
    {
     "data": {
      "application/vnd.jupyter.widget-view+json": {
       "model_id": "f7dabf588b434e1b8bc76b322efbe0ce",
       "version_major": 2,
       "version_minor": 0
      },
      "text/plain": [
       "  0%|          | 0/94 [00:00<?, ?it/s]"
      ]
     },
     "metadata": {},
     "output_type": "display_data"
    },
    {
     "name": "stdout",
     "output_type": "stream",
     "text": [
      "Epoch 48/60, Loss: 21.770893096923828, Validation Accuracy: {'accuracy': 0.4063333333333333}\n"
     ]
    },
    {
     "data": {
      "application/vnd.jupyter.widget-view+json": {
       "model_id": "c2deac949c144ab9aa94116085566593",
       "version_major": 2,
       "version_minor": 0
      },
      "text/plain": [
       "Epoch 49/ 60:   0%|          | 0/1563 [00:00<?, ?it/s]"
      ]
     },
     "metadata": {},
     "output_type": "display_data"
    },
    {
     "data": {
      "application/vnd.jupyter.widget-view+json": {
       "model_id": "d011424f52454fe2904923c3fbacb0d4",
       "version_major": 2,
       "version_minor": 0
      },
      "text/plain": [
       "  0%|          | 0/94 [00:00<?, ?it/s]"
      ]
     },
     "metadata": {},
     "output_type": "display_data"
    },
    {
     "name": "stdout",
     "output_type": "stream",
     "text": [
      "Epoch 49/60, Loss: 18.278390884399414, Validation Accuracy: {'accuracy': 0.38766666666666666}\n"
     ]
    },
    {
     "data": {
      "application/vnd.jupyter.widget-view+json": {
       "model_id": "f655a6ea6a164a82b3aba185ffbff29c",
       "version_major": 2,
       "version_minor": 0
      },
      "text/plain": [
       "Epoch 50/ 60:   0%|          | 0/1563 [00:00<?, ?it/s]"
      ]
     },
     "metadata": {},
     "output_type": "display_data"
    },
    {
     "data": {
      "application/vnd.jupyter.widget-view+json": {
       "model_id": "99ba1cb4128847e5ac4b33788b8d7c72",
       "version_major": 2,
       "version_minor": 0
      },
      "text/plain": [
       "  0%|          | 0/94 [00:00<?, ?it/s]"
      ]
     },
     "metadata": {},
     "output_type": "display_data"
    },
    {
     "name": "stdout",
     "output_type": "stream",
     "text": [
      "Epoch 50/60, Loss: 17.770038604736328, Validation Accuracy: {'accuracy': 0.372}\n"
     ]
    },
    {
     "data": {
      "application/vnd.jupyter.widget-view+json": {
       "model_id": "7238cdeb9aba49d4ae923dff98dbfe53",
       "version_major": 2,
       "version_minor": 0
      },
      "text/plain": [
       "Epoch 51/ 60:   0%|          | 0/1563 [00:00<?, ?it/s]"
      ]
     },
     "metadata": {},
     "output_type": "display_data"
    },
    {
     "data": {
      "application/vnd.jupyter.widget-view+json": {
       "model_id": "248f449c176f40f4bbb66a0a315b5c77",
       "version_major": 2,
       "version_minor": 0
      },
      "text/plain": [
       "  0%|          | 0/94 [00:00<?, ?it/s]"
      ]
     },
     "metadata": {},
     "output_type": "display_data"
    },
    {
     "name": "stdout",
     "output_type": "stream",
     "text": [
      "Epoch 51/60, Loss: 14.175053596496582, Validation Accuracy: {'accuracy': 0.425}\n"
     ]
    },
    {
     "data": {
      "application/vnd.jupyter.widget-view+json": {
       "model_id": "5c7bb4658b6b41b289bc3e901cbd3874",
       "version_major": 2,
       "version_minor": 0
      },
      "text/plain": [
       "Epoch 52/ 60:   0%|          | 0/1563 [00:00<?, ?it/s]"
      ]
     },
     "metadata": {},
     "output_type": "display_data"
    },
    {
     "data": {
      "application/vnd.jupyter.widget-view+json": {
       "model_id": "780c663b69194ea592dccb86a2d3fb44",
       "version_major": 2,
       "version_minor": 0
      },
      "text/plain": [
       "  0%|          | 0/94 [00:00<?, ?it/s]"
      ]
     },
     "metadata": {},
     "output_type": "display_data"
    },
    {
     "name": "stdout",
     "output_type": "stream",
     "text": [
      "Epoch 52/60, Loss: 14.829466819763184, Validation Accuracy: {'accuracy': 0.4036666666666667}\n"
     ]
    },
    {
     "data": {
      "application/vnd.jupyter.widget-view+json": {
       "model_id": "b3892269348b4ba09a0f8bbd423157a6",
       "version_major": 2,
       "version_minor": 0
      },
      "text/plain": [
       "Epoch 53/ 60:   0%|          | 0/1563 [00:00<?, ?it/s]"
      ]
     },
     "metadata": {},
     "output_type": "display_data"
    },
    {
     "data": {
      "application/vnd.jupyter.widget-view+json": {
       "model_id": "f6e6c60eb1454b2eaf02075c3af959fe",
       "version_major": 2,
       "version_minor": 0
      },
      "text/plain": [
       "  0%|          | 0/94 [00:00<?, ?it/s]"
      ]
     },
     "metadata": {},
     "output_type": "display_data"
    },
    {
     "name": "stdout",
     "output_type": "stream",
     "text": [
      "Epoch 53/60, Loss: 14.541029930114746, Validation Accuracy: {'accuracy': 0.42533333333333334}\n"
     ]
    },
    {
     "data": {
      "application/vnd.jupyter.widget-view+json": {
       "model_id": "109230fe902645d4b4f11efdfa5aaa02",
       "version_major": 2,
       "version_minor": 0
      },
      "text/plain": [
       "Epoch 54/ 60:   0%|          | 0/1563 [00:00<?, ?it/s]"
      ]
     },
     "metadata": {},
     "output_type": "display_data"
    },
    {
     "data": {
      "application/vnd.jupyter.widget-view+json": {
       "model_id": "700fa03d51f145679719d3a440ee6c0e",
       "version_major": 2,
       "version_minor": 0
      },
      "text/plain": [
       "  0%|          | 0/94 [00:00<?, ?it/s]"
      ]
     },
     "metadata": {},
     "output_type": "display_data"
    },
    {
     "name": "stdout",
     "output_type": "stream",
     "text": [
      "Epoch 54/60, Loss: 15.867446899414062, Validation Accuracy: {'accuracy': 0.424}\n"
     ]
    },
    {
     "data": {
      "application/vnd.jupyter.widget-view+json": {
       "model_id": "bfbd944c19d4462e97f897e4f36185aa",
       "version_major": 2,
       "version_minor": 0
      },
      "text/plain": [
       "Epoch 55/ 60:   0%|          | 0/1563 [00:00<?, ?it/s]"
      ]
     },
     "metadata": {},
     "output_type": "display_data"
    },
    {
     "data": {
      "application/vnd.jupyter.widget-view+json": {
       "model_id": "afd06478eedd4d72a42671a8b7627c95",
       "version_major": 2,
       "version_minor": 0
      },
      "text/plain": [
       "  0%|          | 0/94 [00:00<?, ?it/s]"
      ]
     },
     "metadata": {},
     "output_type": "display_data"
    },
    {
     "name": "stdout",
     "output_type": "stream",
     "text": [
      "Epoch 55/60, Loss: 14.792837142944336, Validation Accuracy: {'accuracy': 0.38466666666666666}\n"
     ]
    },
    {
     "data": {
      "application/vnd.jupyter.widget-view+json": {
       "model_id": "26e584a19b5a457e853f9cd734d5353e",
       "version_major": 2,
       "version_minor": 0
      },
      "text/plain": [
       "Epoch 56/ 60:   0%|          | 0/1563 [00:00<?, ?it/s]"
      ]
     },
     "metadata": {},
     "output_type": "display_data"
    },
    {
     "data": {
      "application/vnd.jupyter.widget-view+json": {
       "model_id": "418c1664da704c799ff53f2ac2173ead",
       "version_major": 2,
       "version_minor": 0
      },
      "text/plain": [
       "  0%|          | 0/94 [00:00<?, ?it/s]"
      ]
     },
     "metadata": {},
     "output_type": "display_data"
    },
    {
     "name": "stdout",
     "output_type": "stream",
     "text": [
      "Epoch 56/60, Loss: 10.047399520874023, Validation Accuracy: {'accuracy': 0.432}\n"
     ]
    },
    {
     "data": {
      "application/vnd.jupyter.widget-view+json": {
       "model_id": "dd524e58cc8b4e36bcb0609e8faf474f",
       "version_major": 2,
       "version_minor": 0
      },
      "text/plain": [
       "Epoch 57/ 60:   0%|          | 0/1563 [00:00<?, ?it/s]"
      ]
     },
     "metadata": {},
     "output_type": "display_data"
    },
    {
     "data": {
      "application/vnd.jupyter.widget-view+json": {
       "model_id": "cd1da3afc42042ce871513758470ec6a",
       "version_major": 2,
       "version_minor": 0
      },
      "text/plain": [
       "  0%|          | 0/94 [00:00<?, ?it/s]"
      ]
     },
     "metadata": {},
     "output_type": "display_data"
    },
    {
     "name": "stdout",
     "output_type": "stream",
     "text": [
      "Epoch 57/60, Loss: 29.417081832885742, Validation Accuracy: {'accuracy': 0.4066666666666667}\n"
     ]
    },
    {
     "data": {
      "application/vnd.jupyter.widget-view+json": {
       "model_id": "5381c00adb714e0c884fc4f60c6a39e6",
       "version_major": 2,
       "version_minor": 0
      },
      "text/plain": [
       "Epoch 58/ 60:   0%|          | 0/1563 [00:00<?, ?it/s]"
      ]
     },
     "metadata": {},
     "output_type": "display_data"
    },
    {
     "data": {
      "application/vnd.jupyter.widget-view+json": {
       "model_id": "4be24ad73a1b438e8188329455123cb1",
       "version_major": 2,
       "version_minor": 0
      },
      "text/plain": [
       "  0%|          | 0/94 [00:00<?, ?it/s]"
      ]
     },
     "metadata": {},
     "output_type": "display_data"
    },
    {
     "name": "stdout",
     "output_type": "stream",
     "text": [
      "Epoch 58/60, Loss: 20.79485511779785, Validation Accuracy: {'accuracy': 0.366}\n"
     ]
    },
    {
     "data": {
      "application/vnd.jupyter.widget-view+json": {
       "model_id": "3bf4e647269a46ec9c3638f186a120a9",
       "version_major": 2,
       "version_minor": 0
      },
      "text/plain": [
       "Epoch 59/ 60:   0%|          | 0/1563 [00:00<?, ?it/s]"
      ]
     },
     "metadata": {},
     "output_type": "display_data"
    },
    {
     "data": {
      "application/vnd.jupyter.widget-view+json": {
       "model_id": "86a0530c6c1d4691b0a234ee5cefd5b6",
       "version_major": 2,
       "version_minor": 0
      },
      "text/plain": [
       "  0%|          | 0/94 [00:00<?, ?it/s]"
      ]
     },
     "metadata": {},
     "output_type": "display_data"
    },
    {
     "name": "stdout",
     "output_type": "stream",
     "text": [
      "Epoch 59/60, Loss: 11.908674240112305, Validation Accuracy: {'accuracy': 0.3933333333333333}\n"
     ]
    },
    {
     "data": {
      "application/vnd.jupyter.widget-view+json": {
       "model_id": "1b7cd995388c46279b5269539b504112",
       "version_major": 2,
       "version_minor": 0
      },
      "text/plain": [
       "Epoch 60/ 60:   0%|          | 0/1563 [00:00<?, ?it/s]"
      ]
     },
     "metadata": {},
     "output_type": "display_data"
    },
    {
     "data": {
      "application/vnd.jupyter.widget-view+json": {
       "model_id": "936f0e8f8097431c93dee8b058173c1f",
       "version_major": 2,
       "version_minor": 0
      },
      "text/plain": [
       "  0%|          | 0/94 [00:00<?, ?it/s]"
      ]
     },
     "metadata": {},
     "output_type": "display_data"
    },
    {
     "name": "stdout",
     "output_type": "stream",
     "text": [
      "Epoch 60/60, Loss: 15.43360424041748, Validation Accuracy: {'accuracy': 0.376}\n"
     ]
    },
    {
     "data": {
      "application/vnd.jupyter.widget-view+json": {
       "model_id": "0cdb34db984f4c29abc7d9b37e215530",
       "version_major": 2,
       "version_minor": 0
      },
      "text/plain": [
       "  0%|          | 0/1563 [00:00<?, ?it/s]"
      ]
     },
     "metadata": {},
     "output_type": "display_data"
    },
    {
     "data": {
      "application/vnd.jupyter.widget-view+json": {
       "model_id": "",
       "version_major": 2,
       "version_minor": 0
      },
      "text/plain": [
       "VBox(children=(Label(value='0.006 MB of 0.006 MB uploaded\\r'), FloatProgress(value=1.0, max=1.0)))"
      ]
     },
     "metadata": {},
     "output_type": "display_data"
    },
    {
     "data": {
      "text/html": [
       "<style>\n",
       "    table.wandb td:nth-child(1) { padding: 0 10px; text-align: left ; width: auto;} td:nth-child(2) {text-align: left ; width: 100%}\n",
       "    .wandb-row { display: flex; flex-direction: row; flex-wrap: wrap; justify-content: flex-start; width: 100% }\n",
       "    .wandb-col { display: flex; flex-direction: column; flex-basis: 100%; flex: 1; padding: 10px; }\n",
       "    </style>\n",
       "<div class=\"wandb-row\"><div class=\"wandb-col\"><h3>Run history:</h3><br/><table class=\"wandb\"><tr><td>Accuracy/Test</td><td>▁</td></tr><tr><td>Accuracy/Validation</td><td>▁▂▃▃▅▄▅▄▅▆▅▆▆▆▆▆▇▇▇▇▆▆▆▇▇▇▇▇▆▇▇▇▇▇▇█▇█▇▇</td></tr><tr><td>Loss/Train</td><td>█▂▃▄▆▄▅▄▃▃▇▆▄▃█▃▃▅▂▄▃▆▄▂▃▃▄▂▅▄▃▄▅▄▃▃▃▁▆▃</td></tr><tr><td>Loss/Validation</td><td>▆▆▆█▄▆▄▃▄▁▄▂▃▃▂▃▄▁▂▂▃▅▄▅▂▄▅▂█▅▄▁▃▅▄▂▆▁▆▅</td></tr></table><br/></div><div class=\"wandb-col\"><h3>Run summary:</h3><br/><table class=\"wandb\"><tr><td>Accuracy/Test</td><td>0.3884</td></tr><tr><td>Accuracy/Validation</td><td>0.376</td></tr><tr><td>Loss/Train</td><td>15.4336</td></tr><tr><td>Loss/Validation</td><td>13.64849</td></tr></table><br/></div></div>"
      ],
      "text/plain": [
       "<IPython.core.display.HTML object>"
      ]
     },
     "metadata": {},
     "output_type": "display_data"
    },
    {
     "data": {
      "text/html": [
       " View run <strong style=\"color:#cdcd00\">olive-salad-12</strong> at: <a href='https://wandb.ai/semenov-andrei-v/cifar100-head/runs/2uas26fb' target=\"_blank\">https://wandb.ai/semenov-andrei-v/cifar100-head/runs/2uas26fb</a><br/>Synced 6 W&B file(s), 0 media file(s), 0 artifact file(s) and 0 other file(s)"
      ],
      "text/plain": [
       "<IPython.core.display.HTML object>"
      ]
     },
     "metadata": {},
     "output_type": "display_data"
    },
    {
     "data": {
      "text/html": [
       "Find logs at: <code>./wandb/run-20231116_141729-2uas26fb/logs</code>"
      ],
      "text/plain": [
       "<IPython.core.display.HTML object>"
      ]
     },
     "metadata": {},
     "output_type": "display_data"
    }
   ],
   "source": [
    "model.to(device)\n",
    "run = wandb.init(project='cifar100-head', entity='semenov-andrei-v')\n",
    "\n",
    "num_epochs = 60\n",
    "for epoch in range(num_epochs):\n",
    "    model.train()\n",
    "    for batch in tqdm(train_loader_preprocessed, desc=f\"Epoch {epoch + 1}/ {num_epochs}\"):\n",
    "        optimizer.zero_grad()\n",
    "        \n",
    "        inputs, labels = batch\n",
    "        inputs = inputs.to(device)\n",
    "        targets = torch.tensor(labels, dtype=torch.long)\n",
    "        logits = model(**inputs).squeeze(0)\n",
    "        \n",
    "        loss = criterion(logits, targets.to(device))\n",
    "        loss.backward()\n",
    "        optimizer.step()\n",
    "    \n",
    "    model.eval()\n",
    "    val_accuracy, avg_val_loss = val_loss_accuracy(model, val_loader_preprocessed)\n",
    "\n",
    "    wandb.log({\"Loss/Train\": loss.item(), \n",
    "               \"Loss/Validation\": avg_val_loss, \n",
    "               \"Accuracy/Validation\": val_accuracy['accuracy']}\n",
    "             )\n",
    "\n",
    "    print(f\"Epoch {epoch + 1}/{num_epochs}, Loss: {loss.item()}, Validation Accuracy: {val_accuracy}\")\n",
    "\n",
    "model.eval()\n",
    "test_accuracy = get_test_accuracy(model, test_loader_preprocessed)\n",
    "wandb.log({\"Accuracy/Test\": test_accuracy['accuracy']})\n",
    "\n",
    "run.finish()"
   ]
  },
  {
   "cell_type": "code",
   "execution_count": null,
   "id": "d9d8b7bb-33ff-48c5-9058-41274643e44d",
   "metadata": {},
   "outputs": [],
   "source": []
  }
 ],
 "metadata": {
  "kernelspec": {
   "display_name": "andronserv",
   "language": "python",
   "name": "andronserv"
  },
  "language_info": {
   "codemirror_mode": {
    "name": "ipython",
    "version": 3
   },
   "file_extension": ".py",
   "mimetype": "text/x-python",
   "name": "python",
   "nbconvert_exporter": "python",
   "pygments_lexer": "ipython3",
   "version": "3.10.13"
  }
 },
 "nbformat": 4,
 "nbformat_minor": 5
}
