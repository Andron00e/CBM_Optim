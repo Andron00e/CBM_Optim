{
 "cells": [
  {
   "cell_type": "code",
   "execution_count": 1,
   "id": "544c4292-a4b7-46c7-91b8-4bb2ed3438d9",
   "metadata": {
    "tags": []
   },
   "outputs": [
    {
     "name": "stderr",
     "output_type": "stream",
     "text": [
      "2023-11-24 12:25:00.874935: E tensorflow/compiler/xla/stream_executor/cuda/cuda_dnn.cc:9342] Unable to register cuDNN factory: Attempting to register factory for plugin cuDNN when one has already been registered\n",
      "2023-11-24 12:25:00.875066: E tensorflow/compiler/xla/stream_executor/cuda/cuda_fft.cc:609] Unable to register cuFFT factory: Attempting to register factory for plugin cuFFT when one has already been registered\n",
      "2023-11-24 12:25:00.875308: E tensorflow/compiler/xla/stream_executor/cuda/cuda_blas.cc:1518] Unable to register cuBLAS factory: Attempting to register factory for plugin cuBLAS when one has already been registered\n",
      "2023-11-24 12:25:00.922487: I tensorflow/core/platform/cpu_feature_guard.cc:182] This TensorFlow binary is optimized to use available CPU instructions in performance-critical operations.\n",
      "To enable the following instructions: AVX2 FMA, in other operations, rebuild TensorFlow with the appropriate compiler flags.\n",
      "2023-11-24 12:25:02.705280: W tensorflow/compiler/tf2tensorrt/utils/py_utils.cc:38] TF-TRT Warning: Could not find TensorRT\n"
     ]
    }
   ],
   "source": [
    "import os\n",
    "import sys\n",
    "import torch\n",
    "import random\n",
    "import configs\n",
    "import numpy as np\n",
    "import torch.nn as nn\n",
    "from PIL import Image\n",
    "import tensorflow as tf\n",
    "import torch.nn.functional as F\n",
    "from torch.utils.tensorboard import SummaryWriter\n",
    "from tqdm.auto import tqdm"
   ]
  },
  {
   "cell_type": "code",
   "execution_count": 2,
   "id": "2bc0930b-e0d9-4330-b1c0-540176920db2",
   "metadata": {
    "tags": []
   },
   "outputs": [],
   "source": [
    "configs.set_seed(42)"
   ]
  },
  {
   "cell_type": "code",
   "execution_count": 3,
   "id": "47f2d42d-5bf1-4660-9ded-c4a5638c9fd4",
   "metadata": {
    "tags": []
   },
   "outputs": [
    {
     "name": "stdout",
     "output_type": "stream",
     "text": [
      "There are 8 GPU(s) available.\n",
      "We will use the GPU: NVIDIA A100-PCIE-40GB\n"
     ]
    }
   ],
   "source": [
    "device = configs.set_device(3)"
   ]
  },
  {
   "cell_type": "code",
   "execution_count": null,
   "id": "5602239a-7496-4435-a773-e752f7009fd7",
   "metadata": {
    "tags": []
   },
   "outputs": [],
   "source": [
    "from tensorflow.keras.datasets import cifar10\n",
    "\n",
    "(train_images, train_labels), (test_images, test_labels) = cifar10.load_data()\n",
    "\n",
    "\n",
    "image_paths = []\n",
    "labels = []\n",
    "\n",
    "save_dir = 'cifar10_images'\n",
    "if not os.path.exists(save_dir):\n",
    "    os.makedirs(save_dir)\n",
    "\n",
    "for i in range(len(train_images)):\n",
    "    image_path = os.path.join(save_dir, f\"train_image_{i}.jpg\")\n",
    "    tf.keras.preprocessing.image.save_img(image_path, train_images[i])\n",
    "    image_paths.append(image_path)\n",
    "    labels.append(train_labels[i][0])\n",
    "\n",
    "\n",
    "for i in range(len(test_images)):\n",
    "    image_path = os.path.join(save_dir, f\"test_image_{i}.jpg\")\n",
    "    tf.keras.preprocessing.image.save_img(image_path, test_images[i])\n",
    "    image_paths.append(image_path)\n",
    "    labels.append(test_labels[i][0])\n",
    "\n",
    "print(len(train_images), \"\\n\")\n",
    "print(len(test_images), \"\\n\")\n",
    "print(len(image_paths))"
   ]
  },
  {
   "cell_type": "code",
   "execution_count": null,
   "id": "7bf92177-395a-4cd1-8b3b-088c260f97b5",
   "metadata": {
    "tags": []
   },
   "outputs": [],
   "source": [
    "classes = {0: \"airplane\", 1: \"automobile\", 2: \"bird\", 3: \"cat\", 4: \"deer\", 5: \"dog\", 6: \"frog\", 7: \"horse\", 8: \"ship\", 9: \"truck\"}"
   ]
  },
  {
   "cell_type": "code",
   "execution_count": null,
   "id": "2756a73d-8761-485e-9bbd-b5f43ffa33cc",
   "metadata": {
    "tags": []
   },
   "outputs": [],
   "source": [
    "titles = []\n",
    "for im in tqdm(range(len(image_paths))):\n",
    "    titles.append(classes[labels[im]])\n",
    "    \n",
    "assert len(titles) == len(labels) == len(image_paths)\n",
    "assert titles[59000] == 'ship'"
   ]
  },
  {
   "cell_type": "code",
   "execution_count": null,
   "id": "40412256-cbc4-4d0a-a917-d2edeed7af6e",
   "metadata": {
    "tags": []
   },
   "outputs": [],
   "source": [
    "def remove_prefixes(strings):\n",
    "    prefixes = ['a', 'an', 'the']\n",
    "    result = []\n",
    "\n",
    "    for string in strings:\n",
    "        words = string.split()\n",
    "        if words[0].lower() in prefixes:\n",
    "            result.append(' '.join(words[1:]))\n",
    "        else:\n",
    "            result.append(string)\n",
    "\n",
    "    return result\n",
    "\n",
    "with open(\"conceptnet_cifar10_filtered_new.txt\", \"r\") as f:\n",
    "    concepts = f.read().lower().split(\"\\n\")\n",
    "    concepts = remove_prefixes(concepts)"
   ]
  },
  {
   "cell_type": "code",
   "execution_count": 8,
   "id": "e902aa62-0a28-4be4-be85-448d0e0fec01",
   "metadata": {
    "tags": []
   },
   "outputs": [
    {
     "name": "stdout",
     "output_type": "stream",
     "text": [
      "Dataset size: 60000 \n",
      "\n",
      "Train set: 50000 \n",
      "\n",
      "Validation set: 3000 \n",
      "\n",
      "Test set: 7000\n"
     ]
    }
   ],
   "source": [
    "class CLIPDataset():\n",
    "    def __init__(self, list_image_path, list_txt):\n",
    "        self.image_path = list_image_path\n",
    "        self.title  = list_txt\n",
    "\n",
    "    def __len__(self):\n",
    "        return len(self.title)\n",
    "\n",
    "    def __getitem__(self, idx):\n",
    "        image = Image.open(self.image_path[idx])\n",
    "        title = self.title[idx]\n",
    "        return image, title\n",
    "\n",
    "\n",
    "def collate_fn(batch):\n",
    "    return {\n",
    "        'image': [x[0] for x in batch],\n",
    "        'title': [x[1] for x in batch]\n",
    "    }\n",
    "\n",
    "dataset = CLIPDataset(list_image_path=image_paths, list_txt=labels) # but it can be with <<titles>> to get textual annotations for class labels\n",
    "train_dataset, val_dataset, test_dataset = torch.utils.data.random_split(dataset, [50000, 3000, 7000])\n",
    "\n",
    "train_loader = torch.utils.data.DataLoader(train_dataset, batch_size=32, shuffle=True, collate_fn=collate_fn, pin_memory=True)\n",
    "val_loader = torch.utils.data.DataLoader(val_dataset, batch_size=32, shuffle=False, collate_fn=collate_fn, pin_memory=True)\n",
    "test_loader = torch.utils.data.DataLoader(test_dataset, batch_size=32, shuffle=False, collate_fn=collate_fn, pin_memory=True)\n",
    "\n",
    "assert len(dataset) == len(image_paths)\n",
    "print(\"Dataset size: {}\".format(len(dataset)), \"\\n\")\n",
    "\n",
    "train_dataset, val_dataset, test_dataset = torch.utils.data.random_split(dataset, [50000, 3000, 7000])\n",
    "print(\"Train set: {}\".format(len(train_dataset)), \"\\n\")\n",
    "print(\"Validation set: {}\".format(len(val_dataset)), \"\\n\")\n",
    "print(\"Test set: {}\".format(len(test_dataset)))"
   ]
  },
  {
   "cell_type": "code",
   "execution_count": 9,
   "id": "95c9a07b-8c6c-4183-8749-013597f2ada5",
   "metadata": {
    "tags": []
   },
   "outputs": [],
   "source": [
    "from transformers import CLIPModel, CLIPProcessor, AutoTokenizer\n",
    "\n",
    "def preprocess_loader(loader, concepts: list):\n",
    "    preprocessed_batches = []\n",
    "    processor = CLIPProcessor.from_pretrained(\"openai/clip-vit-base-patch32\")\n",
    "    for batch in tqdm(loader):\n",
    "        preprocessed_batch = preprocess_batch(batch, processor, concepts)\n",
    "        preprocessed_batches.append(preprocessed_batch)\n",
    "    return preprocessed_batches\n",
    "\n",
    "def preprocess_batch(batch, processor, concepts: list):\n",
    "    return processor(text=concepts, images=batch['image'], return_tensors=\"pt\", padding=True), batch['title']"
   ]
  },
  {
   "cell_type": "code",
   "execution_count": 10,
   "id": "9089546f-279e-47bb-af2a-3df8b7a13c8b",
   "metadata": {
    "tags": []
   },
   "outputs": [
    {
     "data": {
      "application/vnd.jupyter.widget-view+json": {
       "model_id": "b3fb6fb64ff24dc2a1a05ef1e7dce924",
       "version_major": 2,
       "version_minor": 0
      },
      "text/plain": [
       "  0%|          | 0/1563 [00:00<?, ?it/s]"
      ]
     },
     "metadata": {},
     "output_type": "display_data"
    },
    {
     "data": {
      "application/vnd.jupyter.widget-view+json": {
       "model_id": "2daad38e8fd947efa907522925dcc65b",
       "version_major": 2,
       "version_minor": 0
      },
      "text/plain": [
       "  0%|          | 0/94 [00:00<?, ?it/s]"
      ]
     },
     "metadata": {},
     "output_type": "display_data"
    },
    {
     "data": {
      "application/vnd.jupyter.widget-view+json": {
       "model_id": "925eff2fe1a54ce4a5f5953f5f9ac149",
       "version_major": 2,
       "version_minor": 0
      },
      "text/plain": [
       "  0%|          | 0/219 [00:00<?, ?it/s]"
      ]
     },
     "metadata": {},
     "output_type": "display_data"
    }
   ],
   "source": [
    "train_loader_preprocessed = preprocess_loader(train_loader, concepts)\n",
    "val_loader_preprocessed = preprocess_loader(val_loader, concepts)\n",
    "test_loader_preprocessed = preprocess_loader(test_loader, concepts)"
   ]
  },
  {
   "cell_type": "code",
   "execution_count": 11,
   "id": "44c78c42-18b5-4d74-b9f5-fc24dca9ef3e",
   "metadata": {
    "tags": []
   },
   "outputs": [],
   "source": [
    "import transformers\n",
    "\n",
    "class TuningCLIPViThead(nn.Module):\n",
    "    def __init__(self, concepts: list, classes: dict, model_name: str=\"openai/clip-vit-base-patch32\"):\n",
    "        super().__init__()\n",
    "        self.clip = transformers.CLIPModel.from_pretrained(model_name)\n",
    "        self.processor = transformers.CLIPProcessor.from_pretrained(model_name)\n",
    "        for param in self.clip.text_model.parameters():\n",
    "            param.requires_grad = False\n",
    "        for name, param in self.clip.vision_model.named_parameters():\n",
    "            if 'self_attn.v_proj' in name or 'self_attn.q_proj' in name:\n",
    "                param.requires_grad = True\n",
    "            else:\n",
    "                param.requires_grad = False\n",
    "        self.head = nn.Linear(len(concepts), len(classes), bias=False)\n",
    "        \n",
    "    def forward(self, **batch):\n",
    "        out = self.clip(**batch).logits_per_image\n",
    "        return self.head(out)"
   ]
  },
  {
   "cell_type": "code",
   "execution_count": 43,
   "id": "16c8ccbd-04d2-4e3b-9f0e-5e7205a56485",
   "metadata": {
    "tags": []
   },
   "outputs": [
    {
     "name": "stdout",
     "output_type": "stream",
     "text": [
      "Number of trainable parameters is: 14830769\n"
     ]
    }
   ],
   "source": [
    "model = TuningCLIPViThead(concepts, classes)\n",
    "optimizer = torch.optim.Adam(model.parameters(), lr=0.001)\n",
    "criterion = nn.CrossEntropyLoss()\n",
    "\n",
    "print(\"Number of trainable parameters is: {}\".format(sum(p.numel() for p in model.parameters() if p.requires_grad == True)))"
   ]
  },
  {
   "cell_type": "code",
   "execution_count": 44,
   "id": "cc7c8bef-efa8-4756-acb3-a649905b48e4",
   "metadata": {
    "tags": []
   },
   "outputs": [],
   "source": [
    "for state in optimizer.state.values():\n",
    "    for k, v in state.items():\n",
    "        if isinstance(v, torch.Tensor):\n",
    "            state[k] = v.to(device)"
   ]
  },
  {
   "cell_type": "code",
   "execution_count": 12,
   "id": "76e9e5e2-564c-4c52-bdff-4130cda6b53b",
   "metadata": {
    "tags": []
   },
   "outputs": [
    {
     "name": "stderr",
     "output_type": "stream",
     "text": [
      "/tmp/ipykernel_3885598/4031246835.py:3: FutureWarning: load_metric is deprecated and will be removed in the next major version of datasets. Use 'evaluate.load' instead, from the new library 🤗 Evaluate: https://huggingface.co/docs/evaluate\n",
      "  metric = datasets.load_metric(\"accuracy\")\n"
     ]
    }
   ],
   "source": [
    "import datasets\n",
    "\n",
    "metric = datasets.load_metric(\"accuracy\")"
   ]
  },
  {
   "cell_type": "code",
   "execution_count": 13,
   "id": "84c487c5-b4f1-409f-ba26-51af728dc868",
   "metadata": {
    "tags": []
   },
   "outputs": [],
   "source": [
    "@torch.no_grad()\n",
    "@torch.cuda.amp.autocast()\n",
    "def val_loss_accuracy(model, loader):\n",
    "    model.eval()\n",
    "    all_preds = []\n",
    "    all_labels = []\n",
    "    val_losses = []\n",
    "    for batch in tqdm(loader):\n",
    "        inputs, labels = batch\n",
    "        inputs = inputs.to(device)\n",
    "        logits = model(**inputs).squeeze(0)\n",
    "        similarity = model.clip(**inputs).logits_per_image.to(device)\n",
    "        targets = torch.tensor(labels, dtype=torch.long)\n",
    "        loss = criterion(logits, targets.to(device)) + clip_loss(similarity)\n",
    "        val_losses.append(loss.item())\n",
    "        preds = torch.argmax(logits, dim=-1)\n",
    "        all_preds.extend(preds.cpu().numpy())\n",
    "        all_labels.extend(labels)\n",
    "\n",
    "    val_accuracy = metric.compute(predictions=all_preds, references=all_labels)\n",
    "    avg_val_loss = sum(val_losses) / len(val_losses)\n",
    "    \n",
    "    return val_accuracy, avg_val_loss\n",
    "\n",
    "@torch.no_grad()\n",
    "@torch.cuda.amp.autocast()\n",
    "def get_test_accuracy(model, loader):\n",
    "    model.eval()\n",
    "    all_preds = []\n",
    "    all_labels = []\n",
    "    for batch in tqdm(loader):\n",
    "        inputs, labels = batch\n",
    "        inputs = inputs.to(device)\n",
    "        logits = model(**inputs).squeeze(0)\n",
    "        targets = torch.tensor(labels, dtype=torch.long)\n",
    "        preds = torch.argmax(logits, dim=-1)\n",
    "        all_preds.extend(preds.cpu().numpy())\n",
    "        all_labels.extend(labels)\n",
    "        \n",
    "    test_accuracy = metric.compute(predictions=all_preds, references=all_labels)\n",
    "    \n",
    "    return test_accuracy"
   ]
  },
  {
   "cell_type": "code",
   "execution_count": 14,
   "id": "65d9b799-2b8e-4769-bf2c-78a70779a60c",
   "metadata": {
    "tags": []
   },
   "outputs": [
    {
     "name": "stderr",
     "output_type": "stream",
     "text": [
      "\u001b[34m\u001b[1mwandb\u001b[0m: Currently logged in as: \u001b[33msemenov-andrei-v\u001b[0m. Use \u001b[1m`wandb login --relogin`\u001b[0m to force relogin\n"
     ]
    },
    {
     "data": {
      "text/plain": [
       "True"
      ]
     },
     "execution_count": 14,
     "metadata": {},
     "output_type": "execute_result"
    }
   ],
   "source": [
    "import wandb\n",
    "\n",
    "wandb.login()"
   ]
  },
  {
   "cell_type": "code",
   "execution_count": 13,
   "id": "b8b8f456-dbd7-44fb-b7e5-e0c0e9a02d99",
   "metadata": {
    "tags": []
   },
   "outputs": [
    {
     "data": {
      "application/vnd.jupyter.widget-view+json": {
       "model_id": "274ff7378a92441e8d23a1ad775287c6",
       "version_major": 2,
       "version_minor": 0
      },
      "text/plain": [
       "  0%|          | 0/1563 [00:00<?, ?it/s]"
      ]
     },
     "metadata": {},
     "output_type": "display_data"
    },
    {
     "data": {
      "application/vnd.jupyter.widget-view+json": {
       "model_id": "c045400b765b4d8db36f1dc276afb925",
       "version_major": 2,
       "version_minor": 0
      },
      "text/plain": [
       "  0%|          | 0/94 [00:00<?, ?it/s]"
      ]
     },
     "metadata": {},
     "output_type": "display_data"
    },
    {
     "data": {
      "application/vnd.jupyter.widget-view+json": {
       "model_id": "c17796b7a7e5465b8e317081927f3b78",
       "version_major": 2,
       "version_minor": 0
      },
      "text/plain": [
       "  0%|          | 0/219 [00:00<?, ?it/s]"
      ]
     },
     "metadata": {},
     "output_type": "display_data"
    }
   ],
   "source": [
    "with open(\"all_concepts.txt\", \"r\") as f:\n",
    "    all_concepts = f.read().lower().split(\"\\n\")\n",
    "    all_concepts = remove_prefixes(all_concepts)\n",
    "\n",
    "train_loader_preprocessed = preprocess_loader(train_loader, all_concepts)\n",
    "val_loader_preprocessed = preprocess_loader(val_loader, all_concepts)\n",
    "test_loader_preprocessed = preprocess_loader(test_loader, all_concepts)"
   ]
  },
  {
   "cell_type": "markdown",
   "id": "5ab5dfd2-2073-471a-9c45-dc29a4ba323b",
   "metadata": {
    "jp-MarkdownHeadingCollapsed": true,
    "tags": []
   },
   "source": [
    "## Bigger Concepts set"
   ]
  },
  {
   "cell_type": "code",
   "execution_count": 22,
   "id": "672d6fac-3bf9-44e8-bf1b-e025f2f2edad",
   "metadata": {
    "tags": []
   },
   "outputs": [
    {
     "name": "stdout",
     "output_type": "stream",
     "text": [
      "Number of trainable parameters is: 14880079\n"
     ]
    }
   ],
   "source": [
    "model = TuningCLIPViThead(all_concepts, classes)\n",
    "optimizer = torch.optim.Adam(model.parameters(), lr=0.001)\n",
    "criterion = nn.CrossEntropyLoss()\n",
    "\n",
    "print(\"Number of trainable parameters is: {}\".format(sum(p.numel() for p in model.parameters() if p.requires_grad == True)))\n",
    "\n",
    "for state in optimizer.state.values():\n",
    "    for k, v in state.items():\n",
    "        if isinstance(v, torch.Tensor):\n",
    "            state[k] = v.to(device)"
   ]
  },
  {
   "cell_type": "code",
   "execution_count": 23,
   "id": "176c7dd7-0a17-4a7d-b27d-3fe56ef126bb",
   "metadata": {
    "tags": []
   },
   "outputs": [
    {
     "data": {
      "text/html": [
       "Tracking run with wandb version 0.16.0"
      ],
      "text/plain": [
       "<IPython.core.display.HTML object>"
      ]
     },
     "metadata": {},
     "output_type": "display_data"
    },
    {
     "data": {
      "text/html": [
       "Run data is saved locally in <code>/home/andreisemenov/wandb/run-20231115_104050-68cxe9f1</code>"
      ],
      "text/plain": [
       "<IPython.core.display.HTML object>"
      ]
     },
     "metadata": {},
     "output_type": "display_data"
    },
    {
     "data": {
      "text/html": [
       "Syncing run <strong><a href='https://wandb.ai/semenov-andrei-v/cifar10-ViT-head/runs/68cxe9f1' target=\"_blank\">proud-eon-6</a></strong> to <a href='https://wandb.ai/semenov-andrei-v/cifar10-ViT-head' target=\"_blank\">Weights & Biases</a> (<a href='https://wandb.me/run' target=\"_blank\">docs</a>)<br/>"
      ],
      "text/plain": [
       "<IPython.core.display.HTML object>"
      ]
     },
     "metadata": {},
     "output_type": "display_data"
    },
    {
     "data": {
      "text/html": [
       " View project at <a href='https://wandb.ai/semenov-andrei-v/cifar10-ViT-head' target=\"_blank\">https://wandb.ai/semenov-andrei-v/cifar10-ViT-head</a>"
      ],
      "text/plain": [
       "<IPython.core.display.HTML object>"
      ]
     },
     "metadata": {},
     "output_type": "display_data"
    },
    {
     "data": {
      "text/html": [
       " View run at <a href='https://wandb.ai/semenov-andrei-v/cifar10-ViT-head/runs/68cxe9f1' target=\"_blank\">https://wandb.ai/semenov-andrei-v/cifar10-ViT-head/runs/68cxe9f1</a>"
      ],
      "text/plain": [
       "<IPython.core.display.HTML object>"
      ]
     },
     "metadata": {},
     "output_type": "display_data"
    },
    {
     "data": {
      "application/vnd.jupyter.widget-view+json": {
       "model_id": "8e65444e0a37453caa939bfa54298374",
       "version_major": 2,
       "version_minor": 0
      },
      "text/plain": [
       "Epoch 1/ 15:   0%|          | 0/1563 [00:00<?, ?it/s]"
      ]
     },
     "metadata": {},
     "output_type": "display_data"
    },
    {
     "data": {
      "application/vnd.jupyter.widget-view+json": {
       "model_id": "5710519f0de842f7be9954232f4e8f7c",
       "version_major": 2,
       "version_minor": 0
      },
      "text/plain": [
       "  0%|          | 0/94 [00:00<?, ?it/s]"
      ]
     },
     "metadata": {},
     "output_type": "display_data"
    },
    {
     "name": "stdout",
     "output_type": "stream",
     "text": [
      "Epoch 1/15, Loss: 2.32181715965271, Validation Accuracy: {'accuracy': 0.10466666666666667}\n"
     ]
    },
    {
     "data": {
      "application/vnd.jupyter.widget-view+json": {
       "model_id": "02064cf0f6c447f392842291122a9ad1",
       "version_major": 2,
       "version_minor": 0
      },
      "text/plain": [
       "Epoch 2/ 15:   0%|          | 0/1563 [00:00<?, ?it/s]"
      ]
     },
     "metadata": {},
     "output_type": "display_data"
    },
    {
     "data": {
      "application/vnd.jupyter.widget-view+json": {
       "model_id": "7e9d0e24055d409286bc44f1f0182503",
       "version_major": 2,
       "version_minor": 0
      },
      "text/plain": [
       "  0%|          | 0/94 [00:00<?, ?it/s]"
      ]
     },
     "metadata": {},
     "output_type": "display_data"
    },
    {
     "name": "stdout",
     "output_type": "stream",
     "text": [
      "Epoch 2/15, Loss: 2.2297825813293457, Validation Accuracy: {'accuracy': 0.156}\n"
     ]
    },
    {
     "data": {
      "application/vnd.jupyter.widget-view+json": {
       "model_id": "64cec9b3b5f444ecab96c312cf650f0f",
       "version_major": 2,
       "version_minor": 0
      },
      "text/plain": [
       "Epoch 3/ 15:   0%|          | 0/1563 [00:00<?, ?it/s]"
      ]
     },
     "metadata": {},
     "output_type": "display_data"
    },
    {
     "data": {
      "application/vnd.jupyter.widget-view+json": {
       "model_id": "6a07ddd8a4ff4cf6af149de61b3b02d0",
       "version_major": 2,
       "version_minor": 0
      },
      "text/plain": [
       "  0%|          | 0/94 [00:00<?, ?it/s]"
      ]
     },
     "metadata": {},
     "output_type": "display_data"
    },
    {
     "name": "stdout",
     "output_type": "stream",
     "text": [
      "Epoch 3/15, Loss: 2.3721611499786377, Validation Accuracy: {'accuracy': 0.148}\n"
     ]
    },
    {
     "data": {
      "application/vnd.jupyter.widget-view+json": {
       "model_id": "5dd14f672b9740da918278282e450c7b",
       "version_major": 2,
       "version_minor": 0
      },
      "text/plain": [
       "Epoch 4/ 15:   0%|          | 0/1563 [00:00<?, ?it/s]"
      ]
     },
     "metadata": {},
     "output_type": "display_data"
    },
    {
     "data": {
      "application/vnd.jupyter.widget-view+json": {
       "model_id": "9ff38173e4ed40fc957d3a89074afe23",
       "version_major": 2,
       "version_minor": 0
      },
      "text/plain": [
       "  0%|          | 0/94 [00:00<?, ?it/s]"
      ]
     },
     "metadata": {},
     "output_type": "display_data"
    },
    {
     "name": "stdout",
     "output_type": "stream",
     "text": [
      "Epoch 4/15, Loss: 2.2155096530914307, Validation Accuracy: {'accuracy': 0.252}\n"
     ]
    },
    {
     "data": {
      "application/vnd.jupyter.widget-view+json": {
       "model_id": "fc2f8ac44de4401688b4c6a59a8f09f4",
       "version_major": 2,
       "version_minor": 0
      },
      "text/plain": [
       "Epoch 5/ 15:   0%|          | 0/1563 [00:00<?, ?it/s]"
      ]
     },
     "metadata": {},
     "output_type": "display_data"
    },
    {
     "data": {
      "application/vnd.jupyter.widget-view+json": {
       "model_id": "130d18c6e2c843d19b8be0df47a92dbd",
       "version_major": 2,
       "version_minor": 0
      },
      "text/plain": [
       "  0%|          | 0/94 [00:00<?, ?it/s]"
      ]
     },
     "metadata": {},
     "output_type": "display_data"
    },
    {
     "name": "stdout",
     "output_type": "stream",
     "text": [
      "Epoch 5/15, Loss: 2.334630250930786, Validation Accuracy: {'accuracy': 0.2743333333333333}\n"
     ]
    },
    {
     "data": {
      "application/vnd.jupyter.widget-view+json": {
       "model_id": "c6824434255c496997c2d64001884842",
       "version_major": 2,
       "version_minor": 0
      },
      "text/plain": [
       "Epoch 6/ 15:   0%|          | 0/1563 [00:00<?, ?it/s]"
      ]
     },
     "metadata": {},
     "output_type": "display_data"
    },
    {
     "data": {
      "application/vnd.jupyter.widget-view+json": {
       "model_id": "8b27bf0e813145949651b87a24748997",
       "version_major": 2,
       "version_minor": 0
      },
      "text/plain": [
       "  0%|          | 0/94 [00:00<?, ?it/s]"
      ]
     },
     "metadata": {},
     "output_type": "display_data"
    },
    {
     "name": "stdout",
     "output_type": "stream",
     "text": [
      "Epoch 6/15, Loss: 2.1388494968414307, Validation Accuracy: {'accuracy': 0.27066666666666667}\n"
     ]
    },
    {
     "data": {
      "application/vnd.jupyter.widget-view+json": {
       "model_id": "84f6ae2f1ebe4459bee492500126cf8d",
       "version_major": 2,
       "version_minor": 0
      },
      "text/plain": [
       "Epoch 7/ 15:   0%|          | 0/1563 [00:00<?, ?it/s]"
      ]
     },
     "metadata": {},
     "output_type": "display_data"
    },
    {
     "data": {
      "application/vnd.jupyter.widget-view+json": {
       "model_id": "3c3b886a11f445ea839bf52da41b5ec6",
       "version_major": 2,
       "version_minor": 0
      },
      "text/plain": [
       "  0%|          | 0/94 [00:00<?, ?it/s]"
      ]
     },
     "metadata": {},
     "output_type": "display_data"
    },
    {
     "name": "stdout",
     "output_type": "stream",
     "text": [
      "Epoch 7/15, Loss: 1.8941729068756104, Validation Accuracy: {'accuracy': 0.33166666666666667}\n"
     ]
    },
    {
     "data": {
      "application/vnd.jupyter.widget-view+json": {
       "model_id": "da1e616d7aa243da8714466bebe0d289",
       "version_major": 2,
       "version_minor": 0
      },
      "text/plain": [
       "Epoch 8/ 15:   0%|          | 0/1563 [00:00<?, ?it/s]"
      ]
     },
     "metadata": {},
     "output_type": "display_data"
    },
    {
     "data": {
      "application/vnd.jupyter.widget-view+json": {
       "model_id": "aa469e964a5c4715b5c032829775bb7d",
       "version_major": 2,
       "version_minor": 0
      },
      "text/plain": [
       "  0%|          | 0/94 [00:00<?, ?it/s]"
      ]
     },
     "metadata": {},
     "output_type": "display_data"
    },
    {
     "name": "stdout",
     "output_type": "stream",
     "text": [
      "Epoch 8/15, Loss: 1.567327618598938, Validation Accuracy: {'accuracy': 0.381}\n"
     ]
    },
    {
     "data": {
      "application/vnd.jupyter.widget-view+json": {
       "model_id": "3904d7c2fab2412e917f26634c14c31c",
       "version_major": 2,
       "version_minor": 0
      },
      "text/plain": [
       "Epoch 9/ 15:   0%|          | 0/1563 [00:00<?, ?it/s]"
      ]
     },
     "metadata": {},
     "output_type": "display_data"
    },
    {
     "data": {
      "application/vnd.jupyter.widget-view+json": {
       "model_id": "fd9dea8adb0a4f94b263a6b88c025cba",
       "version_major": 2,
       "version_minor": 0
      },
      "text/plain": [
       "  0%|          | 0/94 [00:00<?, ?it/s]"
      ]
     },
     "metadata": {},
     "output_type": "display_data"
    },
    {
     "name": "stdout",
     "output_type": "stream",
     "text": [
      "Epoch 9/15, Loss: 1.6679322719573975, Validation Accuracy: {'accuracy': 0.466}\n"
     ]
    },
    {
     "data": {
      "application/vnd.jupyter.widget-view+json": {
       "model_id": "512febb926b843a6a8672cf697aad8cf",
       "version_major": 2,
       "version_minor": 0
      },
      "text/plain": [
       "Epoch 10/ 15:   0%|          | 0/1563 [00:00<?, ?it/s]"
      ]
     },
     "metadata": {},
     "output_type": "display_data"
    },
    {
     "data": {
      "application/vnd.jupyter.widget-view+json": {
       "model_id": "1ee53c295d014ea2bb857fed19de3122",
       "version_major": 2,
       "version_minor": 0
      },
      "text/plain": [
       "  0%|          | 0/94 [00:00<?, ?it/s]"
      ]
     },
     "metadata": {},
     "output_type": "display_data"
    },
    {
     "name": "stdout",
     "output_type": "stream",
     "text": [
      "Epoch 10/15, Loss: 1.4267778396606445, Validation Accuracy: {'accuracy': 0.481}\n"
     ]
    },
    {
     "data": {
      "application/vnd.jupyter.widget-view+json": {
       "model_id": "f5c30c4581a34e99aa567b501247f2a3",
       "version_major": 2,
       "version_minor": 0
      },
      "text/plain": [
       "Epoch 11/ 15:   0%|          | 0/1563 [00:00<?, ?it/s]"
      ]
     },
     "metadata": {},
     "output_type": "display_data"
    },
    {
     "data": {
      "application/vnd.jupyter.widget-view+json": {
       "model_id": "c7c1da105357488f801688e8cd86a210",
       "version_major": 2,
       "version_minor": 0
      },
      "text/plain": [
       "  0%|          | 0/94 [00:00<?, ?it/s]"
      ]
     },
     "metadata": {},
     "output_type": "display_data"
    },
    {
     "name": "stdout",
     "output_type": "stream",
     "text": [
      "Epoch 11/15, Loss: 1.18190598487854, Validation Accuracy: {'accuracy': 0.5016666666666667}\n"
     ]
    },
    {
     "data": {
      "application/vnd.jupyter.widget-view+json": {
       "model_id": "dc1a9c57ed554a2a811e10620d58e1be",
       "version_major": 2,
       "version_minor": 0
      },
      "text/plain": [
       "Epoch 12/ 15:   0%|          | 0/1563 [00:00<?, ?it/s]"
      ]
     },
     "metadata": {},
     "output_type": "display_data"
    },
    {
     "data": {
      "application/vnd.jupyter.widget-view+json": {
       "model_id": "45ea5e16063d411fac698068a47fce16",
       "version_major": 2,
       "version_minor": 0
      },
      "text/plain": [
       "  0%|          | 0/94 [00:00<?, ?it/s]"
      ]
     },
     "metadata": {},
     "output_type": "display_data"
    },
    {
     "name": "stdout",
     "output_type": "stream",
     "text": [
      "Epoch 12/15, Loss: 1.3190885782241821, Validation Accuracy: {'accuracy': 0.5046666666666667}\n"
     ]
    },
    {
     "data": {
      "application/vnd.jupyter.widget-view+json": {
       "model_id": "ada2bcbfdcf045aab22271a6208e570c",
       "version_major": 2,
       "version_minor": 0
      },
      "text/plain": [
       "Epoch 13/ 15:   0%|          | 0/1563 [00:00<?, ?it/s]"
      ]
     },
     "metadata": {},
     "output_type": "display_data"
    },
    {
     "data": {
      "application/vnd.jupyter.widget-view+json": {
       "model_id": "88948bd0f43d47239a862e026a78164c",
       "version_major": 2,
       "version_minor": 0
      },
      "text/plain": [
       "  0%|          | 0/94 [00:00<?, ?it/s]"
      ]
     },
     "metadata": {},
     "output_type": "display_data"
    },
    {
     "name": "stdout",
     "output_type": "stream",
     "text": [
      "Epoch 13/15, Loss: 1.437595248222351, Validation Accuracy: {'accuracy': 0.5276666666666666}\n"
     ]
    },
    {
     "data": {
      "application/vnd.jupyter.widget-view+json": {
       "model_id": "3218aea0aacb4f5bba84839bbfe26db0",
       "version_major": 2,
       "version_minor": 0
      },
      "text/plain": [
       "Epoch 14/ 15:   0%|          | 0/1563 [00:00<?, ?it/s]"
      ]
     },
     "metadata": {},
     "output_type": "display_data"
    },
    {
     "data": {
      "application/vnd.jupyter.widget-view+json": {
       "model_id": "de3a38072e3d4b00b3014550417ef639",
       "version_major": 2,
       "version_minor": 0
      },
      "text/plain": [
       "  0%|          | 0/94 [00:00<?, ?it/s]"
      ]
     },
     "metadata": {},
     "output_type": "display_data"
    },
    {
     "name": "stdout",
     "output_type": "stream",
     "text": [
      "Epoch 14/15, Loss: 1.0873725414276123, Validation Accuracy: {'accuracy': 0.5326666666666666}\n"
     ]
    },
    {
     "data": {
      "application/vnd.jupyter.widget-view+json": {
       "model_id": "58ce088812994ecbbd29022d7b9dfc12",
       "version_major": 2,
       "version_minor": 0
      },
      "text/plain": [
       "Epoch 15/ 15:   0%|          | 0/1563 [00:00<?, ?it/s]"
      ]
     },
     "metadata": {},
     "output_type": "display_data"
    },
    {
     "data": {
      "application/vnd.jupyter.widget-view+json": {
       "model_id": "216a5c7f587744d4b41897d26c0ecd43",
       "version_major": 2,
       "version_minor": 0
      },
      "text/plain": [
       "  0%|          | 0/94 [00:00<?, ?it/s]"
      ]
     },
     "metadata": {},
     "output_type": "display_data"
    },
    {
     "name": "stdout",
     "output_type": "stream",
     "text": [
      "Epoch 15/15, Loss: 1.0004063844680786, Validation Accuracy: {'accuracy': 0.5353333333333333}\n"
     ]
    },
    {
     "data": {
      "application/vnd.jupyter.widget-view+json": {
       "model_id": "7d10310ed58e4c2284acdd88390a8183",
       "version_major": 2,
       "version_minor": 0
      },
      "text/plain": [
       "  0%|          | 0/1563 [00:00<?, ?it/s]"
      ]
     },
     "metadata": {},
     "output_type": "display_data"
    },
    {
     "data": {
      "application/vnd.jupyter.widget-view+json": {
       "model_id": "",
       "version_major": 2,
       "version_minor": 0
      },
      "text/plain": [
       "VBox(children=(Label(value='0.006 MB of 0.006 MB uploaded\\r'), FloatProgress(value=1.0, max=1.0)))"
      ]
     },
     "metadata": {},
     "output_type": "display_data"
    },
    {
     "data": {
      "text/html": [
       "<style>\n",
       "    table.wandb td:nth-child(1) { padding: 0 10px; text-align: left ; width: auto;} td:nth-child(2) {text-align: left ; width: 100%}\n",
       "    .wandb-row { display: flex; flex-direction: row; flex-wrap: wrap; justify-content: flex-start; width: 100% }\n",
       "    .wandb-col { display: flex; flex-direction: column; flex-basis: 100%; flex: 1; padding: 10px; }\n",
       "    </style>\n",
       "<div class=\"wandb-row\"><div class=\"wandb-col\"><h3>Run history:</h3><br/><table class=\"wandb\"><tr><td>Accuracy/Test</td><td>▁</td></tr><tr><td>Accuracy/Validation</td><td>▁▂▂▃▄▄▅▅▇▇▇████</td></tr><tr><td>Loss/Train</td><td>█▇█▇█▇▆▄▄▃▂▃▃▁▁</td></tr><tr><td>Loss/Validation</td><td>▇▅█▄▄▄▃▃▂▁▁▁▁▁▁</td></tr></table><br/></div><div class=\"wandb-col\"><h3>Run summary:</h3><br/><table class=\"wandb\"><tr><td>Accuracy/Test</td><td>0.5934</td></tr><tr><td>Accuracy/Validation</td><td>0.53533</td></tr><tr><td>Loss/Train</td><td>1.00041</td></tr><tr><td>Loss/Validation</td><td>1.29259</td></tr></table><br/></div></div>"
      ],
      "text/plain": [
       "<IPython.core.display.HTML object>"
      ]
     },
     "metadata": {},
     "output_type": "display_data"
    },
    {
     "data": {
      "text/html": [
       " View run <strong style=\"color:#cdcd00\">proud-eon-6</strong> at: <a href='https://wandb.ai/semenov-andrei-v/cifar10-ViT-head/runs/68cxe9f1' target=\"_blank\">https://wandb.ai/semenov-andrei-v/cifar10-ViT-head/runs/68cxe9f1</a><br/>Synced 6 W&B file(s), 0 media file(s), 0 artifact file(s) and 0 other file(s)"
      ],
      "text/plain": [
       "<IPython.core.display.HTML object>"
      ]
     },
     "metadata": {},
     "output_type": "display_data"
    },
    {
     "data": {
      "text/html": [
       "Find logs at: <code>./wandb/run-20231115_104050-68cxe9f1/logs</code>"
      ],
      "text/plain": [
       "<IPython.core.display.HTML object>"
      ]
     },
     "metadata": {},
     "output_type": "display_data"
    }
   ],
   "source": [
    "model.to(device)\n",
    "run = wandb.init(project='cifar10-ViT-head', entity='semenov-andrei-v')\n",
    "\n",
    "num_epochs = 15\n",
    "for epoch in range(num_epochs):\n",
    "    model.train()\n",
    "    for batch in tqdm(train_loader_preprocessed, desc=f\"Epoch {epoch + 1}/ {num_epochs}\"):\n",
    "        optimizer.zero_grad()\n",
    "        \n",
    "        inputs, labels = batch\n",
    "        inputs = inputs.to(device)\n",
    "        targets = torch.tensor(labels, dtype=torch.long)\n",
    "        logits = model(**inputs).squeeze(0)\n",
    "        \n",
    "        loss = criterion(logits, targets.to(device))\n",
    "        loss.backward()\n",
    "        optimizer.step()\n",
    "    \n",
    "    model.eval()\n",
    "    val_accuracy, avg_val_loss = val_loss_accuracy(model, val_loader_preprocessed)\n",
    "\n",
    "    wandb.log({\"Loss/Train\": loss.item(), \n",
    "               \"Loss/Validation\": avg_val_loss, \n",
    "               \"Accuracy/Validation\": val_accuracy['accuracy']}\n",
    "             )\n",
    "\n",
    "    print(f\"Epoch {epoch + 1}/{num_epochs}, Loss: {loss.item()}, Validation Accuracy: {val_accuracy}\")\n",
    "\n",
    "model.eval()\n",
    "test_accuracy = get_test_accuracy(model, train_loader_preprocessed)\n",
    "wandb.log({\"Accuracy/Test\": test_accuracy['accuracy']})\n",
    "\n",
    "run.finish()"
   ]
  },
  {
   "cell_type": "code",
   "execution_count": 42,
   "id": "748f21ef-7408-4e25-987b-946a71d99639",
   "metadata": {
    "tags": []
   },
   "outputs": [],
   "source": [
    "torch.cuda.empty_cache()"
   ]
  },
  {
   "cell_type": "markdown",
   "id": "a62cb9db-4d84-49ea-a27e-865e76613617",
   "metadata": {},
   "source": [
    "test with another batch sizes"
   ]
  },
  {
   "cell_type": "code",
   "execution_count": 23,
   "id": "7e3d9243-eb6d-45ce-b41b-67415dc4b0da",
   "metadata": {
    "tags": []
   },
   "outputs": [
    {
     "name": "stdout",
     "output_type": "stream",
     "text": [
      "Dataset size: 60000 \n",
      "\n",
      "Train set: 50000 \n",
      "\n",
      "Validation set: 3000 \n",
      "\n",
      "Test set: 7000\n"
     ]
    }
   ],
   "source": [
    "class CLIPDataset():\n",
    "    def __init__(self, list_image_path, list_txt):\n",
    "        self.image_path = list_image_path\n",
    "        self.title  = list_txt\n",
    "\n",
    "    def __len__(self):\n",
    "        return len(self.title)\n",
    "\n",
    "    def __getitem__(self, idx):\n",
    "        image = Image.open(self.image_path[idx])\n",
    "        title = self.title[idx]\n",
    "        return image, title\n",
    "\n",
    "\n",
    "def collate_fn(batch):\n",
    "    return {\n",
    "        'image': [x[0] for x in batch],\n",
    "        'title': [x[1] for x in batch]\n",
    "    }\n",
    "\n",
    "dataset = CLIPDataset(list_image_path=image_paths, list_txt=labels) # but it can be with <<titles>> to get textual annotations for class labels\n",
    "train_dataset, val_dataset, test_dataset = torch.utils.data.random_split(dataset, [50000, 3000, 7000])\n",
    "\n",
    "train_loader = torch.utils.data.DataLoader(train_dataset, batch_size=2, shuffle=True, collate_fn=collate_fn, pin_memory=True)\n",
    "val_loader = torch.utils.data.DataLoader(val_dataset, batch_size=2, shuffle=False, collate_fn=collate_fn, pin_memory=True)\n",
    "test_loader = torch.utils.data.DataLoader(test_dataset, batch_size=2, shuffle=False, collate_fn=collate_fn, pin_memory=True)\n",
    "\n",
    "assert len(dataset) == len(image_paths)\n",
    "print(\"Dataset size: {}\".format(len(dataset)), \"\\n\")\n",
    "\n",
    "train_dataset, val_dataset, test_dataset = torch.utils.data.random_split(dataset, [50000, 3000, 7000])\n",
    "print(\"Train set: {}\".format(len(train_dataset)), \"\\n\")\n",
    "print(\"Validation set: {}\".format(len(val_dataset)), \"\\n\")\n",
    "print(\"Test set: {}\".format(len(test_dataset)))"
   ]
  },
  {
   "cell_type": "code",
   "execution_count": 24,
   "id": "8792d802-0150-41f5-a8ae-51b1196e10cc",
   "metadata": {
    "tags": []
   },
   "outputs": [
    {
     "data": {
      "application/vnd.jupyter.widget-view+json": {
       "model_id": "b8089d726c4840aa9cb4752f75312ca4",
       "version_major": 2,
       "version_minor": 0
      },
      "text/plain": [
       "  0%|          | 0/25000 [00:00<?, ?it/s]"
      ]
     },
     "metadata": {},
     "output_type": "display_data"
    },
    {
     "data": {
      "application/vnd.jupyter.widget-view+json": {
       "model_id": "c30464f709ab44c69f29486c9180038a",
       "version_major": 2,
       "version_minor": 0
      },
      "text/plain": [
       "  0%|          | 0/1500 [00:00<?, ?it/s]"
      ]
     },
     "metadata": {},
     "output_type": "display_data"
    },
    {
     "data": {
      "application/vnd.jupyter.widget-view+json": {
       "model_id": "464ddb32a09b41f0b59223fc4dea86d6",
       "version_major": 2,
       "version_minor": 0
      },
      "text/plain": [
       "  0%|          | 0/3500 [00:00<?, ?it/s]"
      ]
     },
     "metadata": {},
     "output_type": "display_data"
    }
   ],
   "source": [
    "train_loader_preprocessed = preprocess_loader(train_loader, concepts)\n",
    "val_loader_preprocessed = preprocess_loader(val_loader, concepts)\n",
    "test_loader_preprocessed = preprocess_loader(test_loader, concepts)"
   ]
  },
  {
   "cell_type": "code",
   "execution_count": 28,
   "id": "bc1d9d0c-11e2-46e6-b638-5ae5968a0819",
   "metadata": {
    "tags": []
   },
   "outputs": [
    {
     "name": "stdout",
     "output_type": "stream",
     "text": [
      "Number of trainable parameters is: 14830769\n"
     ]
    }
   ],
   "source": [
    "model = TuningCLIPViThead(concepts, classes)\n",
    "optimizer = torch.optim.Adam(model.parameters(), lr=0.001)\n",
    "criterion = nn.CrossEntropyLoss()\n",
    "\n",
    "print(\"Number of trainable parameters is: {}\".format(sum(p.numel() for p in model.parameters() if p.requires_grad == True)))\n",
    "\n",
    "for state in optimizer.state.values():\n",
    "    for k, v in state.items():\n",
    "        if isinstance(v, torch.Tensor):\n",
    "            state[k] = v.to(device)"
   ]
  },
  {
   "cell_type": "code",
   "execution_count": 29,
   "id": "bcddf964-a68f-4d7f-949b-32b7570e36d5",
   "metadata": {
    "tags": []
   },
   "outputs": [
    {
     "data": {
      "text/html": [
       "Tracking run with wandb version 0.16.0"
      ],
      "text/plain": [
       "<IPython.core.display.HTML object>"
      ]
     },
     "metadata": {},
     "output_type": "display_data"
    },
    {
     "data": {
      "text/html": [
       "Run data is saved locally in <code>/home/andreisemenov/wandb/run-20231118_150212-sdgijf7q</code>"
      ],
      "text/plain": [
       "<IPython.core.display.HTML object>"
      ]
     },
     "metadata": {},
     "output_type": "display_data"
    },
    {
     "data": {
      "text/html": [
       "Syncing run <strong><a href='https://wandb.ai/semenov-andrei-v/cifar10-ViT-head/runs/sdgijf7q' target=\"_blank\">polished-serenity-11</a></strong> to <a href='https://wandb.ai/semenov-andrei-v/cifar10-ViT-head' target=\"_blank\">Weights & Biases</a> (<a href='https://wandb.me/run' target=\"_blank\">docs</a>)<br/>"
      ],
      "text/plain": [
       "<IPython.core.display.HTML object>"
      ]
     },
     "metadata": {},
     "output_type": "display_data"
    },
    {
     "data": {
      "text/html": [
       " View project at <a href='https://wandb.ai/semenov-andrei-v/cifar10-ViT-head' target=\"_blank\">https://wandb.ai/semenov-andrei-v/cifar10-ViT-head</a>"
      ],
      "text/plain": [
       "<IPython.core.display.HTML object>"
      ]
     },
     "metadata": {},
     "output_type": "display_data"
    },
    {
     "data": {
      "text/html": [
       " View run at <a href='https://wandb.ai/semenov-andrei-v/cifar10-ViT-head/runs/sdgijf7q' target=\"_blank\">https://wandb.ai/semenov-andrei-v/cifar10-ViT-head/runs/sdgijf7q</a>"
      ],
      "text/plain": [
       "<IPython.core.display.HTML object>"
      ]
     },
     "metadata": {},
     "output_type": "display_data"
    },
    {
     "data": {
      "application/vnd.jupyter.widget-view+json": {
       "model_id": "e3e88a3559504444a6508fad18f508a8",
       "version_major": 2,
       "version_minor": 0
      },
      "text/plain": [
       "Epoch 1/ 15:   0%|          | 0/25000 [00:00<?, ?it/s]"
      ]
     },
     "metadata": {},
     "output_type": "display_data"
    },
    {
     "data": {
      "application/vnd.jupyter.widget-view+json": {
       "model_id": "a0849eaf6058473cb6859c6dfa63a835",
       "version_major": 2,
       "version_minor": 0
      },
      "text/plain": [
       "  0%|          | 0/1500 [00:00<?, ?it/s]"
      ]
     },
     "metadata": {},
     "output_type": "display_data"
    },
    {
     "name": "stdout",
     "output_type": "stream",
     "text": [
      "Epoch 1/15, Loss: 1.2912063598632812, Validation Accuracy: {'accuracy': 0.31066666666666665}\n"
     ]
    },
    {
     "data": {
      "application/vnd.jupyter.widget-view+json": {
       "model_id": "f7d48d6a5c784010adfaaa6ed2fcef98",
       "version_major": 2,
       "version_minor": 0
      },
      "text/plain": [
       "Epoch 2/ 15:   0%|          | 0/25000 [00:00<?, ?it/s]"
      ]
     },
     "metadata": {},
     "output_type": "display_data"
    },
    {
     "data": {
      "application/vnd.jupyter.widget-view+json": {
       "model_id": "8fe82b7ca41641d2a66db6da61294562",
       "version_major": 2,
       "version_minor": 0
      },
      "text/plain": [
       "  0%|          | 0/1500 [00:00<?, ?it/s]"
      ]
     },
     "metadata": {},
     "output_type": "display_data"
    },
    {
     "name": "stdout",
     "output_type": "stream",
     "text": [
      "Epoch 2/15, Loss: 0.978803813457489, Validation Accuracy: {'accuracy': 0.402}\n"
     ]
    },
    {
     "data": {
      "application/vnd.jupyter.widget-view+json": {
       "model_id": "8812c3093e244dcc970a8ef52135c599",
       "version_major": 2,
       "version_minor": 0
      },
      "text/plain": [
       "Epoch 3/ 15:   0%|          | 0/25000 [00:00<?, ?it/s]"
      ]
     },
     "metadata": {},
     "output_type": "display_data"
    },
    {
     "data": {
      "application/vnd.jupyter.widget-view+json": {
       "model_id": "92846b14abd947a1b1e564520c8863f5",
       "version_major": 2,
       "version_minor": 0
      },
      "text/plain": [
       "  0%|          | 0/1500 [00:00<?, ?it/s]"
      ]
     },
     "metadata": {},
     "output_type": "display_data"
    },
    {
     "name": "stdout",
     "output_type": "stream",
     "text": [
      "Epoch 3/15, Loss: 0.6990076899528503, Validation Accuracy: {'accuracy': 0.423}\n"
     ]
    },
    {
     "data": {
      "application/vnd.jupyter.widget-view+json": {
       "model_id": "c56a354b04b14e748cd00e27d5c67ff2",
       "version_major": 2,
       "version_minor": 0
      },
      "text/plain": [
       "Epoch 4/ 15:   0%|          | 0/25000 [00:00<?, ?it/s]"
      ]
     },
     "metadata": {},
     "output_type": "display_data"
    },
    {
     "data": {
      "application/vnd.jupyter.widget-view+json": {
       "model_id": "93853d9b860946c4aa7c318a154460ee",
       "version_major": 2,
       "version_minor": 0
      },
      "text/plain": [
       "  0%|          | 0/1500 [00:00<?, ?it/s]"
      ]
     },
     "metadata": {},
     "output_type": "display_data"
    },
    {
     "name": "stdout",
     "output_type": "stream",
     "text": [
      "Epoch 4/15, Loss: 0.8373039364814758, Validation Accuracy: {'accuracy': 0.431}\n"
     ]
    },
    {
     "data": {
      "application/vnd.jupyter.widget-view+json": {
       "model_id": "49e0eee8494a476c947ff2c1df50468c",
       "version_major": 2,
       "version_minor": 0
      },
      "text/plain": [
       "Epoch 5/ 15:   0%|          | 0/25000 [00:00<?, ?it/s]"
      ]
     },
     "metadata": {},
     "output_type": "display_data"
    },
    {
     "data": {
      "application/vnd.jupyter.widget-view+json": {
       "model_id": "f63f79bd881b48f5a24c27fa27e5ff58",
       "version_major": 2,
       "version_minor": 0
      },
      "text/plain": [
       "  0%|          | 0/1500 [00:00<?, ?it/s]"
      ]
     },
     "metadata": {},
     "output_type": "display_data"
    },
    {
     "name": "stdout",
     "output_type": "stream",
     "text": [
      "Epoch 5/15, Loss: 0.7066726684570312, Validation Accuracy: {'accuracy': 0.44033333333333335}\n"
     ]
    },
    {
     "data": {
      "application/vnd.jupyter.widget-view+json": {
       "model_id": "80792880fc9e4db0a51840f59fe2d0f3",
       "version_major": 2,
       "version_minor": 0
      },
      "text/plain": [
       "Epoch 6/ 15:   0%|          | 0/25000 [00:00<?, ?it/s]"
      ]
     },
     "metadata": {},
     "output_type": "display_data"
    },
    {
     "data": {
      "application/vnd.jupyter.widget-view+json": {
       "model_id": "97a76605edf14e39a519bee8ec251081",
       "version_major": 2,
       "version_minor": 0
      },
      "text/plain": [
       "  0%|          | 0/1500 [00:00<?, ?it/s]"
      ]
     },
     "metadata": {},
     "output_type": "display_data"
    },
    {
     "name": "stdout",
     "output_type": "stream",
     "text": [
      "Epoch 6/15, Loss: 0.8990509510040283, Validation Accuracy: {'accuracy': 0.451}\n"
     ]
    },
    {
     "data": {
      "application/vnd.jupyter.widget-view+json": {
       "model_id": "9324f82e030248e4a60729881bd81feb",
       "version_major": 2,
       "version_minor": 0
      },
      "text/plain": [
       "Epoch 7/ 15:   0%|          | 0/25000 [00:00<?, ?it/s]"
      ]
     },
     "metadata": {},
     "output_type": "display_data"
    },
    {
     "data": {
      "application/vnd.jupyter.widget-view+json": {
       "model_id": "b5b60a26ad864894a81a06ea9e183883",
       "version_major": 2,
       "version_minor": 0
      },
      "text/plain": [
       "  0%|          | 0/1500 [00:00<?, ?it/s]"
      ]
     },
     "metadata": {},
     "output_type": "display_data"
    },
    {
     "name": "stdout",
     "output_type": "stream",
     "text": [
      "Epoch 7/15, Loss: 1.0511701107025146, Validation Accuracy: {'accuracy': 0.453}\n"
     ]
    },
    {
     "data": {
      "application/vnd.jupyter.widget-view+json": {
       "model_id": "64e0f3bd26fe4562bff42df45a44dd50",
       "version_major": 2,
       "version_minor": 0
      },
      "text/plain": [
       "Epoch 8/ 15:   0%|          | 0/25000 [00:00<?, ?it/s]"
      ]
     },
     "metadata": {},
     "output_type": "display_data"
    },
    {
     "data": {
      "application/vnd.jupyter.widget-view+json": {
       "model_id": "377a716eef774300a120a145b9c45138",
       "version_major": 2,
       "version_minor": 0
      },
      "text/plain": [
       "  0%|          | 0/1500 [00:00<?, ?it/s]"
      ]
     },
     "metadata": {},
     "output_type": "display_data"
    },
    {
     "name": "stdout",
     "output_type": "stream",
     "text": [
      "Epoch 8/15, Loss: 1.11309015750885, Validation Accuracy: {'accuracy': 0.454}\n"
     ]
    },
    {
     "data": {
      "application/vnd.jupyter.widget-view+json": {
       "model_id": "28f535312f9a4068a03ca4884f6e40be",
       "version_major": 2,
       "version_minor": 0
      },
      "text/plain": [
       "Epoch 9/ 15:   0%|          | 0/25000 [00:00<?, ?it/s]"
      ]
     },
     "metadata": {},
     "output_type": "display_data"
    },
    {
     "data": {
      "application/vnd.jupyter.widget-view+json": {
       "model_id": "c62385496a2b4d4e817a9fcce72f3657",
       "version_major": 2,
       "version_minor": 0
      },
      "text/plain": [
       "  0%|          | 0/1500 [00:00<?, ?it/s]"
      ]
     },
     "metadata": {},
     "output_type": "display_data"
    },
    {
     "name": "stdout",
     "output_type": "stream",
     "text": [
      "Epoch 9/15, Loss: 0.7665904760360718, Validation Accuracy: {'accuracy': 0.449}\n"
     ]
    },
    {
     "data": {
      "application/vnd.jupyter.widget-view+json": {
       "model_id": "6b25b482dbda46f381f84fe2e979759b",
       "version_major": 2,
       "version_minor": 0
      },
      "text/plain": [
       "Epoch 10/ 15:   0%|          | 0/25000 [00:00<?, ?it/s]"
      ]
     },
     "metadata": {},
     "output_type": "display_data"
    },
    {
     "data": {
      "application/vnd.jupyter.widget-view+json": {
       "model_id": "dccbd61a7f1d457c892d5a6618eb4913",
       "version_major": 2,
       "version_minor": 0
      },
      "text/plain": [
       "  0%|          | 0/1500 [00:00<?, ?it/s]"
      ]
     },
     "metadata": {},
     "output_type": "display_data"
    },
    {
     "name": "stdout",
     "output_type": "stream",
     "text": [
      "Epoch 10/15, Loss: 0.6328774094581604, Validation Accuracy: {'accuracy': 0.45466666666666666}\n"
     ]
    },
    {
     "data": {
      "application/vnd.jupyter.widget-view+json": {
       "model_id": "62e4f78327ba46d98c1f57126a2c1ef7",
       "version_major": 2,
       "version_minor": 0
      },
      "text/plain": [
       "Epoch 11/ 15:   0%|          | 0/25000 [00:00<?, ?it/s]"
      ]
     },
     "metadata": {},
     "output_type": "display_data"
    },
    {
     "data": {
      "application/vnd.jupyter.widget-view+json": {
       "model_id": "4fc8f31056c14a1199f57602d421578e",
       "version_major": 2,
       "version_minor": 0
      },
      "text/plain": [
       "  0%|          | 0/1500 [00:00<?, ?it/s]"
      ]
     },
     "metadata": {},
     "output_type": "display_data"
    },
    {
     "name": "stdout",
     "output_type": "stream",
     "text": [
      "Epoch 11/15, Loss: 0.6267906427383423, Validation Accuracy: {'accuracy': 0.44666666666666666}\n"
     ]
    },
    {
     "data": {
      "application/vnd.jupyter.widget-view+json": {
       "model_id": "7ed398f103da41b6bb08a7f2f1785b8b",
       "version_major": 2,
       "version_minor": 0
      },
      "text/plain": [
       "Epoch 12/ 15:   0%|          | 0/25000 [00:00<?, ?it/s]"
      ]
     },
     "metadata": {},
     "output_type": "display_data"
    },
    {
     "data": {
      "application/vnd.jupyter.widget-view+json": {
       "model_id": "be58c95b633a4356be3f80987e9ec3ea",
       "version_major": 2,
       "version_minor": 0
      },
      "text/plain": [
       "  0%|          | 0/1500 [00:00<?, ?it/s]"
      ]
     },
     "metadata": {},
     "output_type": "display_data"
    },
    {
     "name": "stdout",
     "output_type": "stream",
     "text": [
      "Epoch 12/15, Loss: 0.9109774827957153, Validation Accuracy: {'accuracy': 0.45266666666666666}\n"
     ]
    },
    {
     "data": {
      "application/vnd.jupyter.widget-view+json": {
       "model_id": "2a946bb69281474e9b38ead308c6315b",
       "version_major": 2,
       "version_minor": 0
      },
      "text/plain": [
       "Epoch 13/ 15:   0%|          | 0/25000 [00:00<?, ?it/s]"
      ]
     },
     "metadata": {},
     "output_type": "display_data"
    },
    {
     "data": {
      "application/vnd.jupyter.widget-view+json": {
       "model_id": "d0c83ada2c474d6789632ddd2c9cf9f4",
       "version_major": 2,
       "version_minor": 0
      },
      "text/plain": [
       "  0%|          | 0/1500 [00:00<?, ?it/s]"
      ]
     },
     "metadata": {},
     "output_type": "display_data"
    },
    {
     "name": "stdout",
     "output_type": "stream",
     "text": [
      "Epoch 13/15, Loss: 0.6648542881011963, Validation Accuracy: {'accuracy': 0.448}\n"
     ]
    },
    {
     "data": {
      "application/vnd.jupyter.widget-view+json": {
       "model_id": "46afc613f6914eb7b959fa1fadb7f0df",
       "version_major": 2,
       "version_minor": 0
      },
      "text/plain": [
       "Epoch 14/ 15:   0%|          | 0/25000 [00:00<?, ?it/s]"
      ]
     },
     "metadata": {},
     "output_type": "display_data"
    },
    {
     "data": {
      "application/vnd.jupyter.widget-view+json": {
       "model_id": "f09e3a43e318494b85e0201be376f1e7",
       "version_major": 2,
       "version_minor": 0
      },
      "text/plain": [
       "  0%|          | 0/1500 [00:00<?, ?it/s]"
      ]
     },
     "metadata": {},
     "output_type": "display_data"
    },
    {
     "name": "stdout",
     "output_type": "stream",
     "text": [
      "Epoch 14/15, Loss: 0.8962976932525635, Validation Accuracy: {'accuracy': 0.4623333333333333}\n"
     ]
    },
    {
     "data": {
      "application/vnd.jupyter.widget-view+json": {
       "model_id": "f62142c1a0c44fb09b0ea1bbbb2bea5e",
       "version_major": 2,
       "version_minor": 0
      },
      "text/plain": [
       "Epoch 15/ 15:   0%|          | 0/25000 [00:00<?, ?it/s]"
      ]
     },
     "metadata": {},
     "output_type": "display_data"
    },
    {
     "data": {
      "application/vnd.jupyter.widget-view+json": {
       "model_id": "7613e2fcc70646229a8972e0e7f2113e",
       "version_major": 2,
       "version_minor": 0
      },
      "text/plain": [
       "  0%|          | 0/1500 [00:00<?, ?it/s]"
      ]
     },
     "metadata": {},
     "output_type": "display_data"
    },
    {
     "name": "stdout",
     "output_type": "stream",
     "text": [
      "Epoch 15/15, Loss: 0.8846495151519775, Validation Accuracy: {'accuracy': 0.459}\n"
     ]
    },
    {
     "data": {
      "application/vnd.jupyter.widget-view+json": {
       "model_id": "85670220cebf4541b702c172dcc5ef8a",
       "version_major": 2,
       "version_minor": 0
      },
      "text/plain": [
       "  0%|          | 0/25000 [00:00<?, ?it/s]"
      ]
     },
     "metadata": {},
     "output_type": "display_data"
    },
    {
     "data": {
      "application/vnd.jupyter.widget-view+json": {
       "model_id": "",
       "version_major": 2,
       "version_minor": 0
      },
      "text/plain": [
       "VBox(children=(Label(value='0.006 MB of 0.006 MB uploaded\\r'), FloatProgress(value=1.0, max=1.0)))"
      ]
     },
     "metadata": {},
     "output_type": "display_data"
    },
    {
     "data": {
      "text/html": [
       "<style>\n",
       "    table.wandb td:nth-child(1) { padding: 0 10px; text-align: left ; width: auto;} td:nth-child(2) {text-align: left ; width: 100%}\n",
       "    .wandb-row { display: flex; flex-direction: row; flex-wrap: wrap; justify-content: flex-start; width: 100% }\n",
       "    .wandb-col { display: flex; flex-direction: column; flex-basis: 100%; flex: 1; padding: 10px; }\n",
       "    </style>\n",
       "<div class=\"wandb-row\"><div class=\"wandb-col\"><h3>Run history:</h3><br/><table class=\"wandb\"><tr><td>Accuracy/Test</td><td>▁</td></tr><tr><td>Accuracy/Validation</td><td>▁▅▆▇▇▇██▇█▇█▇██</td></tr><tr><td>Loss/Train</td><td>█▅▂▃▂▄▅▆▂▁▁▄▁▄▄</td></tr><tr><td>Loss/Validation</td><td>█▄▃▂▂▂▂▂▁▁▂▁▂▁▁</td></tr></table><br/></div><div class=\"wandb-col\"><h3>Run summary:</h3><br/><table class=\"wandb\"><tr><td>Accuracy/Test</td><td>0.47488</td></tr><tr><td>Accuracy/Validation</td><td>0.459</td></tr><tr><td>Loss/Train</td><td>0.88465</td></tr><tr><td>Loss/Validation</td><td>1.43594</td></tr></table><br/></div></div>"
      ],
      "text/plain": [
       "<IPython.core.display.HTML object>"
      ]
     },
     "metadata": {},
     "output_type": "display_data"
    },
    {
     "data": {
      "text/html": [
       " View run <strong style=\"color:#cdcd00\">polished-serenity-11</strong> at: <a href='https://wandb.ai/semenov-andrei-v/cifar10-ViT-head/runs/sdgijf7q' target=\"_blank\">https://wandb.ai/semenov-andrei-v/cifar10-ViT-head/runs/sdgijf7q</a><br/>Synced 6 W&B file(s), 0 media file(s), 0 artifact file(s) and 0 other file(s)"
      ],
      "text/plain": [
       "<IPython.core.display.HTML object>"
      ]
     },
     "metadata": {},
     "output_type": "display_data"
    },
    {
     "data": {
      "text/html": [
       "Find logs at: <code>./wandb/run-20231118_150212-sdgijf7q/logs</code>"
      ],
      "text/plain": [
       "<IPython.core.display.HTML object>"
      ]
     },
     "metadata": {},
     "output_type": "display_data"
    }
   ],
   "source": [
    "model.to(device)\n",
    "run = wandb.init(project='cifar10-ViT-head', entity='semenov-andrei-v')\n",
    "\n",
    "num_epochs = 15\n",
    "for epoch in range(num_epochs):\n",
    "    model.train()\n",
    "    for batch in tqdm(train_loader_preprocessed, desc=f\"Epoch {epoch + 1}/ {num_epochs}\"):\n",
    "        optimizer.zero_grad()\n",
    "        \n",
    "        inputs, labels = batch\n",
    "        inputs = inputs.to(device)\n",
    "        targets = torch.tensor(labels, dtype=torch.long)\n",
    "        logits = model(**inputs).squeeze(0)\n",
    "        \n",
    "        loss = criterion(logits, targets.to(device))\n",
    "        loss.backward()\n",
    "        optimizer.step()\n",
    "    \n",
    "    model.eval()\n",
    "    val_accuracy, avg_val_loss = val_loss_accuracy(model, val_loader_preprocessed)\n",
    "\n",
    "    wandb.log({\"Loss/Train\": loss.item(), \n",
    "               \"Loss/Validation\": avg_val_loss, \n",
    "               \"Accuracy/Validation\": val_accuracy['accuracy']}\n",
    "             )\n",
    "\n",
    "    print(f\"Epoch {epoch + 1}/{num_epochs}, Loss: {loss.item()}, Validation Accuracy: {val_accuracy}\")\n",
    "\n",
    "model.eval()\n",
    "test_accuracy = get_test_accuracy(model, train_loader_preprocessed)\n",
    "wandb.log({\"Accuracy/Test\": test_accuracy['accuracy']})\n",
    "\n",
    "run.finish()"
   ]
  },
  {
   "cell_type": "markdown",
   "id": "5d09d864-a781-4121-813e-bd3112fe6409",
   "metadata": {},
   "source": [
    "## Test with two losses"
   ]
  },
  {
   "cell_type": "code",
   "execution_count": 18,
   "id": "9e292720-0c3f-4742-a3dd-d4f63d7bf476",
   "metadata": {
    "tags": []
   },
   "outputs": [],
   "source": [
    "torch.cuda.empty_cache()"
   ]
  },
  {
   "cell_type": "code",
   "execution_count": 19,
   "id": "99b7cf63-d453-44df-87b7-ebb411438a2c",
   "metadata": {
    "tags": []
   },
   "outputs": [
    {
     "name": "stdout",
     "output_type": "stream",
     "text": [
      "Number of trainable parameters is: 14830769\n"
     ]
    }
   ],
   "source": [
    "model = TuningCLIPViThead(concepts, classes)\n",
    "optimizer = torch.optim.Adam(model.parameters(), lr=0.001)\n",
    "criterion = nn.CrossEntropyLoss()\n",
    "\n",
    "print(\"Number of trainable parameters is: {}\".format(sum(p.numel() for p in model.parameters() if p.requires_grad == True)))\n",
    "\n",
    "for state in optimizer.state.values():\n",
    "    for k, v in state.items():\n",
    "        if isinstance(v, torch.Tensor):\n",
    "            state[k] = v.to(device)"
   ]
  },
  {
   "cell_type": "code",
   "execution_count": 20,
   "id": "c84e759c-e547-4db3-92ed-9d068cfc9bcb",
   "metadata": {
    "tags": []
   },
   "outputs": [],
   "source": [
    "def contrastive_loss(logits, dim: int):\n",
    "    neg_ce = -torch.diag(F.log_softmax(logits, dim=dim))\n",
    "    return neg_ce.mean() # set back to -\n",
    "\n",
    "def clip_loss(similarity: torch.Tensor) -> torch.Tensor:\n",
    "    \"\"\"\n",
    "    Args:\n",
    "        similarity: is equal to logits_per_image\n",
    "    \"\"\"\n",
    "    caption_loss = contrastive_loss(similarity, dim=0)\n",
    "    image_loss = contrastive_loss(similarity, dim=1)\n",
    "    return (caption_loss + image_loss) / 2.0"
   ]
  },
  {
   "cell_type": "code",
   "execution_count": 21,
   "id": "d351330e-640e-4877-8323-ce381c71809e",
   "metadata": {
    "tags": []
   },
   "outputs": [
    {
     "data": {
      "text/html": [
       "Tracking run with wandb version 0.16.0"
      ],
      "text/plain": [
       "<IPython.core.display.HTML object>"
      ]
     },
     "metadata": {},
     "output_type": "display_data"
    },
    {
     "data": {
      "text/html": [
       "Run data is saved locally in <code>/home/andreisemenov/wandb/run-20231122_175348-b93vux8z</code>"
      ],
      "text/plain": [
       "<IPython.core.display.HTML object>"
      ]
     },
     "metadata": {},
     "output_type": "display_data"
    },
    {
     "data": {
      "text/html": [
       "Syncing run <strong><a href='https://wandb.ai/semenov-andrei-v/cifar10-ViT-head/runs/b93vux8z' target=\"_blank\">splendid-firebrand-16</a></strong> to <a href='https://wandb.ai/semenov-andrei-v/cifar10-ViT-head' target=\"_blank\">Weights & Biases</a> (<a href='https://wandb.me/run' target=\"_blank\">docs</a>)<br/>"
      ],
      "text/plain": [
       "<IPython.core.display.HTML object>"
      ]
     },
     "metadata": {},
     "output_type": "display_data"
    },
    {
     "data": {
      "text/html": [
       " View project at <a href='https://wandb.ai/semenov-andrei-v/cifar10-ViT-head' target=\"_blank\">https://wandb.ai/semenov-andrei-v/cifar10-ViT-head</a>"
      ],
      "text/plain": [
       "<IPython.core.display.HTML object>"
      ]
     },
     "metadata": {},
     "output_type": "display_data"
    },
    {
     "data": {
      "text/html": [
       " View run at <a href='https://wandb.ai/semenov-andrei-v/cifar10-ViT-head/runs/b93vux8z' target=\"_blank\">https://wandb.ai/semenov-andrei-v/cifar10-ViT-head/runs/b93vux8z</a>"
      ],
      "text/plain": [
       "<IPython.core.display.HTML object>"
      ]
     },
     "metadata": {},
     "output_type": "display_data"
    },
    {
     "data": {
      "application/vnd.jupyter.widget-view+json": {
       "model_id": "22b4a05ae61c4e9e8d5e925a637e1697",
       "version_major": 2,
       "version_minor": 0
      },
      "text/plain": [
       "Epoch 1/ 20:   0%|          | 0/1563 [00:00<?, ?it/s]"
      ]
     },
     "metadata": {},
     "output_type": "display_data"
    },
    {
     "data": {
      "application/vnd.jupyter.widget-view+json": {
       "model_id": "44452c2ca18540b49f43c4db457e5386",
       "version_major": 2,
       "version_minor": 0
      },
      "text/plain": [
       "  0%|          | 0/94 [00:00<?, ?it/s]"
      ]
     },
     "metadata": {},
     "output_type": "display_data"
    },
    {
     "name": "stdout",
     "output_type": "stream",
     "text": [
      "Epoch 1/20, Training Loss: 5.219966888427734, Validation Loss: 5.249035444665463, Validation Accuracy: {'accuracy': 0.309}\n"
     ]
    },
    {
     "data": {
      "application/vnd.jupyter.widget-view+json": {
       "model_id": "9d625e2d54034fed928e2ddf2fc37f4d",
       "version_major": 2,
       "version_minor": 0
      },
      "text/plain": [
       "Epoch 2/ 20:   0%|          | 0/1563 [00:00<?, ?it/s]"
      ]
     },
     "metadata": {},
     "output_type": "display_data"
    },
    {
     "data": {
      "application/vnd.jupyter.widget-view+json": {
       "model_id": "f29de5e45abf462980511d5f17092212",
       "version_major": 2,
       "version_minor": 0
      },
      "text/plain": [
       "  0%|          | 0/94 [00:00<?, ?it/s]"
      ]
     },
     "metadata": {},
     "output_type": "display_data"
    },
    {
     "name": "stdout",
     "output_type": "stream",
     "text": [
      "Epoch 2/20, Training Loss: 5.029921531677246, Validation Loss: 4.92404542070754, Validation Accuracy: {'accuracy': 0.4693333333333333}\n"
     ]
    },
    {
     "data": {
      "application/vnd.jupyter.widget-view+json": {
       "model_id": "738f53e6383f4f1d8fa58e68558b69e8",
       "version_major": 2,
       "version_minor": 0
      },
      "text/plain": [
       "Epoch 3/ 20:   0%|          | 0/1563 [00:00<?, ?it/s]"
      ]
     },
     "metadata": {},
     "output_type": "display_data"
    },
    {
     "data": {
      "application/vnd.jupyter.widget-view+json": {
       "model_id": "158c7ac6fcd440d29102b178acd6be14",
       "version_major": 2,
       "version_minor": 0
      },
      "text/plain": [
       "  0%|          | 0/94 [00:00<?, ?it/s]"
      ]
     },
     "metadata": {},
     "output_type": "display_data"
    },
    {
     "name": "stdout",
     "output_type": "stream",
     "text": [
      "Epoch 3/20, Training Loss: 4.396029949188232, Validation Loss: 4.826614182046119, Validation Accuracy: {'accuracy': 0.5033333333333333}\n"
     ]
    },
    {
     "data": {
      "application/vnd.jupyter.widget-view+json": {
       "model_id": "9eedafa13a394098b5222d338e2ff28f",
       "version_major": 2,
       "version_minor": 0
      },
      "text/plain": [
       "Epoch 4/ 20:   0%|          | 0/1563 [00:00<?, ?it/s]"
      ]
     },
     "metadata": {},
     "output_type": "display_data"
    },
    {
     "data": {
      "application/vnd.jupyter.widget-view+json": {
       "model_id": "4020ec011c984e3c9563db930acde014",
       "version_major": 2,
       "version_minor": 0
      },
      "text/plain": [
       "  0%|          | 0/94 [00:00<?, ?it/s]"
      ]
     },
     "metadata": {},
     "output_type": "display_data"
    },
    {
     "name": "stdout",
     "output_type": "stream",
     "text": [
      "Epoch 4/20, Training Loss: 4.2886528968811035, Validation Loss: 4.7818102633699455, Validation Accuracy: {'accuracy': 0.528}\n"
     ]
    },
    {
     "data": {
      "application/vnd.jupyter.widget-view+json": {
       "model_id": "8ed3b9ab84c64ea7846f450eed5d2bd8",
       "version_major": 2,
       "version_minor": 0
      },
      "text/plain": [
       "Epoch 5/ 20:   0%|          | 0/1563 [00:00<?, ?it/s]"
      ]
     },
     "metadata": {},
     "output_type": "display_data"
    },
    {
     "data": {
      "application/vnd.jupyter.widget-view+json": {
       "model_id": "17fd42f5e3a846e597c701baff560590",
       "version_major": 2,
       "version_minor": 0
      },
      "text/plain": [
       "  0%|          | 0/94 [00:00<?, ?it/s]"
      ]
     },
     "metadata": {},
     "output_type": "display_data"
    },
    {
     "name": "stdout",
     "output_type": "stream",
     "text": [
      "Epoch 5/20, Training Loss: 4.263652801513672, Validation Loss: 4.778582912810306, Validation Accuracy: {'accuracy': 0.543}\n"
     ]
    },
    {
     "data": {
      "application/vnd.jupyter.widget-view+json": {
       "model_id": "e88b758bebfd4caeb6799aabe5a6031a",
       "version_major": 2,
       "version_minor": 0
      },
      "text/plain": [
       "Epoch 6/ 20:   0%|          | 0/1563 [00:00<?, ?it/s]"
      ]
     },
     "metadata": {},
     "output_type": "display_data"
    },
    {
     "data": {
      "application/vnd.jupyter.widget-view+json": {
       "model_id": "29d7f1d11ddb49e5a325b356ffdb5975",
       "version_major": 2,
       "version_minor": 0
      },
      "text/plain": [
       "  0%|          | 0/94 [00:00<?, ?it/s]"
      ]
     },
     "metadata": {},
     "output_type": "display_data"
    },
    {
     "name": "stdout",
     "output_type": "stream",
     "text": [
      "Epoch 6/20, Training Loss: 4.178359508514404, Validation Loss: 4.786200447285429, Validation Accuracy: {'accuracy': 0.546}\n"
     ]
    },
    {
     "data": {
      "application/vnd.jupyter.widget-view+json": {
       "model_id": "7ae6f867213a4ecd879f34fb11d0f8eb",
       "version_major": 2,
       "version_minor": 0
      },
      "text/plain": [
       "Epoch 7/ 20:   0%|          | 0/1563 [00:00<?, ?it/s]"
      ]
     },
     "metadata": {},
     "output_type": "display_data"
    },
    {
     "data": {
      "application/vnd.jupyter.widget-view+json": {
       "model_id": "67982593a4904006a2ce492bbbc33f4f",
       "version_major": 2,
       "version_minor": 0
      },
      "text/plain": [
       "  0%|          | 0/94 [00:00<?, ?it/s]"
      ]
     },
     "metadata": {},
     "output_type": "display_data"
    },
    {
     "name": "stdout",
     "output_type": "stream",
     "text": [
      "Epoch 7/20, Training Loss: 4.066055774688721, Validation Loss: 4.7960904506926845, Validation Accuracy: {'accuracy': 0.5453333333333333}\n"
     ]
    },
    {
     "data": {
      "application/vnd.jupyter.widget-view+json": {
       "model_id": "b7e4db9b76ee41f1b1be64cdbf992912",
       "version_major": 2,
       "version_minor": 0
      },
      "text/plain": [
       "Epoch 8/ 20:   0%|          | 0/1563 [00:00<?, ?it/s]"
      ]
     },
     "metadata": {},
     "output_type": "display_data"
    },
    {
     "data": {
      "application/vnd.jupyter.widget-view+json": {
       "model_id": "d42e8aa76f974cee99850fa9bea1d693",
       "version_major": 2,
       "version_minor": 0
      },
      "text/plain": [
       "  0%|          | 0/94 [00:00<?, ?it/s]"
      ]
     },
     "metadata": {},
     "output_type": "display_data"
    },
    {
     "name": "stdout",
     "output_type": "stream",
     "text": [
      "Epoch 8/20, Training Loss: 3.829378366470337, Validation Loss: 4.792938800568276, Validation Accuracy: {'accuracy': 0.547}\n"
     ]
    },
    {
     "data": {
      "application/vnd.jupyter.widget-view+json": {
       "model_id": "87eeacf8bbe2409e9a878b11dfea24b0",
       "version_major": 2,
       "version_minor": 0
      },
      "text/plain": [
       "Epoch 9/ 20:   0%|          | 0/1563 [00:00<?, ?it/s]"
      ]
     },
     "metadata": {},
     "output_type": "display_data"
    },
    {
     "data": {
      "application/vnd.jupyter.widget-view+json": {
       "model_id": "ed69d0de54cb4cca8629cda1c9507b87",
       "version_major": 2,
       "version_minor": 0
      },
      "text/plain": [
       "  0%|          | 0/94 [00:00<?, ?it/s]"
      ]
     },
     "metadata": {},
     "output_type": "display_data"
    },
    {
     "name": "stdout",
     "output_type": "stream",
     "text": [
      "Epoch 9/20, Training Loss: 3.9054856300354004, Validation Loss: 4.742161329756391, Validation Accuracy: {'accuracy': 0.565}\n"
     ]
    },
    {
     "data": {
      "application/vnd.jupyter.widget-view+json": {
       "model_id": "8e8806a1eb9b4e168db93b1a934c4870",
       "version_major": 2,
       "version_minor": 0
      },
      "text/plain": [
       "Epoch 10/ 20:   0%|          | 0/1563 [00:00<?, ?it/s]"
      ]
     },
     "metadata": {},
     "output_type": "display_data"
    },
    {
     "data": {
      "application/vnd.jupyter.widget-view+json": {
       "model_id": "adaacf88a71e4e498ffe5bd038fcf40b",
       "version_major": 2,
       "version_minor": 0
      },
      "text/plain": [
       "  0%|          | 0/94 [00:00<?, ?it/s]"
      ]
     },
     "metadata": {},
     "output_type": "display_data"
    },
    {
     "name": "stdout",
     "output_type": "stream",
     "text": [
      "Epoch 10/20, Training Loss: 3.94002366065979, Validation Loss: 4.760852240501566, Validation Accuracy: {'accuracy': 0.5666666666666667}\n"
     ]
    },
    {
     "data": {
      "application/vnd.jupyter.widget-view+json": {
       "model_id": "ed424952d1294ba1ae983c4bd065c264",
       "version_major": 2,
       "version_minor": 0
      },
      "text/plain": [
       "Epoch 11/ 20:   0%|          | 0/1563 [00:00<?, ?it/s]"
      ]
     },
     "metadata": {},
     "output_type": "display_data"
    },
    {
     "data": {
      "application/vnd.jupyter.widget-view+json": {
       "model_id": "b8d2fd89f7894492b6f083c7bf5f50d7",
       "version_major": 2,
       "version_minor": 0
      },
      "text/plain": [
       "  0%|          | 0/94 [00:00<?, ?it/s]"
      ]
     },
     "metadata": {},
     "output_type": "display_data"
    },
    {
     "name": "stdout",
     "output_type": "stream",
     "text": [
      "Epoch 11/20, Training Loss: 3.91104793548584, Validation Loss: 4.761262954549586, Validation Accuracy: {'accuracy': 0.564}\n"
     ]
    },
    {
     "data": {
      "application/vnd.jupyter.widget-view+json": {
       "model_id": "1728f5fdafc941058af03e609790d920",
       "version_major": 2,
       "version_minor": 0
      },
      "text/plain": [
       "Epoch 12/ 20:   0%|          | 0/1563 [00:00<?, ?it/s]"
      ]
     },
     "metadata": {},
     "output_type": "display_data"
    },
    {
     "data": {
      "application/vnd.jupyter.widget-view+json": {
       "model_id": "094394c3e8f2493abca3fc94894714c8",
       "version_major": 2,
       "version_minor": 0
      },
      "text/plain": [
       "  0%|          | 0/94 [00:00<?, ?it/s]"
      ]
     },
     "metadata": {},
     "output_type": "display_data"
    },
    {
     "name": "stdout",
     "output_type": "stream",
     "text": [
      "Epoch 12/20, Training Loss: 3.886260986328125, Validation Loss: 4.801346322323414, Validation Accuracy: {'accuracy': 0.561}\n"
     ]
    },
    {
     "data": {
      "application/vnd.jupyter.widget-view+json": {
       "model_id": "0c3ee6038ee44106a387f68138d640e5",
       "version_major": 2,
       "version_minor": 0
      },
      "text/plain": [
       "Epoch 13/ 20:   0%|          | 0/1563 [00:00<?, ?it/s]"
      ]
     },
     "metadata": {},
     "output_type": "display_data"
    },
    {
     "data": {
      "application/vnd.jupyter.widget-view+json": {
       "model_id": "8252cb4f9b224bfe94c883eec4a44b1d",
       "version_major": 2,
       "version_minor": 0
      },
      "text/plain": [
       "  0%|          | 0/94 [00:00<?, ?it/s]"
      ]
     },
     "metadata": {},
     "output_type": "display_data"
    },
    {
     "name": "stdout",
     "output_type": "stream",
     "text": [
      "Epoch 13/20, Training Loss: 3.889329433441162, Validation Loss: 4.737304616481699, Validation Accuracy: {'accuracy': 0.566}\n"
     ]
    },
    {
     "data": {
      "application/vnd.jupyter.widget-view+json": {
       "model_id": "701a137569d345c18b07717a204cfe29",
       "version_major": 2,
       "version_minor": 0
      },
      "text/plain": [
       "Epoch 14/ 20:   0%|          | 0/1563 [00:00<?, ?it/s]"
      ]
     },
     "metadata": {},
     "output_type": "display_data"
    },
    {
     "data": {
      "application/vnd.jupyter.widget-view+json": {
       "model_id": "0b1be58a09c844a3add3399340a293b2",
       "version_major": 2,
       "version_minor": 0
      },
      "text/plain": [
       "  0%|          | 0/94 [00:00<?, ?it/s]"
      ]
     },
     "metadata": {},
     "output_type": "display_data"
    },
    {
     "name": "stdout",
     "output_type": "stream",
     "text": [
      "Epoch 14/20, Training Loss: 3.950256109237671, Validation Loss: 4.749941952685092, Validation Accuracy: {'accuracy': 0.5556666666666666}\n"
     ]
    },
    {
     "data": {
      "application/vnd.jupyter.widget-view+json": {
       "model_id": "cdd17601e3924a35b13c3fb5688b4dd9",
       "version_major": 2,
       "version_minor": 0
      },
      "text/plain": [
       "Epoch 15/ 20:   0%|          | 0/1563 [00:00<?, ?it/s]"
      ]
     },
     "metadata": {},
     "output_type": "display_data"
    },
    {
     "name": "stderr",
     "output_type": "stream",
     "text": [
      "IOPub message rate exceeded.\n",
      "The Jupyter server will temporarily stop sending output\n",
      "to the client in order to avoid crashing it.\n",
      "To change this limit, set the config variable\n",
      "`--ServerApp.iopub_msg_rate_limit`.\n",
      "\n",
      "Current values:\n",
      "ServerApp.iopub_msg_rate_limit=1000.0 (msgs/sec)\n",
      "ServerApp.rate_limit_window=3.0 (secs)\n",
      "\n"
     ]
    },
    {
     "data": {
      "application/vnd.jupyter.widget-view+json": {
       "model_id": "f2610643b0464829ad4daf741e4d8b67",
       "version_major": 2,
       "version_minor": 0
      },
      "text/plain": [
       "  0%|          | 0/94 [00:00<?, ?it/s]"
      ]
     },
     "metadata": {},
     "output_type": "display_data"
    },
    {
     "name": "stdout",
     "output_type": "stream",
     "text": [
      "Epoch 18/20, Training Loss: 3.696226119995117, Validation Loss: 4.77922766259376, Validation Accuracy: {'accuracy': 0.5743333333333334}\n"
     ]
    },
    {
     "data": {
      "application/vnd.jupyter.widget-view+json": {
       "model_id": "eb6321cc92f546abaffc8fd35186b74a",
       "version_major": 2,
       "version_minor": 0
      },
      "text/plain": [
       "Epoch 19/ 20:   0%|          | 0/1563 [00:00<?, ?it/s]"
      ]
     },
     "metadata": {},
     "output_type": "display_data"
    },
    {
     "name": "stderr",
     "output_type": "stream",
     "text": [
      "IOPub message rate exceeded.\n",
      "The Jupyter server will temporarily stop sending output\n",
      "to the client in order to avoid crashing it.\n",
      "To change this limit, set the config variable\n",
      "`--ServerApp.iopub_msg_rate_limit`.\n",
      "\n",
      "Current values:\n",
      "ServerApp.iopub_msg_rate_limit=1000.0 (msgs/sec)\n",
      "ServerApp.rate_limit_window=3.0 (secs)\n",
      "\n"
     ]
    }
   ],
   "source": [
    "model.to(device)\n",
    "run = wandb.init(project='cifar10-ViT-head', entity='semenov-andrei-v')\n",
    "\n",
    "num_epochs = 20\n",
    "for epoch in range(num_epochs):\n",
    "    model.train()\n",
    "    for batch in tqdm(train_loader_preprocessed, desc=f\"Epoch {epoch + 1}/ {num_epochs}\"):\n",
    "        optimizer.zero_grad()\n",
    "        \n",
    "        inputs, labels = batch\n",
    "        inputs = inputs.to(device)\n",
    "        targets = torch.tensor(labels, dtype=torch.long)\n",
    "        logits = model(**inputs).squeeze(0)\n",
    "        similarity = model.clip(**inputs).logits_per_image.to(device)\n",
    "        loss = criterion(logits, targets.to(device)) + clip_loss(similarity)\n",
    "        loss.backward()\n",
    "        optimizer.step()\n",
    "    \n",
    "    model.eval()\n",
    "    val_accuracy, avg_val_loss = val_loss_accuracy(model, val_loader_preprocessed)\n",
    "\n",
    "    wandb.log({\"Loss/Train\": loss.item(), \n",
    "               \"Loss/Validation\": avg_val_loss, \n",
    "               \"Accuracy/Validation\": val_accuracy['accuracy']}\n",
    "             )\n",
    "\n",
    "    print(f\"Epoch {epoch + 1}/{num_epochs}, Training Loss: {loss.item()}, Validation Loss: {avg_val_loss}, Validation Accuracy: {val_accuracy}\")\n",
    "\n",
    "model.eval()\n",
    "test_accuracy = get_test_accuracy(model, test_loader_preprocessed)\n",
    "wandb.log({\"Accuracy/Test\": test_accuracy['accuracy']})\n",
    "\n",
    "run.finish()"
   ]
  },
  {
   "cell_type": "code",
   "execution_count": null,
   "id": "d63e75a0-e68f-4259-a55d-8a3c377e2749",
   "metadata": {},
   "outputs": [],
   "source": []
  }
 ],
 "metadata": {
  "kernelspec": {
   "display_name": "andronserv",
   "language": "python",
   "name": "andronserv"
  },
  "language_info": {
   "codemirror_mode": {
    "name": "ipython",
    "version": 3
   },
   "file_extension": ".py",
   "mimetype": "text/x-python",
   "name": "python",
   "nbconvert_exporter": "python",
   "pygments_lexer": "ipython3",
   "version": "3.10.13"
  }
 },
 "nbformat": 4,
 "nbformat_minor": 5
}
